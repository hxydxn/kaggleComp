{
 "cells": [
  {
   "cell_type": "markdown",
   "id": "0e4ff1de",
   "metadata": {
    "id": "PATqGk6nPw8A",
    "papermill": {
     "duration": 0.053752,
     "end_time": "2022-09-22T00:18:38.218804",
     "exception": false,
     "start_time": "2022-09-22T00:18:38.165052",
     "status": "completed"
    },
    "tags": []
   },
   "source": [
    "<h1><center>Churn Prediction Part 2</center></h1>\n",
    "<h2><center>Triple Boosting Stacking Ensemble Model, Optuna Hyperparameter Optimization</center></h2>\n",
    "<center><img src=\"https://uploads-ssl.webflow.com/60d45d63543dd9baaad4cb28/60d85fd90743e2299c711be5_1%20dqSLRSEC2GDV9bw_PplCYQ.png\" align=\"center\"/></center>"
   ]
  },
  {
   "cell_type": "markdown",
   "id": "17428794",
   "metadata": {
    "id": "TOWd3rOHRJTh",
    "papermill": {
     "duration": 0.03703,
     "end_time": "2022-09-22T00:18:38.305505",
     "exception": false,
     "start_time": "2022-09-22T00:18:38.268475",
     "status": "completed"
    },
    "tags": []
   },
   "source": [
    "# Table of Contents\n",
    "\n",
    "* [1. Introduction ](#1)\n",
    "  * [1.1 Insights & Summary](#1.1)\n",
    "* [2. Libraries & Configurations ](#2)\n",
    "  * [2.1 Import Libraries](#2.1)\n",
    "  * [2.2 Configurations](#2.2)\n",
    "* [3 Dataset Overview](#3)\n",
    "* [4 Data Preparation](#4)\n",
    "  * [4.1 Prepare Train/Test dataset](#4.1)\n",
    "  * [4.2 Encoding & Scaling](#4.2)\n",
    "* [5 Modeling](#5)\n",
    "  * [5.1 Utility Function](#5.1)\n",
    "    * [5.1.1 Training](#5.1.1)\n",
    "    * [5.1.2 Model Interpretation](#10.1.2)\n",
    "  * [5.2 Catboost](#5.2)\n",
    "    * [5.2.1 Training](#5.2.1)\n",
    "    * [5.2.2 Optuna Tuning](#5.2.2)\n",
    "  * [5.3 XGBoost](#5.3)\n",
    "    * [5.3.1 Training](#5.3.1)\n",
    "    * [5.3.2 Optuna Tuning](#5.3.2)\n",
    "  * [5.4 LGBM](#5.4)\n",
    "    * [5.4.1 Training](#5.4.1)\n",
    "    * [5.4.2 Optuna Tuning](#5.4.2)\n",
    "  * [5.5 Stacking Ensemble](#5.5)\n",
    "    * [5.5.1 Level 0 : Base Models](#5.5.1)\n",
    "    * [5.5.2 Stacking Datasets](#5.5.2)\n",
    "    * [5.5.3 Level 1 : Meta Model](#5.5.3)\n",
    "    * [5.5.4 Stacking Model Evaluation](#5.5.4)\n",
    "    * [5.5.5 Stacking Ensemble Classic ML Models](#5.5.5)\n",
    "* [6 Load Model](#6)\n",
    "* [7 Conclusion](#7)\n",
    "* [8 References](#8)"
   ]
  },
  {
   "cell_type": "markdown",
   "id": "a9f4cb27",
   "metadata": {
    "id": "lKw2p948O0uz",
    "papermill": {
     "duration": 0.064721,
     "end_time": "2022-09-22T00:18:38.417592",
     "exception": false,
     "start_time": "2022-09-22T00:18:38.352871",
     "status": "completed"
    },
    "tags": []
   },
   "source": [
    "<a id='1'></a>\n",
    "# 1 Introduction\n",
    "\n",
    "This is a continuation of my previous notebook [Churn Prediction Part1 : EDA+Statistical Analysis](https://www.kaggle.com/ahmedshahriarsakib/churn-prediction-part1-eda-statistical-analysis)\n",
    "\n",
    "In this notebook I applied triple gradient boosting algorithms - **XGBoost**, **Catboost** and **LightGBM** and tuned their hyperparameters using **Optuna** to predict the customer churn rate on **IBM Customer Churn Dataset**.\n",
    "\n",
    "Dataset Source :\n",
    "\n",
    "* [Kaggle Dataset URL](https://www.kaggle.com/blastchar/telco-customer-churn)\n",
    "* [GitHub Dataset URL](https://github.com/IBM/telco-customer-churn-on-icp4d/tree/master/data)\n",
    "\n",
    "You can also : \n",
    "* Check the **GitHub Project Repository**\n",
    "\n",
    "[![](https://img.shields.io/badge/Customer%20Churn%20Prediction-GitHub-100000?logo=github&logoColor=white)](https://github.com/ahmedshahriar/Customer-Churn-Prediction)\n",
    "\n",
    "* View the Project in **Jupyter Notebook Html**\n",
    "\n",
    "[![Open in HTML](https://img.shields.io/badge/Html-Open%20Notebook-blue?logo=HTML5)](https://nbviewer.org/github/ahmedshahriar/Customer-Churn-Prediction/blob/main/Telco-Customer-Churn-Prediction.html) \n",
    "\n",
    "* Open The GitHub Project in **Binder**\n",
    "\n",
    "[![Binder](https://mybinder.org/badge_logo.svg)](https://mybinder.org/v2/gh/ahmedshahriar/Customer-Churn-Prediction/main)\n",
    "\n",
    "* View the **Streamlit App** of this Project **Live**\n",
    "\n",
    "[![Live in Streamlit](https://static.streamlit.io/badges/streamlit_badge_black_white.svg)](https://share.streamlit.io//ahmedshahriar/Telco-Customer-Churn-Prediction-Streamlit-App/main/app.py)\n",
    "\n",
    "NB: This project also serves as my assignments for the courses below - \n",
    "1. [IBM Exploratory Data Analysis for Machine Learning](https://www.coursera.org/learn/ibm-exploratory-data-analysis-for-machine-learning?specialization=ibm-machine-learning)\n",
    "2. [IBM Supervised Machine Learning: Classification](https://www.coursera.org/learn/supervised-machine-learning-classification?specialization=ibm-machine-learning)\n"
   ]
  },
  {
   "cell_type": "markdown",
   "id": "4489ec7f",
   "metadata": {
    "id": "MeRMiJYl7aTe",
    "papermill": {
     "duration": 0.037659,
     "end_time": "2022-09-22T00:18:38.501226",
     "exception": false,
     "start_time": "2022-09-22T00:18:38.463567",
     "status": "completed"
    },
    "tags": []
   },
   "source": [
    "<a id='1.1'></a>\n",
    "\n",
    "## 1.1 Insights & Summary\n",
    "\n",
    "* Dataset mostly has categorical variables\n",
    "* Imbalanced dataset, did experiment with different sampling techniques(e.g stratifying, imblearn - SMOTE)\n",
    "* Optimized Hyperparameters using Optuna\n",
    "* Performed single level Stacking Ensemble with Triple Gradient boosting algorithms\n",
    "* Compare Boosting Stacking Ensemble with Stacking Ensemble of classic ML algorithms  "
   ]
  },
  {
   "cell_type": "markdown",
   "id": "6859f83d",
   "metadata": {
    "id": "wwolKVP7gGxR",
    "papermill": {
     "duration": 0.040045,
     "end_time": "2022-09-22T00:18:38.577743",
     "exception": false,
     "start_time": "2022-09-22T00:18:38.537698",
     "status": "completed"
    },
    "tags": []
   },
   "source": [
    "<a id='2'></a>\n",
    "# 2 Libraries & Configurations"
   ]
  },
  {
   "cell_type": "markdown",
   "id": "cc719153",
   "metadata": {
    "id": "eVvheQ5sjKhJ",
    "papermill": {
     "duration": 0.098316,
     "end_time": "2022-09-22T00:18:38.714345",
     "exception": false,
     "start_time": "2022-09-22T00:18:38.616029",
     "status": "completed"
    },
    "tags": []
   },
   "source": [
    "<a id='2.1'></a>\n",
    "## 2.1 Import Libraries "
   ]
  },
  {
   "cell_type": "code",
   "execution_count": 1,
   "id": "3e929b1b",
   "metadata": {
    "_kg_hide-input": true,
    "execution": {
     "iopub.execute_input": "2022-09-22T00:18:38.813876Z",
     "iopub.status.busy": "2022-09-22T00:18:38.813020Z",
     "iopub.status.idle": "2022-09-22T00:18:42.445848Z",
     "shell.execute_reply": "2022-09-22T00:18:42.445270Z",
     "shell.execute_reply.started": "2022-04-25T18:16:36.95116Z"
    },
    "id": "nWCFml3EZWbw",
    "outputId": "33c1153e-9d7b-49e2-fff5-76301a6e48b4",
    "papermill": {
     "duration": 3.692076,
     "end_time": "2022-09-22T00:18:42.446004",
     "exception": false,
     "start_time": "2022-09-22T00:18:38.753928",
     "status": "completed"
    },
    "tags": []
   },
   "outputs": [
    {
     "data": {
      "text/html": [
       "<style type='text/css'>\n",
       ".datatable table.frame { margin-bottom: 0; }\n",
       ".datatable table.frame thead { border-bottom: none; }\n",
       ".datatable table.frame tr.coltypes td {  color: #FFFFFF;  line-height: 6px;  padding: 0 0.5em;}\n",
       ".datatable .bool    { background: #DDDD99; }\n",
       ".datatable .object  { background: #565656; }\n",
       ".datatable .int     { background: #5D9E5D; }\n",
       ".datatable .float   { background: #4040CC; }\n",
       ".datatable .str     { background: #CC4040; }\n",
       ".datatable .time    { background: #40CC40; }\n",
       ".datatable .row_index {  background: var(--jp-border-color3);  border-right: 1px solid var(--jp-border-color0);  color: var(--jp-ui-font-color3);  font-size: 9px;}\n",
       ".datatable .frame tbody td { text-align: left; }\n",
       ".datatable .frame tr.coltypes .row_index {  background: var(--jp-border-color0);}\n",
       ".datatable th:nth-child(2) { padding-left: 12px; }\n",
       ".datatable .hellipsis {  color: var(--jp-cell-editor-border-color);}\n",
       ".datatable .vellipsis {  background: var(--jp-layout-color0);  color: var(--jp-cell-editor-border-color);}\n",
       ".datatable .na {  color: var(--jp-cell-editor-border-color);  font-size: 80%;}\n",
       ".datatable .sp {  opacity: 0.25;}\n",
       ".datatable .footer { font-size: 9px; }\n",
       ".datatable .frame_dimensions {  background: var(--jp-border-color3);  border-top: 1px solid var(--jp-border-color0);  color: var(--jp-ui-font-color3);  display: inline-block;  opacity: 0.6;  padding: 1px 10px 1px 5px;}\n",
       "</style>\n"
      ],
      "text/plain": [
       "<IPython.core.display.HTML object>"
      ]
     },
     "metadata": {},
     "output_type": "display_data"
    },
    {
     "data": {
      "text/html": [
       "        <script type=\"text/javascript\">\n",
       "        window.PlotlyConfig = {MathJaxConfig: 'local'};\n",
       "        if (window.MathJax) {MathJax.Hub.Config({SVG: {font: \"STIX-Web\"}});}\n",
       "        if (typeof require !== 'undefined') {\n",
       "        require.undef(\"plotly\");\n",
       "        requirejs.config({\n",
       "            paths: {\n",
       "                'plotly': ['https://cdn.plot.ly/plotly-2.4.2.min']\n",
       "            }\n",
       "        });\n",
       "        require(['plotly'], function(Plotly) {\n",
       "            window._Plotly = Plotly;\n",
       "        });\n",
       "        }\n",
       "        </script>\n",
       "        "
      ]
     },
     "metadata": {},
     "output_type": "display_data"
    }
   ],
   "source": [
    "\"\"\"Import basic modules.\"\"\"\n",
    "import math\n",
    "import os\n",
    "import gc\n",
    "import random\n",
    "import pprint\n",
    "import numpy as np               # For linear algebra\n",
    "import pandas as pd              # For data manipulation\n",
    "import matplotlib.pyplot as plt  # For 2D visualization\n",
    "import seaborn as sns\n",
    "\n",
    "# Warning Libraries \n",
    "import warnings\n",
    "warnings.filterwarnings(\"ignore\")\n",
    "# warnings.simplefilter(action='ignore', category=FutureWarning)\n",
    "\n",
    "from collections import Counter\n",
    "\n",
    "\"\"\"Plotly visualization\"\"\"\n",
    "from plotly.offline import init_notebook_mode\n",
    "\n",
    "from sklearn.preprocessing import (OrdinalEncoder, OneHotEncoder, LabelEncoder, \n",
    "                                   StandardScaler, MinMaxScaler, RobustScaler, MaxAbsScaler,\n",
    "                                   PowerTransformer) # convert to Gaussian-like data\n",
    "from sklearn.feature_selection import SelectKBest, f_classif, chi2\n",
    "from sklearn.model_selection import StratifiedShuffleSplit, StratifiedKFold, RepeatedStratifiedKFold, train_test_split, cross_val_score\n",
    "from sklearn.metrics import roc_auc_score, precision_recall_curve, confusion_matrix, classification_report, roc_curve, auc\n",
    "from sklearn.utils import resample\n",
    "\n",
    "from imblearn.over_sampling import SMOTE\n",
    "from imblearn.under_sampling import RandomUnderSampler\n",
    "\n",
    "# Classic Algorithms\n",
    "from sklearn.ensemble import StackingClassifier, RandomForestClassifier, ExtraTreesClassifier\n",
    "from sklearn.linear_model import LogisticRegression\n",
    "from sklearn.neighbors import KNeighborsClassifier\n",
    "from sklearn.svm import SVC\n",
    "\n",
    "# Boosting Algorithms \n",
    "import lightgbm as lgb\n",
    "# from lightgbm                         import LGBMClassifier\n",
    "from xgboost                          import XGBClassifier\n",
    "from catboost                         import CatBoostClassifier\n",
    "\n",
    "\n",
    "# optuna\n",
    "import optuna\n",
    "from optuna.visualization import plot_optimization_history, plot_param_importances\n",
    "\n",
    "import multiprocessing\n",
    "import pickle, joblib\n",
    "\n",
    "from IPython.core.display import Markdown, display\n",
    "\n",
    "# utility function to print markdown string\n",
    "def printmd(string):\n",
    "    display(Markdown(string))\n",
    "\n",
    "\n",
    "# customize as needed\n",
    "plt_params = {\n",
    "    # 'figure.facecolor': 'white',\n",
    "    'axes.facecolor' : 'white',\n",
    "\n",
    "    ## to set size \n",
    "    # 'legend.fontsize': 'x-large',\n",
    "    # 'figure.figsize': (15, 10),\n",
    "    # 'axes.labelsize': 'x-large',\n",
    "    # 'axes.titlesize': 'x-large',\n",
    "    # 'xtick.labelsize': 'x-large',\n",
    "    # 'ytick.labelsize': 'x-large'\n",
    "}\n",
    "\n",
    "plt.rcParams.update(plt_params)\n",
    "\n",
    "sns.set_style('whitegrid')\n",
    "\n",
    "init_notebook_mode(connected=True)\n",
    "# pio.renderers.default='notebook' # to display plotly graph\n",
    "%matplotlib inline"
   ]
  },
  {
   "cell_type": "markdown",
   "id": "9d4afbab",
   "metadata": {
    "id": "4MFpB5Y55hW0",
    "papermill": {
     "duration": 0.039119,
     "end_time": "2022-09-22T00:18:42.525675",
     "exception": false,
     "start_time": "2022-09-22T00:18:42.486556",
     "status": "completed"
    },
    "tags": []
   },
   "source": [
    "### Check Version"
   ]
  },
  {
   "cell_type": "code",
   "execution_count": 2,
   "id": "8276ba15",
   "metadata": {
    "_kg_hide-input": true,
    "execution": {
     "iopub.execute_input": "2022-09-22T00:18:42.626162Z",
     "iopub.status.busy": "2022-09-22T00:18:42.612942Z",
     "iopub.status.idle": "2022-09-22T00:19:01.776497Z",
     "shell.execute_reply": "2022-09-22T00:19:01.775953Z",
     "shell.execute_reply.started": "2022-04-25T18:16:40.911843Z"
    },
    "id": "J11TjPGM1qQz",
    "outputId": "0e32a943-1d2f-4c7c-d954-e33a7cb35162",
    "papermill": {
     "duration": 19.211832,
     "end_time": "2022-09-22T00:19:01.776638",
     "exception": false,
     "start_time": "2022-09-22T00:18:42.564806",
     "status": "completed"
    },
    "tags": []
   },
   "outputs": [
    {
     "name": "stdout",
     "output_type": "stream",
     "text": [
      "optuna==2.10.0\r\n",
      "xgboost==1.5.0\r\n",
      "catboost==1.0.0\r\n",
      "lightgbm @ file:///tmp/lightgbm/lightgbm-3.2.1-py3-none-any.whl\r\n",
      "plotly==5.3.1\r\n",
      "plotly-express==0.4.1\r\n",
      "scipy @ file:///home/conda/feedstock_root/build_artifacts/scipy_1628206376058/work\r\n",
      "scikit-learn==0.23.2\r\n",
      "sklearn-contrib-py-earth @ git+git://github.com/scikit-learn-contrib/py-earth.git@dde5f899255411a7b9cbbabf93a817eff4b02e5e\r\n"
     ]
    }
   ],
   "source": [
    "!pip freeze | grep optuna\n",
    "!pip freeze | grep xgboost\n",
    "!pip freeze | grep catboost\n",
    "!pip freeze | grep lightgbm\n",
    "!pip freeze | grep plotly\n",
    "!pip freeze | grep scipy\n",
    "!pip freeze | grep scikit-learn"
   ]
  },
  {
   "cell_type": "markdown",
   "id": "510698d2",
   "metadata": {
    "id": "gXm0hYQSwJgk",
    "papermill": {
     "duration": 0.040582,
     "end_time": "2022-09-22T00:19:01.858141",
     "exception": false,
     "start_time": "2022-09-22T00:19:01.817559",
     "status": "completed"
    },
    "tags": []
   },
   "source": [
    "<a id='2.2'></a>\n",
    "## 2.2 Configurations"
   ]
  },
  {
   "cell_type": "code",
   "execution_count": 3,
   "id": "2a4495d7",
   "metadata": {
    "execution": {
     "iopub.execute_input": "2022-09-22T00:19:01.947280Z",
     "iopub.status.busy": "2022-09-22T00:19:01.946285Z",
     "iopub.status.idle": "2022-09-22T00:19:01.948276Z",
     "shell.execute_reply": "2022-09-22T00:19:01.948832Z",
     "shell.execute_reply.started": "2022-04-25T18:16:57.37696Z"
    },
    "id": "yc9tUY6mwLfM",
    "papermill": {
     "duration": 0.049714,
     "end_time": "2022-09-22T00:19:01.948999",
     "exception": false,
     "start_time": "2022-09-22T00:19:01.899285",
     "status": "completed"
    },
    "tags": []
   },
   "outputs": [],
   "source": [
    "# seed value\n",
    "SEED = 42\n",
    "\n",
    "# set optuna verbosity level\n",
    "# default 20 \n",
    "# optuna_verbosity = optuna.logging.WARNING # https://optuna.readthedocs.io/en/latest/reference/logging.html#module-optuna.logging\n",
    "\n",
    "def seed_everything(seed=42):\n",
    "    random.seed(seed)\n",
    "    os.environ['PYTHONHASHSEED'] = str(seed)\n",
    "    np.random.seed(seed)\n",
    "\n",
    "seed_everything(SEED)"
   ]
  },
  {
   "cell_type": "markdown",
   "id": "d5571c31",
   "metadata": {
    "id": "X9KY0OFqbeWg",
    "papermill": {
     "duration": 0.072659,
     "end_time": "2022-09-22T00:19:02.061798",
     "exception": false,
     "start_time": "2022-09-22T00:19:01.989139",
     "status": "completed"
    },
    "tags": []
   },
   "source": [
    "<a id='3'></a>\n",
    "## 3 Dataset Overview"
   ]
  },
  {
   "cell_type": "code",
   "execution_count": 4,
   "id": "984c50dc",
   "metadata": {
    "execution": {
     "iopub.execute_input": "2022-09-22T00:19:02.216479Z",
     "iopub.status.busy": "2022-09-22T00:19:02.215679Z",
     "iopub.status.idle": "2022-09-22T00:19:02.330153Z",
     "shell.execute_reply": "2022-09-22T00:19:02.330884Z",
     "shell.execute_reply.started": "2022-04-25T18:16:57.386614Z"
    },
    "id": "U26OFdczxVxI",
    "papermill": {
     "duration": 0.183349,
     "end_time": "2022-09-22T00:19:02.331118",
     "exception": false,
     "start_time": "2022-09-22T00:19:02.147769",
     "status": "completed"
    },
    "tags": []
   },
   "outputs": [
    {
     "data": {
      "text/html": [
       "<div>\n",
       "<style scoped>\n",
       "    .dataframe tbody tr th:only-of-type {\n",
       "        vertical-align: middle;\n",
       "    }\n",
       "\n",
       "    .dataframe tbody tr th {\n",
       "        vertical-align: top;\n",
       "    }\n",
       "\n",
       "    .dataframe thead th {\n",
       "        text-align: right;\n",
       "    }\n",
       "</style>\n",
       "<table border=\"1\" class=\"dataframe\">\n",
       "  <thead>\n",
       "    <tr style=\"text-align: right;\">\n",
       "      <th></th>\n",
       "      <th>gender</th>\n",
       "      <th>SeniorCitizen</th>\n",
       "      <th>Partner</th>\n",
       "      <th>Dependents</th>\n",
       "      <th>tenure</th>\n",
       "      <th>PhoneService</th>\n",
       "      <th>MultipleLines</th>\n",
       "      <th>InternetService</th>\n",
       "      <th>OnlineSecurity</th>\n",
       "      <th>OnlineBackup</th>\n",
       "      <th>...</th>\n",
       "      <th>StreamingMovies</th>\n",
       "      <th>Contract</th>\n",
       "      <th>PaperlessBilling</th>\n",
       "      <th>PaymentMethod</th>\n",
       "      <th>MonthlyCharges</th>\n",
       "      <th>TotalCharges</th>\n",
       "      <th>tenure-binned</th>\n",
       "      <th>MonthlyCharges-binned</th>\n",
       "      <th>TotalCharges-binned</th>\n",
       "      <th>Churn</th>\n",
       "    </tr>\n",
       "  </thead>\n",
       "  <tbody>\n",
       "    <tr>\n",
       "      <th>0</th>\n",
       "      <td>Female</td>\n",
       "      <td>0</td>\n",
       "      <td>Yes</td>\n",
       "      <td>No</td>\n",
       "      <td>1</td>\n",
       "      <td>No</td>\n",
       "      <td>No phone service</td>\n",
       "      <td>DSL</td>\n",
       "      <td>No</td>\n",
       "      <td>Yes</td>\n",
       "      <td>...</td>\n",
       "      <td>No</td>\n",
       "      <td>Month-to-month</td>\n",
       "      <td>Yes</td>\n",
       "      <td>Electronic check</td>\n",
       "      <td>29.85</td>\n",
       "      <td>29.85</td>\n",
       "      <td>Low</td>\n",
       "      <td>Low</td>\n",
       "      <td>Low</td>\n",
       "      <td>0.0</td>\n",
       "    </tr>\n",
       "    <tr>\n",
       "      <th>1</th>\n",
       "      <td>Male</td>\n",
       "      <td>0</td>\n",
       "      <td>No</td>\n",
       "      <td>No</td>\n",
       "      <td>34</td>\n",
       "      <td>Yes</td>\n",
       "      <td>No</td>\n",
       "      <td>DSL</td>\n",
       "      <td>Yes</td>\n",
       "      <td>No</td>\n",
       "      <td>...</td>\n",
       "      <td>No</td>\n",
       "      <td>One year</td>\n",
       "      <td>No</td>\n",
       "      <td>Mailed check</td>\n",
       "      <td>56.95</td>\n",
       "      <td>1889.50</td>\n",
       "      <td>Medium</td>\n",
       "      <td>Medium</td>\n",
       "      <td>Low</td>\n",
       "      <td>0.0</td>\n",
       "    </tr>\n",
       "    <tr>\n",
       "      <th>2</th>\n",
       "      <td>Male</td>\n",
       "      <td>0</td>\n",
       "      <td>No</td>\n",
       "      <td>No</td>\n",
       "      <td>2</td>\n",
       "      <td>Yes</td>\n",
       "      <td>No</td>\n",
       "      <td>DSL</td>\n",
       "      <td>Yes</td>\n",
       "      <td>Yes</td>\n",
       "      <td>...</td>\n",
       "      <td>No</td>\n",
       "      <td>Month-to-month</td>\n",
       "      <td>Yes</td>\n",
       "      <td>Mailed check</td>\n",
       "      <td>53.85</td>\n",
       "      <td>108.15</td>\n",
       "      <td>Low</td>\n",
       "      <td>Medium</td>\n",
       "      <td>Low</td>\n",
       "      <td>1.0</td>\n",
       "    </tr>\n",
       "    <tr>\n",
       "      <th>3</th>\n",
       "      <td>Male</td>\n",
       "      <td>0</td>\n",
       "      <td>No</td>\n",
       "      <td>No</td>\n",
       "      <td>45</td>\n",
       "      <td>No</td>\n",
       "      <td>No phone service</td>\n",
       "      <td>DSL</td>\n",
       "      <td>Yes</td>\n",
       "      <td>No</td>\n",
       "      <td>...</td>\n",
       "      <td>No</td>\n",
       "      <td>One year</td>\n",
       "      <td>No</td>\n",
       "      <td>Bank transfer (automatic)</td>\n",
       "      <td>42.30</td>\n",
       "      <td>1840.75</td>\n",
       "      <td>Medium</td>\n",
       "      <td>Low</td>\n",
       "      <td>Low</td>\n",
       "      <td>0.0</td>\n",
       "    </tr>\n",
       "    <tr>\n",
       "      <th>4</th>\n",
       "      <td>Female</td>\n",
       "      <td>0</td>\n",
       "      <td>No</td>\n",
       "      <td>No</td>\n",
       "      <td>2</td>\n",
       "      <td>Yes</td>\n",
       "      <td>No</td>\n",
       "      <td>Fiber optic</td>\n",
       "      <td>No</td>\n",
       "      <td>No</td>\n",
       "      <td>...</td>\n",
       "      <td>No</td>\n",
       "      <td>Month-to-month</td>\n",
       "      <td>Yes</td>\n",
       "      <td>Electronic check</td>\n",
       "      <td>70.70</td>\n",
       "      <td>151.65</td>\n",
       "      <td>Low</td>\n",
       "      <td>Medium</td>\n",
       "      <td>Low</td>\n",
       "      <td>1.0</td>\n",
       "    </tr>\n",
       "    <tr>\n",
       "      <th>...</th>\n",
       "      <td>...</td>\n",
       "      <td>...</td>\n",
       "      <td>...</td>\n",
       "      <td>...</td>\n",
       "      <td>...</td>\n",
       "      <td>...</td>\n",
       "      <td>...</td>\n",
       "      <td>...</td>\n",
       "      <td>...</td>\n",
       "      <td>...</td>\n",
       "      <td>...</td>\n",
       "      <td>...</td>\n",
       "      <td>...</td>\n",
       "      <td>...</td>\n",
       "      <td>...</td>\n",
       "      <td>...</td>\n",
       "      <td>...</td>\n",
       "      <td>...</td>\n",
       "      <td>...</td>\n",
       "      <td>...</td>\n",
       "      <td>...</td>\n",
       "    </tr>\n",
       "    <tr>\n",
       "      <th>7038</th>\n",
       "      <td>Male</td>\n",
       "      <td>0</td>\n",
       "      <td>Yes</td>\n",
       "      <td>Yes</td>\n",
       "      <td>24</td>\n",
       "      <td>Yes</td>\n",
       "      <td>Yes</td>\n",
       "      <td>DSL</td>\n",
       "      <td>Yes</td>\n",
       "      <td>No</td>\n",
       "      <td>...</td>\n",
       "      <td>Yes</td>\n",
       "      <td>One year</td>\n",
       "      <td>Yes</td>\n",
       "      <td>Mailed check</td>\n",
       "      <td>84.80</td>\n",
       "      <td>1990.50</td>\n",
       "      <td>Low</td>\n",
       "      <td>Medium</td>\n",
       "      <td>Low</td>\n",
       "      <td>0.0</td>\n",
       "    </tr>\n",
       "    <tr>\n",
       "      <th>7039</th>\n",
       "      <td>Female</td>\n",
       "      <td>0</td>\n",
       "      <td>Yes</td>\n",
       "      <td>Yes</td>\n",
       "      <td>72</td>\n",
       "      <td>Yes</td>\n",
       "      <td>Yes</td>\n",
       "      <td>Fiber optic</td>\n",
       "      <td>No</td>\n",
       "      <td>Yes</td>\n",
       "      <td>...</td>\n",
       "      <td>Yes</td>\n",
       "      <td>One year</td>\n",
       "      <td>Yes</td>\n",
       "      <td>Credit card (automatic)</td>\n",
       "      <td>103.20</td>\n",
       "      <td>7362.90</td>\n",
       "      <td>High</td>\n",
       "      <td>High</td>\n",
       "      <td>High</td>\n",
       "      <td>0.0</td>\n",
       "    </tr>\n",
       "    <tr>\n",
       "      <th>7040</th>\n",
       "      <td>Female</td>\n",
       "      <td>0</td>\n",
       "      <td>Yes</td>\n",
       "      <td>Yes</td>\n",
       "      <td>11</td>\n",
       "      <td>No</td>\n",
       "      <td>No phone service</td>\n",
       "      <td>DSL</td>\n",
       "      <td>Yes</td>\n",
       "      <td>No</td>\n",
       "      <td>...</td>\n",
       "      <td>No</td>\n",
       "      <td>Month-to-month</td>\n",
       "      <td>Yes</td>\n",
       "      <td>Electronic check</td>\n",
       "      <td>29.60</td>\n",
       "      <td>346.45</td>\n",
       "      <td>Low</td>\n",
       "      <td>Low</td>\n",
       "      <td>Low</td>\n",
       "      <td>0.0</td>\n",
       "    </tr>\n",
       "    <tr>\n",
       "      <th>7041</th>\n",
       "      <td>Male</td>\n",
       "      <td>1</td>\n",
       "      <td>Yes</td>\n",
       "      <td>No</td>\n",
       "      <td>4</td>\n",
       "      <td>Yes</td>\n",
       "      <td>Yes</td>\n",
       "      <td>Fiber optic</td>\n",
       "      <td>No</td>\n",
       "      <td>No</td>\n",
       "      <td>...</td>\n",
       "      <td>No</td>\n",
       "      <td>Month-to-month</td>\n",
       "      <td>Yes</td>\n",
       "      <td>Mailed check</td>\n",
       "      <td>74.40</td>\n",
       "      <td>306.60</td>\n",
       "      <td>Low</td>\n",
       "      <td>Medium</td>\n",
       "      <td>Low</td>\n",
       "      <td>1.0</td>\n",
       "    </tr>\n",
       "    <tr>\n",
       "      <th>7042</th>\n",
       "      <td>Male</td>\n",
       "      <td>0</td>\n",
       "      <td>No</td>\n",
       "      <td>No</td>\n",
       "      <td>66</td>\n",
       "      <td>Yes</td>\n",
       "      <td>No</td>\n",
       "      <td>Fiber optic</td>\n",
       "      <td>Yes</td>\n",
       "      <td>No</td>\n",
       "      <td>...</td>\n",
       "      <td>Yes</td>\n",
       "      <td>Two year</td>\n",
       "      <td>Yes</td>\n",
       "      <td>Bank transfer (automatic)</td>\n",
       "      <td>105.65</td>\n",
       "      <td>6844.50</td>\n",
       "      <td>High</td>\n",
       "      <td>High</td>\n",
       "      <td>High</td>\n",
       "      <td>0.0</td>\n",
       "    </tr>\n",
       "  </tbody>\n",
       "</table>\n",
       "<p>7043 rows × 23 columns</p>\n",
       "</div>"
      ],
      "text/plain": [
       "      gender  SeniorCitizen Partner Dependents  tenure PhoneService  \\\n",
       "0     Female              0     Yes         No       1           No   \n",
       "1       Male              0      No         No      34          Yes   \n",
       "2       Male              0      No         No       2          Yes   \n",
       "3       Male              0      No         No      45           No   \n",
       "4     Female              0      No         No       2          Yes   \n",
       "...      ...            ...     ...        ...     ...          ...   \n",
       "7038    Male              0     Yes        Yes      24          Yes   \n",
       "7039  Female              0     Yes        Yes      72          Yes   \n",
       "7040  Female              0     Yes        Yes      11           No   \n",
       "7041    Male              1     Yes         No       4          Yes   \n",
       "7042    Male              0      No         No      66          Yes   \n",
       "\n",
       "         MultipleLines InternetService OnlineSecurity OnlineBackup  ...  \\\n",
       "0     No phone service             DSL             No          Yes  ...   \n",
       "1                   No             DSL            Yes           No  ...   \n",
       "2                   No             DSL            Yes          Yes  ...   \n",
       "3     No phone service             DSL            Yes           No  ...   \n",
       "4                   No     Fiber optic             No           No  ...   \n",
       "...                ...             ...            ...          ...  ...   \n",
       "7038               Yes             DSL            Yes           No  ...   \n",
       "7039               Yes     Fiber optic             No          Yes  ...   \n",
       "7040  No phone service             DSL            Yes           No  ...   \n",
       "7041               Yes     Fiber optic             No           No  ...   \n",
       "7042                No     Fiber optic            Yes           No  ...   \n",
       "\n",
       "     StreamingMovies        Contract PaperlessBilling  \\\n",
       "0                 No  Month-to-month              Yes   \n",
       "1                 No        One year               No   \n",
       "2                 No  Month-to-month              Yes   \n",
       "3                 No        One year               No   \n",
       "4                 No  Month-to-month              Yes   \n",
       "...              ...             ...              ...   \n",
       "7038             Yes        One year              Yes   \n",
       "7039             Yes        One year              Yes   \n",
       "7040              No  Month-to-month              Yes   \n",
       "7041              No  Month-to-month              Yes   \n",
       "7042             Yes        Two year              Yes   \n",
       "\n",
       "                  PaymentMethod MonthlyCharges TotalCharges tenure-binned  \\\n",
       "0              Electronic check          29.85        29.85           Low   \n",
       "1                  Mailed check          56.95      1889.50        Medium   \n",
       "2                  Mailed check          53.85       108.15           Low   \n",
       "3     Bank transfer (automatic)          42.30      1840.75        Medium   \n",
       "4              Electronic check          70.70       151.65           Low   \n",
       "...                         ...            ...          ...           ...   \n",
       "7038               Mailed check          84.80      1990.50           Low   \n",
       "7039    Credit card (automatic)         103.20      7362.90          High   \n",
       "7040           Electronic check          29.60       346.45           Low   \n",
       "7041               Mailed check          74.40       306.60           Low   \n",
       "7042  Bank transfer (automatic)         105.65      6844.50          High   \n",
       "\n",
       "      MonthlyCharges-binned  TotalCharges-binned Churn  \n",
       "0                       Low                  Low   0.0  \n",
       "1                    Medium                  Low   0.0  \n",
       "2                    Medium                  Low   1.0  \n",
       "3                       Low                  Low   0.0  \n",
       "4                    Medium                  Low   1.0  \n",
       "...                     ...                  ...   ...  \n",
       "7038                 Medium                  Low   0.0  \n",
       "7039                   High                 High   0.0  \n",
       "7040                    Low                  Low   0.0  \n",
       "7041                 Medium                  Low   1.0  \n",
       "7042                   High                 High   0.0  \n",
       "\n",
       "[7043 rows x 23 columns]"
      ]
     },
     "execution_count": 4,
     "metadata": {},
     "output_type": "execute_result"
    }
   ],
   "source": [
    "df_churn_cleaned = pd.read_csv(\"../input/churn-prediction-i-eda-statistical-analysis/Telco-Customer-Churn-dataset-cleaned.csv\")\n",
    "df_churn_cleaned"
   ]
  },
  {
   "cell_type": "code",
   "execution_count": 5,
   "id": "a53acfab",
   "metadata": {
    "execution": {
     "iopub.execute_input": "2022-09-22T00:19:02.464644Z",
     "iopub.status.busy": "2022-09-22T00:19:02.463813Z",
     "iopub.status.idle": "2022-09-22T00:19:02.582728Z",
     "shell.execute_reply": "2022-09-22T00:19:02.583785Z",
     "shell.execute_reply.started": "2022-04-25T18:16:57.491089Z"
    },
    "papermill": {
     "duration": 0.189524,
     "end_time": "2022-09-22T00:19:02.584003",
     "exception": false,
     "start_time": "2022-09-22T00:19:02.394479",
     "status": "completed"
    },
    "tags": []
   },
   "outputs": [
    {
     "data": {
      "text/markdown": [
       "**Column Info**"
      ],
      "text/plain": [
       "<IPython.core.display.Markdown object>"
      ]
     },
     "metadata": {},
     "output_type": "display_data"
    },
    {
     "name": "stdout",
     "output_type": "stream",
     "text": [
      "<class 'pandas.core.frame.DataFrame'>\n",
      "RangeIndex: 7043 entries, 0 to 7042\n",
      "Data columns (total 23 columns):\n",
      " #   Column                 Non-Null Count  Dtype  \n",
      "---  ------                 --------------  -----  \n",
      " 0   gender                 7043 non-null   object \n",
      " 1   SeniorCitizen          7043 non-null   int64  \n",
      " 2   Partner                7043 non-null   object \n",
      " 3   Dependents             7043 non-null   object \n",
      " 4   tenure                 7043 non-null   int64  \n",
      " 5   PhoneService           7043 non-null   object \n",
      " 6   MultipleLines          7043 non-null   object \n",
      " 7   InternetService        7043 non-null   object \n",
      " 8   OnlineSecurity         7043 non-null   object \n",
      " 9   OnlineBackup           7043 non-null   object \n",
      " 10  DeviceProtection       7043 non-null   object \n",
      " 11  TechSupport            7043 non-null   object \n",
      " 12  StreamingTV            7043 non-null   object \n",
      " 13  StreamingMovies        7043 non-null   object \n",
      " 14  Contract               7043 non-null   object \n",
      " 15  PaperlessBilling       7043 non-null   object \n",
      " 16  PaymentMethod          7043 non-null   object \n",
      " 17  MonthlyCharges         7043 non-null   float64\n",
      " 18  TotalCharges           7043 non-null   float64\n",
      " 19  tenure-binned          7043 non-null   object \n",
      " 20  MonthlyCharges-binned  7043 non-null   object \n",
      " 21  TotalCharges-binned    7043 non-null   object \n",
      " 22  Churn                  7043 non-null   float64\n",
      "dtypes: float64(3), int64(2), object(18)\n",
      "memory usage: 1.2+ MB\n"
     ]
    },
    {
     "data": {
      "text/plain": [
       "None"
      ]
     },
     "metadata": {},
     "output_type": "display_data"
    },
    {
     "data": {
      "text/markdown": [
       "<br>**Datatypes Count**"
      ],
      "text/plain": [
       "<IPython.core.display.Markdown object>"
      ]
     },
     "metadata": {},
     "output_type": "display_data"
    },
    {
     "data": {
      "text/plain": [
       "object     18\n",
       "float64     3\n",
       "int64       2\n",
       "dtype: int64"
      ]
     },
     "metadata": {},
     "output_type": "display_data"
    },
    {
     "data": {
      "text/markdown": [
       "<br>**Categorical Features**"
      ],
      "text/plain": [
       "<IPython.core.display.Markdown object>"
      ]
     },
     "metadata": {},
     "output_type": "display_data"
    },
    {
     "data": {
      "text/html": [
       "<div>\n",
       "<style scoped>\n",
       "    .dataframe tbody tr th:only-of-type {\n",
       "        vertical-align: middle;\n",
       "    }\n",
       "\n",
       "    .dataframe tbody tr th {\n",
       "        vertical-align: top;\n",
       "    }\n",
       "\n",
       "    .dataframe thead th {\n",
       "        text-align: right;\n",
       "    }\n",
       "</style>\n",
       "<table border=\"1\" class=\"dataframe\">\n",
       "  <thead>\n",
       "    <tr style=\"text-align: right;\">\n",
       "      <th></th>\n",
       "      <th>count</th>\n",
       "      <th>unique</th>\n",
       "      <th>top</th>\n",
       "      <th>freq</th>\n",
       "    </tr>\n",
       "  </thead>\n",
       "  <tbody>\n",
       "    <tr>\n",
       "      <th>gender</th>\n",
       "      <td>7043</td>\n",
       "      <td>2</td>\n",
       "      <td>Male</td>\n",
       "      <td>3555</td>\n",
       "    </tr>\n",
       "    <tr>\n",
       "      <th>Partner</th>\n",
       "      <td>7043</td>\n",
       "      <td>2</td>\n",
       "      <td>No</td>\n",
       "      <td>3641</td>\n",
       "    </tr>\n",
       "    <tr>\n",
       "      <th>Dependents</th>\n",
       "      <td>7043</td>\n",
       "      <td>2</td>\n",
       "      <td>No</td>\n",
       "      <td>4933</td>\n",
       "    </tr>\n",
       "    <tr>\n",
       "      <th>PhoneService</th>\n",
       "      <td>7043</td>\n",
       "      <td>2</td>\n",
       "      <td>Yes</td>\n",
       "      <td>6361</td>\n",
       "    </tr>\n",
       "    <tr>\n",
       "      <th>MultipleLines</th>\n",
       "      <td>7043</td>\n",
       "      <td>3</td>\n",
       "      <td>No</td>\n",
       "      <td>3390</td>\n",
       "    </tr>\n",
       "    <tr>\n",
       "      <th>InternetService</th>\n",
       "      <td>7043</td>\n",
       "      <td>3</td>\n",
       "      <td>Fiber optic</td>\n",
       "      <td>3096</td>\n",
       "    </tr>\n",
       "    <tr>\n",
       "      <th>OnlineSecurity</th>\n",
       "      <td>7043</td>\n",
       "      <td>3</td>\n",
       "      <td>No</td>\n",
       "      <td>3498</td>\n",
       "    </tr>\n",
       "    <tr>\n",
       "      <th>OnlineBackup</th>\n",
       "      <td>7043</td>\n",
       "      <td>3</td>\n",
       "      <td>No</td>\n",
       "      <td>3088</td>\n",
       "    </tr>\n",
       "    <tr>\n",
       "      <th>DeviceProtection</th>\n",
       "      <td>7043</td>\n",
       "      <td>3</td>\n",
       "      <td>No</td>\n",
       "      <td>3095</td>\n",
       "    </tr>\n",
       "    <tr>\n",
       "      <th>TechSupport</th>\n",
       "      <td>7043</td>\n",
       "      <td>3</td>\n",
       "      <td>No</td>\n",
       "      <td>3473</td>\n",
       "    </tr>\n",
       "    <tr>\n",
       "      <th>StreamingTV</th>\n",
       "      <td>7043</td>\n",
       "      <td>3</td>\n",
       "      <td>No</td>\n",
       "      <td>2810</td>\n",
       "    </tr>\n",
       "    <tr>\n",
       "      <th>StreamingMovies</th>\n",
       "      <td>7043</td>\n",
       "      <td>3</td>\n",
       "      <td>No</td>\n",
       "      <td>2785</td>\n",
       "    </tr>\n",
       "    <tr>\n",
       "      <th>Contract</th>\n",
       "      <td>7043</td>\n",
       "      <td>3</td>\n",
       "      <td>Month-to-month</td>\n",
       "      <td>3875</td>\n",
       "    </tr>\n",
       "    <tr>\n",
       "      <th>PaperlessBilling</th>\n",
       "      <td>7043</td>\n",
       "      <td>2</td>\n",
       "      <td>Yes</td>\n",
       "      <td>4171</td>\n",
       "    </tr>\n",
       "    <tr>\n",
       "      <th>PaymentMethod</th>\n",
       "      <td>7043</td>\n",
       "      <td>4</td>\n",
       "      <td>Electronic check</td>\n",
       "      <td>2365</td>\n",
       "    </tr>\n",
       "    <tr>\n",
       "      <th>tenure-binned</th>\n",
       "      <td>7043</td>\n",
       "      <td>3</td>\n",
       "      <td>Low</td>\n",
       "      <td>3210</td>\n",
       "    </tr>\n",
       "    <tr>\n",
       "      <th>MonthlyCharges-binned</th>\n",
       "      <td>7043</td>\n",
       "      <td>3</td>\n",
       "      <td>Low</td>\n",
       "      <td>2451</td>\n",
       "    </tr>\n",
       "    <tr>\n",
       "      <th>TotalCharges-binned</th>\n",
       "      <td>7043</td>\n",
       "      <td>3</td>\n",
       "      <td>Low</td>\n",
       "      <td>4782</td>\n",
       "    </tr>\n",
       "  </tbody>\n",
       "</table>\n",
       "</div>"
      ],
      "text/plain": [
       "                      count unique               top  freq\n",
       "gender                 7043      2              Male  3555\n",
       "Partner                7043      2                No  3641\n",
       "Dependents             7043      2                No  4933\n",
       "PhoneService           7043      2               Yes  6361\n",
       "MultipleLines          7043      3                No  3390\n",
       "InternetService        7043      3       Fiber optic  3096\n",
       "OnlineSecurity         7043      3                No  3498\n",
       "OnlineBackup           7043      3                No  3088\n",
       "DeviceProtection       7043      3                No  3095\n",
       "TechSupport            7043      3                No  3473\n",
       "StreamingTV            7043      3                No  2810\n",
       "StreamingMovies        7043      3                No  2785\n",
       "Contract               7043      3    Month-to-month  3875\n",
       "PaperlessBilling       7043      2               Yes  4171\n",
       "PaymentMethod          7043      4  Electronic check  2365\n",
       "tenure-binned          7043      3               Low  3210\n",
       "MonthlyCharges-binned  7043      3               Low  2451\n",
       "TotalCharges-binned    7043      3               Low  4782"
      ]
     },
     "metadata": {},
     "output_type": "display_data"
    }
   ],
   "source": [
    "printmd(\"**Column Info**\")\n",
    "display(df_churn_cleaned.info())\n",
    "printmd(\"<br>**Datatypes Count**\")\n",
    "display(df_churn_cleaned.dtypes.value_counts())\n",
    "printmd(\"<br>**Categorical Features**\")\n",
    "display(df_churn_cleaned.describe(include=['object']).T)"
   ]
  },
  {
   "cell_type": "markdown",
   "id": "f6c33ba6",
   "metadata": {
    "id": "OKDD7L9Bakgc",
    "papermill": {
     "duration": 0.045662,
     "end_time": "2022-09-22T00:19:02.701240",
     "exception": false,
     "start_time": "2022-09-22T00:19:02.655578",
     "status": "completed"
    },
    "tags": []
   },
   "source": [
    "<a id='4'></a>\n",
    "# 4 Data Preparation"
   ]
  },
  {
   "cell_type": "markdown",
   "id": "3fc23ff6",
   "metadata": {
    "id": "FlbIJAZl9JeY",
    "papermill": {
     "duration": 0.045213,
     "end_time": "2022-09-22T00:19:02.789241",
     "exception": false,
     "start_time": "2022-09-22T00:19:02.744028",
     "status": "completed"
    },
    "tags": []
   },
   "source": [
    "<a id='4.1'></a>\n",
    "## 4.1 Prepare Train/Test dataset"
   ]
  },
  {
   "cell_type": "code",
   "execution_count": 6,
   "id": "a019f765",
   "metadata": {
    "execution": {
     "iopub.execute_input": "2022-09-22T00:19:02.884135Z",
     "iopub.status.busy": "2022-09-22T00:19:02.883499Z",
     "iopub.status.idle": "2022-09-22T00:19:02.902720Z",
     "shell.execute_reply": "2022-09-22T00:19:02.903340Z",
     "shell.execute_reply.started": "2022-04-25T18:16:57.602034Z"
    },
    "id": "g_qupB1DikOF",
    "outputId": "f16729d6-2fa5-44ea-a120-1b331b029d4c",
    "papermill": {
     "duration": 0.069187,
     "end_time": "2022-09-22T00:19:02.903528",
     "exception": false,
     "start_time": "2022-09-22T00:19:02.834341",
     "status": "completed"
    },
    "tags": []
   },
   "outputs": [
    {
     "name": "stdout",
     "output_type": "stream",
     "text": [
      "Target Labels Ratio in Original Dataset\n",
      "\n",
      "0.0    0.73463\n",
      "1.0    0.26537\n",
      "Name: Churn, dtype: float64\n",
      "\n",
      "Target Labels Ratio in Test Dataset\n",
      "\n",
      "0.0    0.734564\n",
      "1.0    0.265436\n",
      "Name: Churn, dtype: float64\n"
     ]
    }
   ],
   "source": [
    "strat_split = StratifiedShuffleSplit(n_splits=1, test_size=0.2, random_state=SEED)\n",
    "for train_index, test_index in strat_split.split(df_churn_cleaned, df_churn_cleaned[\"Churn\"]):\n",
    "    strat_train_set = df_churn_cleaned.loc[train_index]\n",
    "    strat_test_set = df_churn_cleaned.loc[test_index]\n",
    "\n",
    "print('Target Labels Ratio in Original Dataset\\n')\n",
    "print(df_churn_cleaned[\"Churn\"].value_counts(normalize=True).sort_index())\n",
    "# df_churn_cleaned[\"Churn\"].value_counts() / len(strat_test_set)\n",
    "\n",
    "print('\\nTarget Labels Ratio in Test Dataset\\n')\n",
    "print(strat_test_set[\"Churn\"].value_counts(normalize=True).sort_index())\n",
    "# strat_test_set[\"Churn\"].value_counts() / len(strat_test_set)"
   ]
  },
  {
   "cell_type": "code",
   "execution_count": 7,
   "id": "e892e818",
   "metadata": {
    "execution": {
     "iopub.execute_input": "2022-09-22T00:19:03.004480Z",
     "iopub.status.busy": "2022-09-22T00:19:03.003474Z",
     "iopub.status.idle": "2022-09-22T00:19:03.011925Z",
     "shell.execute_reply": "2022-09-22T00:19:03.012387Z",
     "shell.execute_reply.started": "2022-04-25T18:16:57.632289Z"
    },
    "id": "sQ29zfqajCZ-",
    "outputId": "2c7ee202-a6b5-44e6-ca83-247f0e296470",
    "papermill": {
     "duration": 0.059016,
     "end_time": "2022-09-22T00:19:03.012535",
     "exception": false,
     "start_time": "2022-09-22T00:19:02.953519",
     "status": "completed"
    },
    "tags": []
   },
   "outputs": [
    {
     "data": {
      "text/plain": [
       "((5634, 22), (5634,), (1409, 22), (1409,))"
      ]
     },
     "execution_count": 7,
     "metadata": {},
     "output_type": "execute_result"
    }
   ],
   "source": [
    "# train Dataset\n",
    "X = strat_train_set.drop(\"Churn\", axis=1)\n",
    "y = strat_train_set[\"Churn\"].copy()\n",
    "\n",
    "# test dataset\n",
    "y_test = strat_test_set['Churn'].values\n",
    "X_test = strat_test_set.drop('Churn',axis=1)\n",
    "\n",
    "X.shape, y.shape, X_test.shape, y_test.shape"
   ]
  },
  {
   "cell_type": "code",
   "execution_count": 8,
   "id": "f9dd5bc1",
   "metadata": {
    "execution": {
     "iopub.execute_input": "2022-09-22T00:19:03.108838Z",
     "iopub.status.busy": "2022-09-22T00:19:03.107915Z",
     "iopub.status.idle": "2022-09-22T00:19:03.132598Z",
     "shell.execute_reply": "2022-09-22T00:19:03.133096Z",
     "shell.execute_reply.started": "2022-04-25T18:16:57.647682Z"
    },
    "id": "ua6DYAN_f-g1",
    "outputId": "56ec1f16-3e29-49d4-acde-ee069b3c954e",
    "papermill": {
     "duration": 0.076125,
     "end_time": "2022-09-22T00:19:03.133254",
     "exception": false,
     "start_time": "2022-09-22T00:19:03.057129",
     "status": "completed"
    },
    "tags": []
   },
   "outputs": [
    {
     "name": "stdout",
     "output_type": "stream",
     "text": [
      "Number of unique entries by column, in ascending order:\n",
      "\n"
     ]
    },
    {
     "data": {
      "text/html": [
       "<div>\n",
       "<style scoped>\n",
       "    .dataframe tbody tr th:only-of-type {\n",
       "        vertical-align: middle;\n",
       "    }\n",
       "\n",
       "    .dataframe tbody tr th {\n",
       "        vertical-align: top;\n",
       "    }\n",
       "\n",
       "    .dataframe thead th {\n",
       "        text-align: right;\n",
       "    }\n",
       "</style>\n",
       "<table border=\"1\" class=\"dataframe\">\n",
       "  <thead>\n",
       "    <tr style=\"text-align: right;\">\n",
       "      <th></th>\n",
       "      <th>Columns</th>\n",
       "      <th>Cardinality</th>\n",
       "    </tr>\n",
       "  </thead>\n",
       "  <tbody>\n",
       "    <tr>\n",
       "      <th>0</th>\n",
       "      <td>PhoneService</td>\n",
       "      <td>2</td>\n",
       "    </tr>\n",
       "    <tr>\n",
       "      <th>1</th>\n",
       "      <td>PaperlessBilling</td>\n",
       "      <td>2</td>\n",
       "    </tr>\n",
       "    <tr>\n",
       "      <th>2</th>\n",
       "      <td>gender</td>\n",
       "      <td>2</td>\n",
       "    </tr>\n",
       "    <tr>\n",
       "      <th>3</th>\n",
       "      <td>Dependents</td>\n",
       "      <td>2</td>\n",
       "    </tr>\n",
       "    <tr>\n",
       "      <th>4</th>\n",
       "      <td>Partner</td>\n",
       "      <td>2</td>\n",
       "    </tr>\n",
       "    <tr>\n",
       "      <th>5</th>\n",
       "      <td>StreamingMovies</td>\n",
       "      <td>3</td>\n",
       "    </tr>\n",
       "    <tr>\n",
       "      <th>6</th>\n",
       "      <td>tenure-binned</td>\n",
       "      <td>3</td>\n",
       "    </tr>\n",
       "    <tr>\n",
       "      <th>7</th>\n",
       "      <td>StreamingTV</td>\n",
       "      <td>3</td>\n",
       "    </tr>\n",
       "    <tr>\n",
       "      <th>8</th>\n",
       "      <td>InternetService</td>\n",
       "      <td>3</td>\n",
       "    </tr>\n",
       "    <tr>\n",
       "      <th>9</th>\n",
       "      <td>OnlineSecurity</td>\n",
       "      <td>3</td>\n",
       "    </tr>\n",
       "    <tr>\n",
       "      <th>10</th>\n",
       "      <td>TotalCharges-binned</td>\n",
       "      <td>3</td>\n",
       "    </tr>\n",
       "    <tr>\n",
       "      <th>11</th>\n",
       "      <td>DeviceProtection</td>\n",
       "      <td>3</td>\n",
       "    </tr>\n",
       "    <tr>\n",
       "      <th>12</th>\n",
       "      <td>Contract</td>\n",
       "      <td>3</td>\n",
       "    </tr>\n",
       "    <tr>\n",
       "      <th>13</th>\n",
       "      <td>TechSupport</td>\n",
       "      <td>3</td>\n",
       "    </tr>\n",
       "    <tr>\n",
       "      <th>14</th>\n",
       "      <td>OnlineBackup</td>\n",
       "      <td>3</td>\n",
       "    </tr>\n",
       "    <tr>\n",
       "      <th>15</th>\n",
       "      <td>MonthlyCharges-binned</td>\n",
       "      <td>3</td>\n",
       "    </tr>\n",
       "    <tr>\n",
       "      <th>16</th>\n",
       "      <td>MultipleLines</td>\n",
       "      <td>3</td>\n",
       "    </tr>\n",
       "    <tr>\n",
       "      <th>17</th>\n",
       "      <td>PaymentMethod</td>\n",
       "      <td>4</td>\n",
       "    </tr>\n",
       "  </tbody>\n",
       "</table>\n",
       "</div>"
      ],
      "text/plain": [
       "                  Columns  Cardinality\n",
       "0            PhoneService            2\n",
       "1        PaperlessBilling            2\n",
       "2                  gender            2\n",
       "3              Dependents            2\n",
       "4                 Partner            2\n",
       "5         StreamingMovies            3\n",
       "6           tenure-binned            3\n",
       "7             StreamingTV            3\n",
       "8         InternetService            3\n",
       "9          OnlineSecurity            3\n",
       "10    TotalCharges-binned            3\n",
       "11       DeviceProtection            3\n",
       "12               Contract            3\n",
       "13            TechSupport            3\n",
       "14           OnlineBackup            3\n",
       "15  MonthlyCharges-binned            3\n",
       "16          MultipleLines            3\n",
       "17          PaymentMethod            4"
      ]
     },
     "metadata": {},
     "output_type": "display_data"
    },
    {
     "name": "stdout",
     "output_type": "stream",
     "text": [
      "Total Categorical Columns 18\n",
      "Total Numerical Columns 3\n"
     ]
    },
    {
     "data": {
      "text/markdown": [
       "**<br>Dataset has maximum cardinality value of 4 which is comparatively low<br>**"
      ],
      "text/plain": [
       "<IPython.core.display.Markdown object>"
      ]
     },
     "metadata": {},
     "output_type": "display_data"
    }
   ],
   "source": [
    "# Check cardinality of categorical variables : \n",
    "\n",
    "# reinitiate cat_cols because 'customerID' is still included in cat_cols variable\n",
    "cat_cols = list(set(X.columns) - set(X._get_numeric_data().columns))\n",
    "num_cols = list(set(X._get_numeric_data().columns) - set({'SeniorCitizen'})) # already converted\n",
    "# Get number of unique entries in each column with categorical data\n",
    "object_nunique = list(map(lambda col: X[col].nunique(), cat_cols))\n",
    "d = dict(zip(cat_cols, object_nunique))\n",
    "\n",
    "print(\"Number of unique entries by column, in ascending order:\\n\")\n",
    "\n",
    "sorted_cols_by_cardinality = sorted(d.items(), key=lambda x: x[1])\n",
    "display(pd.DataFrame(sorted_cols_by_cardinality, columns=['Columns', 'Cardinality']))\n",
    "\n",
    "print(\"Total Categorical Columns\",len(cat_cols))\n",
    "print(\"Total Numerical Columns\",len(num_cols))\n",
    "\n",
    "printmd(\"**<br>Dataset has maximum cardinality value of 4 which is comparatively low<br>**\")"
   ]
  },
  {
   "cell_type": "markdown",
   "id": "d13c66b8",
   "metadata": {
    "id": "c6B3C5BrsBD7",
    "papermill": {
     "duration": 0.044834,
     "end_time": "2022-09-22T00:19:03.224499",
     "exception": false,
     "start_time": "2022-09-22T00:19:03.179665",
     "status": "completed"
    },
    "tags": []
   },
   "source": [
    "<a id='4.2'></a>\n",
    "## 4.2 Encoding & Scaling"
   ]
  },
  {
   "cell_type": "code",
   "execution_count": 9,
   "id": "2f798d23",
   "metadata": {
    "execution": {
     "iopub.execute_input": "2022-09-22T00:19:03.325820Z",
     "iopub.status.busy": "2022-09-22T00:19:03.324992Z",
     "iopub.status.idle": "2022-09-22T00:19:03.385763Z",
     "shell.execute_reply": "2022-09-22T00:19:03.385138Z",
     "shell.execute_reply.started": "2022-04-25T18:16:57.68468Z"
    },
    "id": "dVgkyMB21Oz9",
    "papermill": {
     "duration": 0.114926,
     "end_time": "2022-09-22T00:19:03.385936",
     "exception": false,
     "start_time": "2022-09-22T00:19:03.271010",
     "status": "completed"
    },
    "tags": []
   },
   "outputs": [],
   "source": [
    "ordinal_encoder = OrdinalEncoder()\n",
    "X[cat_cols] = ordinal_encoder.fit_transform(X[cat_cols])\n",
    "X_test[cat_cols] = ordinal_encoder.transform(X_test[cat_cols])\n",
    "\n",
    "le = LabelEncoder()\n",
    "y = le.fit_transform(y)\n",
    "\n",
    "y_test = le.fit_transform(y_test)\n",
    "\n",
    "\n",
    "num_cols = ['tenure', 'MonthlyCharges', 'TotalCharges']\n",
    "\n",
    "transformer = RobustScaler()\n",
    "X[num_cols] = transformer.fit_transform(X[num_cols])\n",
    "X_test[num_cols] = transformer.transform(X_test[num_cols])"
   ]
  },
  {
   "cell_type": "markdown",
   "id": "fb7d5683",
   "metadata": {
    "id": "uF7hj0nzVzcw",
    "papermill": {
     "duration": 0.046643,
     "end_time": "2022-09-22T00:19:03.482124",
     "exception": false,
     "start_time": "2022-09-22T00:19:03.435481",
     "status": "completed"
    },
    "tags": []
   },
   "source": [
    "### Correlation Heatmap\n",
    "\n",
    "**Pearson’s R** (parametric) is not applicable when the data is categorical\n",
    "\n",
    "**Kendall’s Tau** is a non-parametric measure of relationships between continuous or ordinal features\n",
    "\n",
    "While Pearson's correlation assesses linear relationships, **Spearman's correlation** (non -parametric) assesses monotonic relationships (whether linear or not)\n",
    "\n",
    "\n",
    "Most of the features in this dataset are categorical and nominal, so it's ineffective for those non-numerical attributes \n",
    "\n",
    "Moreover, there are only **three numerical features** which are not normally distributed\n",
    "\n",
    "Therefore, `pandas.corr()` is not feasible to use for this case\n"
   ]
  },
  {
   "cell_type": "code",
   "execution_count": 10,
   "id": "d6a1dff3",
   "metadata": {
    "execution": {
     "iopub.execute_input": "2022-09-22T00:19:03.578110Z",
     "iopub.status.busy": "2022-09-22T00:19:03.577276Z",
     "iopub.status.idle": "2022-09-22T00:19:03.898372Z",
     "shell.execute_reply": "2022-09-22T00:19:03.898931Z",
     "shell.execute_reply.started": "2022-04-25T18:16:57.771486Z"
    },
    "id": "a2oHrd0pShsb",
    "outputId": "de51de9b-a89e-4c67-82b0-c4ca7e4aa735",
    "papermill": {
     "duration": 0.371006,
     "end_time": "2022-09-22T00:19:03.899166",
     "exception": false,
     "start_time": "2022-09-22T00:19:03.528160",
     "status": "completed"
    },
    "tags": []
   },
   "outputs": [
    {
     "data": {
      "image/png": "[encoded data removed]",
      "text/plain": [
       "<Figure size 504x360 with 2 Axes>"
      ]
     },
     "metadata": {},
     "output_type": "display_data"
    },
    {
     "data": {
      "text/markdown": [
       "**Tenure is moderately correlated Numerical Feature with Target**"
      ],
      "text/plain": [
       "<IPython.core.display.Markdown object>"
      ]
     },
     "metadata": {},
     "output_type": "display_data"
    }
   ],
   "source": [
    "# Correlation Matrix\n",
    "# only numerical output\n",
    "corr_matrix = pd.concat([X[num_cols],strat_train_set[[\"Churn\"]]],axis=1).corr() # 'spearman' / 'pearson' / 'kendall'\n",
    "\n",
    "# Set Up Mask To Hide Upper Triangle\n",
    "mask = np.zeros_like(corr_matrix, dtype=np.bool)\n",
    "mask[np.triu_indices_from(mask)]= True\n",
    "\n",
    "with sns.axes_style(\"white\"):\n",
    "    f, ax = plt.subplots(figsize=(7, 5))\n",
    "    ax = sns.heatmap(corr_matrix,\n",
    "                      mask = mask,\n",
    "                      square = True,\n",
    "                      linewidths = .5,\n",
    "                      cmap = 'coolwarm',\n",
    "                      cbar_kws = {'shrink': .4,\n",
    "                                'ticks' : [-1, -.5, 0, 0.5, 1]},\n",
    "                      vmin = -1,\n",
    "                      vmax = 1,\n",
    "                      annot = True,\n",
    "                      annot_kws = {'size': 12})\n",
    "\n",
    "#add the column names as labels\n",
    "ax.set_yticklabels(corr_matrix.columns, rotation = 0, fontsize=13)\n",
    "ax.set_xticklabels(corr_matrix.columns, fontsize=13)\n",
    "\n",
    "sns.set_style({'xtick.bottom': True}, {'ytick.left': True})\n",
    "plt.show()\n",
    "\n",
    "printmd(\"**Tenure is moderately correlated Numerical Feature with Target**\")"
   ]
  },
  {
   "cell_type": "markdown",
   "id": "8998fa79",
   "metadata": {
    "id": "aAYIbatKaeS8",
    "papermill": {
     "duration": 0.047651,
     "end_time": "2022-09-22T00:19:03.994497",
     "exception": false,
     "start_time": "2022-09-22T00:19:03.946846",
     "status": "completed"
    },
    "tags": []
   },
   "source": [
    "<a id='5'></a>\n",
    "# 5 Modeling"
   ]
  },
  {
   "cell_type": "markdown",
   "id": "55b3eb8b",
   "metadata": {
    "id": "j7C3amsx6HJx",
    "papermill": {
     "duration": 0.045852,
     "end_time": "2022-09-22T00:19:04.089040",
     "exception": false,
     "start_time": "2022-09-22T00:19:04.043188",
     "status": "completed"
    },
    "tags": []
   },
   "source": [
    "<a id='5.1'></a>\n",
    "## 5.1 Utility Function"
   ]
  },
  {
   "cell_type": "markdown",
   "id": "cb53d812",
   "metadata": {
    "id": "3l3aOtwwu4PQ",
    "papermill": {
     "duration": 0.046129,
     "end_time": "2022-09-22T00:19:04.184089",
     "exception": false,
     "start_time": "2022-09-22T00:19:04.137960",
     "status": "completed"
    },
    "tags": []
   },
   "source": [
    "<a id='5.1.1'></a>\n",
    "### 5.1.1 Training"
   ]
  },
  {
   "cell_type": "code",
   "execution_count": 11,
   "id": "a61780f4",
   "metadata": {
    "execution": {
     "iopub.execute_input": "2022-09-22T00:19:04.293919Z",
     "iopub.status.busy": "2022-09-22T00:19:04.292984Z",
     "iopub.status.idle": "2022-09-22T00:19:04.294744Z",
     "shell.execute_reply": "2022-09-22T00:19:04.295282Z",
     "shell.execute_reply.started": "2022-04-25T18:16:58.066047Z"
    },
    "id": "IUR1T1r6VP1E",
    "papermill": {
     "duration": 0.062758,
     "end_time": "2022-09-22T00:19:04.295433",
     "exception": false,
     "start_time": "2022-09-22T00:19:04.232675",
     "status": "completed"
    },
    "tags": []
   },
   "outputs": [],
   "source": [
    "def train_model(model, model_name, X, y, X_test, fold):\n",
    "    printmd(f'**{model_name} Init**')\n",
    "    auc_scores = []\n",
    "\n",
    "    test_preds=None\n",
    "\n",
    "    strat_kf = StratifiedKFold(n_splits=fold, random_state=SEED, shuffle=True)\n",
    "\n",
    "    for fold, (train_index, valid_index) in enumerate(strat_kf.split(X, y)):\n",
    "        X_train, X_valid = X.iloc[train_index] , X.iloc[valid_index]\n",
    "        y_train, y_valid = y[train_index] , y[valid_index]\n",
    "\n",
    "\n",
    "        #### to SMOTE sampling\n",
    "        # sm = SMOTE(sampling_strategy='all', random_state=SEED)\n",
    "        # X_train_oversampled, y_train_oversampled = sm.fit_resample(X_train, y_train)\n",
    "        # X_val_oversampled, y_val_oversampled = sm.fit_resample(X_valid, y_valid)\n",
    "\n",
    "        eval_set = [(X_valid, y_valid)]\n",
    "\n",
    "        print(\"-\" * 50)\n",
    "        print(f\"Fold {fold + 1}\")\n",
    "\n",
    "        if model_name == 'cat':\n",
    "            model.fit(X_train, y_train, eval_set= eval_set, verbose=False)\n",
    "        elif model_name == 'xgb':\n",
    "            model.fit(X_train, y_train, eval_set= eval_set, eval_metric = 'auc', verbose = False, early_stopping_rounds = 200)\n",
    "        else:\n",
    "            model.fit(X_train, y_train, eval_set= eval_set, eval_metric = 'auc', verbose = False, early_stopping_rounds = 200)\n",
    "\n",
    "\n",
    "        val_pred = model.predict_proba(X_valid)[:,1]\n",
    "        auc = roc_auc_score(y_valid, val_pred) # AUROC requires probabilities of the predictions\n",
    "        print(\"AUC Score : \",auc)\n",
    "\n",
    "        auc_scores.append(auc)\n",
    "\n",
    "        if test_preds is None:\n",
    "            test_preds = model.predict_proba(X_test)[:,1] \n",
    "        else:\n",
    "            test_preds += model.predict_proba(X_test)[:,1] \n",
    "\n",
    "\n",
    "        del X_train, y_train, X_valid, y_valid\n",
    "        gc.collect()\n",
    "\n",
    "    print(\"-\" * 50)\n",
    "    test_preds /= fold\n",
    "\n",
    "    print(f'Train : Base Model - {model_name} - AUC score : mean ---> {np.mean(auc_scores)}, std ---> {np.std(auc_scores)}')\n",
    "\n",
    "    # evaluation on test set\n",
    "    print(f'Test  : Base Model - {model_name} - AUC score : {roc_auc_score(y_test, test_preds)}')\n",
    "\n",
    "    del test_preds\n",
    "    gc.collect()\n",
    "\n",
    "    print('Done!')\n",
    "\n",
    "    if model_name == 'cat':\n",
    "        plot_feature_importance(model.get_feature_importance(), X.columns, model_name)\n",
    "        model.save_model(\"model_catboost\")\n",
    "\n",
    "    elif model_name == 'xgb':\n",
    "        plot_feature_importance(model.feature_importances_, X.columns, model_name)\n",
    "\n",
    "        # https://xgboost.readthedocs.io/en/latest/tutorials/saving_model.html\n",
    "        # save the model\n",
    "        model.save_model('model_xgb.json')\n",
    "\n",
    "    else:\n",
    "        plot_feature_importance(model.feature_importances_, X.columns, model_name)\n",
    "        model.booster_.save_model('model_lgbm.txt') \n",
    "        joblib.dump(model, 'model_lgbm.pkl')"
   ]
  },
  {
   "cell_type": "markdown",
   "id": "22c644d1",
   "metadata": {
    "id": "bRuzSv7U6L-q",
    "papermill": {
     "duration": 0.048504,
     "end_time": "2022-09-22T00:19:04.393636",
     "exception": false,
     "start_time": "2022-09-22T00:19:04.345132",
     "status": "completed"
    },
    "tags": []
   },
   "source": [
    "<a id='5.1.2'></a>\n",
    "### 5.1.2 Model Interpretation"
   ]
  },
  {
   "cell_type": "code",
   "execution_count": 12,
   "id": "d4905200",
   "metadata": {
    "execution": {
     "iopub.execute_input": "2022-09-22T00:19:04.498062Z",
     "iopub.status.busy": "2022-09-22T00:19:04.497088Z",
     "iopub.status.idle": "2022-09-22T00:19:04.499136Z",
     "shell.execute_reply": "2022-09-22T00:19:04.499651Z",
     "shell.execute_reply.started": "2022-04-25T18:16:58.081398Z"
    },
    "id": "jkdizqlAhmSu",
    "papermill": {
     "duration": 0.057898,
     "end_time": "2022-09-22T00:19:04.499829",
     "exception": false,
     "start_time": "2022-09-22T00:19:04.441931",
     "status": "completed"
    },
    "tags": []
   },
   "outputs": [],
   "source": [
    "def plot_feature_importance(importance,names,model_type):\n",
    "\n",
    "    #Create arrays from feature importance and feature names\n",
    "    feature_importance = np.array(importance)\n",
    "    feature_names = np.array(names)\n",
    "\n",
    "    #Create a DataFrame using a Dictionary\n",
    "    data={'feature_names':feature_names,'feature_importance':feature_importance}\n",
    "    fi_df = pd.DataFrame(data)\n",
    "\n",
    "    #Sort the DataFrame in order decreasing feature importance\n",
    "    fi_df.sort_values(by=['feature_importance'], ascending=False,inplace=True)\n",
    "\n",
    "    #Define size of bar plot\n",
    "    plt.figure(figsize=(10,8),dpi=100)\n",
    "    #Plot Searborn bar chart\n",
    "    sns.barplot(x=fi_df['feature_importance'], y=fi_df['feature_names'])\n",
    "    #Add chart labels\n",
    "    plt.title(model_type + ' Feature Importance')\n",
    "    plt.xlabel('Feature Importance')\n",
    "    plt.ylabel('Feature Names')\n",
    "\n",
    "# credit : https://www.analyseup.com/learn-python-for-data-science/python-random-forest-feature-importance-plot.html"
   ]
  },
  {
   "cell_type": "markdown",
   "id": "d9685f5b",
   "metadata": {
    "id": "URUPogP7Argc",
    "papermill": {
     "duration": 0.045918,
     "end_time": "2022-09-22T00:19:04.593351",
     "exception": false,
     "start_time": "2022-09-22T00:19:04.547433",
     "status": "completed"
    },
    "tags": []
   },
   "source": [
    "<a id='5.2'></a>\n",
    "## 5.2 Catboost"
   ]
  },
  {
   "cell_type": "markdown",
   "id": "b026aee9",
   "metadata": {
    "id": "YDeYXx0d-n6m",
    "papermill": {
     "duration": 0.046091,
     "end_time": "2022-09-22T00:19:04.687938",
     "exception": false,
     "start_time": "2022-09-22T00:19:04.641847",
     "status": "completed"
    },
    "tags": []
   },
   "source": [
    "<a id='5.2.1'></a>\n",
    "### 5.2.1 Training"
   ]
  },
  {
   "cell_type": "code",
   "execution_count": 13,
   "id": "1315743b",
   "metadata": {
    "execution": {
     "iopub.execute_input": "2022-09-22T00:19:04.794034Z",
     "iopub.status.busy": "2022-09-22T00:19:04.793206Z",
     "iopub.status.idle": "2022-09-22T00:20:18.040855Z",
     "shell.execute_reply": "2022-09-22T00:20:18.041288Z",
     "shell.execute_reply.started": "2022-04-25T18:16:58.095843Z"
    },
    "id": "lEd4il4q5twP",
    "outputId": "2c71ab2e-578e-4589-c3f4-cfd8a99121b3",
    "papermill": {
     "duration": 73.306648,
     "end_time": "2022-09-22T00:20:18.041454",
     "exception": false,
     "start_time": "2022-09-22T00:19:04.734806",
     "status": "completed"
    },
    "tags": []
   },
   "outputs": [
    {
     "data": {
      "text/markdown": [
       "**cat Init**"
      ],
      "text/plain": [
       "<IPython.core.display.Markdown object>"
      ]
     },
     "metadata": {},
     "output_type": "display_data"
    },
    {
     "name": "stdout",
     "output_type": "stream",
     "text": [
      "--------------------------------------------------\n",
      "Fold 1\n",
      "AUC Score :  0.8276489533011271\n",
      "--------------------------------------------------\n",
      "Fold 2\n",
      "AUC Score :  0.862157809983897\n",
      "--------------------------------------------------\n",
      "Fold 3\n",
      "AUC Score :  0.8367069243156201\n",
      "--------------------------------------------------\n",
      "Fold 4\n",
      "AUC Score :  0.8323752012882448\n",
      "--------------------------------------------------\n",
      "Fold 5\n",
      "AUC Score :  0.842330512596051\n",
      "--------------------------------------------------\n",
      "Fold 6\n",
      "AUC Score :  0.8562558765360049\n",
      "--------------------------------------------------\n",
      "Fold 7\n",
      "AUC Score :  0.8706351522225464\n",
      "--------------------------------------------------\n",
      "Fold 8\n",
      "AUC Score :  0.857812145381448\n",
      "--------------------------------------------------\n",
      "Fold 9\n",
      "AUC Score :  0.8553156307752164\n",
      "--------------------------------------------------\n",
      "Fold 10\n",
      "AUC Score :  0.8699354317998387\n",
      "--------------------------------------------------\n",
      "Train : Base Model - cat - AUC score : mean ---> 0.8511173638199994, std ---> 0.01460379925370074\n",
      "Test  : Base Model - cat - AUC score : 0.8472435350951975\n",
      "Done!\n",
      "CPU times: user 1min 50s, sys: 20.4 s, total: 2min 10s\n",
      "Wall time: 1min 12s\n"
     ]
    },
    {
     "data": {
      "image/png": "[encoded data removed]",
      "text/plain": [
       "<Figure size 1000x800 with 1 Axes>"
      ]
     },
     "metadata": {
      "needs_background": "light"
     },
     "output_type": "display_data"
    }
   ],
   "source": [
    "%%time\n",
    "# https://catboost.ai/en/docs/concepts/speed-up-training\n",
    "\n",
    "# this dataset is fairly small, so catboost runs super slow on GPU\n",
    "# https://github.com/catboost/catboost/issues/1034\n",
    "\n",
    "\n",
    "fold_num = 10\n",
    "\n",
    "# convert datatype to integer -> use 'cat_features' parameter\n",
    "# it does not improve score, feel free to try it out\n",
    "# for c in cat_cols:\n",
    "#     X[c] = X[c].astype(np.int)\n",
    "#     X_test[c] = X_test[c].astype(np.int)\n",
    "\n",
    "cat_params  = {\n",
    "    'eval_metric':\"AUC\",\n",
    "    'loss_function': 'logloss',\n",
    "    'objective': 'Logloss',\n",
    "    'boosting_type': 'Plain',\n",
    "    'bootstrap_type': 'Bayesian', \n",
    "    'colsample_bylevel': 0.013457968759952536, # does not support on gpu https://catboost.ai/en/docs/references/training-parameters/common#rsm\n",
    "    'depth': 6,\n",
    "    'iterations': 6888,\n",
    "    'learning_rate': 0.05683590866750785,\n",
    "    'random_strength': 18, \n",
    "    'l2_leaf_reg': 50,\n",
    "    'random_state': SEED,\n",
    "#     'task_type':\"GPU\",\n",
    "#     'devices' : '0',\n",
    "    # 'cat_features':cat_cols\n",
    "    }\n",
    "\n",
    "\n",
    "cat = CatBoostClassifier(**cat_params)\n",
    "\n",
    "train_model(cat, 'cat', X, y, X_test, fold_num)"
   ]
  },
  {
   "cell_type": "markdown",
   "id": "3c67c990",
   "metadata": {
    "id": "SCpJC4eG6qUk",
    "papermill": {
     "duration": 0.053298,
     "end_time": "2022-09-22T00:20:18.146041",
     "exception": false,
     "start_time": "2022-09-22T00:20:18.092743",
     "status": "completed"
    },
    "tags": []
   },
   "source": [
    "<a id='5.2.2'></a>\n",
    "### 5.2.2 Optuna Tuning"
   ]
  },
  {
   "cell_type": "code",
   "execution_count": 14,
   "id": "e1265877",
   "metadata": {
    "execution": {
     "iopub.execute_input": "2022-09-22T00:20:18.253708Z",
     "iopub.status.busy": "2022-09-22T00:20:18.253059Z",
     "iopub.status.idle": "2022-09-22T00:20:18.263421Z",
     "shell.execute_reply": "2022-09-22T00:20:18.262798Z",
     "shell.execute_reply.started": "2022-04-25T18:18:02.333061Z"
    },
    "id": "tJQtI0Om6pos",
    "outputId": "383290da-67b4-4539-a299-9df03f810035",
    "papermill": {
     "duration": 0.065732,
     "end_time": "2022-09-22T00:20:18.263559",
     "exception": false,
     "start_time": "2022-09-22T00:20:18.197827",
     "status": "completed"
    },
    "tags": []
   },
   "outputs": [
    {
     "name": "stdout",
     "output_type": "stream",
     "text": [
      "CPU times: user 5 µs, sys: 0 ns, total: 5 µs\n",
      "Wall time: 8.58 µs\n"
     ]
    }
   ],
   "source": [
    "%%time\n",
    "def objective(trial):\n",
    "    X_train, X_test, y_train, y_test = train_test_split(X, y, test_size=0.25, random_state=int(SEED), shuffle=True, stratify=y)\n",
    "    \n",
    "    # parameters\n",
    "    params = {\n",
    "        'iterations' : trial.suggest_int('iterations', 6000, 8000), \n",
    "        'depth' : trial.suggest_int('depth', 3, 12),\n",
    "        'learning_rate' :trial.suggest_loguniform('learning_rate', 1e-3, 1e-1),\n",
    "        \"objective\": trial.suggest_categorical(\"objective\", [\"Logloss\"]),\n",
    "        'colsample_bylevel': trial.suggest_float(\"colsample_bylevel\", 0.01, 0.1), #  # does not support on gpu \n",
    "        'random_strength' :trial.suggest_int('random_strength', 0, 100),   \n",
    "        \"boosting_type\": trial.suggest_categorical(\"boosting_type\", [\"Ordered\", \"Plain\"]),\n",
    "        \"bootstrap_type\": trial.suggest_categorical(\n",
    "            \"bootstrap_type\", [\"Bayesian\", \"Bernoulli\", \"MVS\"]  # https://catboost.ai/en/docs/concepts/algorithm-main-stages_bootstrap-options\n",
    "        ),\n",
    "        'random_state': trial.suggest_categorical('random_state',[SEED]),\n",
    "    }\n",
    "\n",
    "    # learning\n",
    "    model = CatBoostClassifier(\n",
    "        loss_function=\"Logloss\",\n",
    "        eval_metric=\"AUC\",\n",
    "        # task_type=\"GPU\",\n",
    "        l2_leaf_reg=50,\n",
    "#         border_count=64,\n",
    "        **params\n",
    "    )        \n",
    "    model.fit(X_train, y_train, \n",
    "              verbose=False) # 1000\n",
    "    val_preds = model.predict_proba(X_test)[:,1]\n",
    "    auc = roc_auc_score(y_test, val_preds) # AUROC requires probabilities of the predictions\n",
    "    # print(\"AUC Score : \",auc) # check the auc score in each trial\n",
    "    \n",
    "    return auc"
   ]
  },
  {
   "cell_type": "code",
   "execution_count": 15,
   "id": "d554971a",
   "metadata": {
    "_kg_hide-output": true,
    "execution": {
     "iopub.execute_input": "2022-09-22T00:20:18.375656Z",
     "iopub.status.busy": "2022-09-22T00:20:18.374590Z",
     "iopub.status.idle": "2022-09-22T00:38:33.947218Z",
     "shell.execute_reply": "2022-09-22T00:38:33.946674Z",
     "shell.execute_reply.started": "2022-04-25T18:18:02.344825Z"
    },
    "id": "x188G1CA6uy4",
    "outputId": "c46a4ad9-dc77-4d2f-d8a7-882392325a8d",
    "papermill": {
     "duration": 1095.632941,
     "end_time": "2022-09-22T00:38:33.947371",
     "exception": false,
     "start_time": "2022-09-22T00:20:18.314430",
     "status": "completed"
    },
    "tags": []
   },
   "outputs": [
    {
     "name": "stderr",
     "output_type": "stream",
     "text": [
      "\u001b[32m[I 2022-09-22 00:20:18,372]\u001b[0m A new study created in memory with name: no-name-7a7a8c06-4f52-4a15-9e9a-348f4a216349\u001b[0m\n",
      "Custom logger is already specified. Specify more than one logger at same time is not thread safe.\u001b[32m[I 2022-09-22 00:20:27,582]\u001b[0m Trial 1 finished with value: 0.8349091942442325 and parameters: {'iterations': 6585, 'depth': 10, 'learning_rate': 0.0027859475488955943, 'objective': 'Logloss', 'colsample_bylevel': 0.0233451656478684, 'random_strength': 2, 'boosting_type': 'Plain', 'bootstrap_type': 'Bernoulli', 'random_state': 42}. Best is trial 1 with value: 0.8349091942442325.\u001b[0m\n",
      "\u001b[32m[I 2022-09-22 00:20:28,137]\u001b[0m Trial 0 finished with value: 0.8391485184324057 and parameters: {'iterations': 6473, 'depth': 4, 'learning_rate': 0.005494135162558711, 'objective': 'Logloss', 'colsample_bylevel': 0.03709210503441084, 'random_strength': 1, 'boosting_type': 'Plain', 'bootstrap_type': 'Bernoulli', 'random_state': 42}. Best is trial 0 with value: 0.8391485184324057.\u001b[0m\n",
      "\u001b[32m[I 2022-09-22 00:20:41,412]\u001b[0m Trial 3 finished with value: 0.8236857061665246 and parameters: {'iterations': 6686, 'depth': 6, 'learning_rate': 0.013561239265647264, 'objective': 'Logloss', 'colsample_bylevel': 0.09049206453286315, 'random_strength': 58, 'boosting_type': 'Plain', 'bootstrap_type': 'Bayesian', 'random_state': 42}. Best is trial 0 with value: 0.8391485184324057.\u001b[0m\n",
      "\u001b[32m[I 2022-09-22 00:20:47,044]\u001b[0m Trial 2 finished with value: 0.7982600945516547 and parameters: {'iterations': 6865, 'depth': 7, 'learning_rate': 0.05948975485145311, 'objective': 'Logloss', 'colsample_bylevel': 0.09955907076268118, 'random_strength': 14, 'boosting_type': 'Plain', 'bootstrap_type': 'MVS', 'random_state': 42}. Best is trial 0 with value: 0.8391485184324057.\u001b[0m\n",
      "\u001b[32m[I 2022-09-22 00:20:54,934]\u001b[0m Trial 4 finished with value: 0.8225128523082487 and parameters: {'iterations': 6331, 'depth': 9, 'learning_rate': 0.016568003428729775, 'objective': 'Logloss', 'colsample_bylevel': 0.06767921521744437, 'random_strength': 4, 'boosting_type': 'Plain', 'bootstrap_type': 'Bayesian', 'random_state': 42}. Best is trial 0 with value: 0.8391485184324057.\u001b[0m\n",
      "\u001b[32m[I 2022-09-22 00:21:07,133]\u001b[0m Trial 6 finished with value: 0.8394417318969749 and parameters: {'iterations': 6288, 'depth': 5, 'learning_rate': 0.005120347457928306, 'objective': 'Logloss', 'colsample_bylevel': 0.047309985184673935, 'random_strength': 20, 'boosting_type': 'Plain', 'bootstrap_type': 'Bayesian', 'random_state': 42}. Best is trial 6 with value: 0.8394417318969749.\u001b[0m\n",
      "\u001b[32m[I 2022-09-22 00:21:34,782]\u001b[0m Trial 5 finished with value: 0.8380234570771655 and parameters: {'iterations': 6823, 'depth': 3, 'learning_rate': 0.011535743047379782, 'objective': 'Logloss', 'colsample_bylevel': 0.0537948098092587, 'random_strength': 13, 'boosting_type': 'Ordered', 'bootstrap_type': 'MVS', 'random_state': 42}. Best is trial 6 with value: 0.8394417318969749.\u001b[0m\n",
      "\u001b[32m[I 2022-09-22 00:21:49,825]\u001b[0m Trial 8 finished with value: 0.7994613655738976 and parameters: {'iterations': 6330, 'depth': 8, 'learning_rate': 0.07614376493648146, 'objective': 'Logloss', 'colsample_bylevel': 0.07220840350410222, 'random_strength': 22, 'boosting_type': 'Plain', 'bootstrap_type': 'Bayesian', 'random_state': 42}. Best is trial 6 with value: 0.8394417318969749.\u001b[0m\n",
      "\u001b[32m[I 2022-09-22 00:21:58,448]\u001b[0m Trial 7 finished with value: 0.8380157069415382 and parameters: {'iterations': 7358, 'depth': 8, 'learning_rate': 0.0052454885148894214, 'objective': 'Logloss', 'colsample_bylevel': 0.04369604893440592, 'random_strength': 15, 'boosting_type': 'Ordered', 'bootstrap_type': 'MVS', 'random_state': 42}. Best is trial 6 with value: 0.8394417318969749.\u001b[0m\n",
      "\u001b[32m[I 2022-09-22 00:22:32,534]\u001b[0m Trial 9 finished with value: 0.8386938438089335 and parameters: {'iterations': 7699, 'depth': 5, 'learning_rate': 0.02980477826328549, 'objective': 'Logloss', 'colsample_bylevel': 0.02150693575420758, 'random_strength': 51, 'boosting_type': 'Ordered', 'bootstrap_type': 'Bernoulli', 'random_state': 42}. Best is trial 6 with value: 0.8394417318969749.\u001b[0m\n",
      "\u001b[32m[I 2022-09-22 00:22:39,826]\u001b[0m Trial 10 finished with value: 0.8360368389780154 and parameters: {'iterations': 6303, 'depth': 5, 'learning_rate': 0.003218435127804981, 'objective': 'Logloss', 'colsample_bylevel': 0.03205262915387236, 'random_strength': 96, 'boosting_type': 'Ordered', 'bootstrap_type': 'MVS', 'random_state': 42}. Best is trial 6 with value: 0.8394417318969749.\u001b[0m\n",
      "\u001b[32m[I 2022-09-22 00:22:47,485]\u001b[0m Trial 12 finished with value: 0.819569092459118 and parameters: {'iterations': 6022, 'depth': 3, 'learning_rate': 0.0010905384260137313, 'objective': 'Logloss', 'colsample_bylevel': 0.010212158836507175, 'random_strength': 35, 'boosting_type': 'Plain', 'bootstrap_type': 'Bernoulli', 'random_state': 42}. Best is trial 6 with value: 0.8394417318969749.\u001b[0m\n",
      "\u001b[32m[I 2022-09-22 00:22:56,680]\u001b[0m Trial 13 finished with value: 0.8395218166317912 and parameters: {'iterations': 6009, 'depth': 4, 'learning_rate': 0.005504242238103055, 'objective': 'Logloss', 'colsample_bylevel': 0.040659150791414536, 'random_strength': 33, 'boosting_type': 'Plain', 'bootstrap_type': 'Bayesian', 'random_state': 42}. Best is trial 13 with value: 0.8395218166317912.\u001b[0m\n",
      "\u001b[32m[I 2022-09-22 00:23:08,573]\u001b[0m Trial 14 finished with value: 0.8336368803120723 and parameters: {'iterations': 6017, 'depth': 12, 'learning_rate': 0.001436228737795219, 'objective': 'Logloss', 'colsample_bylevel': 0.05217017524828796, 'random_strength': 35, 'boosting_type': 'Plain', 'bootstrap_type': 'Bayesian', 'random_state': 42}. Best is trial 13 with value: 0.8395218166317912.\u001b[0m\n",
      "\u001b[32m[I 2022-09-22 00:23:10,727]\u001b[0m Trial 11 finished with value: 0.8220142602495544 and parameters: {'iterations': 6037, 'depth': 3, 'learning_rate': 0.0013244298041353302, 'objective': 'Logloss', 'colsample_bylevel': 0.011054930180218317, 'random_strength': 98, 'boosting_type': 'Ordered', 'bootstrap_type': 'Bayesian', 'random_state': 42}. Best is trial 13 with value: 0.8395218166317912.\u001b[0m\n",
      "\u001b[32m[I 2022-09-22 00:23:21,687]\u001b[0m Trial 15 finished with value: 0.836982355524555 and parameters: {'iterations': 7202, 'depth': 5, 'learning_rate': 0.006185386848036297, 'objective': 'Logloss', 'colsample_bylevel': 0.06994218215455404, 'random_strength': 69, 'boosting_type': 'Plain', 'bootstrap_type': 'Bayesian', 'random_state': 42}. Best is trial 13 with value: 0.8395218166317912.\u001b[0m\n",
      "\u001b[32m[I 2022-09-22 00:23:23,465]\u001b[0m Trial 16 finished with value: 0.8370650236379138 and parameters: {'iterations': 7137, 'depth': 5, 'learning_rate': 0.0061082421962986065, 'objective': 'Logloss', 'colsample_bylevel': 0.06885025812972505, 'random_strength': 68, 'boosting_type': 'Plain', 'bootstrap_type': 'Bayesian', 'random_state': 42}. Best is trial 13 with value: 0.8395218166317912.\u001b[0m\n",
      "\u001b[32m[I 2022-09-22 00:23:32,853]\u001b[0m Trial 17 finished with value: 0.8385556330569118 and parameters: {'iterations': 7068, 'depth': 6, 'learning_rate': 0.003083136861147097, 'objective': 'Logloss', 'colsample_bylevel': 0.045649064308671675, 'random_strength': 32, 'boosting_type': 'Plain', 'bootstrap_type': 'Bayesian', 'random_state': 42}. Best is trial 13 with value: 0.8395218166317912.\u001b[0m\n",
      "\u001b[32m[I 2022-09-22 00:23:36,889]\u001b[0m Trial 18 finished with value: 0.8281484925986207 and parameters: {'iterations': 7987, 'depth': 6, 'learning_rate': 0.02574392006451228, 'objective': 'Logloss', 'colsample_bylevel': 0.04630454593148532, 'random_strength': 34, 'boosting_type': 'Plain', 'bootstrap_type': 'Bayesian', 'random_state': 42}. Best is trial 13 with value: 0.8395218166317912.\u001b[0m\n",
      "\u001b[32m[I 2022-09-22 00:23:42,920]\u001b[0m Trial 19 finished with value: 0.8388359296287685 and parameters: {'iterations': 6226, 'depth': 4, 'learning_rate': 0.02573637267904715, 'objective': 'Logloss', 'colsample_bylevel': 0.029837223410431237, 'random_strength': 43, 'boosting_type': 'Plain', 'bootstrap_type': 'Bayesian', 'random_state': 42}. Best is trial 13 with value: 0.8395218166317912.\u001b[0m\n",
      "\u001b[32m[I 2022-09-22 00:23:47,584]\u001b[0m Trial 20 finished with value: 0.8370495233666589 and parameters: {'iterations': 6224, 'depth': 4, 'learning_rate': 0.0023114126654908925, 'objective': 'Logloss', 'colsample_bylevel': 0.061314528856103626, 'random_strength': 44, 'boosting_type': 'Plain', 'bootstrap_type': 'Bayesian', 'random_state': 42}. Best is trial 13 with value: 0.8395218166317912.\u001b[0m\n",
      "\u001b[32m[I 2022-09-22 00:23:54,605]\u001b[0m Trial 21 finished with value: 0.839098142550828 and parameters: {'iterations': 6545, 'depth': 4, 'learning_rate': 0.002164101071632135, 'objective': 'Logloss', 'colsample_bylevel': 0.07771994805796156, 'random_strength': 23, 'boosting_type': 'Plain', 'bootstrap_type': 'Bayesian', 'random_state': 42}. Best is trial 13 with value: 0.8395218166317912.\u001b[0m\n",
      "\u001b[32m[I 2022-09-22 00:23:56,281]\u001b[0m Trial 22 finished with value: 0.8394623989253145 and parameters: {'iterations': 6548, 'depth': 4, 'learning_rate': 0.008407354180660062, 'objective': 'Logloss', 'colsample_bylevel': 0.037592394538275904, 'random_strength': 25, 'boosting_type': 'Plain', 'bootstrap_type': 'Bernoulli', 'random_state': 42}. Best is trial 13 with value: 0.8395218166317912.\u001b[0m\n",
      "\u001b[32m[I 2022-09-22 00:24:03,061]\u001b[0m Trial 23 finished with value: 0.8395437753494018 and parameters: {'iterations': 6516, 'depth': 4, 'learning_rate': 0.008358226504293647, 'objective': 'Logloss', 'colsample_bylevel': 0.0366634746594991, 'random_strength': 2, 'boosting_type': 'Plain', 'bootstrap_type': 'Bernoulli', 'random_state': 42}. Best is trial 23 with value: 0.8395437753494018.\u001b[0m\n",
      "\u001b[32m[I 2022-09-22 00:24:05,283]\u001b[0m Trial 24 finished with value: 0.8390348497765378 and parameters: {'iterations': 6442, 'depth': 7, 'learning_rate': 0.007605707646869372, 'objective': 'Logloss', 'colsample_bylevel': 0.0399852874635689, 'random_strength': 24, 'boosting_type': 'Plain', 'bootstrap_type': 'Bernoulli', 'random_state': 42}. Best is trial 23 with value: 0.8395437753494018.\u001b[0m\n",
      "\u001b[32m[I 2022-09-22 00:24:12,617]\u001b[0m Trial 25 finished with value: 0.8401818698493891 and parameters: {'iterations': 6803, 'depth': 3, 'learning_rate': 0.008660908242279771, 'objective': 'Logloss', 'colsample_bylevel': 0.03712356035114265, 'random_strength': 27, 'boosting_type': 'Plain', 'bootstrap_type': 'Bernoulli', 'random_state': 42}. Best is trial 25 with value: 0.8401818698493891.\u001b[0m\n",
      "\u001b[32m[I 2022-09-22 00:24:14,410]\u001b[0m Trial 26 finished with value: 0.8392776873595288 and parameters: {'iterations': 6785, 'depth': 3, 'learning_rate': 0.008993270842519337, 'objective': 'Logloss', 'colsample_bylevel': 0.025941749007082758, 'random_strength': 11, 'boosting_type': 'Plain', 'bootstrap_type': 'Bernoulli', 'random_state': 42}. Best is trial 25 with value: 0.8401818698493891.\u001b[0m\n",
      "\u001b[32m[I 2022-09-22 00:24:50,915]\u001b[0m Trial 27 finished with value: 0.8396341935983879 and parameters: {'iterations': 6834, 'depth': 3, 'learning_rate': 0.01775359809110814, 'objective': 'Logloss', 'colsample_bylevel': 0.022540131617255866, 'random_strength': 11, 'boosting_type': 'Ordered', 'bootstrap_type': 'Bernoulli', 'random_state': 42}. Best is trial 25 with value: 0.8401818698493891.\u001b[0m\n",
      "\u001b[32m[I 2022-09-22 00:24:56,475]\u001b[0m Trial 28 finished with value: 0.8392751039809863 and parameters: {'iterations': 6955, 'depth': 3, 'learning_rate': 0.014859987267522426, 'objective': 'Logloss', 'colsample_bylevel': 0.0317977411209278, 'random_strength': 53, 'boosting_type': 'Ordered', 'bootstrap_type': 'Bernoulli', 'random_state': 42}. Best is trial 25 with value: 0.8401818698493891.\u001b[0m\n",
      "\u001b[32m[I 2022-09-22 00:25:28,479]\u001b[0m Trial 29 finished with value: 0.839295771009326 and parameters: {'iterations': 6885, 'depth': 3, 'learning_rate': 0.017281081609774394, 'objective': 'Logloss', 'colsample_bylevel': 0.01822671264434566, 'random_strength': 8, 'boosting_type': 'Ordered', 'bootstrap_type': 'Bernoulli', 'random_state': 42}. Best is trial 25 with value: 0.8401818698493891.\u001b[0m\n",
      "\u001b[32m[I 2022-09-22 00:25:38,100]\u001b[0m Trial 30 finished with value: 0.8388540132785658 and parameters: {'iterations': 7381, 'depth': 12, 'learning_rate': 0.021984703809892234, 'objective': 'Logloss', 'colsample_bylevel': 0.020531227907420978, 'random_strength': 5, 'boosting_type': 'Ordered', 'bootstrap_type': 'Bernoulli', 'random_state': 42}. Best is trial 25 with value: 0.8401818698493891.\u001b[0m\n",
      "\u001b[32m[I 2022-09-22 00:26:08,502]\u001b[0m Trial 31 finished with value: 0.8384845901469942 and parameters: {'iterations': 7355, 'depth': 11, 'learning_rate': 0.036504283233023606, 'objective': 'Logloss', 'colsample_bylevel': 0.017551328741150323, 'random_strength': 2, 'boosting_type': 'Ordered', 'bootstrap_type': 'Bernoulli', 'random_state': 42}. Best is trial 25 with value: 0.8401818698493891.\u001b[0m\n",
      "\u001b[32m[I 2022-09-22 00:26:18,800]\u001b[0m Trial 32 finished with value: 0.8356816244284274 and parameters: {'iterations': 6715, 'depth': 4, 'learning_rate': 0.04183008828867754, 'objective': 'Logloss', 'colsample_bylevel': 0.03535183233384455, 'random_strength': 0, 'boosting_type': 'Ordered', 'bootstrap_type': 'Bernoulli', 'random_state': 42}. Best is trial 25 with value: 0.8401818698493891.\u001b[0m\n",
      "\u001b[32m[I 2022-09-22 00:26:27,928]\u001b[0m Trial 34 finished with value: 0.8366645999638326 and parameters: {'iterations': 6656, 'depth': 4, 'learning_rate': 0.004395632887239036, 'objective': 'Logloss', 'colsample_bylevel': 0.027040101485072795, 'random_strength': 17, 'boosting_type': 'Plain', 'bootstrap_type': 'Bernoulli', 'random_state': 42}. Best is trial 25 with value: 0.8401818698493891.\u001b[0m\n",
      "\u001b[32m[I 2022-09-22 00:26:37,330]\u001b[0m Trial 35 finished with value: 0.8397426954971712 and parameters: {'iterations': 6472, 'depth': 3, 'learning_rate': 0.011072383145051974, 'objective': 'Logloss', 'colsample_bylevel': 0.040871623907429655, 'random_strength': 29, 'boosting_type': 'Plain', 'bootstrap_type': 'Bernoulli', 'random_state': 42}. Best is trial 25 with value: 0.8401818698493891.\u001b[0m\n",
      "\u001b[32m[I 2022-09-22 00:26:47,480]\u001b[0m Trial 36 finished with value: 0.8386667183342374 and parameters: {'iterations': 6442, 'depth': 3, 'learning_rate': 0.01229145594250622, 'objective': 'Logloss', 'colsample_bylevel': 0.05923676093189496, 'random_strength': 27, 'boosting_type': 'Plain', 'bootstrap_type': 'Bernoulli', 'random_state': 42}. Best is trial 25 with value: 0.8401818698493891.\u001b[0m\n",
      "\u001b[32m[I 2022-09-22 00:26:54,696]\u001b[0m Trial 33 finished with value: 0.83775478570875 and parameters: {'iterations': 6665, 'depth': 4, 'learning_rate': 0.004058677497435278, 'objective': 'Logloss', 'colsample_bylevel': 0.03489984201272142, 'random_strength': 0, 'boosting_type': 'Ordered', 'bootstrap_type': 'Bernoulli', 'random_state': 42}. Best is trial 25 with value: 0.8401818698493891.\u001b[0m\n",
      "\u001b[32m[I 2022-09-22 00:26:57,065]\u001b[0m Trial 37 finished with value: 0.8396974863726782 and parameters: {'iterations': 6970, 'depth': 3, 'learning_rate': 0.018841666858258443, 'objective': 'Logloss', 'colsample_bylevel': 0.03519121493923305, 'random_strength': 8, 'boosting_type': 'Plain', 'bootstrap_type': 'Bernoulli', 'random_state': 42}. Best is trial 25 with value: 0.8401818698493891.\u001b[0m\n",
      "\u001b[32m[I 2022-09-22 00:27:04,382]\u001b[0m Trial 38 finished with value: 0.8399106151024309 and parameters: {'iterations': 6988, 'depth': 3, 'learning_rate': 0.010323767723203326, 'objective': 'Logloss', 'colsample_bylevel': 0.05147451684846065, 'random_strength': 11, 'boosting_type': 'Plain', 'bootstrap_type': 'Bernoulli', 'random_state': 42}. Best is trial 25 with value: 0.8401818698493891.\u001b[0m\n",
      "\u001b[32m[I 2022-09-22 00:27:05,370]\u001b[0m Trial 39 finished with value: 0.8389689736237051 and parameters: {'iterations': 6959, 'depth': 10, 'learning_rate': 0.018702689480874245, 'objective': 'Logloss', 'colsample_bylevel': 0.024386174896379207, 'random_strength': 10, 'boosting_type': 'Plain', 'bootstrap_type': 'Bernoulli', 'random_state': 42}. Best is trial 25 with value: 0.8401818698493891.\u001b[0m\n",
      "\u001b[32m[I 2022-09-22 00:27:16,687]\u001b[0m Trial 40 finished with value: 0.8293316799710662 and parameters: {'iterations': 6998, 'depth': 10, 'learning_rate': 0.020048218756440885, 'objective': 'Logloss', 'colsample_bylevel': 0.04884321978326242, 'random_strength': 18, 'boosting_type': 'Plain', 'bootstrap_type': 'MVS', 'random_state': 42}. Best is trial 25 with value: 0.8401818698493891.\u001b[0m\n",
      "\u001b[32m[I 2022-09-22 00:27:20,761]\u001b[0m Trial 41 finished with value: 0.8340928466248159 and parameters: {'iterations': 7282, 'depth': 7, 'learning_rate': 0.010739380564304526, 'objective': 'Logloss', 'colsample_bylevel': 0.05265594961058889, 'random_strength': 42, 'boosting_type': 'Plain', 'bootstrap_type': 'MVS', 'random_state': 42}. Best is trial 25 with value: 0.8401818698493891.\u001b[0m\n",
      "\u001b[32m[I 2022-09-22 00:27:27,777]\u001b[0m Trial 42 finished with value: 0.8389780154486037 and parameters: {'iterations': 7198, 'depth': 3, 'learning_rate': 0.010910357525852229, 'objective': 'Logloss', 'colsample_bylevel': 0.05874534752917887, 'random_strength': 14, 'boosting_type': 'Plain', 'bootstrap_type': 'Bernoulli', 'random_state': 42}. Best is trial 25 with value: 0.8401818698493891.\u001b[0m\n",
      "\u001b[32m[I 2022-09-22 00:27:30,590]\u001b[0m Trial 43 finished with value: 0.8379627476814178 and parameters: {'iterations': 6821, 'depth': 3, 'learning_rate': 0.014662003547678689, 'objective': 'Logloss', 'colsample_bylevel': 0.062263581614357855, 'random_strength': 13, 'boosting_type': 'Plain', 'bootstrap_type': 'Bernoulli', 'random_state': 42}. Best is trial 25 with value: 0.8401818698493891.\u001b[0m\n",
      "\u001b[32m[I 2022-09-22 00:27:36,785]\u001b[0m Trial 44 finished with value: 0.838905680849415 and parameters: {'iterations': 6830, 'depth': 3, 'learning_rate': 0.014309796801059111, 'objective': 'Logloss', 'colsample_bylevel': 0.04292473249809867, 'random_strength': 29, 'boosting_type': 'Plain', 'bootstrap_type': 'Bernoulli', 'random_state': 42}. Best is trial 25 with value: 0.8401818698493891.\u001b[0m\n",
      "\u001b[32m[I 2022-09-22 00:28:13,887]\u001b[0m Trial 45 finished with value: 0.8389121392957711 and parameters: {'iterations': 7068, 'depth': 3, 'learning_rate': 0.013705963428608067, 'objective': 'Logloss', 'colsample_bylevel': 0.04268102671119586, 'random_strength': 28, 'boosting_type': 'Ordered', 'bootstrap_type': 'Bernoulli', 'random_state': 42}. Best is trial 25 with value: 0.8401818698493891.\u001b[0m\n",
      "\u001b[32m[I 2022-09-22 00:28:20,395]\u001b[0m Trial 46 finished with value: 0.8351416983130538 and parameters: {'iterations': 7503, 'depth': 6, 'learning_rate': 0.0443783381566572, 'objective': 'Logloss', 'colsample_bylevel': 0.02884825029938451, 'random_strength': 6, 'boosting_type': 'Ordered', 'bootstrap_type': 'Bernoulli', 'random_state': 42}. Best is trial 25 with value: 0.8401818698493891.\u001b[0m\n",
      "\u001b[32m[I 2022-09-22 00:28:29,451]\u001b[0m Trial 48 finished with value: 0.8359800046500813 and parameters: {'iterations': 6733, 'depth': 5, 'learning_rate': 0.007032900843928212, 'objective': 'Logloss', 'colsample_bylevel': 0.015234748040446586, 'random_strength': 19, 'boosting_type': 'Plain', 'bootstrap_type': 'Bernoulli', 'random_state': 42}. Best is trial 25 with value: 0.8401818698493891.\u001b[0m\n",
      "\u001b[32m[I 2022-09-22 00:28:40,201]\u001b[0m Trial 49 finished with value: 0.8312304631997727 and parameters: {'iterations': 7126, 'depth': 3, 'learning_rate': 0.06200216588859708, 'objective': 'Logloss', 'colsample_bylevel': 0.04951752429053502, 'random_strength': 9, 'boosting_type': 'Plain', 'bootstrap_type': 'Bernoulli', 'random_state': 42}. Best is trial 25 with value: 0.8401818698493891.\u001b[0m\n",
      "\u001b[32m[I 2022-09-22 00:28:56,370]\u001b[0m Trial 50 finished with value: 0.8314203415226433 and parameters: {'iterations': 6901, 'depth': 5, 'learning_rate': 0.009748573694108979, 'objective': 'Logloss', 'colsample_bylevel': 0.08710538690982376, 'random_strength': 63, 'boosting_type': 'Plain', 'bootstrap_type': 'MVS', 'random_state': 42}. Best is trial 25 with value: 0.8401818698493891.\u001b[0m\n",
      "\u001b[32m[I 2022-09-22 00:29:08,820]\u001b[0m Trial 47 finished with value: 0.8051964659381539 and parameters: {'iterations': 6896, 'depth': 5, 'learning_rate': 0.09993169546170803, 'objective': 'Logloss', 'colsample_bylevel': 0.09539976854085244, 'random_strength': 7, 'boosting_type': 'Ordered', 'bootstrap_type': 'Bernoulli', 'random_state': 42}. Best is trial 25 with value: 0.8401818698493891.\u001b[0m\n",
      "\u001b[32m[I 2022-09-22 00:29:17,950]\u001b[0m Trial 52 finished with value: 0.8393306466196492 and parameters: {'iterations': 6632, 'depth': 3, 'learning_rate': 0.0069982444214252496, 'objective': 'Logloss', 'colsample_bylevel': 0.038619193426316874, 'random_strength': 16, 'boosting_type': 'Plain', 'bootstrap_type': 'Bernoulli', 'random_state': 42}. Best is trial 25 with value: 0.8401818698493891.\u001b[0m\n",
      "\u001b[32m[I 2022-09-22 00:29:27,799]\u001b[0m Trial 53 finished with value: 0.8391588519465758 and parameters: {'iterations': 6528, 'depth': 4, 'learning_rate': 0.00943771412298601, 'objective': 'Logloss', 'colsample_bylevel': 0.03387734001748734, 'random_strength': 88, 'boosting_type': 'Plain', 'bootstrap_type': 'Bernoulli', 'random_state': 42}. Best is trial 25 with value: 0.8401818698493891.\u001b[0m\n",
      "\u001b[32m[I 2022-09-22 00:29:37,880]\u001b[0m Trial 54 finished with value: 0.8372962360174637 and parameters: {'iterations': 6409, 'depth': 4, 'learning_rate': 0.011875987913709113, 'objective': 'Logloss', 'colsample_bylevel': 0.05644517175021907, 'random_strength': 39, 'boosting_type': 'Plain', 'bootstrap_type': 'Bernoulli', 'random_state': 42}. Best is trial 25 with value: 0.8401818698493891.\u001b[0m\n",
      "\u001b[32m[I 2022-09-22 00:29:37,963]\u001b[0m Trial 51 finished with value: 0.8386370094809992 and parameters: {'iterations': 6594, 'depth': 3, 'learning_rate': 0.0315012437685907, 'objective': 'Logloss', 'colsample_bylevel': 0.033086620886362286, 'random_strength': 39, 'boosting_type': 'Ordered', 'bootstrap_type': 'Bernoulli', 'random_state': 42}. Best is trial 25 with value: 0.8401818698493891.\u001b[0m\n",
      "\u001b[32m[I 2022-09-22 00:29:45,242]\u001b[0m Trial 55 finished with value: 0.8397530290113411 and parameters: {'iterations': 6144, 'depth': 3, 'learning_rate': 0.02338233432626997, 'objective': 'Logloss', 'colsample_bylevel': 0.030660789904749887, 'random_strength': 21, 'boosting_type': 'Plain', 'bootstrap_type': 'Bernoulli', 'random_state': 42}. Best is trial 25 with value: 0.8401818698493891.\u001b[0m\n",
      "\u001b[32m[I 2022-09-22 00:29:46,937]\u001b[0m Trial 56 finished with value: 0.8355292050944224 and parameters: {'iterations': 6355, 'depth': 4, 'learning_rate': 0.024626626305368316, 'objective': 'Logloss', 'colsample_bylevel': 0.044390747295589714, 'random_strength': 5, 'boosting_type': 'Plain', 'bootstrap_type': 'Bernoulli', 'random_state': 42}. Best is trial 25 with value: 0.8401818698493891.\u001b[0m\n",
      "\u001b[32m[I 2022-09-22 00:29:52,614]\u001b[0m Trial 57 finished with value: 0.8393228964840218 and parameters: {'iterations': 6170, 'depth': 9, 'learning_rate': 0.025944985886480355, 'objective': 'Logloss', 'colsample_bylevel': 0.023878651609556288, 'random_strength': 21, 'boosting_type': 'Plain', 'bootstrap_type': 'Bernoulli', 'random_state': 42}. Best is trial 25 with value: 0.8401818698493891.\u001b[0m\n",
      "\u001b[32m[I 2022-09-22 00:29:54,792]\u001b[0m Trial 58 finished with value: 0.8393500219587176 and parameters: {'iterations': 6195, 'depth': 9, 'learning_rate': 0.01682444174231725, 'objective': 'Logloss', 'colsample_bylevel': 0.021932646321475485, 'random_strength': 30, 'boosting_type': 'Plain', 'bootstrap_type': 'Bernoulli', 'random_state': 42}. Best is trial 25 with value: 0.8401818698493891.\u001b[0m\n",
      "\u001b[32m[I 2022-09-22 00:30:03,289]\u001b[0m Trial 59 finished with value: 0.8398292386783435 and parameters: {'iterations': 6115, 'depth': 3, 'learning_rate': 0.01669837420882691, 'objective': 'Logloss', 'colsample_bylevel': 0.03095878860128836, 'random_strength': 31, 'boosting_type': 'Plain', 'bootstrap_type': 'MVS', 'random_state': 42}. Best is trial 25 with value: 0.8401818698493891.\u001b[0m\n",
      "\u001b[32m[I 2022-09-22 00:30:06,146]\u001b[0m Trial 60 finished with value: 0.8389702653129764 and parameters: {'iterations': 6134, 'depth': 3, 'learning_rate': 0.021959394983598588, 'objective': 'Logloss', 'colsample_bylevel': 0.03001602701748717, 'random_strength': 21, 'boosting_type': 'Plain', 'bootstrap_type': 'MVS', 'random_state': 42}. Best is trial 25 with value: 0.8401818698493891.\u001b[0m\n",
      "\u001b[32m[I 2022-09-22 00:30:13,158]\u001b[0m Trial 61 finished with value: 0.8398757394921078 and parameters: {'iterations': 6092, 'depth': 3, 'learning_rate': 0.02163152654118203, 'objective': 'Logloss', 'colsample_bylevel': 0.028881317134571483, 'random_strength': 47, 'boosting_type': 'Plain', 'bootstrap_type': 'MVS', 'random_state': 42}. Best is trial 25 with value: 0.8401818698493891.\u001b[0m\n",
      "\u001b[32m[I 2022-09-22 00:30:17,906]\u001b[0m Trial 62 finished with value: 0.8392815624273425 and parameters: {'iterations': 6762, 'depth': 3, 'learning_rate': 0.01626270976944791, 'objective': 'Logloss', 'colsample_bylevel': 0.04081886930569691, 'random_strength': 25, 'boosting_type': 'Plain', 'bootstrap_type': 'MVS', 'random_state': 42}. Best is trial 25 with value: 0.8401818698493891.\u001b[0m\n",
      "\u001b[32m[I 2022-09-22 00:30:24,005]\u001b[0m Trial 63 finished with value: 0.8359619210002842 and parameters: {'iterations': 6268, 'depth': 3, 'learning_rate': 0.03197427256072289, 'objective': 'Logloss', 'colsample_bylevel': 0.04081058465669246, 'random_strength': 37, 'boosting_type': 'Plain', 'bootstrap_type': 'MVS', 'random_state': 42}. Best is trial 25 with value: 0.8401818698493891.\u001b[0m\n",
      "\u001b[32m[I 2022-09-22 00:30:28,747]\u001b[0m Trial 64 finished with value: 0.8376191583352709 and parameters: {'iterations': 6122, 'depth': 4, 'learning_rate': 0.03145914623038999, 'objective': 'Logloss', 'colsample_bylevel': 0.029540415095891046, 'random_strength': 47, 'boosting_type': 'Plain', 'bootstrap_type': 'MVS', 'random_state': 42}. Best is trial 25 with value: 0.8401818698493891.\u001b[0m\n",
      "\u001b[32m[I 2022-09-22 00:30:34,779]\u001b[0m Trial 65 finished with value: 0.8395760675811828 and parameters: {'iterations': 6097, 'depth': 4, 'learning_rate': 0.012429879406501882, 'objective': 'Logloss', 'colsample_bylevel': 0.027524099057190242, 'random_strength': 50, 'boosting_type': 'Plain', 'bootstrap_type': 'MVS', 'random_state': 42}. Best is trial 25 with value: 0.8401818698493891.\u001b[0m\n",
      "\u001b[32m[I 2022-09-22 00:30:39,840]\u001b[0m Trial 66 finished with value: 0.8393603554728875 and parameters: {'iterations': 6108, 'depth': 4, 'learning_rate': 0.012727569950670682, 'objective': 'Logloss', 'colsample_bylevel': 0.03816351994771441, 'random_strength': 31, 'boosting_type': 'Plain', 'bootstrap_type': 'MVS', 'random_state': 42}. Best is trial 25 with value: 0.8401818698493891.\u001b[0m\n",
      "\u001b[32m[I 2022-09-22 00:30:45,728]\u001b[0m Trial 67 finished with value: 0.8391756439071018 and parameters: {'iterations': 6057, 'depth': 3, 'learning_rate': 0.0208523235910607, 'objective': 'Logloss', 'colsample_bylevel': 0.03703941905117453, 'random_strength': 55, 'boosting_type': 'Plain', 'bootstrap_type': 'MVS', 'random_state': 42}. Best is trial 25 with value: 0.8401818698493891.\u001b[0m\n",
      "\u001b[32m[I 2022-09-22 00:30:50,781]\u001b[0m Trial 68 finished with value: 0.8365767650933891 and parameters: {'iterations': 6313, 'depth': 3, 'learning_rate': 0.02086048146653179, 'objective': 'Logloss', 'colsample_bylevel': 0.047412166255034104, 'random_strength': 57, 'boosting_type': 'Plain', 'bootstrap_type': 'MVS', 'random_state': 42}. Best is trial 25 with value: 0.8401818698493891.\u001b[0m\n",
      "\u001b[32m[I 2022-09-22 00:30:56,502]\u001b[0m Trial 69 finished with value: 0.8337699243070087 and parameters: {'iterations': 6321, 'depth': 5, 'learning_rate': 0.040980981219049466, 'objective': 'Logloss', 'colsample_bylevel': 0.03146847486875712, 'random_strength': 77, 'boosting_type': 'Plain', 'bootstrap_type': 'MVS', 'random_state': 42}. Best is trial 25 with value: 0.8401818698493891.\u001b[0m\n",
      "\u001b[32m[I 2022-09-22 00:31:02,702]\u001b[0m Trial 70 finished with value: 0.8379834147097573 and parameters: {'iterations': 6258, 'depth': 5, 'learning_rate': 0.006338711636059863, 'objective': 'Logloss', 'colsample_bylevel': 0.025816383818051788, 'random_strength': 76, 'boosting_type': 'Plain', 'bootstrap_type': 'MVS', 'random_state': 42}. Best is trial 25 with value: 0.8401818698493891.\u001b[0m\n",
      "\u001b[32m[I 2022-09-22 00:31:09,796]\u001b[0m Trial 71 finished with value: 0.8396768193443385 and parameters: {'iterations': 7040, 'depth': 3, 'learning_rate': 0.006129371726751682, 'objective': 'Logloss', 'colsample_bylevel': 0.05105143266943421, 'random_strength': 34, 'boosting_type': 'Plain', 'bootstrap_type': 'MVS', 'random_state': 42}. Best is trial 25 with value: 0.8401818698493891.\u001b[0m\n",
      "\u001b[32m[I 2022-09-22 00:31:10,887]\u001b[0m Trial 72 finished with value: 0.8392118112066962 and parameters: {'iterations': 7070, 'depth': 3, 'learning_rate': 0.015876435117447373, 'objective': 'Logloss', 'colsample_bylevel': 0.014618427526884019, 'random_strength': 15, 'boosting_type': 'Plain', 'bootstrap_type': 'Bernoulli', 'random_state': 42}. Best is trial 25 with value: 0.8401818698493891.\u001b[0m\n",
      "\u001b[32m[I 2022-09-22 00:31:22,176]\u001b[0m Trial 73 finished with value: 0.8392466868170192 and parameters: {'iterations': 7044, 'depth': 3, 'learning_rate': 0.004235309393529437, 'objective': 'Logloss', 'colsample_bylevel': 0.05014025131117984, 'random_strength': 35, 'boosting_type': 'Plain', 'bootstrap_type': 'MVS', 'random_state': 42}. Best is trial 25 with value: 0.8401818698493891.\u001b[0m\n",
      "\u001b[32m[I 2022-09-22 00:31:23,770]\u001b[0m Trial 74 finished with value: 0.8397181534010177 and parameters: {'iterations': 6385, 'depth': 3, 'learning_rate': 0.00461297897470075, 'objective': 'Logloss', 'colsample_bylevel': 0.06506222717186158, 'random_strength': 34, 'boosting_type': 'Plain', 'bootstrap_type': 'MVS', 'random_state': 42}. Best is trial 25 with value: 0.8401818698493891.\u001b[0m\n",
      "\u001b[32m[I 2022-09-22 00:31:34,552]\u001b[0m Trial 75 finished with value: 0.839836988813971 and parameters: {'iterations': 6004, 'depth': 3, 'learning_rate': 0.00977082222998555, 'objective': 'Logloss', 'colsample_bylevel': 0.0547884422278255, 'random_strength': 25, 'boosting_type': 'Plain', 'bootstrap_type': 'MVS', 'random_state': 42}. Best is trial 25 with value: 0.8401818698493891.\u001b[0m\n",
      "\u001b[32m[I 2022-09-22 00:31:38,321]\u001b[0m Trial 76 finished with value: 0.8361440491875274 and parameters: {'iterations': 6385, 'depth': 4, 'learning_rate': 0.008292225910394121, 'objective': 'Logloss', 'colsample_bylevel': 0.07769808333359227, 'random_strength': 23, 'boosting_type': 'Plain', 'bootstrap_type': 'MVS', 'random_state': 42}. Best is trial 25 with value: 0.8401818698493891.\u001b[0m\n",
      "\u001b[32m[I 2022-09-22 00:31:46,819]\u001b[0m Trial 77 finished with value: 0.8369926890387249 and parameters: {'iterations': 6004, 'depth': 4, 'learning_rate': 0.008060388655207916, 'objective': 'Logloss', 'colsample_bylevel': 0.07465815955619139, 'random_strength': 27, 'boosting_type': 'Plain', 'bootstrap_type': 'MVS', 'random_state': 42}. Best is trial 25 with value: 0.8401818698493891.\u001b[0m\n",
      "\u001b[32m[I 2022-09-22 00:31:50,552]\u001b[0m Trial 78 finished with value: 0.8393422718230903 and parameters: {'iterations': 6021, 'depth': 4, 'learning_rate': 0.00467718742032275, 'objective': 'Logloss', 'colsample_bylevel': 0.06254483964701177, 'random_strength': 46, 'boosting_type': 'Plain', 'bootstrap_type': 'MVS', 'random_state': 42}. Best is trial 25 with value: 0.8401818698493891.\u001b[0m\n",
      "\u001b[32m[I 2022-09-22 00:31:58,972]\u001b[0m Trial 79 finished with value: 0.8393254798625643 and parameters: {'iterations': 6203, 'depth': 3, 'learning_rate': 0.0033848155608901206, 'objective': 'Logloss', 'colsample_bylevel': 0.06296369666158742, 'random_strength': 41, 'boosting_type': 'Plain', 'bootstrap_type': 'MVS', 'random_state': 42}. Best is trial 25 with value: 0.8401818698493891.\u001b[0m\n",
      "\u001b[32m[I 2022-09-22 00:32:02,753]\u001b[0m Trial 80 finished with value: 0.8392143945852385 and parameters: {'iterations': 6174, 'depth': 3, 'learning_rate': 0.0035737238094241458, 'objective': 'Logloss', 'colsample_bylevel': 0.06400694698519994, 'random_strength': 41, 'boosting_type': 'Plain', 'bootstrap_type': 'MVS', 'random_state': 42}. Best is trial 25 with value: 0.8401818698493891.\u001b[0m\n",
      "\u001b[32m[I 2022-09-22 00:32:11,605]\u001b[0m Trial 81 finished with value: 0.8401392441034383 and parameters: {'iterations': 6065, 'depth': 3, 'learning_rate': 0.0053761379618592646, 'objective': 'Logloss', 'colsample_bylevel': 0.06524685692668722, 'random_strength': 31, 'boosting_type': 'Plain', 'bootstrap_type': 'MVS', 'random_state': 42}. Best is trial 25 with value: 0.8401818698493891.\u001b[0m\n",
      "\u001b[32m[I 2022-09-22 00:32:13,006]\u001b[0m Trial 82 finished with value: 0.8391963109354413 and parameters: {'iterations': 6060, 'depth': 3, 'learning_rate': 0.01036057134572115, 'objective': 'Logloss', 'colsample_bylevel': 0.056004392328690616, 'random_strength': 26, 'boosting_type': 'Plain', 'bootstrap_type': 'Bayesian', 'random_state': 42}. Best is trial 25 with value: 0.8401818698493891.\u001b[0m\n",
      "\u001b[32m[I 2022-09-22 00:32:23,010]\u001b[0m Trial 83 finished with value: 0.837508073057945 and parameters: {'iterations': 6070, 'depth': 3, 'learning_rate': 0.0026611356334522466, 'objective': 'Logloss', 'colsample_bylevel': 0.05489162211648353, 'random_strength': 32, 'boosting_type': 'Plain', 'bootstrap_type': 'MVS', 'random_state': 42}. Best is trial 25 with value: 0.8401818698493891.\u001b[0m\n",
      "\u001b[32m[I 2022-09-22 00:32:24,876]\u001b[0m Trial 84 finished with value: 0.8397594874576971 and parameters: {'iterations': 6252, 'depth': 3, 'learning_rate': 0.005385451221154484, 'objective': 'Logloss', 'colsample_bylevel': 0.06855021065864077, 'random_strength': 32, 'boosting_type': 'Plain', 'bootstrap_type': 'MVS', 'random_state': 42}. Best is trial 25 with value: 0.8401818698493891.\u001b[0m\n",
      "\u001b[32m[I 2022-09-22 00:32:37,071]\u001b[0m Trial 85 finished with value: 0.8390529334263348 and parameters: {'iterations': 6465, 'depth': 4, 'learning_rate': 0.005544290832928614, 'objective': 'Logloss', 'colsample_bylevel': 0.06732178861780397, 'random_strength': 29, 'boosting_type': 'Plain', 'bootstrap_type': 'MVS', 'random_state': 42}. Best is trial 25 with value: 0.8401818698493891.\u001b[0m\n",
      "\u001b[32m[I 2022-09-22 00:32:38,823]\u001b[0m Trial 86 finished with value: 0.8390245162623678 and parameters: {'iterations': 6262, 'depth': 4, 'learning_rate': 0.005478879595538514, 'objective': 'Logloss', 'colsample_bylevel': 0.06815841064878243, 'random_strength': 24, 'boosting_type': 'Plain', 'bootstrap_type': 'MVS', 'random_state': 42}. Best is trial 25 with value: 0.8401818698493891.\u001b[0m\n",
      "\u001b[32m[I 2022-09-22 00:32:49,646]\u001b[0m Trial 87 finished with value: 0.8380789997158283 and parameters: {'iterations': 6152, 'depth': 4, 'learning_rate': 0.007143971478530556, 'objective': 'Logloss', 'colsample_bylevel': 0.07033631024599397, 'random_strength': 19, 'boosting_type': 'Plain', 'bootstrap_type': 'MVS', 'random_state': 42}. Best is trial 25 with value: 0.8401818698493891.\u001b[0m\n",
      "\u001b[32m[I 2022-09-22 00:32:50,855]\u001b[0m Trial 88 finished with value: 0.8392996460771396 and parameters: {'iterations': 6155, 'depth': 3, 'learning_rate': 0.007163756475553357, 'objective': 'Logloss', 'colsample_bylevel': 0.07241237625233696, 'random_strength': 37, 'boosting_type': 'Plain', 'bootstrap_type': 'MVS', 'random_state': 42}. Best is trial 25 with value: 0.8401818698493891.\u001b[0m\n",
      "\u001b[32m[I 2022-09-22 00:33:00,758]\u001b[0m Trial 90 finished with value: 0.8397375287400863 and parameters: {'iterations': 6242, 'depth': 3, 'learning_rate': 0.011321034431477786, 'objective': 'Logloss', 'colsample_bylevel': 0.04738873233437853, 'random_strength': 12, 'boosting_type': 'Plain', 'bootstrap_type': 'Bayesian', 'random_state': 42}. Best is trial 25 with value: 0.8401818698493891.\u001b[0m\n",
      "\u001b[32m[I 2022-09-22 00:33:01,053]\u001b[0m Trial 89 finished with value: 0.8400191170012141 and parameters: {'iterations': 6110, 'depth': 3, 'learning_rate': 0.008843874286468057, 'objective': 'Logloss', 'colsample_bylevel': 0.045534165297508936, 'random_strength': 21, 'boosting_type': 'Plain', 'bootstrap_type': 'MVS', 'random_state': 42}. Best is trial 25 with value: 0.8401818698493891.\u001b[0m\n",
      "\u001b[32m[I 2022-09-22 00:33:13,577]\u001b[0m Trial 92 finished with value: 0.839176935596373 and parameters: {'iterations': 6079, 'depth': 3, 'learning_rate': 0.009072736085540207, 'objective': 'Logloss', 'colsample_bylevel': 0.0532460990846208, 'random_strength': 22, 'boosting_type': 'Plain', 'bootstrap_type': 'MVS', 'random_state': 42}. Best is trial 25 with value: 0.8401818698493891.\u001b[0m\n",
      "\u001b[32m[I 2022-09-22 00:33:13,783]\u001b[0m Trial 91 finished with value: 0.8390736004546746 and parameters: {'iterations': 6086, 'depth': 3, 'learning_rate': 0.009829741722528915, 'objective': 'Logloss', 'colsample_bylevel': 0.05934827109625231, 'random_strength': 22, 'boosting_type': 'Plain', 'bootstrap_type': 'MVS', 'random_state': 42}. Best is trial 25 with value: 0.8401818698493891.\u001b[0m\n",
      "\u001b[32m[I 2022-09-22 00:33:23,887]\u001b[0m Trial 94 finished with value: 0.8399299904414994 and parameters: {'iterations': 6003, 'depth': 3, 'learning_rate': 0.007702549104783033, 'objective': 'Logloss', 'colsample_bylevel': 0.04511516777323882, 'random_strength': 30, 'boosting_type': 'Plain', 'bootstrap_type': 'MVS', 'random_state': 42}. Best is trial 25 with value: 0.8401818698493891.\u001b[0m\n",
      "\u001b[32m[I 2022-09-22 00:33:24,655]\u001b[0m Trial 93 finished with value: 0.8396432354232864 and parameters: {'iterations': 6214, 'depth': 3, 'learning_rate': 0.009861028881881456, 'objective': 'Logloss', 'colsample_bylevel': 0.04476818296694527, 'random_strength': 28, 'boosting_type': 'Plain', 'bootstrap_type': 'MVS', 'random_state': 42}. Best is trial 25 with value: 0.8401818698493891.\u001b[0m\n",
      "\u001b[32m[I 2022-09-22 00:33:36,586]\u001b[0m Trial 96 finished with value: 0.8391678937714743 and parameters: {'iterations': 6012, 'depth': 3, 'learning_rate': 0.006310671735083281, 'objective': 'Logloss', 'colsample_bylevel': 0.08206659397471856, 'random_strength': 32, 'boosting_type': 'Plain', 'bootstrap_type': 'MVS', 'random_state': 42}. Best is trial 25 with value: 0.8401818698493891.\u001b[0m\n",
      "\u001b[32m[I 2022-09-22 00:33:38,269]\u001b[0m Trial 95 finished with value: 0.8395515254850293 and parameters: {'iterations': 7846, 'depth': 3, 'learning_rate': 0.005111137106016303, 'objective': 'Logloss', 'colsample_bylevel': 0.045101562798373566, 'random_strength': 32, 'boosting_type': 'Plain', 'bootstrap_type': 'MVS', 'random_state': 42}. Best is trial 25 with value: 0.8401818698493891.\u001b[0m\n",
      "\u001b[32m[I 2022-09-22 00:33:50,158]\u001b[0m Trial 98 finished with value: 0.8372781523676665 and parameters: {'iterations': 6129, 'depth': 4, 'learning_rate': 0.024300650524762327, 'objective': 'Logloss', 'colsample_bylevel': 0.0355187711795783, 'random_strength': 17, 'boosting_type': 'Plain', 'bootstrap_type': 'MVS', 'random_state': 42}. Best is trial 25 with value: 0.8401818698493891.\u001b[0m\n",
      "\u001b[32m[I 2022-09-22 00:33:53,868]\u001b[0m Trial 97 finished with value: 0.8203518561574827 and parameters: {'iterations': 7665, 'depth': 8, 'learning_rate': 0.02768451200970082, 'objective': 'Logloss', 'colsample_bylevel': 0.05780675790104382, 'random_strength': 17, 'boosting_type': 'Plain', 'bootstrap_type': 'MVS', 'random_state': 42}. Best is trial 25 with value: 0.8401818698493891.\u001b[0m\n",
      "\u001b[32m[I 2022-09-22 00:34:01,593]\u001b[0m Trial 99 finished with value: 0.839567025756284 and parameters: {'iterations': 6028, 'depth': 3, 'learning_rate': 0.0075980054039854784, 'objective': 'Logloss', 'colsample_bylevel': 0.057430894541316065, 'random_strength': 37, 'boosting_type': 'Plain', 'bootstrap_type': 'MVS', 'random_state': 42}. Best is trial 25 with value: 0.8401818698493891.\u001b[0m\n",
      "\u001b[32m[I 2022-09-22 00:34:04,425]\u001b[0m Trial 100 finished with value: 0.8392441034384768 and parameters: {'iterations': 6039, 'depth': 3, 'learning_rate': 0.008930146456822372, 'objective': 'Logloss', 'colsample_bylevel': 0.03320817695961449, 'random_strength': 37, 'boosting_type': 'Plain', 'bootstrap_type': 'MVS', 'random_state': 42}. Best is trial 25 with value: 0.8401818698493891.\u001b[0m\n",
      "\u001b[32m[I 2022-09-22 00:34:13,715]\u001b[0m Trial 102 finished with value: 0.8391769355963729 and parameters: {'iterations': 6105, 'depth': 3, 'learning_rate': 0.014539656873572063, 'objective': 'Logloss', 'colsample_bylevel': 0.04306941184348826, 'random_strength': 26, 'boosting_type': 'Plain', 'bootstrap_type': 'Bernoulli', 'random_state': 42}. Best is trial 25 with value: 0.8401818698493891.\u001b[0m\n",
      "\u001b[32m[I 2022-09-22 00:34:14,022]\u001b[0m Trial 101 finished with value: 0.8392286031672221 and parameters: {'iterations': 6109, 'depth': 4, 'learning_rate': 0.0038857198842724436, 'objective': 'Logloss', 'colsample_bylevel': 0.05257136103911456, 'random_strength': 25, 'boosting_type': 'Plain', 'bootstrap_type': 'MVS', 'random_state': 42}. Best is trial 25 with value: 0.8401818698493891.\u001b[0m\n",
      "\u001b[32m[I 2022-09-22 00:34:22,303]\u001b[0m Trial 104 finished with value: 0.8399777829445348 and parameters: {'iterations': 6159, 'depth': 3, 'learning_rate': 0.013162917473204378, 'objective': 'Logloss', 'colsample_bylevel': 0.040461339183464784, 'random_strength': 29, 'boosting_type': 'Plain', 'bootstrap_type': 'Bernoulli', 'random_state': 42}. Best is trial 25 with value: 0.8401818698493891.\u001b[0m\n",
      "\u001b[32m[I 2022-09-22 00:34:22,725]\u001b[0m Trial 103 finished with value: 0.8390968508615567 and parameters: {'iterations': 6297, 'depth': 4, 'learning_rate': 0.011411179002446117, 'objective': 'Logloss', 'colsample_bylevel': 0.040714236175499505, 'random_strength': 30, 'boosting_type': 'Plain', 'bootstrap_type': 'Bernoulli', 'random_state': 42}. Best is trial 25 with value: 0.8401818698493891.\u001b[0m\n",
      "\u001b[32m[I 2022-09-22 00:34:31,275]\u001b[0m Trial 106 finished with value: 0.8393577720943448 and parameters: {'iterations': 6192, 'depth': 3, 'learning_rate': 0.018399234870037157, 'objective': 'Logloss', 'colsample_bylevel': 0.038897700282812336, 'random_strength': 20, 'boosting_type': 'Plain', 'bootstrap_type': 'Bernoulli', 'random_state': 42}. Best is trial 25 with value: 0.8401818698493891.\u001b[0m\n",
      "\u001b[32m[I 2022-09-22 00:34:31,396]\u001b[0m Trial 105 finished with value: 0.8396600273838125 and parameters: {'iterations': 6190, 'depth': 3, 'learning_rate': 0.01794709657400162, 'objective': 'Logloss', 'colsample_bylevel': 0.03935170509397055, 'random_strength': 19, 'boosting_type': 'Plain', 'bootstrap_type': 'Bernoulli', 'random_state': 42}. Best is trial 25 with value: 0.8401818698493891.\u001b[0m\n",
      "\u001b[32m[I 2022-09-22 00:34:42,470]\u001b[0m Trial 107 finished with value: 0.8397297786044589 and parameters: {'iterations': 6154, 'depth': 3, 'learning_rate': 0.012876726654873981, 'objective': 'Logloss', 'colsample_bylevel': 0.04726844713522135, 'random_strength': 45, 'boosting_type': 'Plain', 'bootstrap_type': 'MVS', 'random_state': 42}. Best is trial 25 with value: 0.8401818698493891.\u001b[0m\n",
      "\u001b[32m[I 2022-09-22 00:34:43,378]\u001b[0m Trial 108 finished with value: 0.8371283164122039 and parameters: {'iterations': 6001, 'depth': 3, 'learning_rate': 0.013477150944208493, 'objective': 'Logloss', 'colsample_bylevel': 0.060653541354928314, 'random_strength': 45, 'boosting_type': 'Plain', 'bootstrap_type': 'MVS', 'random_state': 42}. Best is trial 25 with value: 0.8401818698493891.\u001b[0m\n",
      "\u001b[32m[I 2022-09-22 00:34:52,635]\u001b[0m Trial 110 finished with value: 0.8394598155467721 and parameters: {'iterations': 6065, 'depth': 4, 'learning_rate': 0.008611088877351982, 'objective': 'Logloss', 'colsample_bylevel': 0.031308660605654556, 'random_strength': 48, 'boosting_type': 'Plain', 'bootstrap_type': 'Bayesian', 'random_state': 42}. Best is trial 25 with value: 0.8401818698493891.\u001b[0m\n",
      "\u001b[32m[I 2022-09-22 00:34:54,440]\u001b[0m Trial 109 finished with value: 0.8394972745356377 and parameters: {'iterations': 6002, 'depth': 3, 'learning_rate': 0.00673508533255732, 'objective': 'Logloss', 'colsample_bylevel': 0.049131775845311844, 'random_strength': 14, 'boosting_type': 'Plain', 'bootstrap_type': 'MVS', 'random_state': 42}. Best is trial 25 with value: 0.8401818698493891.\u001b[0m\n",
      "\u001b[32m[I 2022-09-22 00:35:01,613]\u001b[0m Trial 111 finished with value: 0.8398641142886667 and parameters: {'iterations': 6350, 'depth': 3, 'learning_rate': 0.007830460313606522, 'objective': 'Logloss', 'colsample_bylevel': 0.04898206896890039, 'random_strength': 13, 'boosting_type': 'Plain', 'bootstrap_type': 'Bernoulli', 'random_state': 42}. Best is trial 25 with value: 0.8401818698493891.\u001b[0m\n",
      "\u001b[32m[I 2022-09-22 00:35:02,905]\u001b[0m Trial 112 finished with value: 0.8388075124648015 and parameters: {'iterations': 6216, 'depth': 3, 'learning_rate': 0.01556839463149117, 'objective': 'Logloss', 'colsample_bylevel': 0.04270644367318126, 'random_strength': 28, 'boosting_type': 'Plain', 'bootstrap_type': 'Bernoulli', 'random_state': 42}. Best is trial 25 with value: 0.8401818698493891.\u001b[0m\n",
      "\u001b[32m[I 2022-09-22 00:35:10,514]\u001b[0m Trial 113 finished with value: 0.8394662739931282 and parameters: {'iterations': 6253, 'depth': 3, 'learning_rate': 0.005718483419255066, 'objective': 'Logloss', 'colsample_bylevel': 0.05090533468529487, 'random_strength': 10, 'boosting_type': 'Plain', 'bootstrap_type': 'Bernoulli', 'random_state': 42}. Best is trial 25 with value: 0.8401818698493891.\u001b[0m\n",
      "\u001b[32m[I 2022-09-22 00:35:12,176]\u001b[0m Trial 114 finished with value: 0.8394985662249088 and parameters: {'iterations': 6344, 'depth': 3, 'learning_rate': 0.007828395766704698, 'objective': 'Logloss', 'colsample_bylevel': 0.050637787948033586, 'random_strength': 24, 'boosting_type': 'Plain', 'bootstrap_type': 'Bernoulli', 'random_state': 42}. Best is trial 25 with value: 0.8401818698493891.\u001b[0m\n",
      "\u001b[32m[I 2022-09-22 00:35:19,880]\u001b[0m Trial 115 finished with value: 0.8383063370275646 and parameters: {'iterations': 6357, 'depth': 3, 'learning_rate': 0.004948595945840049, 'objective': 'Logloss', 'colsample_bylevel': 0.0364142922547805, 'random_strength': 24, 'boosting_type': 'Plain', 'bootstrap_type': 'Bernoulli', 'random_state': 42}. Best is trial 25 with value: 0.8401818698493891.\u001b[0m\n",
      "\u001b[32m[I 2022-09-22 00:35:21,051]\u001b[0m Trial 116 finished with value: 0.8367214342917668 and parameters: {'iterations': 6118, 'depth': 3, 'learning_rate': 0.004985549270247261, 'objective': 'Logloss', 'colsample_bylevel': 0.027976906604665144, 'random_strength': 30, 'boosting_type': 'Plain', 'bootstrap_type': 'Bernoulli', 'random_state': 42}. Best is trial 25 with value: 0.8401818698493891.\u001b[0m\n",
      "\u001b[32m[I 2022-09-22 00:36:03,103]\u001b[0m Trial 117 finished with value: 0.8381345423544911 and parameters: {'iterations': 6134, 'depth': 4, 'learning_rate': 0.01046941769503397, 'objective': 'Logloss', 'colsample_bylevel': 0.05506285278147731, 'random_strength': 63, 'boosting_type': 'Ordered', 'bootstrap_type': 'Bernoulli', 'random_state': 42}. Best is trial 25 with value: 0.8401818698493891.\u001b[0m\n",
      "\u001b[32m[I 2022-09-22 00:36:04,522]\u001b[0m Trial 118 finished with value: 0.8298263969619467 and parameters: {'iterations': 6153, 'depth': 11, 'learning_rate': 0.02266769184884135, 'objective': 'Logloss', 'colsample_bylevel': 0.05438004465355238, 'random_strength': 3, 'boosting_type': 'Ordered', 'bootstrap_type': 'Bernoulli', 'random_state': 42}. Best is trial 25 with value: 0.8401818698493891.\u001b[0m\n",
      "\u001b[32m[I 2022-09-22 00:36:13,938]\u001b[0m Trial 119 finished with value: 0.8393732723655997 and parameters: {'iterations': 6062, 'depth': 4, 'learning_rate': 0.007736240883652765, 'objective': 'Logloss', 'colsample_bylevel': 0.046208494769985155, 'random_strength': 3, 'boosting_type': 'Plain', 'bootstrap_type': 'MVS', 'random_state': 42}. Best is trial 25 with value: 0.8401818698493891.\u001b[0m\n",
      "\u001b[32m[I 2022-09-22 00:36:16,082]\u001b[0m Trial 120 finished with value: 0.8394766075072981 and parameters: {'iterations': 6287, 'depth': 3, 'learning_rate': 0.0078748681655017, 'objective': 'Logloss', 'colsample_bylevel': 0.0477605112598233, 'random_strength': 15, 'boosting_type': 'Plain', 'bootstrap_type': 'MVS', 'random_state': 42}. Best is trial 25 with value: 0.8401818698493891.\u001b[0m\n",
      "\u001b[32m[I 2022-09-22 00:36:24,924]\u001b[0m Trial 121 finished with value: 0.8379601643028753 and parameters: {'iterations': 6278, 'depth': 3, 'learning_rate': 0.006606983285745183, 'objective': 'Logloss', 'colsample_bylevel': 0.02557454774623352, 'random_strength': 35, 'boosting_type': 'Plain', 'bootstrap_type': 'MVS', 'random_state': 42}. Best is trial 25 with value: 0.8401818698493891.\u001b[0m\n",
      "\u001b[32m[I 2022-09-22 00:36:26,088]\u001b[0m Trial 122 finished with value: 0.839228603167222 and parameters: {'iterations': 6416, 'depth': 3, 'learning_rate': 0.011759070834959603, 'objective': 'Logloss', 'colsample_bylevel': 0.041690395694877126, 'random_strength': 34, 'boosting_type': 'Plain', 'bootstrap_type': 'Bernoulli', 'random_state': 42}. Best is trial 25 with value: 0.8401818698493891.\u001b[0m\n",
      "\u001b[32m[I 2022-09-22 00:36:34,006]\u001b[0m Trial 123 finished with value: 0.8399984499728743 and parameters: {'iterations': 6586, 'depth': 3, 'learning_rate': 0.011331113703490037, 'objective': 'Logloss', 'colsample_bylevel': 0.041132644797273896, 'random_strength': 27, 'boosting_type': 'Plain', 'bootstrap_type': 'Bernoulli', 'random_state': 42}. Best is trial 25 with value: 0.8401818698493891.\u001b[0m\n",
      "\u001b[32m[I 2022-09-22 00:36:36,142]\u001b[0m Trial 124 finished with value: 0.839871864424294 and parameters: {'iterations': 7188, 'depth': 3, 'learning_rate': 0.008907898093131406, 'objective': 'Logloss', 'colsample_bylevel': 0.033615122631996154, 'random_strength': 26, 'boosting_type': 'Plain', 'bootstrap_type': 'Bernoulli', 'random_state': 42}. Best is trial 25 with value: 0.8401818698493891.\u001b[0m\n",
      "\u001b[32m[I 2022-09-22 00:36:42,402]\u001b[0m Trial 125 finished with value: 0.8398137384070887 and parameters: {'iterations': 6584, 'depth': 3, 'learning_rate': 0.009335651701947778, 'objective': 'Logloss', 'colsample_bylevel': 0.030231556719538467, 'random_strength': 27, 'boosting_type': 'Plain', 'bootstrap_type': 'Bernoulli', 'random_state': 42}. Best is trial 25 with value: 0.8401818698493891.\u001b[0m\n",
      "\u001b[32m[I 2022-09-22 00:36:44,706]\u001b[0m Trial 126 finished with value: 0.8397995298251053 and parameters: {'iterations': 6596, 'depth': 3, 'learning_rate': 0.00884679278417494, 'objective': 'Logloss', 'colsample_bylevel': 0.03414421790957708, 'random_strength': 26, 'boosting_type': 'Plain', 'bootstrap_type': 'Bernoulli', 'random_state': 42}. Best is trial 25 with value: 0.8401818698493891.\u001b[0m\n",
      "\u001b[32m[I 2022-09-22 00:36:51,877]\u001b[0m Trial 127 finished with value: 0.8396548606267278 and parameters: {'iterations': 7150, 'depth': 3, 'learning_rate': 0.008797500590227441, 'objective': 'Logloss', 'colsample_bylevel': 0.03258368058030709, 'random_strength': 27, 'boosting_type': 'Plain', 'bootstrap_type': 'Bernoulli', 'random_state': 42}. Best is trial 25 with value: 0.8401818698493891.\u001b[0m\n",
      "\u001b[32m[I 2022-09-22 00:36:55,270]\u001b[0m Trial 128 finished with value: 0.8397401121186288 and parameters: {'iterations': 7255, 'depth': 4, 'learning_rate': 0.009605333873400537, 'objective': 'Logloss', 'colsample_bylevel': 0.03255684514459588, 'random_strength': 27, 'boosting_type': 'Plain', 'bootstrap_type': 'Bernoulli', 'random_state': 42}. Best is trial 25 with value: 0.8401818698493891.\u001b[0m\n",
      "\u001b[32m[I 2022-09-22 00:37:00,621]\u001b[0m Trial 129 finished with value: 0.8396083598129632 and parameters: {'iterations': 6706, 'depth': 4, 'learning_rate': 0.00988142607306993, 'objective': 'Logloss', 'colsample_bylevel': 0.03682117474052881, 'random_strength': 22, 'boosting_type': 'Plain', 'bootstrap_type': 'Bernoulli', 'random_state': 42}. Best is trial 25 with value: 0.8401818698493891.\u001b[0m\n",
      "\u001b[32m[I 2022-09-22 00:37:04,956]\u001b[0m Trial 130 finished with value: 0.8395566922421144 and parameters: {'iterations': 6703, 'depth': 3, 'learning_rate': 0.010972627877461146, 'objective': 'Logloss', 'colsample_bylevel': 0.044912311722926014, 'random_strength': 22, 'boosting_type': 'Plain', 'bootstrap_type': 'Bernoulli', 'random_state': 42}. Best is trial 25 with value: 0.8401818698493891.\u001b[0m\n",
      "\u001b[32m[I 2022-09-22 00:37:10,404]\u001b[0m Trial 131 finished with value: 0.8396936113048645 and parameters: {'iterations': 6923, 'depth': 3, 'learning_rate': 0.010933980764416528, 'objective': 'Logloss', 'colsample_bylevel': 0.0437877323380705, 'random_strength': 29, 'boosting_type': 'Plain', 'bootstrap_type': 'Bernoulli', 'random_state': 42}. Best is trial 25 with value: 0.8401818698493891.\u001b[0m\n",
      "\u001b[32m[I 2022-09-22 00:37:13,415]\u001b[0m Trial 132 finished with value: 0.8399945749050608 and parameters: {'iterations': 6580, 'depth': 3, 'learning_rate': 0.013586614649440852, 'objective': 'Logloss', 'colsample_bylevel': 0.03454889174764375, 'random_strength': 30, 'boosting_type': 'Plain', 'bootstrap_type': 'Bernoulli', 'random_state': 42}. Best is trial 25 with value: 0.8401818698493891.\u001b[0m\n",
      "\u001b[32m[I 2022-09-22 00:37:19,314]\u001b[0m Trial 133 finished with value: 0.8393500219587177 and parameters: {'iterations': 6508, 'depth': 3, 'learning_rate': 0.012721067484403251, 'objective': 'Logloss', 'colsample_bylevel': 0.03411094238875454, 'random_strength': 26, 'boosting_type': 'Plain', 'bootstrap_type': 'Bernoulli', 'random_state': 42}. Best is trial 25 with value: 0.8401818698493891.\u001b[0m\n",
      "\u001b[32m[I 2022-09-22 00:37:21,987]\u001b[0m Trial 134 finished with value: 0.8390606835619623 and parameters: {'iterations': 6528, 'depth': 6, 'learning_rate': 0.01357749051638468, 'objective': 'Logloss', 'colsample_bylevel': 0.028793126993182, 'random_strength': 30, 'boosting_type': 'Plain', 'bootstrap_type': 'Bernoulli', 'random_state': 42}. Best is trial 25 with value: 0.8401818698493891.\u001b[0m\n",
      "\u001b[32m[I 2022-09-22 00:37:28,404]\u001b[0m Trial 135 finished with value: 0.8395347335245033 and parameters: {'iterations': 6549, 'depth': 3, 'learning_rate': 0.013719274457443965, 'objective': 'Logloss', 'colsample_bylevel': 0.029278972528418316, 'random_strength': 31, 'boosting_type': 'Plain', 'bootstrap_type': 'Bernoulli', 'random_state': 42}. Best is trial 25 with value: 0.8401818698493891.\u001b[0m\n",
      "\u001b[32m[I 2022-09-22 00:37:32,266]\u001b[0m Trial 136 finished with value: 0.8395592756206568 and parameters: {'iterations': 6988, 'depth': 3, 'learning_rate': 0.014521153906259816, 'objective': 'Logloss', 'colsample_bylevel': 0.03790353519053298, 'random_strength': 39, 'boosting_type': 'Plain', 'bootstrap_type': 'Bernoulli', 'random_state': 42}. Best is trial 25 with value: 0.8401818698493891.\u001b[0m\n",
      "\u001b[32m[I 2022-09-22 00:37:37,555]\u001b[0m Trial 137 finished with value: 0.8395515254850293 and parameters: {'iterations': 6748, 'depth': 3, 'learning_rate': 0.015188344411929816, 'objective': 'Logloss', 'colsample_bylevel': 0.03787441646117502, 'random_strength': 12, 'boosting_type': 'Plain', 'bootstrap_type': 'Bernoulli', 'random_state': 42}. Best is trial 25 with value: 0.8401818698493891.\u001b[0m\n",
      "\u001b[32m[I 2022-09-22 00:37:41,579]\u001b[0m Trial 138 finished with value: 0.839939032266398 and parameters: {'iterations': 6771, 'depth': 3, 'learning_rate': 0.011772901729446035, 'objective': 'Logloss', 'colsample_bylevel': 0.040143682782575796, 'random_strength': 20, 'boosting_type': 'Plain', 'bootstrap_type': 'Bernoulli', 'random_state': 42}. Best is trial 25 with value: 0.8401818698493891.\u001b[0m\n",
      "\u001b[32m[I 2022-09-22 00:37:46,390]\u001b[0m Trial 139 finished with value: 0.839634193598388 and parameters: {'iterations': 7344, 'depth': 3, 'learning_rate': 0.00734010540678035, 'objective': 'Logloss', 'colsample_bylevel': 0.035066407201487765, 'random_strength': 33, 'boosting_type': 'Plain', 'bootstrap_type': 'Bernoulli', 'random_state': 42}. Best is trial 25 with value: 0.8401818698493891.\u001b[0m\n",
      "\u001b[32m[I 2022-09-22 00:37:51,885]\u001b[0m Trial 140 finished with value: 0.835345785217908 and parameters: {'iterations': 6825, 'depth': 8, 'learning_rate': 0.012063631703390414, 'objective': 'Logloss', 'colsample_bylevel': 0.042501177893177165, 'random_strength': 16, 'boosting_type': 'Plain', 'bootstrap_type': 'Bernoulli', 'random_state': 42}. Best is trial 25 with value: 0.8401818698493891.\u001b[0m\n",
      "\u001b[32m[I 2022-09-22 00:37:58,290]\u001b[0m Trial 141 finished with value: 0.8385362577178433 and parameters: {'iterations': 6796, 'depth': 4, 'learning_rate': 0.012165494209662156, 'objective': 'Logloss', 'colsample_bylevel': 0.042529757312763344, 'random_strength': 19, 'boosting_type': 'Plain', 'bootstrap_type': 'Bayesian', 'random_state': 42}. Best is trial 25 with value: 0.8401818698493891.\u001b[0m\n",
      "\u001b[32m[I 2022-09-22 00:38:01,074]\u001b[0m Trial 142 finished with value: 0.8395644423777415 and parameters: {'iterations': 6596, 'depth': 3, 'learning_rate': 0.010446132926860441, 'objective': 'Logloss', 'colsample_bylevel': 0.030927813740131985, 'random_strength': 19, 'boosting_type': 'Plain', 'bootstrap_type': 'Bernoulli', 'random_state': 42}. Best is trial 25 with value: 0.8401818698493891.\u001b[0m\n",
      "\u001b[32m[I 2022-09-22 00:38:07,603]\u001b[0m Trial 143 finished with value: 0.8397736960396807 and parameters: {'iterations': 6635, 'depth': 3, 'learning_rate': 0.010146457781197582, 'objective': 'Logloss', 'colsample_bylevel': 0.03939230443715878, 'random_strength': 24, 'boosting_type': 'Plain', 'bootstrap_type': 'Bernoulli', 'random_state': 42}. Best is trial 25 with value: 0.8401818698493891.\u001b[0m\n",
      "\u001b[32m[I 2022-09-22 00:38:09,780]\u001b[0m Trial 144 finished with value: 0.8401121186287426 and parameters: {'iterations': 6636, 'depth': 3, 'learning_rate': 0.00954216104324359, 'objective': 'Logloss', 'colsample_bylevel': 0.03979106795053979, 'random_strength': 23, 'boosting_type': 'Plain', 'bootstrap_type': 'Bernoulli', 'random_state': 42}. Best is trial 25 with value: 0.8401818698493891.\u001b[0m\n",
      "\u001b[32m[I 2022-09-22 00:38:16,811]\u001b[0m Trial 145 finished with value: 0.8386835102947634 and parameters: {'iterations': 6668, 'depth': 3, 'learning_rate': 0.016731106358166364, 'objective': 'Logloss', 'colsample_bylevel': 0.04851199094443093, 'random_strength': 29, 'boosting_type': 'Plain', 'bootstrap_type': 'Bernoulli', 'random_state': 42}. Best is trial 25 with value: 0.8401818698493891.\u001b[0m\n",
      "\u001b[32m[I 2022-09-22 00:38:19,342]\u001b[0m Trial 146 finished with value: 0.8394688573716707 and parameters: {'iterations': 6645, 'depth': 3, 'learning_rate': 0.01654682782956556, 'objective': 'Logloss', 'colsample_bylevel': 0.045636270809731705, 'random_strength': 8, 'boosting_type': 'Plain', 'bootstrap_type': 'Bernoulli', 'random_state': 42}. Best is trial 25 with value: 0.8401818698493891.\u001b[0m\n",
      "\u001b[32m[I 2022-09-22 00:38:26,460]\u001b[0m Trial 147 finished with value: 0.8396367769769304 and parameters: {'iterations': 6878, 'depth': 3, 'learning_rate': 0.008198314498868925, 'objective': 'Logloss', 'colsample_bylevel': 0.040386278677027515, 'random_strength': 22, 'boosting_type': 'Plain', 'bootstrap_type': 'Bernoulli', 'random_state': 42}. Best is trial 25 with value: 0.8401818698493891.\u001b[0m\n",
      "\u001b[32m[I 2022-09-22 00:38:30,153]\u001b[0m Trial 148 finished with value: 0.8396600273838124 and parameters: {'iterations': 6918, 'depth': 3, 'learning_rate': 0.008231314533577526, 'objective': 'Logloss', 'colsample_bylevel': 0.03993610811992447, 'random_strength': 21, 'boosting_type': 'Plain', 'bootstrap_type': 'Bernoulli', 'random_state': 42}. Best is trial 25 with value: 0.8401818698493891.\u001b[0m\n",
      "\u001b[32m[I 2022-09-22 00:38:33,933]\u001b[0m Trial 149 finished with value: 0.8397646542147821 and parameters: {'iterations': 6782, 'depth': 3, 'learning_rate': 0.009081647087921798, 'objective': 'Logloss', 'colsample_bylevel': 0.03969133716257182, 'random_strength': 24, 'boosting_type': 'Plain', 'bootstrap_type': 'Bernoulli', 'random_state': 42}. Best is trial 25 with value: 0.8401818698493891.\u001b[0m\n"
     ]
    },
    {
     "data": {
      "text/markdown": [
       "**BEST TRIAL**"
      ],
      "text/plain": [
       "<IPython.core.display.Markdown object>"
      ]
     },
     "metadata": {},
     "output_type": "display_data"
    },
    {
     "name": "stdout",
     "output_type": "stream",
     "text": [
      "Best Score:  0.8401818698493891\n"
     ]
    },
    {
     "data": {
      "text/markdown": [
       "**CatBoost Tuned Hyperparameters**"
      ],
      "text/plain": [
       "<IPython.core.display.Markdown object>"
      ]
     },
     "metadata": {},
     "output_type": "display_data"
    },
    {
     "name": "stdout",
     "output_type": "stream",
     "text": [
      "{'boosting_type': 'Plain',\n",
      " 'bootstrap_type': 'Bernoulli',\n",
      " 'colsample_bylevel': 0.03712356035114265,\n",
      " 'depth': 3,\n",
      " 'iterations': 6803,\n",
      " 'learning_rate': 0.008660908242279771,\n",
      " 'objective': 'Logloss',\n",
      " 'random_state': 42,\n",
      " 'random_strength': 27}\n",
      "CPU times: user 30min 5s, sys: 4min 11s, total: 34min 17s\n",
      "Wall time: 18min 15s\n"
     ]
    }
   ],
   "source": [
    "%%time\n",
    "n_trials = int(150)\n",
    "\n",
    "# set logging level\n",
    "# optuna.logging.set_verbosity(optuna_verbosity)\n",
    "\n",
    "study = optuna.create_study(direction = \"maximize\", sampler = optuna.samplers.TPESampler(seed=int(SEED)))\n",
    "study.optimize(objective, n_trials = n_trials, n_jobs = multiprocessing.cpu_count())\n",
    "\n",
    "printmd('**BEST TRIAL**')\n",
    "print(\"Best Score: \", study.best_value)\n",
    "printmd('**CatBoost Tuned Hyperparameters**')\n",
    "pprint.pprint(study.best_trial.params)"
   ]
  },
  {
   "cell_type": "code",
   "execution_count": 16,
   "id": "2975cd9d",
   "metadata": {
    "execution": {
     "iopub.execute_input": "2022-09-22T00:38:34.142611Z",
     "iopub.status.busy": "2022-09-22T00:38:34.141833Z",
     "iopub.status.idle": "2022-09-22T00:38:39.985396Z",
     "shell.execute_reply": "2022-09-22T00:38:39.985828Z",
     "shell.execute_reply.started": "2022-04-25T18:35:34.29975Z"
    },
    "id": "3iZIRE0qZQKP",
    "outputId": "22d24f7f-451b-4273-d687-ea2e15246f0b",
    "papermill": {
     "duration": 5.94364,
     "end_time": "2022-09-22T00:38:39.985995",
     "exception": false,
     "start_time": "2022-09-22T00:38:34.042355",
     "status": "completed"
    },
    "tags": []
   },
   "outputs": [
    {
     "name": "stdout",
     "output_type": "stream",
     "text": [
      "Best Score:  0.8401818698493891\n"
     ]
    },
    {
     "data": {
      "text/markdown": [
       "**CatBoost Tuned Hyperparameters**"
      ],
      "text/plain": [
       "<IPython.core.display.Markdown object>"
      ]
     },
     "metadata": {},
     "output_type": "display_data"
    },
    {
     "name": "stdout",
     "output_type": "stream",
     "text": [
      "{'boosting_type': 'Plain',\n",
      " 'bootstrap_type': 'Bernoulli',\n",
      " 'colsample_bylevel': 0.03712356035114265,\n",
      " 'depth': 3,\n",
      " 'iterations': 6803,\n",
      " 'learning_rate': 0.008660908242279771,\n",
      " 'objective': 'Logloss',\n",
      " 'random_state': 42,\n",
      " 'random_strength': 27}\n"
     ]
    },
    {
     "data": {
      "application/vnd.plotly.v1+json": {
       "config": {
        "plotlyServerURL": "https://plot.ly"
       },
       "data": [
        {
         "mode": "markers",
         "name": "Objective Value",
         "type": "scatter",
         "x": [
          0,
          1,
          2,
          3,
          4,
          5,
          6,
          7,
          8,
          9,
          10,
          11,
          12,
          13,
          14,
          15,
          16,
          17,
          18,
          19,
          20,
          21,
          22,
          23,
          24,
          25,
          26,
          27,
          28,
          29,
          30,
          31,
          32,
          33,
          34,
          35,
          36,
          37,
          38,
          39,
          40,
          41,
          42,
          43,
          44,
          45,
          46,
          47,
          48,
          49,
          50,
          51,
          52,
          53,
          54,
          55,
          56,
          57,
          58,
          59,
          60,
          61,
          62,
          63,
          64,
          65,
          66,
          67,
          68,
          69,
          70,
          71,
          72,
          73,
          74,
          75,
          76,
          77,
          78,
          79,
          80,
          81,
          82,
          83,
          84,
          85,
          86,
          87,
          88,
          89,
          90,
          91,
          92,
          93,
          94,
          95,
          96,
          97,
          98,
          99,
          100,
          101,
          102,
          103,
          104,
          105,
          106,
          107,
          108,
          109,
          110,
          111,
          112,
          113,
          114,
          115,
          116,
          117,
          118,
          119,
          120,
          121,
          122,
          123,
          124,
          125,
          126,
          127,
          128,
          129,
          130,
          131,
          132,
          133,
          134,
          135,
          136,
          137,
          138,
          139,
          140,
          141,
          142,
          143,
          144,
          145,
          146,
          147,
          148,
          149
         ],
         "y": [
          0.8391485184324057,
          0.8349091942442325,
          0.7982600945516547,
          0.8236857061665246,
          0.8225128523082487,
          0.8380234570771655,
          0.8394417318969749,
          0.8380157069415382,
          0.7994613655738976,
          0.8386938438089335,
          0.8360368389780154,
          0.8220142602495544,
          0.819569092459118,
          0.8395218166317912,
          0.8336368803120723,
          0.836982355524555,
          0.8370650236379138,
          0.8385556330569118,
          0.8281484925986207,
          0.8388359296287685,
          0.8370495233666589,
          0.839098142550828,
          0.8394623989253145,
          0.8395437753494018,
          0.8390348497765378,
          0.8401818698493891,
          0.8392776873595288,
          0.8396341935983879,
          0.8392751039809863,
          0.839295771009326,
          0.8388540132785658,
          0.8384845901469942,
          0.8356816244284274,
          0.83775478570875,
          0.8366645999638326,
          0.8397426954971712,
          0.8386667183342374,
          0.8396974863726782,
          0.8399106151024309,
          0.8389689736237051,
          0.8293316799710662,
          0.8340928466248159,
          0.8389780154486037,
          0.8379627476814178,
          0.838905680849415,
          0.8389121392957711,
          0.8351416983130538,
          0.8051964659381539,
          0.8359800046500813,
          0.8312304631997727,
          0.8314203415226433,
          0.8386370094809992,
          0.8393306466196492,
          0.8391588519465758,
          0.8372962360174637,
          0.8397530290113411,
          0.8355292050944224,
          0.8393228964840218,
          0.8393500219587176,
          0.8398292386783435,
          0.8389702653129764,
          0.8398757394921078,
          0.8392815624273425,
          0.8359619210002842,
          0.8376191583352709,
          0.8395760675811828,
          0.8393603554728875,
          0.8391756439071018,
          0.8365767650933891,
          0.8337699243070087,
          0.8379834147097573,
          0.8396768193443385,
          0.8392118112066962,
          0.8392466868170192,
          0.8397181534010177,
          0.839836988813971,
          0.8361440491875274,
          0.8369926890387249,
          0.8393422718230903,
          0.8393254798625643,
          0.8392143945852385,
          0.8401392441034383,
          0.8391963109354413,
          0.837508073057945,
          0.8397594874576971,
          0.8390529334263348,
          0.8390245162623678,
          0.8380789997158283,
          0.8392996460771396,
          0.8400191170012141,
          0.8397375287400863,
          0.8390736004546746,
          0.839176935596373,
          0.8396432354232864,
          0.8399299904414994,
          0.8395515254850293,
          0.8391678937714743,
          0.8203518561574827,
          0.8372781523676665,
          0.839567025756284,
          0.8392441034384768,
          0.8392286031672221,
          0.8391769355963729,
          0.8390968508615567,
          0.8399777829445348,
          0.8396600273838125,
          0.8393577720943448,
          0.8397297786044589,
          0.8371283164122039,
          0.8394972745356377,
          0.8394598155467721,
          0.8398641142886667,
          0.8388075124648015,
          0.8394662739931282,
          0.8394985662249088,
          0.8383063370275646,
          0.8367214342917668,
          0.8381345423544911,
          0.8298263969619467,
          0.8393732723655997,
          0.8394766075072981,
          0.8379601643028753,
          0.839228603167222,
          0.8399984499728743,
          0.839871864424294,
          0.8398137384070887,
          0.8397995298251053,
          0.8396548606267278,
          0.8397401121186288,
          0.8396083598129632,
          0.8395566922421144,
          0.8396936113048645,
          0.8399945749050608,
          0.8393500219587177,
          0.8390606835619623,
          0.8395347335245033,
          0.8395592756206568,
          0.8395515254850293,
          0.839939032266398,
          0.839634193598388,
          0.835345785217908,
          0.8385362577178433,
          0.8395644423777415,
          0.8397736960396807,
          0.8401121186287426,
          0.8386835102947634,
          0.8394688573716707,
          0.8396367769769304,
          0.8396600273838124,
          0.8397646542147821
         ]
        },
        {
         "name": "Best Value",
         "type": "scatter",
         "x": [
          0,
          1,
          2,
          3,
          4,
          5,
          6,
          7,
          8,
          9,
          10,
          11,
          12,
          13,
          14,
          15,
          16,
          17,
          18,
          19,
          20,
          21,
          22,
          23,
          24,
          25,
          26,
          27,
          28,
          29,
          30,
          31,
          32,
          33,
          34,
          35,
          36,
          37,
          38,
          39,
          40,
          41,
          42,
          43,
          44,
          45,
          46,
          47,
          48,
          49,
          50,
          51,
          52,
          53,
          54,
          55,
          56,
          57,
          58,
          59,
          60,
          61,
          62,
          63,
          64,
          65,
          66,
          67,
          68,
          69,
          70,
          71,
          72,
          73,
          74,
          75,
          76,
          77,
          78,
          79,
          80,
          81,
          82,
          83,
          84,
          85,
          86,
          87,
          88,
          89,
          90,
          91,
          92,
          93,
          94,
          95,
          96,
          97,
          98,
          99,
          100,
          101,
          102,
          103,
          104,
          105,
          106,
          107,
          108,
          109,
          110,
          111,
          112,
          113,
          114,
          115,
          116,
          117,
          118,
          119,
          120,
          121,
          122,
          123,
          124,
          125,
          126,
          127,
          128,
          129,
          130,
          131,
          132,
          133,
          134,
          135,
          136,
          137,
          138,
          139,
          140,
          141,
          142,
          143,
          144,
          145,
          146,
          147,
          148,
          149
         ],
         "y": [
          0.8391485184324057,
          0.8391485184324057,
          0.8391485184324057,
          0.8391485184324057,
          0.8391485184324057,
          0.8391485184324057,
          0.8394417318969749,
          0.8394417318969749,
          0.8394417318969749,
          0.8394417318969749,
          0.8394417318969749,
          0.8394417318969749,
          0.8394417318969749,
          0.8395218166317912,
          0.8395218166317912,
          0.8395218166317912,
          0.8395218166317912,
          0.8395218166317912,
          0.8395218166317912,
          0.8395218166317912,
          0.8395218166317912,
          0.8395218166317912,
          0.8395218166317912,
          0.8395437753494018,
          0.8395437753494018,
          0.8401818698493891,
          0.8401818698493891,
          0.8401818698493891,
          0.8401818698493891,
          0.8401818698493891,
          0.8401818698493891,
          0.8401818698493891,
          0.8401818698493891,
          0.8401818698493891,
          0.8401818698493891,
          0.8401818698493891,
          0.8401818698493891,
          0.8401818698493891,
          0.8401818698493891,
          0.8401818698493891,
          0.8401818698493891,
          0.8401818698493891,
          0.8401818698493891,
          0.8401818698493891,
          0.8401818698493891,
          0.8401818698493891,
          0.8401818698493891,
          0.8401818698493891,
          0.8401818698493891,
          0.8401818698493891,
          0.8401818698493891,
          0.8401818698493891,
          0.8401818698493891,
          0.8401818698493891,
          0.8401818698493891,
          0.8401818698493891,
          0.8401818698493891,
          0.8401818698493891,
          0.8401818698493891,
          0.8401818698493891,
          0.8401818698493891,
          0.8401818698493891,
          0.8401818698493891,
          0.8401818698493891,
          0.8401818698493891,
          0.8401818698493891,
          0.8401818698493891,
          0.8401818698493891,
          0.8401818698493891,
          0.8401818698493891,
          0.8401818698493891,
          0.8401818698493891,
          0.8401818698493891,
          0.8401818698493891,
          0.8401818698493891,
          0.8401818698493891,
          0.8401818698493891,
          0.8401818698493891,
          0.8401818698493891,
          0.8401818698493891,
          0.8401818698493891,
          0.8401818698493891,
          0.8401818698493891,
          0.8401818698493891,
          0.8401818698493891,
          0.8401818698493891,
          0.8401818698493891,
          0.8401818698493891,
          0.8401818698493891,
          0.8401818698493891,
          0.8401818698493891,
          0.8401818698493891,
          0.8401818698493891,
          0.8401818698493891,
          0.8401818698493891,
          0.8401818698493891,
          0.8401818698493891,
          0.8401818698493891,
          0.8401818698493891,
          0.8401818698493891,
          0.8401818698493891,
          0.8401818698493891,
          0.8401818698493891,
          0.8401818698493891,
          0.8401818698493891,
          0.8401818698493891,
          0.8401818698493891,
          0.8401818698493891,
          0.8401818698493891,
          0.8401818698493891,
          0.8401818698493891,
          0.8401818698493891,
          0.8401818698493891,
          0.8401818698493891,
          0.8401818698493891,
          0.8401818698493891,
          0.8401818698493891,
          0.8401818698493891,
          0.8401818698493891,
          0.8401818698493891,
          0.8401818698493891,
          0.8401818698493891,
          0.8401818698493891,
          0.8401818698493891,
          0.8401818698493891,
          0.8401818698493891,
          0.8401818698493891,
          0.8401818698493891,
          0.8401818698493891,
          0.8401818698493891,
          0.8401818698493891,
          0.8401818698493891,
          0.8401818698493891,
          0.8401818698493891,
          0.8401818698493891,
          0.8401818698493891,
          0.8401818698493891,
          0.8401818698493891,
          0.8401818698493891,
          0.8401818698493891,
          0.8401818698493891,
          0.8401818698493891,
          0.8401818698493891,
          0.8401818698493891,
          0.8401818698493891,
          0.8401818698493891,
          0.8401818698493891,
          0.8401818698493891,
          0.8401818698493891,
          0.8401818698493891
         ]
        }
       ],
       "layout": {
        "template": {
         "data": {
          "bar": [
           {
            "error_x": {
             "color": "#2a3f5f"
            },
            "error_y": {
             "color": "#2a3f5f"
            },
            "marker": {
             "line": {
              "color": "#E5ECF6",
              "width": 0.5
             },
             "pattern": {
              "fillmode": "overlay",
              "size": 10,
              "solidity": 0.2
             }
            },
            "type": "bar"
           }
          ],
          "barpolar": [
           {
            "marker": {
             "line": {
              "color": "#E5ECF6",
              "width": 0.5
             },
             "pattern": {
              "fillmode": "overlay",
              "size": 10,
              "solidity": 0.2
             }
            },
            "type": "barpolar"
           }
          ],
          "carpet": [
           {
            "aaxis": {
             "endlinecolor": "#2a3f5f",
             "gridcolor": "white",
             "linecolor": "white",
             "minorgridcolor": "white",
             "startlinecolor": "#2a3f5f"
            },
            "baxis": {
             "endlinecolor": "#2a3f5f",
             "gridcolor": "white",
             "linecolor": "white",
             "minorgridcolor": "white",
             "startlinecolor": "#2a3f5f"
            },
            "type": "carpet"
           }
          ],
          "choropleth": [
           {
            "colorbar": {
             "outlinewidth": 0,
             "ticks": ""
            },
            "type": "choropleth"
           }
          ],
          "contour": [
           {
            "colorbar": {
             "outlinewidth": 0,
             "ticks": ""
            },
            "colorscale": [
             [
              0,
              "#0d0887"
             ],
             [
              0.1111111111111111,
              "#46039f"
             ],
             [
              0.2222222222222222,
              "#7201a8"
             ],
             [
              0.3333333333333333,
              "#9c179e"
             ],
             [
              0.4444444444444444,
              "#bd3786"
             ],
             [
              0.5555555555555556,
              "#d8576b"
             ],
             [
              0.6666666666666666,
              "#ed7953"
             ],
             [
              0.7777777777777778,
              "#fb9f3a"
             ],
             [
              0.8888888888888888,
              "#fdca26"
             ],
             [
              1,
              "#f0f921"
             ]
            ],
            "type": "contour"
           }
          ],
          "contourcarpet": [
           {
            "colorbar": {
             "outlinewidth": 0,
             "ticks": ""
            },
            "type": "contourcarpet"
           }
          ],
          "heatmap": [
           {
            "colorbar": {
             "outlinewidth": 0,
             "ticks": ""
            },
            "colorscale": [
             [
              0,
              "#0d0887"
             ],
             [
              0.1111111111111111,
              "#46039f"
             ],
             [
              0.2222222222222222,
              "#7201a8"
             ],
             [
              0.3333333333333333,
              "#9c179e"
             ],
             [
              0.4444444444444444,
              "#bd3786"
             ],
             [
              0.5555555555555556,
              "#d8576b"
             ],
             [
              0.6666666666666666,
              "#ed7953"
             ],
             [
              0.7777777777777778,
              "#fb9f3a"
             ],
             [
              0.8888888888888888,
              "#fdca26"
             ],
             [
              1,
              "#f0f921"
             ]
            ],
            "type": "heatmap"
           }
          ],
          "heatmapgl": [
           {
            "colorbar": {
             "outlinewidth": 0,
             "ticks": ""
            },
            "colorscale": [
             [
              0,
              "#0d0887"
             ],
             [
              0.1111111111111111,
              "#46039f"
             ],
             [
              0.2222222222222222,
              "#7201a8"
             ],
             [
              0.3333333333333333,
              "#9c179e"
             ],
             [
              0.4444444444444444,
              "#bd3786"
             ],
             [
              0.5555555555555556,
              "#d8576b"
             ],
             [
              0.6666666666666666,
              "#ed7953"
             ],
             [
              0.7777777777777778,
              "#fb9f3a"
             ],
             [
              0.8888888888888888,
              "#fdca26"
             ],
             [
              1,
              "#f0f921"
             ]
            ],
            "type": "heatmapgl"
           }
          ],
          "histogram": [
           {
            "marker": {
             "pattern": {
              "fillmode": "overlay",
              "size": 10,
              "solidity": 0.2
             }
            },
            "type": "histogram"
           }
          ],
          "histogram2d": [
           {
            "colorbar": {
             "outlinewidth": 0,
             "ticks": ""
            },
            "colorscale": [
             [
              0,
              "#0d0887"
             ],
             [
              0.1111111111111111,
              "#46039f"
             ],
             [
              0.2222222222222222,
              "#7201a8"
             ],
             [
              0.3333333333333333,
              "#9c179e"
             ],
             [
              0.4444444444444444,
              "#bd3786"
             ],
             [
              0.5555555555555556,
              "#d8576b"
             ],
             [
              0.6666666666666666,
              "#ed7953"
             ],
             [
              0.7777777777777778,
              "#fb9f3a"
             ],
             [
              0.8888888888888888,
              "#fdca26"
             ],
             [
              1,
              "#f0f921"
             ]
            ],
            "type": "histogram2d"
           }
          ],
          "histogram2dcontour": [
           {
            "colorbar": {
             "outlinewidth": 0,
             "ticks": ""
            },
            "colorscale": [
             [
              0,
              "#0d0887"
             ],
             [
              0.1111111111111111,
              "#46039f"
             ],
             [
              0.2222222222222222,
              "#7201a8"
             ],
             [
              0.3333333333333333,
              "#9c179e"
             ],
             [
              0.4444444444444444,
              "#bd3786"
             ],
             [
              0.5555555555555556,
              "#d8576b"
             ],
             [
              0.6666666666666666,
              "#ed7953"
             ],
             [
              0.7777777777777778,
              "#fb9f3a"
             ],
             [
              0.8888888888888888,
              "#fdca26"
             ],
             [
              1,
              "#f0f921"
             ]
            ],
            "type": "histogram2dcontour"
           }
          ],
          "mesh3d": [
           {
            "colorbar": {
             "outlinewidth": 0,
             "ticks": ""
            },
            "type": "mesh3d"
           }
          ],
          "parcoords": [
           {
            "line": {
             "colorbar": {
              "outlinewidth": 0,
              "ticks": ""
             }
            },
            "type": "parcoords"
           }
          ],
          "pie": [
           {
            "automargin": true,
            "type": "pie"
           }
          ],
          "scatter": [
           {
            "marker": {
             "colorbar": {
              "outlinewidth": 0,
              "ticks": ""
             }
            },
            "type": "scatter"
           }
          ],
          "scatter3d": [
           {
            "line": {
             "colorbar": {
              "outlinewidth": 0,
              "ticks": ""
             }
            },
            "marker": {
             "colorbar": {
              "outlinewidth": 0,
              "ticks": ""
             }
            },
            "type": "scatter3d"
           }
          ],
          "scattercarpet": [
           {
            "marker": {
             "colorbar": {
              "outlinewidth": 0,
              "ticks": ""
             }
            },
            "type": "scattercarpet"
           }
          ],
          "scattergeo": [
           {
            "marker": {
             "colorbar": {
              "outlinewidth": 0,
              "ticks": ""
             }
            },
            "type": "scattergeo"
           }
          ],
          "scattergl": [
           {
            "marker": {
             "colorbar": {
              "outlinewidth": 0,
              "ticks": ""
             }
            },
            "type": "scattergl"
           }
          ],
          "scattermapbox": [
           {
            "marker": {
             "colorbar": {
              "outlinewidth": 0,
              "ticks": ""
             }
            },
            "type": "scattermapbox"
           }
          ],
          "scatterpolar": [
           {
            "marker": {
             "colorbar": {
              "outlinewidth": 0,
              "ticks": ""
             }
            },
            "type": "scatterpolar"
           }
          ],
          "scatterpolargl": [
           {
            "marker": {
             "colorbar": {
              "outlinewidth": 0,
              "ticks": ""
             }
            },
            "type": "scatterpolargl"
           }
          ],
          "scatterternary": [
           {
            "marker": {
             "colorbar": {
              "outlinewidth": 0,
              "ticks": ""
             }
            },
            "type": "scatterternary"
           }
          ],
          "surface": [
           {
            "colorbar": {
             "outlinewidth": 0,
             "ticks": ""
            },
            "colorscale": [
             [
              0,
              "#0d0887"
             ],
             [
              0.1111111111111111,
              "#46039f"
             ],
             [
              0.2222222222222222,
              "#7201a8"
             ],
             [
              0.3333333333333333,
              "#9c179e"
             ],
             [
              0.4444444444444444,
              "#bd3786"
             ],
             [
              0.5555555555555556,
              "#d8576b"
             ],
             [
              0.6666666666666666,
              "#ed7953"
             ],
             [
              0.7777777777777778,
              "#fb9f3a"
             ],
             [
              0.8888888888888888,
              "#fdca26"
             ],
             [
              1,
              "#f0f921"
             ]
            ],
            "type": "surface"
           }
          ],
          "table": [
           {
            "cells": {
             "fill": {
              "color": "#EBF0F8"
             },
             "line": {
              "color": "white"
             }
            },
            "header": {
             "fill": {
              "color": "#C8D4E3"
             },
             "line": {
              "color": "white"
             }
            },
            "type": "table"
           }
          ]
         },
         "layout": {
          "annotationdefaults": {
           "arrowcolor": "#2a3f5f",
           "arrowhead": 0,
           "arrowwidth": 1
          },
          "autotypenumbers": "strict",
          "coloraxis": {
           "colorbar": {
            "outlinewidth": 0,
            "ticks": ""
           }
          },
          "colorscale": {
           "diverging": [
            [
             0,
             "#8e0152"
            ],
            [
             0.1,
             "#c51b7d"
            ],
            [
             0.2,
             "#de77ae"
            ],
            [
             0.3,
             "#f1b6da"
            ],
            [
             0.4,
             "#fde0ef"
            ],
            [
             0.5,
             "#f7f7f7"
            ],
            [
             0.6,
             "#e6f5d0"
            ],
            [
             0.7,
             "#b8e186"
            ],
            [
             0.8,
             "#7fbc41"
            ],
            [
             0.9,
             "#4d9221"
            ],
            [
             1,
             "#276419"
            ]
           ],
           "sequential": [
            [
             0,
             "#0d0887"
            ],
            [
             0.1111111111111111,
             "#46039f"
            ],
            [
             0.2222222222222222,
             "#7201a8"
            ],
            [
             0.3333333333333333,
             "#9c179e"
            ],
            [
             0.4444444444444444,
             "#bd3786"
            ],
            [
             0.5555555555555556,
             "#d8576b"
            ],
            [
             0.6666666666666666,
             "#ed7953"
            ],
            [
             0.7777777777777778,
             "#fb9f3a"
            ],
            [
             0.8888888888888888,
             "#fdca26"
            ],
            [
             1,
             "#f0f921"
            ]
           ],
           "sequentialminus": [
            [
             0,
             "#0d0887"
            ],
            [
             0.1111111111111111,
             "#46039f"
            ],
            [
             0.2222222222222222,
             "#7201a8"
            ],
            [
             0.3333333333333333,
             "#9c179e"
            ],
            [
             0.4444444444444444,
             "#bd3786"
            ],
            [
             0.5555555555555556,
             "#d8576b"
            ],
            [
             0.6666666666666666,
             "#ed7953"
            ],
            [
             0.7777777777777778,
             "#fb9f3a"
            ],
            [
             0.8888888888888888,
             "#fdca26"
            ],
            [
             1,
             "#f0f921"
            ]
           ]
          },
          "colorway": [
           "#636efa",
           "#EF553B",
           "#00cc96",
           "#ab63fa",
           "#FFA15A",
           "#19d3f3",
           "#FF6692",
           "#B6E880",
           "#FF97FF",
           "#FECB52"
          ],
          "font": {
           "color": "#2a3f5f"
          },
          "geo": {
           "bgcolor": "white",
           "lakecolor": "white",
           "landcolor": "#E5ECF6",
           "showlakes": true,
           "showland": true,
           "subunitcolor": "white"
          },
          "hoverlabel": {
           "align": "left"
          },
          "hovermode": "closest",
          "mapbox": {
           "style": "light"
          },
          "paper_bgcolor": "white",
          "plot_bgcolor": "#E5ECF6",
          "polar": {
           "angularaxis": {
            "gridcolor": "white",
            "linecolor": "white",
            "ticks": ""
           },
           "bgcolor": "#E5ECF6",
           "radialaxis": {
            "gridcolor": "white",
            "linecolor": "white",
            "ticks": ""
           }
          },
          "scene": {
           "xaxis": {
            "backgroundcolor": "#E5ECF6",
            "gridcolor": "white",
            "gridwidth": 2,
            "linecolor": "white",
            "showbackground": true,
            "ticks": "",
            "zerolinecolor": "white"
           },
           "yaxis": {
            "backgroundcolor": "#E5ECF6",
            "gridcolor": "white",
            "gridwidth": 2,
            "linecolor": "white",
            "showbackground": true,
            "ticks": "",
            "zerolinecolor": "white"
           },
           "zaxis": {
            "backgroundcolor": "#E5ECF6",
            "gridcolor": "white",
            "gridwidth": 2,
            "linecolor": "white",
            "showbackground": true,
            "ticks": "",
            "zerolinecolor": "white"
           }
          },
          "shapedefaults": {
           "line": {
            "color": "#2a3f5f"
           }
          },
          "ternary": {
           "aaxis": {
            "gridcolor": "white",
            "linecolor": "white",
            "ticks": ""
           },
           "baxis": {
            "gridcolor": "white",
            "linecolor": "white",
            "ticks": ""
           },
           "bgcolor": "#E5ECF6",
           "caxis": {
            "gridcolor": "white",
            "linecolor": "white",
            "ticks": ""
           }
          },
          "title": {
           "x": 0.05
          },
          "xaxis": {
           "automargin": true,
           "gridcolor": "white",
           "linecolor": "white",
           "ticks": "",
           "title": {
            "standoff": 15
           },
           "zerolinecolor": "white",
           "zerolinewidth": 2
          },
          "yaxis": {
           "automargin": true,
           "gridcolor": "white",
           "linecolor": "white",
           "ticks": "",
           "title": {
            "standoff": 15
           },
           "zerolinecolor": "white",
           "zerolinewidth": 2
          }
         }
        },
        "title": {
         "text": "Optimization History Plot"
        },
        "xaxis": {
         "title": {
          "text": "#Trials"
         }
        },
        "yaxis": {
         "title": {
          "text": "Objective Value"
         }
        }
       }
      },
      "text/html": [
       "<div>                            <div id=\"ce8ff881-a042-460e-b882-c21164fa659d\" class=\"plotly-graph-div\" style=\"height:525px; width:100%;\"></div>            <script type=\"text/javascript\">                require([\"plotly\"], function(Plotly) {                    window.PLOTLYENV=window.PLOTLYENV || {};                                    if (document.getElementById(\"ce8ff881-a042-460e-b882-c21164fa659d\")) {                    Plotly.newPlot(                        \"ce8ff881-a042-460e-b882-c21164fa659d\",                        [{\"mode\":\"markers\",\"name\":\"Objective Value\",\"type\":\"scatter\",\"x\":[0,1,2,3,4,5,6,7,8,9,10,11,12,13,14,15,16,17,18,19,20,21,22,23,24,25,26,27,28,29,30,31,32,33,34,35,36,37,38,39,40,41,42,43,44,45,46,47,48,49,50,51,52,53,54,55,56,57,58,59,60,61,62,63,64,65,66,67,68,69,70,71,72,73,74,75,76,77,78,79,80,81,82,83,84,85,86,87,88,89,90,91,92,93,94,95,96,97,98,99,100,101,102,103,104,105,106,107,108,109,110,111,112,113,114,115,116,117,118,119,120,121,122,123,124,125,126,127,128,129,130,131,132,133,134,135,136,137,138,139,140,141,142,143,144,145,146,147,148,149],\"y\":[0.8391485184324057,0.8349091942442325,0.7982600945516547,0.8236857061665246,0.8225128523082487,0.8380234570771655,0.8394417318969749,0.8380157069415382,0.7994613655738976,0.8386938438089335,0.8360368389780154,0.8220142602495544,0.819569092459118,0.8395218166317912,0.8336368803120723,0.836982355524555,0.8370650236379138,0.8385556330569118,0.8281484925986207,0.8388359296287685,0.8370495233666589,0.839098142550828,0.8394623989253145,0.8395437753494018,0.8390348497765378,0.8401818698493891,0.8392776873595288,0.8396341935983879,0.8392751039809863,0.839295771009326,0.8388540132785658,0.8384845901469942,0.8356816244284274,0.83775478570875,0.8366645999638326,0.8397426954971712,0.8386667183342374,0.8396974863726782,0.8399106151024309,0.8389689736237051,0.8293316799710662,0.8340928466248159,0.8389780154486037,0.8379627476814178,0.838905680849415,0.8389121392957711,0.8351416983130538,0.8051964659381539,0.8359800046500813,0.8312304631997727,0.8314203415226433,0.8386370094809992,0.8393306466196492,0.8391588519465758,0.8372962360174637,0.8397530290113411,0.8355292050944224,0.8393228964840218,0.8393500219587176,0.8398292386783435,0.8389702653129764,0.8398757394921078,0.8392815624273425,0.8359619210002842,0.8376191583352709,0.8395760675811828,0.8393603554728875,0.8391756439071018,0.8365767650933891,0.8337699243070087,0.8379834147097573,0.8396768193443385,0.8392118112066962,0.8392466868170192,0.8397181534010177,0.839836988813971,0.8361440491875274,0.8369926890387249,0.8393422718230903,0.8393254798625643,0.8392143945852385,0.8401392441034383,0.8391963109354413,0.837508073057945,0.8397594874576971,0.8390529334263348,0.8390245162623678,0.8380789997158283,0.8392996460771396,0.8400191170012141,0.8397375287400863,0.8390736004546746,0.839176935596373,0.8396432354232864,0.8399299904414994,0.8395515254850293,0.8391678937714743,0.8203518561574827,0.8372781523676665,0.839567025756284,0.8392441034384768,0.8392286031672221,0.8391769355963729,0.8390968508615567,0.8399777829445348,0.8396600273838125,0.8393577720943448,0.8397297786044589,0.8371283164122039,0.8394972745356377,0.8394598155467721,0.8398641142886667,0.8388075124648015,0.8394662739931282,0.8394985662249088,0.8383063370275646,0.8367214342917668,0.8381345423544911,0.8298263969619467,0.8393732723655997,0.8394766075072981,0.8379601643028753,0.839228603167222,0.8399984499728743,0.839871864424294,0.8398137384070887,0.8397995298251053,0.8396548606267278,0.8397401121186288,0.8396083598129632,0.8395566922421144,0.8396936113048645,0.8399945749050608,0.8393500219587177,0.8390606835619623,0.8395347335245033,0.8395592756206568,0.8395515254850293,0.839939032266398,0.839634193598388,0.835345785217908,0.8385362577178433,0.8395644423777415,0.8397736960396807,0.8401121186287426,0.8386835102947634,0.8394688573716707,0.8396367769769304,0.8396600273838124,0.8397646542147821]},{\"name\":\"Best Value\",\"type\":\"scatter\",\"x\":[0,1,2,3,4,5,6,7,8,9,10,11,12,13,14,15,16,17,18,19,20,21,22,23,24,25,26,27,28,29,30,31,32,33,34,35,36,37,38,39,40,41,42,43,44,45,46,47,48,49,50,51,52,53,54,55,56,57,58,59,60,61,62,63,64,65,66,67,68,69,70,71,72,73,74,75,76,77,78,79,80,81,82,83,84,85,86,87,88,89,90,91,92,93,94,95,96,97,98,99,100,101,102,103,104,105,106,107,108,109,110,111,112,113,114,115,116,117,118,119,120,121,122,123,124,125,126,127,128,129,130,131,132,133,134,135,136,137,138,139,140,141,142,143,144,145,146,147,148,149],\"y\":[0.8391485184324057,0.8391485184324057,0.8391485184324057,0.8391485184324057,0.8391485184324057,0.8391485184324057,0.8394417318969749,0.8394417318969749,0.8394417318969749,0.8394417318969749,0.8394417318969749,0.8394417318969749,0.8394417318969749,0.8395218166317912,0.8395218166317912,0.8395218166317912,0.8395218166317912,0.8395218166317912,0.8395218166317912,0.8395218166317912,0.8395218166317912,0.8395218166317912,0.8395218166317912,0.8395437753494018,0.8395437753494018,0.8401818698493891,0.8401818698493891,0.8401818698493891,0.8401818698493891,0.8401818698493891,0.8401818698493891,0.8401818698493891,0.8401818698493891,0.8401818698493891,0.8401818698493891,0.8401818698493891,0.8401818698493891,0.8401818698493891,0.8401818698493891,0.8401818698493891,0.8401818698493891,0.8401818698493891,0.8401818698493891,0.8401818698493891,0.8401818698493891,0.8401818698493891,0.8401818698493891,0.8401818698493891,0.8401818698493891,0.8401818698493891,0.8401818698493891,0.8401818698493891,0.8401818698493891,0.8401818698493891,0.8401818698493891,0.8401818698493891,0.8401818698493891,0.8401818698493891,0.8401818698493891,0.8401818698493891,0.8401818698493891,0.8401818698493891,0.8401818698493891,0.8401818698493891,0.8401818698493891,0.8401818698493891,0.8401818698493891,0.8401818698493891,0.8401818698493891,0.8401818698493891,0.8401818698493891,0.8401818698493891,0.8401818698493891,0.8401818698493891,0.8401818698493891,0.8401818698493891,0.8401818698493891,0.8401818698493891,0.8401818698493891,0.8401818698493891,0.8401818698493891,0.8401818698493891,0.8401818698493891,0.8401818698493891,0.8401818698493891,0.8401818698493891,0.8401818698493891,0.8401818698493891,0.8401818698493891,0.8401818698493891,0.8401818698493891,0.8401818698493891,0.8401818698493891,0.8401818698493891,0.8401818698493891,0.8401818698493891,0.8401818698493891,0.8401818698493891,0.8401818698493891,0.8401818698493891,0.8401818698493891,0.8401818698493891,0.8401818698493891,0.8401818698493891,0.8401818698493891,0.8401818698493891,0.8401818698493891,0.8401818698493891,0.8401818698493891,0.8401818698493891,0.8401818698493891,0.8401818698493891,0.8401818698493891,0.8401818698493891,0.8401818698493891,0.8401818698493891,0.8401818698493891,0.8401818698493891,0.8401818698493891,0.8401818698493891,0.8401818698493891,0.8401818698493891,0.8401818698493891,0.8401818698493891,0.8401818698493891,0.8401818698493891,0.8401818698493891,0.8401818698493891,0.8401818698493891,0.8401818698493891,0.8401818698493891,0.8401818698493891,0.8401818698493891,0.8401818698493891,0.8401818698493891,0.8401818698493891,0.8401818698493891,0.8401818698493891,0.8401818698493891,0.8401818698493891,0.8401818698493891,0.8401818698493891,0.8401818698493891,0.8401818698493891,0.8401818698493891,0.8401818698493891,0.8401818698493891,0.8401818698493891,0.8401818698493891,0.8401818698493891]}],                        {\"template\":{\"data\":{\"bar\":[{\"error_x\":{\"color\":\"#2a3f5f\"},\"error_y\":{\"color\":\"#2a3f5f\"},\"marker\":{\"line\":{\"color\":\"#E5ECF6\",\"width\":0.5},\"pattern\":{\"fillmode\":\"overlay\",\"size\":10,\"solidity\":0.2}},\"type\":\"bar\"}],\"barpolar\":[{\"marker\":{\"line\":{\"color\":\"#E5ECF6\",\"width\":0.5},\"pattern\":{\"fillmode\":\"overlay\",\"size\":10,\"solidity\":0.2}},\"type\":\"barpolar\"}],\"carpet\":[{\"aaxis\":{\"endlinecolor\":\"#2a3f5f\",\"gridcolor\":\"white\",\"linecolor\":\"white\",\"minorgridcolor\":\"white\",\"startlinecolor\":\"#2a3f5f\"},\"baxis\":{\"endlinecolor\":\"#2a3f5f\",\"gridcolor\":\"white\",\"linecolor\":\"white\",\"minorgridcolor\":\"white\",\"startlinecolor\":\"#2a3f5f\"},\"type\":\"carpet\"}],\"choropleth\":[{\"colorbar\":{\"outlinewidth\":0,\"ticks\":\"\"},\"type\":\"choropleth\"}],\"contour\":[{\"colorbar\":{\"outlinewidth\":0,\"ticks\":\"\"},\"colorscale\":[[0.0,\"#0d0887\"],[0.1111111111111111,\"#46039f\"],[0.2222222222222222,\"#7201a8\"],[0.3333333333333333,\"#9c179e\"],[0.4444444444444444,\"#bd3786\"],[0.5555555555555556,\"#d8576b\"],[0.6666666666666666,\"#ed7953\"],[0.7777777777777778,\"#fb9f3a\"],[0.8888888888888888,\"#fdca26\"],[1.0,\"#f0f921\"]],\"type\":\"contour\"}],\"contourcarpet\":[{\"colorbar\":{\"outlinewidth\":0,\"ticks\":\"\"},\"type\":\"contourcarpet\"}],\"heatmap\":[{\"colorbar\":{\"outlinewidth\":0,\"ticks\":\"\"},\"colorscale\":[[0.0,\"#0d0887\"],[0.1111111111111111,\"#46039f\"],[0.2222222222222222,\"#7201a8\"],[0.3333333333333333,\"#9c179e\"],[0.4444444444444444,\"#bd3786\"],[0.5555555555555556,\"#d8576b\"],[0.6666666666666666,\"#ed7953\"],[0.7777777777777778,\"#fb9f3a\"],[0.8888888888888888,\"#fdca26\"],[1.0,\"#f0f921\"]],\"type\":\"heatmap\"}],\"heatmapgl\":[{\"colorbar\":{\"outlinewidth\":0,\"ticks\":\"\"},\"colorscale\":[[0.0,\"#0d0887\"],[0.1111111111111111,\"#46039f\"],[0.2222222222222222,\"#7201a8\"],[0.3333333333333333,\"#9c179e\"],[0.4444444444444444,\"#bd3786\"],[0.5555555555555556,\"#d8576b\"],[0.6666666666666666,\"#ed7953\"],[0.7777777777777778,\"#fb9f3a\"],[0.8888888888888888,\"#fdca26\"],[1.0,\"#f0f921\"]],\"type\":\"heatmapgl\"}],\"histogram\":[{\"marker\":{\"pattern\":{\"fillmode\":\"overlay\",\"size\":10,\"solidity\":0.2}},\"type\":\"histogram\"}],\"histogram2d\":[{\"colorbar\":{\"outlinewidth\":0,\"ticks\":\"\"},\"colorscale\":[[0.0,\"#0d0887\"],[0.1111111111111111,\"#46039f\"],[0.2222222222222222,\"#7201a8\"],[0.3333333333333333,\"#9c179e\"],[0.4444444444444444,\"#bd3786\"],[0.5555555555555556,\"#d8576b\"],[0.6666666666666666,\"#ed7953\"],[0.7777777777777778,\"#fb9f3a\"],[0.8888888888888888,\"#fdca26\"],[1.0,\"#f0f921\"]],\"type\":\"histogram2d\"}],\"histogram2dcontour\":[{\"colorbar\":{\"outlinewidth\":0,\"ticks\":\"\"},\"colorscale\":[[0.0,\"#0d0887\"],[0.1111111111111111,\"#46039f\"],[0.2222222222222222,\"#7201a8\"],[0.3333333333333333,\"#9c179e\"],[0.4444444444444444,\"#bd3786\"],[0.5555555555555556,\"#d8576b\"],[0.6666666666666666,\"#ed7953\"],[0.7777777777777778,\"#fb9f3a\"],[0.8888888888888888,\"#fdca26\"],[1.0,\"#f0f921\"]],\"type\":\"histogram2dcontour\"}],\"mesh3d\":[{\"colorbar\":{\"outlinewidth\":0,\"ticks\":\"\"},\"type\":\"mesh3d\"}],\"parcoords\":[{\"line\":{\"colorbar\":{\"outlinewidth\":0,\"ticks\":\"\"}},\"type\":\"parcoords\"}],\"pie\":[{\"automargin\":true,\"type\":\"pie\"}],\"scatter\":[{\"marker\":{\"colorbar\":{\"outlinewidth\":0,\"ticks\":\"\"}},\"type\":\"scatter\"}],\"scatter3d\":[{\"line\":{\"colorbar\":{\"outlinewidth\":0,\"ticks\":\"\"}},\"marker\":{\"colorbar\":{\"outlinewidth\":0,\"ticks\":\"\"}},\"type\":\"scatter3d\"}],\"scattercarpet\":[{\"marker\":{\"colorbar\":{\"outlinewidth\":0,\"ticks\":\"\"}},\"type\":\"scattercarpet\"}],\"scattergeo\":[{\"marker\":{\"colorbar\":{\"outlinewidth\":0,\"ticks\":\"\"}},\"type\":\"scattergeo\"}],\"scattergl\":[{\"marker\":{\"colorbar\":{\"outlinewidth\":0,\"ticks\":\"\"}},\"type\":\"scattergl\"}],\"scattermapbox\":[{\"marker\":{\"colorbar\":{\"outlinewidth\":0,\"ticks\":\"\"}},\"type\":\"scattermapbox\"}],\"scatterpolar\":[{\"marker\":{\"colorbar\":{\"outlinewidth\":0,\"ticks\":\"\"}},\"type\":\"scatterpolar\"}],\"scatterpolargl\":[{\"marker\":{\"colorbar\":{\"outlinewidth\":0,\"ticks\":\"\"}},\"type\":\"scatterpolargl\"}],\"scatterternary\":[{\"marker\":{\"colorbar\":{\"outlinewidth\":0,\"ticks\":\"\"}},\"type\":\"scatterternary\"}],\"surface\":[{\"colorbar\":{\"outlinewidth\":0,\"ticks\":\"\"},\"colorscale\":[[0.0,\"#0d0887\"],[0.1111111111111111,\"#46039f\"],[0.2222222222222222,\"#7201a8\"],[0.3333333333333333,\"#9c179e\"],[0.4444444444444444,\"#bd3786\"],[0.5555555555555556,\"#d8576b\"],[0.6666666666666666,\"#ed7953\"],[0.7777777777777778,\"#fb9f3a\"],[0.8888888888888888,\"#fdca26\"],[1.0,\"#f0f921\"]],\"type\":\"surface\"}],\"table\":[{\"cells\":{\"fill\":{\"color\":\"#EBF0F8\"},\"line\":{\"color\":\"white\"}},\"header\":{\"fill\":{\"color\":\"#C8D4E3\"},\"line\":{\"color\":\"white\"}},\"type\":\"table\"}]},\"layout\":{\"annotationdefaults\":{\"arrowcolor\":\"#2a3f5f\",\"arrowhead\":0,\"arrowwidth\":1},\"autotypenumbers\":\"strict\",\"coloraxis\":{\"colorbar\":{\"outlinewidth\":0,\"ticks\":\"\"}},\"colorscale\":{\"diverging\":[[0,\"#8e0152\"],[0.1,\"#c51b7d\"],[0.2,\"#de77ae\"],[0.3,\"#f1b6da\"],[0.4,\"#fde0ef\"],[0.5,\"#f7f7f7\"],[0.6,\"#e6f5d0\"],[0.7,\"#b8e186\"],[0.8,\"#7fbc41\"],[0.9,\"#4d9221\"],[1,\"#276419\"]],\"sequential\":[[0.0,\"#0d0887\"],[0.1111111111111111,\"#46039f\"],[0.2222222222222222,\"#7201a8\"],[0.3333333333333333,\"#9c179e\"],[0.4444444444444444,\"#bd3786\"],[0.5555555555555556,\"#d8576b\"],[0.6666666666666666,\"#ed7953\"],[0.7777777777777778,\"#fb9f3a\"],[0.8888888888888888,\"#fdca26\"],[1.0,\"#f0f921\"]],\"sequentialminus\":[[0.0,\"#0d0887\"],[0.1111111111111111,\"#46039f\"],[0.2222222222222222,\"#7201a8\"],[0.3333333333333333,\"#9c179e\"],[0.4444444444444444,\"#bd3786\"],[0.5555555555555556,\"#d8576b\"],[0.6666666666666666,\"#ed7953\"],[0.7777777777777778,\"#fb9f3a\"],[0.8888888888888888,\"#fdca26\"],[1.0,\"#f0f921\"]]},\"colorway\":[\"#636efa\",\"#EF553B\",\"#00cc96\",\"#ab63fa\",\"#FFA15A\",\"#19d3f3\",\"#FF6692\",\"#B6E880\",\"#FF97FF\",\"#FECB52\"],\"font\":{\"color\":\"#2a3f5f\"},\"geo\":{\"bgcolor\":\"white\",\"lakecolor\":\"white\",\"landcolor\":\"#E5ECF6\",\"showlakes\":true,\"showland\":true,\"subunitcolor\":\"white\"},\"hoverlabel\":{\"align\":\"left\"},\"hovermode\":\"closest\",\"mapbox\":{\"style\":\"light\"},\"paper_bgcolor\":\"white\",\"plot_bgcolor\":\"#E5ECF6\",\"polar\":{\"angularaxis\":{\"gridcolor\":\"white\",\"linecolor\":\"white\",\"ticks\":\"\"},\"bgcolor\":\"#E5ECF6\",\"radialaxis\":{\"gridcolor\":\"white\",\"linecolor\":\"white\",\"ticks\":\"\"}},\"scene\":{\"xaxis\":{\"backgroundcolor\":\"#E5ECF6\",\"gridcolor\":\"white\",\"gridwidth\":2,\"linecolor\":\"white\",\"showbackground\":true,\"ticks\":\"\",\"zerolinecolor\":\"white\"},\"yaxis\":{\"backgroundcolor\":\"#E5ECF6\",\"gridcolor\":\"white\",\"gridwidth\":2,\"linecolor\":\"white\",\"showbackground\":true,\"ticks\":\"\",\"zerolinecolor\":\"white\"},\"zaxis\":{\"backgroundcolor\":\"#E5ECF6\",\"gridcolor\":\"white\",\"gridwidth\":2,\"linecolor\":\"white\",\"showbackground\":true,\"ticks\":\"\",\"zerolinecolor\":\"white\"}},\"shapedefaults\":{\"line\":{\"color\":\"#2a3f5f\"}},\"ternary\":{\"aaxis\":{\"gridcolor\":\"white\",\"linecolor\":\"white\",\"ticks\":\"\"},\"baxis\":{\"gridcolor\":\"white\",\"linecolor\":\"white\",\"ticks\":\"\"},\"bgcolor\":\"#E5ECF6\",\"caxis\":{\"gridcolor\":\"white\",\"linecolor\":\"white\",\"ticks\":\"\"}},\"title\":{\"x\":0.05},\"xaxis\":{\"automargin\":true,\"gridcolor\":\"white\",\"linecolor\":\"white\",\"ticks\":\"\",\"title\":{\"standoff\":15},\"zerolinecolor\":\"white\",\"zerolinewidth\":2},\"yaxis\":{\"automargin\":true,\"gridcolor\":\"white\",\"linecolor\":\"white\",\"ticks\":\"\",\"title\":{\"standoff\":15},\"zerolinecolor\":\"white\",\"zerolinewidth\":2}}},\"title\":{\"text\":\"Optimization History Plot\"},\"xaxis\":{\"title\":{\"text\":\"#Trials\"}},\"yaxis\":{\"title\":{\"text\":\"Objective Value\"}}},                        {\"responsive\": true}                    ).then(function(){\n",
       "                            \n",
       "var gd = document.getElementById('ce8ff881-a042-460e-b882-c21164fa659d');\n",
       "var x = new MutationObserver(function (mutations, observer) {{\n",
       "        var display = window.getComputedStyle(gd).display;\n",
       "        if (!display || display === 'none') {{\n",
       "            console.log([gd, 'removed!']);\n",
       "            Plotly.purge(gd);\n",
       "            observer.disconnect();\n",
       "        }}\n",
       "}});\n",
       "\n",
       "// Listen for the removal of the full notebook cells\n",
       "var notebookContainer = gd.closest('#notebook-container');\n",
       "if (notebookContainer) {{\n",
       "    x.observe(notebookContainer, {childList: true});\n",
       "}}\n",
       "\n",
       "// Listen for the clearing of the current output cell\n",
       "var outputEl = gd.closest('.output');\n",
       "if (outputEl) {{\n",
       "    x.observe(outputEl, {childList: true});\n",
       "}}\n",
       "\n",
       "                        })                };                });            </script>        </div>"
      ]
     },
     "metadata": {},
     "output_type": "display_data"
    },
    {
     "data": {
      "application/vnd.plotly.v1+json": {
       "config": {
        "plotlyServerURL": "https://plot.ly"
       },
       "data": [
        {
         "cliponaxis": false,
         "hovertemplate": [
          "objective (CategoricalDistribution): 0.0<extra></extra>",
          "random_state (CategoricalDistribution): 0.0<extra></extra>",
          "boosting_type (CategoricalDistribution): 0.0021807183348784894<extra></extra>",
          "random_strength (IntUniformDistribution): 0.008231832263955866<extra></extra>",
          "iterations (IntUniformDistribution): 0.01273774275854614<extra></extra>",
          "bootstrap_type (CategoricalDistribution): 0.02314630647103547<extra></extra>",
          "depth (IntUniformDistribution): 0.029462249270286768<extra></extra>",
          "colsample_bylevel (UniformDistribution): 0.4404508334033812<extra></extra>",
          "learning_rate (LogUniformDistribution): 0.48379031749791596<extra></extra>"
         ],
         "marker": {
          "color": "rgb(66,146,198)"
         },
         "orientation": "h",
         "text": [
          "0.0",
          "0.0",
          "0.0021807183348784894",
          "0.008231832263955866",
          "0.01273774275854614",
          "0.02314630647103547",
          "0.029462249270286768",
          "0.4404508334033812",
          "0.48379031749791596"
         ],
         "textposition": "outside",
         "texttemplate": "%{text:.2f}",
         "type": "bar",
         "x": [
          0,
          0,
          0.0021807183348784894,
          0.008231832263955866,
          0.01273774275854614,
          0.02314630647103547,
          0.029462249270286768,
          0.4404508334033812,
          0.48379031749791596
         ],
         "y": [
          "objective",
          "random_state",
          "boosting_type",
          "random_strength",
          "iterations",
          "bootstrap_type",
          "depth",
          "colsample_bylevel",
          "learning_rate"
         ]
        }
       ],
       "layout": {
        "showlegend": false,
        "template": {
         "data": {
          "bar": [
           {
            "error_x": {
             "color": "#2a3f5f"
            },
            "error_y": {
             "color": "#2a3f5f"
            },
            "marker": {
             "line": {
              "color": "#E5ECF6",
              "width": 0.5
             },
             "pattern": {
              "fillmode": "overlay",
              "size": 10,
              "solidity": 0.2
             }
            },
            "type": "bar"
           }
          ],
          "barpolar": [
           {
            "marker": {
             "line": {
              "color": "#E5ECF6",
              "width": 0.5
             },
             "pattern": {
              "fillmode": "overlay",
              "size": 10,
              "solidity": 0.2
             }
            },
            "type": "barpolar"
           }
          ],
          "carpet": [
           {
            "aaxis": {
             "endlinecolor": "#2a3f5f",
             "gridcolor": "white",
             "linecolor": "white",
             "minorgridcolor": "white",
             "startlinecolor": "#2a3f5f"
            },
            "baxis": {
             "endlinecolor": "#2a3f5f",
             "gridcolor": "white",
             "linecolor": "white",
             "minorgridcolor": "white",
             "startlinecolor": "#2a3f5f"
            },
            "type": "carpet"
           }
          ],
          "choropleth": [
           {
            "colorbar": {
             "outlinewidth": 0,
             "ticks": ""
            },
            "type": "choropleth"
           }
          ],
          "contour": [
           {
            "colorbar": {
             "outlinewidth": 0,
             "ticks": ""
            },
            "colorscale": [
             [
              0,
              "#0d0887"
             ],
             [
              0.1111111111111111,
              "#46039f"
             ],
             [
              0.2222222222222222,
              "#7201a8"
             ],
             [
              0.3333333333333333,
              "#9c179e"
             ],
             [
              0.4444444444444444,
              "#bd3786"
             ],
             [
              0.5555555555555556,
              "#d8576b"
             ],
             [
              0.6666666666666666,
              "#ed7953"
             ],
             [
              0.7777777777777778,
              "#fb9f3a"
             ],
             [
              0.8888888888888888,
              "#fdca26"
             ],
             [
              1,
              "#f0f921"
             ]
            ],
            "type": "contour"
           }
          ],
          "contourcarpet": [
           {
            "colorbar": {
             "outlinewidth": 0,
             "ticks": ""
            },
            "type": "contourcarpet"
           }
          ],
          "heatmap": [
           {
            "colorbar": {
             "outlinewidth": 0,
             "ticks": ""
            },
            "colorscale": [
             [
              0,
              "#0d0887"
             ],
             [
              0.1111111111111111,
              "#46039f"
             ],
             [
              0.2222222222222222,
              "#7201a8"
             ],
             [
              0.3333333333333333,
              "#9c179e"
             ],
             [
              0.4444444444444444,
              "#bd3786"
             ],
             [
              0.5555555555555556,
              "#d8576b"
             ],
             [
              0.6666666666666666,
              "#ed7953"
             ],
             [
              0.7777777777777778,
              "#fb9f3a"
             ],
             [
              0.8888888888888888,
              "#fdca26"
             ],
             [
              1,
              "#f0f921"
             ]
            ],
            "type": "heatmap"
           }
          ],
          "heatmapgl": [
           {
            "colorbar": {
             "outlinewidth": 0,
             "ticks": ""
            },
            "colorscale": [
             [
              0,
              "#0d0887"
             ],
             [
              0.1111111111111111,
              "#46039f"
             ],
             [
              0.2222222222222222,
              "#7201a8"
             ],
             [
              0.3333333333333333,
              "#9c179e"
             ],
             [
              0.4444444444444444,
              "#bd3786"
             ],
             [
              0.5555555555555556,
              "#d8576b"
             ],
             [
              0.6666666666666666,
              "#ed7953"
             ],
             [
              0.7777777777777778,
              "#fb9f3a"
             ],
             [
              0.8888888888888888,
              "#fdca26"
             ],
             [
              1,
              "#f0f921"
             ]
            ],
            "type": "heatmapgl"
           }
          ],
          "histogram": [
           {
            "marker": {
             "pattern": {
              "fillmode": "overlay",
              "size": 10,
              "solidity": 0.2
             }
            },
            "type": "histogram"
           }
          ],
          "histogram2d": [
           {
            "colorbar": {
             "outlinewidth": 0,
             "ticks": ""
            },
            "colorscale": [
             [
              0,
              "#0d0887"
             ],
             [
              0.1111111111111111,
              "#46039f"
             ],
             [
              0.2222222222222222,
              "#7201a8"
             ],
             [
              0.3333333333333333,
              "#9c179e"
             ],
             [
              0.4444444444444444,
              "#bd3786"
             ],
             [
              0.5555555555555556,
              "#d8576b"
             ],
             [
              0.6666666666666666,
              "#ed7953"
             ],
             [
              0.7777777777777778,
              "#fb9f3a"
             ],
             [
              0.8888888888888888,
              "#fdca26"
             ],
             [
              1,
              "#f0f921"
             ]
            ],
            "type": "histogram2d"
           }
          ],
          "histogram2dcontour": [
           {
            "colorbar": {
             "outlinewidth": 0,
             "ticks": ""
            },
            "colorscale": [
             [
              0,
              "#0d0887"
             ],
             [
              0.1111111111111111,
              "#46039f"
             ],
             [
              0.2222222222222222,
              "#7201a8"
             ],
             [
              0.3333333333333333,
              "#9c179e"
             ],
             [
              0.4444444444444444,
              "#bd3786"
             ],
             [
              0.5555555555555556,
              "#d8576b"
             ],
             [
              0.6666666666666666,
              "#ed7953"
             ],
             [
              0.7777777777777778,
              "#fb9f3a"
             ],
             [
              0.8888888888888888,
              "#fdca26"
             ],
             [
              1,
              "#f0f921"
             ]
            ],
            "type": "histogram2dcontour"
           }
          ],
          "mesh3d": [
           {
            "colorbar": {
             "outlinewidth": 0,
             "ticks": ""
            },
            "type": "mesh3d"
           }
          ],
          "parcoords": [
           {
            "line": {
             "colorbar": {
              "outlinewidth": 0,
              "ticks": ""
             }
            },
            "type": "parcoords"
           }
          ],
          "pie": [
           {
            "automargin": true,
            "type": "pie"
           }
          ],
          "scatter": [
           {
            "marker": {
             "colorbar": {
              "outlinewidth": 0,
              "ticks": ""
             }
            },
            "type": "scatter"
           }
          ],
          "scatter3d": [
           {
            "line": {
             "colorbar": {
              "outlinewidth": 0,
              "ticks": ""
             }
            },
            "marker": {
             "colorbar": {
              "outlinewidth": 0,
              "ticks": ""
             }
            },
            "type": "scatter3d"
           }
          ],
          "scattercarpet": [
           {
            "marker": {
             "colorbar": {
              "outlinewidth": 0,
              "ticks": ""
             }
            },
            "type": "scattercarpet"
           }
          ],
          "scattergeo": [
           {
            "marker": {
             "colorbar": {
              "outlinewidth": 0,
              "ticks": ""
             }
            },
            "type": "scattergeo"
           }
          ],
          "scattergl": [
           {
            "marker": {
             "colorbar": {
              "outlinewidth": 0,
              "ticks": ""
             }
            },
            "type": "scattergl"
           }
          ],
          "scattermapbox": [
           {
            "marker": {
             "colorbar": {
              "outlinewidth": 0,
              "ticks": ""
             }
            },
            "type": "scattermapbox"
           }
          ],
          "scatterpolar": [
           {
            "marker": {
             "colorbar": {
              "outlinewidth": 0,
              "ticks": ""
             }
            },
            "type": "scatterpolar"
           }
          ],
          "scatterpolargl": [
           {
            "marker": {
             "colorbar": {
              "outlinewidth": 0,
              "ticks": ""
             }
            },
            "type": "scatterpolargl"
           }
          ],
          "scatterternary": [
           {
            "marker": {
             "colorbar": {
              "outlinewidth": 0,
              "ticks": ""
             }
            },
            "type": "scatterternary"
           }
          ],
          "surface": [
           {
            "colorbar": {
             "outlinewidth": 0,
             "ticks": ""
            },
            "colorscale": [
             [
              0,
              "#0d0887"
             ],
             [
              0.1111111111111111,
              "#46039f"
             ],
             [
              0.2222222222222222,
              "#7201a8"
             ],
             [
              0.3333333333333333,
              "#9c179e"
             ],
             [
              0.4444444444444444,
              "#bd3786"
             ],
             [
              0.5555555555555556,
              "#d8576b"
             ],
             [
              0.6666666666666666,
              "#ed7953"
             ],
             [
              0.7777777777777778,
              "#fb9f3a"
             ],
             [
              0.8888888888888888,
              "#fdca26"
             ],
             [
              1,
              "#f0f921"
             ]
            ],
            "type": "surface"
           }
          ],
          "table": [
           {
            "cells": {
             "fill": {
              "color": "#EBF0F8"
             },
             "line": {
              "color": "white"
             }
            },
            "header": {
             "fill": {
              "color": "#C8D4E3"
             },
             "line": {
              "color": "white"
             }
            },
            "type": "table"
           }
          ]
         },
         "layout": {
          "annotationdefaults": {
           "arrowcolor": "#2a3f5f",
           "arrowhead": 0,
           "arrowwidth": 1
          },
          "autotypenumbers": "strict",
          "coloraxis": {
           "colorbar": {
            "outlinewidth": 0,
            "ticks": ""
           }
          },
          "colorscale": {
           "diverging": [
            [
             0,
             "#8e0152"
            ],
            [
             0.1,
             "#c51b7d"
            ],
            [
             0.2,
             "#de77ae"
            ],
            [
             0.3,
             "#f1b6da"
            ],
            [
             0.4,
             "#fde0ef"
            ],
            [
             0.5,
             "#f7f7f7"
            ],
            [
             0.6,
             "#e6f5d0"
            ],
            [
             0.7,
             "#b8e186"
            ],
            [
             0.8,
             "#7fbc41"
            ],
            [
             0.9,
             "#4d9221"
            ],
            [
             1,
             "#276419"
            ]
           ],
           "sequential": [
            [
             0,
             "#0d0887"
            ],
            [
             0.1111111111111111,
             "#46039f"
            ],
            [
             0.2222222222222222,
             "#7201a8"
            ],
            [
             0.3333333333333333,
             "#9c179e"
            ],
            [
             0.4444444444444444,
             "#bd3786"
            ],
            [
             0.5555555555555556,
             "#d8576b"
            ],
            [
             0.6666666666666666,
             "#ed7953"
            ],
            [
             0.7777777777777778,
             "#fb9f3a"
            ],
            [
             0.8888888888888888,
             "#fdca26"
            ],
            [
             1,
             "#f0f921"
            ]
           ],
           "sequentialminus": [
            [
             0,
             "#0d0887"
            ],
            [
             0.1111111111111111,
             "#46039f"
            ],
            [
             0.2222222222222222,
             "#7201a8"
            ],
            [
             0.3333333333333333,
             "#9c179e"
            ],
            [
             0.4444444444444444,
             "#bd3786"
            ],
            [
             0.5555555555555556,
             "#d8576b"
            ],
            [
             0.6666666666666666,
             "#ed7953"
            ],
            [
             0.7777777777777778,
             "#fb9f3a"
            ],
            [
             0.8888888888888888,
             "#fdca26"
            ],
            [
             1,
             "#f0f921"
            ]
           ]
          },
          "colorway": [
           "#636efa",
           "#EF553B",
           "#00cc96",
           "#ab63fa",
           "#FFA15A",
           "#19d3f3",
           "#FF6692",
           "#B6E880",
           "#FF97FF",
           "#FECB52"
          ],
          "font": {
           "color": "#2a3f5f"
          },
          "geo": {
           "bgcolor": "white",
           "lakecolor": "white",
           "landcolor": "#E5ECF6",
           "showlakes": true,
           "showland": true,
           "subunitcolor": "white"
          },
          "hoverlabel": {
           "align": "left"
          },
          "hovermode": "closest",
          "mapbox": {
           "style": "light"
          },
          "paper_bgcolor": "white",
          "plot_bgcolor": "#E5ECF6",
          "polar": {
           "angularaxis": {
            "gridcolor": "white",
            "linecolor": "white",
            "ticks": ""
           },
           "bgcolor": "#E5ECF6",
           "radialaxis": {
            "gridcolor": "white",
            "linecolor": "white",
            "ticks": ""
           }
          },
          "scene": {
           "xaxis": {
            "backgroundcolor": "#E5ECF6",
            "gridcolor": "white",
            "gridwidth": 2,
            "linecolor": "white",
            "showbackground": true,
            "ticks": "",
            "zerolinecolor": "white"
           },
           "yaxis": {
            "backgroundcolor": "#E5ECF6",
            "gridcolor": "white",
            "gridwidth": 2,
            "linecolor": "white",
            "showbackground": true,
            "ticks": "",
            "zerolinecolor": "white"
           },
           "zaxis": {
            "backgroundcolor": "#E5ECF6",
            "gridcolor": "white",
            "gridwidth": 2,
            "linecolor": "white",
            "showbackground": true,
            "ticks": "",
            "zerolinecolor": "white"
           }
          },
          "shapedefaults": {
           "line": {
            "color": "#2a3f5f"
           }
          },
          "ternary": {
           "aaxis": {
            "gridcolor": "white",
            "linecolor": "white",
            "ticks": ""
           },
           "baxis": {
            "gridcolor": "white",
            "linecolor": "white",
            "ticks": ""
           },
           "bgcolor": "#E5ECF6",
           "caxis": {
            "gridcolor": "white",
            "linecolor": "white",
            "ticks": ""
           }
          },
          "title": {
           "x": 0.05
          },
          "xaxis": {
           "automargin": true,
           "gridcolor": "white",
           "linecolor": "white",
           "ticks": "",
           "title": {
            "standoff": 15
           },
           "zerolinecolor": "white",
           "zerolinewidth": 2
          },
          "yaxis": {
           "automargin": true,
           "gridcolor": "white",
           "linecolor": "white",
           "ticks": "",
           "title": {
            "standoff": 15
           },
           "zerolinecolor": "white",
           "zerolinewidth": 2
          }
         }
        },
        "title": {
         "text": "Hyperparameter Importances"
        },
        "xaxis": {
         "title": {
          "text": "Importance for Objective Value"
         }
        },
        "yaxis": {
         "title": {
          "text": "Hyperparameter"
         }
        }
       }
      },
      "text/html": [
       "<div>                            <div id=\"54cab7ad-1420-43f7-962a-9beb5afcbf05\" class=\"plotly-graph-div\" style=\"height:525px; width:100%;\"></div>            <script type=\"text/javascript\">                require([\"plotly\"], function(Plotly) {                    window.PLOTLYENV=window.PLOTLYENV || {};                                    if (document.getElementById(\"54cab7ad-1420-43f7-962a-9beb5afcbf05\")) {                    Plotly.newPlot(                        \"54cab7ad-1420-43f7-962a-9beb5afcbf05\",                        [{\"cliponaxis\":false,\"hovertemplate\":[\"objective (CategoricalDistribution): 0.0<extra></extra>\",\"random_state (CategoricalDistribution): 0.0<extra></extra>\",\"boosting_type (CategoricalDistribution): 0.0021807183348784894<extra></extra>\",\"random_strength (IntUniformDistribution): 0.008231832263955866<extra></extra>\",\"iterations (IntUniformDistribution): 0.01273774275854614<extra></extra>\",\"bootstrap_type (CategoricalDistribution): 0.02314630647103547<extra></extra>\",\"depth (IntUniformDistribution): 0.029462249270286768<extra></extra>\",\"colsample_bylevel (UniformDistribution): 0.4404508334033812<extra></extra>\",\"learning_rate (LogUniformDistribution): 0.48379031749791596<extra></extra>\"],\"marker\":{\"color\":\"rgb(66,146,198)\"},\"orientation\":\"h\",\"text\":[\"0.0\",\"0.0\",\"0.0021807183348784894\",\"0.008231832263955866\",\"0.01273774275854614\",\"0.02314630647103547\",\"0.029462249270286768\",\"0.4404508334033812\",\"0.48379031749791596\"],\"textposition\":\"outside\",\"texttemplate\":\"%{text:.2f}\",\"type\":\"bar\",\"x\":[0.0,0.0,0.0021807183348784894,0.008231832263955866,0.01273774275854614,0.02314630647103547,0.029462249270286768,0.4404508334033812,0.48379031749791596],\"y\":[\"objective\",\"random_state\",\"boosting_type\",\"random_strength\",\"iterations\",\"bootstrap_type\",\"depth\",\"colsample_bylevel\",\"learning_rate\"]}],                        {\"showlegend\":false,\"template\":{\"data\":{\"bar\":[{\"error_x\":{\"color\":\"#2a3f5f\"},\"error_y\":{\"color\":\"#2a3f5f\"},\"marker\":{\"line\":{\"color\":\"#E5ECF6\",\"width\":0.5},\"pattern\":{\"fillmode\":\"overlay\",\"size\":10,\"solidity\":0.2}},\"type\":\"bar\"}],\"barpolar\":[{\"marker\":{\"line\":{\"color\":\"#E5ECF6\",\"width\":0.5},\"pattern\":{\"fillmode\":\"overlay\",\"size\":10,\"solidity\":0.2}},\"type\":\"barpolar\"}],\"carpet\":[{\"aaxis\":{\"endlinecolor\":\"#2a3f5f\",\"gridcolor\":\"white\",\"linecolor\":\"white\",\"minorgridcolor\":\"white\",\"startlinecolor\":\"#2a3f5f\"},\"baxis\":{\"endlinecolor\":\"#2a3f5f\",\"gridcolor\":\"white\",\"linecolor\":\"white\",\"minorgridcolor\":\"white\",\"startlinecolor\":\"#2a3f5f\"},\"type\":\"carpet\"}],\"choropleth\":[{\"colorbar\":{\"outlinewidth\":0,\"ticks\":\"\"},\"type\":\"choropleth\"}],\"contour\":[{\"colorbar\":{\"outlinewidth\":0,\"ticks\":\"\"},\"colorscale\":[[0.0,\"#0d0887\"],[0.1111111111111111,\"#46039f\"],[0.2222222222222222,\"#7201a8\"],[0.3333333333333333,\"#9c179e\"],[0.4444444444444444,\"#bd3786\"],[0.5555555555555556,\"#d8576b\"],[0.6666666666666666,\"#ed7953\"],[0.7777777777777778,\"#fb9f3a\"],[0.8888888888888888,\"#fdca26\"],[1.0,\"#f0f921\"]],\"type\":\"contour\"}],\"contourcarpet\":[{\"colorbar\":{\"outlinewidth\":0,\"ticks\":\"\"},\"type\":\"contourcarpet\"}],\"heatmap\":[{\"colorbar\":{\"outlinewidth\":0,\"ticks\":\"\"},\"colorscale\":[[0.0,\"#0d0887\"],[0.1111111111111111,\"#46039f\"],[0.2222222222222222,\"#7201a8\"],[0.3333333333333333,\"#9c179e\"],[0.4444444444444444,\"#bd3786\"],[0.5555555555555556,\"#d8576b\"],[0.6666666666666666,\"#ed7953\"],[0.7777777777777778,\"#fb9f3a\"],[0.8888888888888888,\"#fdca26\"],[1.0,\"#f0f921\"]],\"type\":\"heatmap\"}],\"heatmapgl\":[{\"colorbar\":{\"outlinewidth\":0,\"ticks\":\"\"},\"colorscale\":[[0.0,\"#0d0887\"],[0.1111111111111111,\"#46039f\"],[0.2222222222222222,\"#7201a8\"],[0.3333333333333333,\"#9c179e\"],[0.4444444444444444,\"#bd3786\"],[0.5555555555555556,\"#d8576b\"],[0.6666666666666666,\"#ed7953\"],[0.7777777777777778,\"#fb9f3a\"],[0.8888888888888888,\"#fdca26\"],[1.0,\"#f0f921\"]],\"type\":\"heatmapgl\"}],\"histogram\":[{\"marker\":{\"pattern\":{\"fillmode\":\"overlay\",\"size\":10,\"solidity\":0.2}},\"type\":\"histogram\"}],\"histogram2d\":[{\"colorbar\":{\"outlinewidth\":0,\"ticks\":\"\"},\"colorscale\":[[0.0,\"#0d0887\"],[0.1111111111111111,\"#46039f\"],[0.2222222222222222,\"#7201a8\"],[0.3333333333333333,\"#9c179e\"],[0.4444444444444444,\"#bd3786\"],[0.5555555555555556,\"#d8576b\"],[0.6666666666666666,\"#ed7953\"],[0.7777777777777778,\"#fb9f3a\"],[0.8888888888888888,\"#fdca26\"],[1.0,\"#f0f921\"]],\"type\":\"histogram2d\"}],\"histogram2dcontour\":[{\"colorbar\":{\"outlinewidth\":0,\"ticks\":\"\"},\"colorscale\":[[0.0,\"#0d0887\"],[0.1111111111111111,\"#46039f\"],[0.2222222222222222,\"#7201a8\"],[0.3333333333333333,\"#9c179e\"],[0.4444444444444444,\"#bd3786\"],[0.5555555555555556,\"#d8576b\"],[0.6666666666666666,\"#ed7953\"],[0.7777777777777778,\"#fb9f3a\"],[0.8888888888888888,\"#fdca26\"],[1.0,\"#f0f921\"]],\"type\":\"histogram2dcontour\"}],\"mesh3d\":[{\"colorbar\":{\"outlinewidth\":0,\"ticks\":\"\"},\"type\":\"mesh3d\"}],\"parcoords\":[{\"line\":{\"colorbar\":{\"outlinewidth\":0,\"ticks\":\"\"}},\"type\":\"parcoords\"}],\"pie\":[{\"automargin\":true,\"type\":\"pie\"}],\"scatter\":[{\"marker\":{\"colorbar\":{\"outlinewidth\":0,\"ticks\":\"\"}},\"type\":\"scatter\"}],\"scatter3d\":[{\"line\":{\"colorbar\":{\"outlinewidth\":0,\"ticks\":\"\"}},\"marker\":{\"colorbar\":{\"outlinewidth\":0,\"ticks\":\"\"}},\"type\":\"scatter3d\"}],\"scattercarpet\":[{\"marker\":{\"colorbar\":{\"outlinewidth\":0,\"ticks\":\"\"}},\"type\":\"scattercarpet\"}],\"scattergeo\":[{\"marker\":{\"colorbar\":{\"outlinewidth\":0,\"ticks\":\"\"}},\"type\":\"scattergeo\"}],\"scattergl\":[{\"marker\":{\"colorbar\":{\"outlinewidth\":0,\"ticks\":\"\"}},\"type\":\"scattergl\"}],\"scattermapbox\":[{\"marker\":{\"colorbar\":{\"outlinewidth\":0,\"ticks\":\"\"}},\"type\":\"scattermapbox\"}],\"scatterpolar\":[{\"marker\":{\"colorbar\":{\"outlinewidth\":0,\"ticks\":\"\"}},\"type\":\"scatterpolar\"}],\"scatterpolargl\":[{\"marker\":{\"colorbar\":{\"outlinewidth\":0,\"ticks\":\"\"}},\"type\":\"scatterpolargl\"}],\"scatterternary\":[{\"marker\":{\"colorbar\":{\"outlinewidth\":0,\"ticks\":\"\"}},\"type\":\"scatterternary\"}],\"surface\":[{\"colorbar\":{\"outlinewidth\":0,\"ticks\":\"\"},\"colorscale\":[[0.0,\"#0d0887\"],[0.1111111111111111,\"#46039f\"],[0.2222222222222222,\"#7201a8\"],[0.3333333333333333,\"#9c179e\"],[0.4444444444444444,\"#bd3786\"],[0.5555555555555556,\"#d8576b\"],[0.6666666666666666,\"#ed7953\"],[0.7777777777777778,\"#fb9f3a\"],[0.8888888888888888,\"#fdca26\"],[1.0,\"#f0f921\"]],\"type\":\"surface\"}],\"table\":[{\"cells\":{\"fill\":{\"color\":\"#EBF0F8\"},\"line\":{\"color\":\"white\"}},\"header\":{\"fill\":{\"color\":\"#C8D4E3\"},\"line\":{\"color\":\"white\"}},\"type\":\"table\"}]},\"layout\":{\"annotationdefaults\":{\"arrowcolor\":\"#2a3f5f\",\"arrowhead\":0,\"arrowwidth\":1},\"autotypenumbers\":\"strict\",\"coloraxis\":{\"colorbar\":{\"outlinewidth\":0,\"ticks\":\"\"}},\"colorscale\":{\"diverging\":[[0,\"#8e0152\"],[0.1,\"#c51b7d\"],[0.2,\"#de77ae\"],[0.3,\"#f1b6da\"],[0.4,\"#fde0ef\"],[0.5,\"#f7f7f7\"],[0.6,\"#e6f5d0\"],[0.7,\"#b8e186\"],[0.8,\"#7fbc41\"],[0.9,\"#4d9221\"],[1,\"#276419\"]],\"sequential\":[[0.0,\"#0d0887\"],[0.1111111111111111,\"#46039f\"],[0.2222222222222222,\"#7201a8\"],[0.3333333333333333,\"#9c179e\"],[0.4444444444444444,\"#bd3786\"],[0.5555555555555556,\"#d8576b\"],[0.6666666666666666,\"#ed7953\"],[0.7777777777777778,\"#fb9f3a\"],[0.8888888888888888,\"#fdca26\"],[1.0,\"#f0f921\"]],\"sequentialminus\":[[0.0,\"#0d0887\"],[0.1111111111111111,\"#46039f\"],[0.2222222222222222,\"#7201a8\"],[0.3333333333333333,\"#9c179e\"],[0.4444444444444444,\"#bd3786\"],[0.5555555555555556,\"#d8576b\"],[0.6666666666666666,\"#ed7953\"],[0.7777777777777778,\"#fb9f3a\"],[0.8888888888888888,\"#fdca26\"],[1.0,\"#f0f921\"]]},\"colorway\":[\"#636efa\",\"#EF553B\",\"#00cc96\",\"#ab63fa\",\"#FFA15A\",\"#19d3f3\",\"#FF6692\",\"#B6E880\",\"#FF97FF\",\"#FECB52\"],\"font\":{\"color\":\"#2a3f5f\"},\"geo\":{\"bgcolor\":\"white\",\"lakecolor\":\"white\",\"landcolor\":\"#E5ECF6\",\"showlakes\":true,\"showland\":true,\"subunitcolor\":\"white\"},\"hoverlabel\":{\"align\":\"left\"},\"hovermode\":\"closest\",\"mapbox\":{\"style\":\"light\"},\"paper_bgcolor\":\"white\",\"plot_bgcolor\":\"#E5ECF6\",\"polar\":{\"angularaxis\":{\"gridcolor\":\"white\",\"linecolor\":\"white\",\"ticks\":\"\"},\"bgcolor\":\"#E5ECF6\",\"radialaxis\":{\"gridcolor\":\"white\",\"linecolor\":\"white\",\"ticks\":\"\"}},\"scene\":{\"xaxis\":{\"backgroundcolor\":\"#E5ECF6\",\"gridcolor\":\"white\",\"gridwidth\":2,\"linecolor\":\"white\",\"showbackground\":true,\"ticks\":\"\",\"zerolinecolor\":\"white\"},\"yaxis\":{\"backgroundcolor\":\"#E5ECF6\",\"gridcolor\":\"white\",\"gridwidth\":2,\"linecolor\":\"white\",\"showbackground\":true,\"ticks\":\"\",\"zerolinecolor\":\"white\"},\"zaxis\":{\"backgroundcolor\":\"#E5ECF6\",\"gridcolor\":\"white\",\"gridwidth\":2,\"linecolor\":\"white\",\"showbackground\":true,\"ticks\":\"\",\"zerolinecolor\":\"white\"}},\"shapedefaults\":{\"line\":{\"color\":\"#2a3f5f\"}},\"ternary\":{\"aaxis\":{\"gridcolor\":\"white\",\"linecolor\":\"white\",\"ticks\":\"\"},\"baxis\":{\"gridcolor\":\"white\",\"linecolor\":\"white\",\"ticks\":\"\"},\"bgcolor\":\"#E5ECF6\",\"caxis\":{\"gridcolor\":\"white\",\"linecolor\":\"white\",\"ticks\":\"\"}},\"title\":{\"x\":0.05},\"xaxis\":{\"automargin\":true,\"gridcolor\":\"white\",\"linecolor\":\"white\",\"ticks\":\"\",\"title\":{\"standoff\":15},\"zerolinecolor\":\"white\",\"zerolinewidth\":2},\"yaxis\":{\"automargin\":true,\"gridcolor\":\"white\",\"linecolor\":\"white\",\"ticks\":\"\",\"title\":{\"standoff\":15},\"zerolinecolor\":\"white\",\"zerolinewidth\":2}}},\"title\":{\"text\":\"Hyperparameter Importances\"},\"xaxis\":{\"title\":{\"text\":\"Importance for Objective Value\"}},\"yaxis\":{\"title\":{\"text\":\"Hyperparameter\"}}},                        {\"responsive\": true}                    ).then(function(){\n",
       "                            \n",
       "var gd = document.getElementById('54cab7ad-1420-43f7-962a-9beb5afcbf05');\n",
       "var x = new MutationObserver(function (mutations, observer) {{\n",
       "        var display = window.getComputedStyle(gd).display;\n",
       "        if (!display || display === 'none') {{\n",
       "            console.log([gd, 'removed!']);\n",
       "            Plotly.purge(gd);\n",
       "            observer.disconnect();\n",
       "        }}\n",
       "}});\n",
       "\n",
       "// Listen for the removal of the full notebook cells\n",
       "var notebookContainer = gd.closest('#notebook-container');\n",
       "if (notebookContainer) {{\n",
       "    x.observe(notebookContainer, {childList: true});\n",
       "}}\n",
       "\n",
       "// Listen for the clearing of the current output cell\n",
       "var outputEl = gd.closest('.output');\n",
       "if (outputEl) {{\n",
       "    x.observe(outputEl, {childList: true});\n",
       "}}\n",
       "\n",
       "                        })                };                });            </script>        </div>"
      ]
     },
     "metadata": {},
     "output_type": "display_data"
    }
   ],
   "source": [
    "# Save\n",
    "pickle.dump(study.best_trial.params, open('CatBoost_Hyperparameter.pickle', 'wb'))\n",
    "print(\"Best Score: \", study.best_value)\n",
    "\n",
    "printmd('**CatBoost Tuned Hyperparameters**')\n",
    "pprint.pprint(study.best_trial.params)\n",
    "\n",
    "# history\n",
    "display(optuna.visualization.plot_optimization_history(study))\n",
    "\n",
    "# Importance\n",
    "display(plot_param_importances(study))"
   ]
  },
  {
   "cell_type": "markdown",
   "id": "86d5034a",
   "metadata": {
    "id": "dh_O_IWxDEcz",
    "papermill": {
     "duration": 0.107192,
     "end_time": "2022-09-22T00:38:40.198771",
     "exception": false,
     "start_time": "2022-09-22T00:38:40.091579",
     "status": "completed"
    },
    "tags": []
   },
   "source": [
    "<a id='5.3'></a>\n",
    "## 5.3 XGBoost"
   ]
  },
  {
   "cell_type": "markdown",
   "id": "964a6f69",
   "metadata": {
    "id": "7qYz2tBVW2Xe",
    "papermill": {
     "duration": 0.104878,
     "end_time": "2022-09-22T00:38:40.410809",
     "exception": false,
     "start_time": "2022-09-22T00:38:40.305931",
     "status": "completed"
    },
    "tags": []
   },
   "source": [
    "<a id='5.3.1'></a>\n",
    "### 5.3.1 Training"
   ]
  },
  {
   "cell_type": "code",
   "execution_count": 17,
   "id": "671301e9",
   "metadata": {
    "execution": {
     "iopub.execute_input": "2022-09-22T00:38:40.637140Z",
     "iopub.status.busy": "2022-09-22T00:38:40.636313Z",
     "iopub.status.idle": "2022-09-22T00:39:11.598962Z",
     "shell.execute_reply": "2022-09-22T00:39:11.599462Z",
     "shell.execute_reply.started": "2022-04-25T18:35:40.926826Z"
    },
    "id": "ApyzE1-mDD98",
    "outputId": "77bafc6c-e7e0-40e2-e759-c1536f401735",
    "papermill": {
     "duration": 31.08065,
     "end_time": "2022-09-22T00:39:11.599634",
     "exception": false,
     "start_time": "2022-09-22T00:38:40.518984",
     "status": "completed"
    },
    "tags": []
   },
   "outputs": [
    {
     "data": {
      "text/markdown": [
       "**xgb Init**"
      ],
      "text/plain": [
       "<IPython.core.display.Markdown object>"
      ]
     },
     "metadata": {},
     "output_type": "display_data"
    },
    {
     "name": "stdout",
     "output_type": "stream",
     "text": [
      "--------------------------------------------------\n",
      "Fold 1\n",
      "AUC Score :  0.8258373590982286\n",
      "--------------------------------------------------\n",
      "Fold 2\n",
      "AUC Score :  0.8636070853462159\n",
      "--------------------------------------------------\n",
      "Fold 3\n",
      "AUC Score :  0.8308534621578099\n",
      "--------------------------------------------------\n",
      "Fold 4\n",
      "AUC Score :  0.8285185185185184\n",
      "--------------------------------------------------\n",
      "Fold 5\n",
      "AUC Score :  0.842306195895341\n",
      "--------------------------------------------------\n",
      "Fold 6\n",
      "AUC Score :  0.8477936646889084\n",
      "--------------------------------------------------\n",
      "Fold 7\n",
      "AUC Score :  0.8641182764322537\n",
      "--------------------------------------------------\n",
      "Fold 8\n",
      "AUC Score :  0.8594737865966345\n",
      "--------------------------------------------------\n",
      "Fold 9\n",
      "AUC Score :  0.8550238303666959\n",
      "--------------------------------------------------\n",
      "Fold 10\n",
      "AUC Score :  0.8646973365617433\n",
      "--------------------------------------------------\n",
      "Train : Base Model - xgb - AUC score : mean ---> 0.8482229515662348, std ---> 0.014696402301766843\n",
      "Test  : Base Model - xgb - AUC score : 0.8466106073522953\n",
      "Done!\n",
      "CPU times: user 29 s, sys: 622 ms, total: 29.6 s\n",
      "Wall time: 30.6 s\n"
     ]
    },
    {
     "data": {
      "image/png": "[encoded data removed]",
      "text/plain": [
       "<Figure size 1000x800 with 1 Axes>"
      ]
     },
     "metadata": {
      "needs_background": "light"
     },
     "output_type": "display_data"
    }
   ],
   "source": [
    "%%time\n",
    "fold_num = 10\n",
    "\n",
    "\n",
    "# https://stackoverflow.com/questions/51022822/subsample-colsample-bytree-colsample-bylevel-in-xgbclassifier-python-3-x\n",
    "\n",
    "xgb_params = {'colsample_bytree': 0.2645340949128848,\n",
    "'eval_metric': 'auc',\n",
    "'tree_method': 'gpu_hist',\n",
    "'gpu_id': 0,\n",
    "'predictor': 'gpu_predictor',\n",
    "'gamma': 0,\n",
    "'learning_rate': 0.001851851953410451,\n",
    "'max_depth': 3,\n",
    "'n_estimators': 6000,\n",
    "'random_state': SEED,\n",
    "'reg_lambda': 0.1,\n",
    "'subsample': 0.6905005604726816,\n",
    "'use_label_encoder': False }\n",
    "\n",
    "\n",
    "xgb = XGBClassifier(**xgb_params)\n",
    "\n",
    "train_model(xgb, 'xgb', X, y, X_test, fold_num)"
   ]
  },
  {
   "cell_type": "markdown",
   "id": "eed8ab77",
   "metadata": {
    "id": "fUUT7VkgYHdN",
    "papermill": {
     "duration": 0.110348,
     "end_time": "2022-09-22T00:39:11.820203",
     "exception": false,
     "start_time": "2022-09-22T00:39:11.709855",
     "status": "completed"
    },
    "tags": []
   },
   "source": [
    "<a id='5.3.2'></a>\n",
    "### 5.3.2 Optuna Tuning"
   ]
  },
  {
   "cell_type": "code",
   "execution_count": 18,
   "id": "8b890d05",
   "metadata": {
    "execution": {
     "iopub.execute_input": "2022-09-22T00:39:12.055651Z",
     "iopub.status.busy": "2022-09-22T00:39:12.054817Z",
     "iopub.status.idle": "2022-09-22T00:39:12.057870Z",
     "shell.execute_reply": "2022-09-22T00:39:12.058288Z",
     "shell.execute_reply.started": "2022-04-25T18:36:11.323169Z"
    },
    "id": "yMmmEA-0YHdN",
    "outputId": "27dd67b2-4943-44b2-a595-e4c69d84dbb7",
    "papermill": {
     "duration": 0.123635,
     "end_time": "2022-09-22T00:39:12.058435",
     "exception": false,
     "start_time": "2022-09-22T00:39:11.934800",
     "status": "completed"
    },
    "tags": []
   },
   "outputs": [
    {
     "name": "stdout",
     "output_type": "stream",
     "text": [
      "CPU times: user 9 µs, sys: 1e+03 ns, total: 10 µs\n",
      "Wall time: 12.9 µs\n"
     ]
    }
   ],
   "source": [
    "%%time\n",
    "def objective(trial):\n",
    "    X_train, X_test, y_train, y_test = train_test_split(X, y, test_size=0.25, random_state=int(SEED), shuffle=True, stratify=y)\n",
    "\n",
    "    params  = {\n",
    "          'n_estimators': trial.suggest_categorical('n_estimators',[10000]),  \n",
    "          'learning_rate': trial.suggest_float('learning_rate',1e-3,5e-1,log=True),\n",
    "          'max_depth': trial.suggest_int('max_depth',3,12),\n",
    "          'colsample_bytree': trial.suggest_float('colsample_bytree',0.2,0.99,log=True), \n",
    "          'subsample': trial.suggest_float('subsample',0.2,0.99,log=True),\n",
    "          'eval_metric': trial.suggest_categorical('eval_metric',['auc']),\n",
    "          'use_label_encoder':trial.suggest_categorical('use_label_encoder',[False]),\n",
    "          'gamma': trial.suggest_categorical('gamma',[0, 0.25, 0.5, 1.0]),\n",
    "          'reg_lambda': trial.suggest_categorical('reg_lambda',[0.1, 1.0, 5.0, 10.0, 50.0, 100.0]),\n",
    "          'tree_method': trial.suggest_categorical('tree_method',['gpu_hist']),\n",
    "          'gpu_id': trial.suggest_categorical('gpu_id',[0]),\n",
    "          'predictor' : trial.suggest_categorical('predictor',['gpu_predictor']),\n",
    "          'random_state': trial.suggest_categorical('random_state',[SEED])\n",
    "         }\n",
    "\n",
    "    # learning\n",
    "    model = XGBClassifier(**params)        \n",
    "    model.fit(X_train, y_train, \n",
    "              verbose=False) # 1000\n",
    "    val_preds = model.predict_proba(X_test)[:,1]\n",
    "    auc = roc_auc_score(y_test, val_preds) # AUROC requires probabilities of the predictions\n",
    "    # print(\"AUC Score : \",auc) # check the auc score in each trial\n",
    "    \n",
    "    return auc"
   ]
  },
  {
   "cell_type": "code",
   "execution_count": 19,
   "id": "0cfec122",
   "metadata": {
    "_kg_hide-output": true,
    "execution": {
     "iopub.execute_input": "2022-09-22T00:39:12.293183Z",
     "iopub.status.busy": "2022-09-22T00:39:12.292322Z",
     "iopub.status.idle": "2022-09-22T01:13:28.650129Z",
     "shell.execute_reply": "2022-09-22T01:13:28.650580Z",
     "shell.execute_reply.started": "2022-04-25T18:36:11.337247Z"
    },
    "id": "V6-J7rgQYHdO",
    "outputId": "8751e726-0f44-48bc-dcf0-6d6767e055cb",
    "papermill": {
     "duration": 2056.478673,
     "end_time": "2022-09-22T01:13:28.650787",
     "exception": false,
     "start_time": "2022-09-22T00:39:12.172114",
     "status": "completed"
    },
    "tags": []
   },
   "outputs": [
    {
     "name": "stderr",
     "output_type": "stream",
     "text": [
      "\u001b[32m[I 2022-09-22 00:39:12,290]\u001b[0m A new study created in memory with name: no-name-46a2f8c8-5b76-4f2e-bf01-665fd6ba74fa\u001b[0m\n",
      "\u001b[32m[I 2022-09-22 00:39:28,996]\u001b[0m Trial 0 finished with value: 0.8220155519388257 and parameters: {'n_estimators': 10000, 'learning_rate': 0.2829845082565586, 'max_depth': 10, 'colsample_bytree': 0.3567522519345303, 'subsample': 0.2728886614182077, 'eval_metric': 'auc', 'use_label_encoder': False, 'gamma': 1.0, 'reg_lambda': 100.0, 'tree_method': 'gpu_hist', 'gpu_id': 0, 'predictor': 'gpu_predictor', 'random_state': 42}. Best is trial 0 with value: 0.8220155519388257.\u001b[0m\n",
      "\u001b[32m[I 2022-09-22 00:39:31,107]\u001b[0m Trial 1 finished with value: 0.7960616394120231 and parameters: {'n_estimators': 10000, 'learning_rate': 0.22858724912300907, 'max_depth': 6, 'colsample_bytree': 0.47970459946611643, 'subsample': 0.8047305268130026, 'eval_metric': 'auc', 'use_label_encoder': False, 'gamma': 0.5, 'reg_lambda': 5.0, 'tree_method': 'gpu_hist', 'gpu_id': 0, 'predictor': 'gpu_predictor', 'random_state': 42}. Best is trial 0 with value: 0.8220155519388257.\u001b[0m\n",
      "\u001b[32m[I 2022-09-22 00:39:56,247]\u001b[0m Trial 3 finished with value: 0.8372897775711075 and parameters: {'n_estimators': 10000, 'learning_rate': 0.003078843413419537, 'max_depth': 3, 'colsample_bytree': 0.34088604574244236, 'subsample': 0.5993668748580582, 'eval_metric': 'auc', 'use_label_encoder': False, 'gamma': 0.25, 'reg_lambda': 5.0, 'tree_method': 'gpu_hist', 'gpu_id': 0, 'predictor': 'gpu_predictor', 'random_state': 42}. Best is trial 3 with value: 0.8372897775711075.\u001b[0m\n",
      "\u001b[32m[I 2022-09-22 00:40:00,978]\u001b[0m Trial 2 finished with value: 0.8057518923247824 and parameters: {'n_estimators': 10000, 'learning_rate': 0.009117070233634776, 'max_depth': 4, 'colsample_bytree': 0.7889524634109494, 'subsample': 0.2633137255077237, 'eval_metric': 'auc', 'use_label_encoder': False, 'gamma': 0.25, 'reg_lambda': 0.1, 'tree_method': 'gpu_hist', 'gpu_id': 0, 'predictor': 'gpu_predictor', 'random_state': 42}. Best is trial 3 with value: 0.8372897775711075.\u001b[0m\n",
      "\u001b[32m[I 2022-09-22 00:40:41,606]\u001b[0m Trial 5 finished with value: 0.7960823064403627 and parameters: {'n_estimators': 10000, 'learning_rate': 0.01566979176270396, 'max_depth': 6, 'colsample_bytree': 0.6483644247740143, 'subsample': 0.32466866211983375, 'eval_metric': 'auc', 'use_label_encoder': False, 'gamma': 1.0, 'reg_lambda': 0.1, 'tree_method': 'gpu_hist', 'gpu_id': 0, 'predictor': 'gpu_predictor', 'random_state': 42}. Best is trial 3 with value: 0.8372897775711075.\u001b[0m\n",
      "\u001b[32m[I 2022-09-22 00:40:55,618]\u001b[0m Trial 4 finished with value: 0.8158916531039294 and parameters: {'n_estimators': 10000, 'learning_rate': 0.005026878587899567, 'max_depth': 6, 'colsample_bytree': 0.8503572431971471, 'subsample': 0.345947804098765, 'eval_metric': 'auc', 'use_label_encoder': False, 'gamma': 0.5, 'reg_lambda': 5.0, 'tree_method': 'gpu_hist', 'gpu_id': 0, 'predictor': 'gpu_predictor', 'random_state': 42}. Best is trial 3 with value: 0.8372897775711075.\u001b[0m\n",
      "\u001b[32m[I 2022-09-22 00:41:01,744]\u001b[0m Trial 6 finished with value: 0.8147007155958563 and parameters: {'n_estimators': 10000, 'learning_rate': 0.020520654484292192, 'max_depth': 3, 'colsample_bytree': 0.4131398803029617, 'subsample': 0.30000684083902757, 'eval_metric': 'auc', 'use_label_encoder': False, 'gamma': 0.25, 'reg_lambda': 5.0, 'tree_method': 'gpu_hist', 'gpu_id': 0, 'predictor': 'gpu_predictor', 'random_state': 42}. Best is trial 3 with value: 0.8372897775711075.\u001b[0m\n",
      "\u001b[32m[I 2022-09-22 00:41:14,727]\u001b[0m Trial 7 finished with value: 0.7689516649874706 and parameters: {'n_estimators': 10000, 'learning_rate': 0.22280162612879523, 'max_depth': 10, 'colsample_bytree': 0.3649345064540015, 'subsample': 0.377722022896706, 'eval_metric': 'auc', 'use_label_encoder': False, 'gamma': 1.0, 'reg_lambda': 0.1, 'tree_method': 'gpu_hist', 'gpu_id': 0, 'predictor': 'gpu_predictor', 'random_state': 42}. Best is trial 3 with value: 0.8372897775711075.\u001b[0m\n",
      "\u001b[32m[I 2022-09-22 00:41:21,237]\u001b[0m Trial 8 finished with value: 0.7650016791960526 and parameters: {'n_estimators': 10000, 'learning_rate': 0.48421004009081503, 'max_depth': 4, 'colsample_bytree': 0.9584365488900695, 'subsample': 0.39530154394335587, 'eval_metric': 'auc', 'use_label_encoder': False, 'gamma': 1.0, 'reg_lambda': 5.0, 'tree_method': 'gpu_hist', 'gpu_id': 0, 'predictor': 'gpu_predictor', 'random_state': 42}. Best is trial 3 with value: 0.8372897775711075.\u001b[0m\n",
      "\u001b[32m[I 2022-09-22 00:41:47,468]\u001b[0m Trial 10 finished with value: 0.7544718282569944 and parameters: {'n_estimators': 10000, 'learning_rate': 0.18087125223836525, 'max_depth': 9, 'colsample_bytree': 0.8441617965595873, 'subsample': 0.23730355407996623, 'eval_metric': 'auc', 'use_label_encoder': False, 'gamma': 1.0, 'reg_lambda': 0.1, 'tree_method': 'gpu_hist', 'gpu_id': 0, 'predictor': 'gpu_predictor', 'random_state': 42}. Best is trial 3 with value: 0.8372897775711075.\u001b[0m\n",
      "\u001b[32m[I 2022-09-22 00:42:12,052]\u001b[0m Trial 9 finished with value: 0.8282634529437598 and parameters: {'n_estimators': 10000, 'learning_rate': 0.0021726183797019525, 'max_depth': 11, 'colsample_bytree': 0.2709306541213419, 'subsample': 0.31085575970074625, 'eval_metric': 'auc', 'use_label_encoder': False, 'gamma': 1.0, 'reg_lambda': 0.1, 'tree_method': 'gpu_hist', 'gpu_id': 0, 'predictor': 'gpu_predictor', 'random_state': 42}. Best is trial 3 with value: 0.8372897775711075.\u001b[0m\n",
      "\u001b[32m[I 2022-09-22 00:44:22,377]\u001b[0m Trial 11 finished with value: 0.8356054147614249 and parameters: {'n_estimators': 10000, 'learning_rate': 0.0012559685169543917, 'max_depth': 12, 'colsample_bytree': 0.21878802646230844, 'subsample': 0.8423763858095251, 'eval_metric': 'auc', 'use_label_encoder': False, 'gamma': 0, 'reg_lambda': 10.0, 'tree_method': 'gpu_hist', 'gpu_id': 0, 'predictor': 'gpu_predictor', 'random_state': 42}. Best is trial 3 with value: 0.8372897775711075.\u001b[0m\n",
      "\u001b[32m[I 2022-09-22 00:45:01,803]\u001b[0m Trial 12 finished with value: 0.8292554703040637 and parameters: {'n_estimators': 10000, 'learning_rate': 0.0012477722035610186, 'max_depth': 11, 'colsample_bytree': 0.20774618757327518, 'subsample': 0.6222442454188447, 'eval_metric': 'auc', 'use_label_encoder': False, 'gamma': 0, 'reg_lambda': 1.0, 'tree_method': 'gpu_hist', 'gpu_id': 0, 'predictor': 'gpu_predictor', 'random_state': 42}. Best is trial 3 with value: 0.8372897775711075.\u001b[0m\n",
      "\u001b[32m[I 2022-09-22 00:46:25,813]\u001b[0m Trial 13 finished with value: 0.8372458601358858 and parameters: {'n_estimators': 10000, 'learning_rate': 0.0010102765629752262, 'max_depth': 12, 'colsample_bytree': 0.2044774520764095, 'subsample': 0.7125736300885571, 'eval_metric': 'auc', 'use_label_encoder': False, 'gamma': 0, 'reg_lambda': 10.0, 'tree_method': 'gpu_hist', 'gpu_id': 0, 'predictor': 'gpu_predictor', 'random_state': 42}. Best is trial 3 with value: 0.8372897775711075.\u001b[0m\n",
      "\u001b[32m[I 2022-09-22 00:46:34,489]\u001b[0m Trial 14 finished with value: 0.8297695626340127 and parameters: {'n_estimators': 10000, 'learning_rate': 0.003373637102035211, 'max_depth': 8, 'colsample_bytree': 0.20492230661299338, 'subsample': 0.9849517119896254, 'eval_metric': 'auc', 'use_label_encoder': False, 'gamma': 0, 'reg_lambda': 10.0, 'tree_method': 'gpu_hist', 'gpu_id': 0, 'predictor': 'gpu_predictor', 'random_state': 42}. Best is trial 3 with value: 0.8372897775711075.\u001b[0m\n",
      "\u001b[32m[I 2022-09-22 00:47:04,210]\u001b[0m Trial 15 finished with value: 0.836891937275569 and parameters: {'n_estimators': 10000, 'learning_rate': 0.0037987439560660608, 'max_depth': 8, 'colsample_bytree': 0.2871751740417824, 'subsample': 0.5491063797738832, 'eval_metric': 'auc', 'use_label_encoder': False, 'gamma': 0.25, 'reg_lambda': 50.0, 'tree_method': 'gpu_hist', 'gpu_id': 0, 'predictor': 'gpu_predictor', 'random_state': 42}. Best is trial 3 with value: 0.8372897775711075.\u001b[0m\n",
      "\u001b[32m[I 2022-09-22 00:47:06,572]\u001b[0m Trial 16 finished with value: 0.8162765765067554 and parameters: {'n_estimators': 10000, 'learning_rate': 0.044434620214682, 'max_depth': 7, 'colsample_bytree': 0.2801908672852314, 'subsample': 0.5353525638097842, 'eval_metric': 'auc', 'use_label_encoder': False, 'gamma': 0.25, 'reg_lambda': 50.0, 'tree_method': 'gpu_hist', 'gpu_id': 0, 'predictor': 'gpu_predictor', 'random_state': 42}. Best is trial 3 with value: 0.8372897775711075.\u001b[0m\n",
      "\u001b[32m[I 2022-09-22 00:47:31,765]\u001b[0m Trial 18 finished with value: 0.795141956650908 and parameters: {'n_estimators': 10000, 'learning_rate': 0.0555810197560839, 'max_depth': 3, 'colsample_bytree': 0.5008552951046691, 'subsample': 0.6135707517938227, 'eval_metric': 'auc', 'use_label_encoder': False, 'gamma': 0, 'reg_lambda': 10.0, 'tree_method': 'gpu_hist', 'gpu_id': 0, 'predictor': 'gpu_predictor', 'random_state': 42}. Best is trial 3 with value: 0.8372897775711075.\u001b[0m\n",
      "\u001b[32m[I 2022-09-22 00:47:33,792]\u001b[0m Trial 17 finished with value: 0.7826487380195821 and parameters: {'n_estimators': 10000, 'learning_rate': 0.09520525144296443, 'max_depth': 5, 'colsample_bytree': 0.5581769025416332, 'subsample': 0.529838573267033, 'eval_metric': 'auc', 'use_label_encoder': False, 'gamma': 0.25, 'reg_lambda': 10.0, 'tree_method': 'gpu_hist', 'gpu_id': 0, 'predictor': 'gpu_predictor', 'random_state': 42}. Best is trial 3 with value: 0.8372897775711075.\u001b[0m\n",
      "\u001b[32m[I 2022-09-22 00:48:23,245]\u001b[0m Trial 19 finished with value: 0.8384290475083314 and parameters: {'n_estimators': 10000, 'learning_rate': 0.001047056858479807, 'max_depth': 5, 'colsample_bytree': 0.24695234529687865, 'subsample': 0.4685708770139289, 'eval_metric': 'auc', 'use_label_encoder': False, 'gamma': 0.25, 'reg_lambda': 1.0, 'tree_method': 'gpu_hist', 'gpu_id': 0, 'predictor': 'gpu_predictor', 'random_state': 42}. Best is trial 19 with value: 0.8384290475083314.\u001b[0m\n",
      "\u001b[32m[I 2022-09-22 00:49:00,800]\u001b[0m Trial 21 finished with value: 0.8158606525614198 and parameters: {'n_estimators': 10000, 'learning_rate': 0.00839246772140575, 'max_depth': 4, 'colsample_bytree': 0.327734831834221, 'subsample': 0.4470239585034068, 'eval_metric': 'auc', 'use_label_encoder': False, 'gamma': 0.25, 'reg_lambda': 1.0, 'tree_method': 'gpu_hist', 'gpu_id': 0, 'predictor': 'gpu_predictor', 'random_state': 42}. Best is trial 19 with value: 0.8384290475083314.\u001b[0m\n",
      "\u001b[32m[I 2022-09-22 00:49:04,495]\u001b[0m Trial 20 finished with value: 0.8340760546642899 and parameters: {'n_estimators': 10000, 'learning_rate': 0.007717494897611137, 'max_depth': 12, 'colsample_bytree': 0.2464391470008087, 'subsample': 0.7366737135300547, 'eval_metric': 'auc', 'use_label_encoder': False, 'gamma': 0, 'reg_lambda': 100.0, 'tree_method': 'gpu_hist', 'gpu_id': 0, 'predictor': 'gpu_predictor', 'random_state': 42}. Best is trial 19 with value: 0.8384290475083314.\u001b[0m\n",
      "\u001b[32m[I 2022-09-22 00:49:48,463]\u001b[0m Trial 22 finished with value: 0.8388475548322095 and parameters: {'n_estimators': 10000, 'learning_rate': 0.0010124694207308636, 'max_depth': 5, 'colsample_bytree': 0.23391493472224711, 'subsample': 0.717553831446161, 'eval_metric': 'auc', 'use_label_encoder': False, 'gamma': 0.25, 'reg_lambda': 1.0, 'tree_method': 'gpu_hist', 'gpu_id': 0, 'predictor': 'gpu_predictor', 'random_state': 42}. Best is trial 22 with value: 0.8388475548322095.\u001b[0m\n",
      "\u001b[32m[I 2022-09-22 00:49:51,509]\u001b[0m Trial 23 finished with value: 0.8385194657573174 and parameters: {'n_estimators': 10000, 'learning_rate': 0.0010222769362243046, 'max_depth': 5, 'colsample_bytree': 0.24279134892120205, 'subsample': 0.45781579758986507, 'eval_metric': 'auc', 'use_label_encoder': False, 'gamma': 0.25, 'reg_lambda': 1.0, 'tree_method': 'gpu_hist', 'gpu_id': 0, 'predictor': 'gpu_predictor', 'random_state': 42}. Best is trial 22 with value: 0.8388475548322095.\u001b[0m\n",
      "\u001b[32m[I 2022-09-22 00:50:35,256]\u001b[0m Trial 24 finished with value: 0.8338306337027565 and parameters: {'n_estimators': 10000, 'learning_rate': 0.002002386632977312, 'max_depth': 5, 'colsample_bytree': 0.24704087542259903, 'subsample': 0.46675297256871423, 'eval_metric': 'auc', 'use_label_encoder': False, 'gamma': 0.25, 'reg_lambda': 1.0, 'tree_method': 'gpu_hist', 'gpu_id': 0, 'predictor': 'gpu_predictor', 'random_state': 42}. Best is trial 22 with value: 0.8388475548322095.\u001b[0m\n",
      "\u001b[32m[I 2022-09-22 00:50:38,324]\u001b[0m Trial 25 finished with value: 0.8349724870185229 and parameters: {'n_estimators': 10000, 'learning_rate': 0.0017457029972778153, 'max_depth': 5, 'colsample_bytree': 0.24220081740660065, 'subsample': 0.4566775479743467, 'eval_metric': 'auc', 'use_label_encoder': False, 'gamma': 0.25, 'reg_lambda': 1.0, 'tree_method': 'gpu_hist', 'gpu_id': 0, 'predictor': 'gpu_predictor', 'random_state': 42}. Best is trial 22 with value: 0.8388475548322095.\u001b[0m\n",
      "\u001b[32m[I 2022-09-22 00:51:22,166]\u001b[0m Trial 26 finished with value: 0.8347580665994988 and parameters: {'n_estimators': 10000, 'learning_rate': 0.0017458215580150942, 'max_depth': 5, 'colsample_bytree': 0.24756172274240057, 'subsample': 0.4064180558758676, 'eval_metric': 'auc', 'use_label_encoder': False, 'gamma': 0.25, 'reg_lambda': 1.0, 'tree_method': 'gpu_hist', 'gpu_id': 0, 'predictor': 'gpu_predictor', 'random_state': 42}. Best is trial 22 with value: 0.8388475548322095.\u001b[0m\n",
      "\u001b[32m[I 2022-09-22 00:51:55,089]\u001b[0m Trial 28 finished with value: 0.8347322328140743 and parameters: {'n_estimators': 10000, 'learning_rate': 0.004870690634015518, 'max_depth': 7, 'colsample_bytree': 0.3088547223119976, 'subsample': 0.9648791172604052, 'eval_metric': 'auc', 'use_label_encoder': False, 'gamma': 0.5, 'reg_lambda': 1.0, 'tree_method': 'gpu_hist', 'gpu_id': 0, 'predictor': 'gpu_predictor', 'random_state': 42}. Best is trial 22 with value: 0.8388475548322095.\u001b[0m\n",
      "\u001b[32m[I 2022-09-22 00:52:01,475]\u001b[0m Trial 27 finished with value: 0.8275065230308196 and parameters: {'n_estimators': 10000, 'learning_rate': 0.0018983344037389249, 'max_depth': 7, 'colsample_bytree': 0.3103425370521402, 'subsample': 0.39417297796269735, 'eval_metric': 'auc', 'use_label_encoder': False, 'gamma': 0.25, 'reg_lambda': 1.0, 'tree_method': 'gpu_hist', 'gpu_id': 0, 'predictor': 'gpu_predictor', 'random_state': 42}. Best is trial 22 with value: 0.8388475548322095.\u001b[0m\n",
      "\u001b[32m[I 2022-09-22 00:52:42,612]\u001b[0m Trial 30 finished with value: 0.8381267922188639 and parameters: {'n_estimators': 10000, 'learning_rate': 0.0010163582639266104, 'max_depth': 6, 'colsample_bytree': 0.3799766994501056, 'subsample': 0.4817757971212302, 'eval_metric': 'auc', 'use_label_encoder': False, 'gamma': 0.25, 'reg_lambda': 100.0, 'tree_method': 'gpu_hist', 'gpu_id': 0, 'predictor': 'gpu_predictor', 'random_state': 42}. Best is trial 22 with value: 0.8388475548322095.\u001b[0m\n",
      "\u001b[32m[I 2022-09-22 00:53:06,327]\u001b[0m Trial 29 finished with value: 0.8332028727169394 and parameters: {'n_estimators': 10000, 'learning_rate': 0.0010745274371117973, 'max_depth': 6, 'colsample_bytree': 0.4228053524329314, 'subsample': 0.5015209488456376, 'eval_metric': 'auc', 'use_label_encoder': False, 'gamma': 0.25, 'reg_lambda': 1.0, 'tree_method': 'gpu_hist', 'gpu_id': 0, 'predictor': 'gpu_predictor', 'random_state': 42}. Best is trial 22 with value: 0.8388475548322095.\u001b[0m\n",
      "\u001b[32m[I 2022-09-22 00:53:09,752]\u001b[0m Trial 31 finished with value: 0.8358172518019066 and parameters: {'n_estimators': 10000, 'learning_rate': 0.0029261325093877483, 'max_depth': 4, 'colsample_bytree': 0.22214267875200042, 'subsample': 0.7126423297554336, 'eval_metric': 'auc', 'use_label_encoder': False, 'gamma': 0.25, 'reg_lambda': 1.0, 'tree_method': 'gpu_hist', 'gpu_id': 0, 'predictor': 'gpu_predictor', 'random_state': 42}. Best is trial 22 with value: 0.8388475548322095.\u001b[0m\n",
      "\u001b[32m[I 2022-09-22 00:53:34,199]\u001b[0m Trial 32 finished with value: 0.8380286238342504 and parameters: {'n_estimators': 10000, 'learning_rate': 0.0024730303587113304, 'max_depth': 4, 'colsample_bytree': 0.38548419000973766, 'subsample': 0.7030212942655578, 'eval_metric': 'auc', 'use_label_encoder': False, 'gamma': 0.25, 'reg_lambda': 100.0, 'tree_method': 'gpu_hist', 'gpu_id': 0, 'predictor': 'gpu_predictor', 'random_state': 42}. Best is trial 22 with value: 0.8388475548322095.\u001b[0m\n",
      "\u001b[32m[I 2022-09-22 00:53:41,800]\u001b[0m Trial 33 finished with value: 0.8381758764111705 and parameters: {'n_estimators': 10000, 'learning_rate': 0.001018596806095451, 'max_depth': 5, 'colsample_bytree': 0.3968763850141573, 'subsample': 0.47452067755327193, 'eval_metric': 'auc', 'use_label_encoder': False, 'gamma': 0.25, 'reg_lambda': 100.0, 'tree_method': 'gpu_hist', 'gpu_id': 0, 'predictor': 'gpu_predictor', 'random_state': 42}. Best is trial 22 with value: 0.8388475548322095.\u001b[0m\n",
      "\u001b[32m[I 2022-09-22 00:54:02,389]\u001b[0m Trial 34 finished with value: 0.8385504662998269 and parameters: {'n_estimators': 10000, 'learning_rate': 0.0014974796807871893, 'max_depth': 5, 'colsample_bytree': 0.2678534832865449, 'subsample': 0.49462611260983175, 'eval_metric': 'auc', 'use_label_encoder': False, 'gamma': 0.25, 'reg_lambda': 100.0, 'tree_method': 'gpu_hist', 'gpu_id': 0, 'predictor': 'gpu_predictor', 'random_state': 42}. Best is trial 22 with value: 0.8388475548322095.\u001b[0m\n",
      "\u001b[32m[I 2022-09-22 00:54:14,033]\u001b[0m Trial 35 finished with value: 0.8379252886925522 and parameters: {'n_estimators': 10000, 'learning_rate': 0.001630326901441164, 'max_depth': 5, 'colsample_bytree': 0.643343324555474, 'subsample': 0.5806110386570649, 'eval_metric': 'auc', 'use_label_encoder': False, 'gamma': 0.5, 'reg_lambda': 100.0, 'tree_method': 'gpu_hist', 'gpu_id': 0, 'predictor': 'gpu_predictor', 'random_state': 42}. Best is trial 22 with value: 0.8388475548322095.\u001b[0m\n",
      "\u001b[32m[I 2022-09-22 00:54:28,566]\u001b[0m Trial 36 finished with value: 0.8386253842775583 and parameters: {'n_estimators': 10000, 'learning_rate': 0.001573828341617528, 'max_depth': 5, 'colsample_bytree': 0.2681262366472162, 'subsample': 0.5704100272475728, 'eval_metric': 'auc', 'use_label_encoder': False, 'gamma': 0.5, 'reg_lambda': 100.0, 'tree_method': 'gpu_hist', 'gpu_id': 0, 'predictor': 'gpu_predictor', 'random_state': 42}. Best is trial 22 with value: 0.8388475548322095.\u001b[0m\n",
      "\u001b[32m[I 2022-09-22 00:54:49,008]\u001b[0m Trial 38 finished with value: 0.8385246325144023 and parameters: {'n_estimators': 10000, 'learning_rate': 0.005305985463524162, 'max_depth': 3, 'colsample_bytree': 0.29080312408963255, 'subsample': 0.832906381132591, 'eval_metric': 'auc', 'use_label_encoder': False, 'gamma': 0.5, 'reg_lambda': 100.0, 'tree_method': 'gpu_hist', 'gpu_id': 0, 'predictor': 'gpu_predictor', 'random_state': 42}. Best is trial 22 with value: 0.8388475548322095.\u001b[0m\n",
      "\u001b[32m[I 2022-09-22 00:55:05,880]\u001b[0m Trial 37 finished with value: 0.8167984189723319 and parameters: {'n_estimators': 10000, 'learning_rate': 0.005652717197250252, 'max_depth': 6, 'colsample_bytree': 0.2717796923596652, 'subsample': 0.6582835865293739, 'eval_metric': 'auc', 'use_label_encoder': False, 'gamma': 0.25, 'reg_lambda': 1.0, 'tree_method': 'gpu_hist', 'gpu_id': 0, 'predictor': 'gpu_predictor', 'random_state': 42}. Best is trial 22 with value: 0.8388475548322095.\u001b[0m\n",
      "\u001b[32m[I 2022-09-22 00:55:06,653]\u001b[0m Trial 39 finished with value: 0.8384652148079258 and parameters: {'n_estimators': 10000, 'learning_rate': 0.005924378482312069, 'max_depth': 3, 'colsample_bytree': 0.2938887500493177, 'subsample': 0.8327955263633221, 'eval_metric': 'auc', 'use_label_encoder': False, 'gamma': 0.5, 'reg_lambda': 100.0, 'tree_method': 'gpu_hist', 'gpu_id': 0, 'predictor': 'gpu_predictor', 'random_state': 42}. Best is trial 22 with value: 0.8388475548322095.\u001b[0m\n",
      "\u001b[32m[I 2022-09-22 00:55:24,432]\u001b[0m Trial 40 finished with value: 0.8373982794698906 and parameters: {'n_estimators': 10000, 'learning_rate': 0.011117083317722992, 'max_depth': 3, 'colsample_bytree': 0.3440519158838465, 'subsample': 0.794422348858163, 'eval_metric': 'auc', 'use_label_encoder': False, 'gamma': 0.5, 'reg_lambda': 100.0, 'tree_method': 'gpu_hist', 'gpu_id': 0, 'predictor': 'gpu_predictor', 'random_state': 42}. Best is trial 22 with value: 0.8388475548322095.\u001b[0m\n",
      "\u001b[32m[I 2022-09-22 00:55:25,248]\u001b[0m Trial 41 finished with value: 0.8376772843524762 and parameters: {'n_estimators': 10000, 'learning_rate': 0.010267638657538021, 'max_depth': 3, 'colsample_bytree': 0.3466290581714281, 'subsample': 0.8011305347225999, 'eval_metric': 'auc', 'use_label_encoder': False, 'gamma': 0.5, 'reg_lambda': 100.0, 'tree_method': 'gpu_hist', 'gpu_id': 0, 'predictor': 'gpu_predictor', 'random_state': 42}. Best is trial 22 with value: 0.8388475548322095.\u001b[0m\n",
      "\u001b[32m[I 2022-09-22 00:55:47,771]\u001b[0m Trial 43 finished with value: 0.8389353897026531 and parameters: {'n_estimators': 10000, 'learning_rate': 0.003940553457891185, 'max_depth': 4, 'colsample_bytree': 0.2274024154507899, 'subsample': 0.9084356758959884, 'eval_metric': 'auc', 'use_label_encoder': False, 'gamma': 0.5, 'reg_lambda': 100.0, 'tree_method': 'gpu_hist', 'gpu_id': 0, 'predictor': 'gpu_predictor', 'random_state': 42}. Best is trial 43 with value: 0.8389353897026531.\u001b[0m\n",
      "\u001b[32m[I 2022-09-22 00:55:49,306]\u001b[0m Trial 42 finished with value: 0.8390800589010309 and parameters: {'n_estimators': 10000, 'learning_rate': 0.0014950192759355203, 'max_depth': 4, 'colsample_bytree': 0.2215088130013015, 'subsample': 0.6551497645419858, 'eval_metric': 'auc', 'use_label_encoder': False, 'gamma': 0.5, 'reg_lambda': 100.0, 'tree_method': 'gpu_hist', 'gpu_id': 0, 'predictor': 'gpu_predictor', 'random_state': 42}. Best is trial 42 with value: 0.8390800589010309.\u001b[0m\n",
      "\u001b[32m[I 2022-09-22 00:56:10,489]\u001b[0m Trial 44 finished with value: 0.8394804825751118 and parameters: {'n_estimators': 10000, 'learning_rate': 0.0036096831987015004, 'max_depth': 4, 'colsample_bytree': 0.22651084483183187, 'subsample': 0.8949090264366644, 'eval_metric': 'auc', 'use_label_encoder': False, 'gamma': 0.5, 'reg_lambda': 100.0, 'tree_method': 'gpu_hist', 'gpu_id': 0, 'predictor': 'gpu_predictor', 'random_state': 42}. Best is trial 44 with value: 0.8394804825751118.\u001b[0m\n",
      "\u001b[32m[I 2022-09-22 00:56:12,026]\u001b[0m Trial 45 finished with value: 0.838844971453667 and parameters: {'n_estimators': 10000, 'learning_rate': 0.002847825621979718, 'max_depth': 4, 'colsample_bytree': 0.2274588881184961, 'subsample': 0.9043165386836576, 'eval_metric': 'auc', 'use_label_encoder': False, 'gamma': 0.5, 'reg_lambda': 100.0, 'tree_method': 'gpu_hist', 'gpu_id': 0, 'predictor': 'gpu_predictor', 'random_state': 42}. Best is trial 44 with value: 0.8394804825751118.\u001b[0m\n",
      "\u001b[32m[I 2022-09-22 00:56:33,121]\u001b[0m Trial 46 finished with value: 0.8392014776925263 and parameters: {'n_estimators': 10000, 'learning_rate': 0.002614200038023649, 'max_depth': 4, 'colsample_bytree': 0.22664045967844718, 'subsample': 0.9290412750325736, 'eval_metric': 'auc', 'use_label_encoder': False, 'gamma': 0.5, 'reg_lambda': 100.0, 'tree_method': 'gpu_hist', 'gpu_id': 0, 'predictor': 'gpu_predictor', 'random_state': 42}. Best is trial 44 with value: 0.8394804825751118.\u001b[0m\n",
      "\u001b[32m[I 2022-09-22 00:56:34,133]\u001b[0m Trial 47 finished with value: 0.8392350616135784 and parameters: {'n_estimators': 10000, 'learning_rate': 0.00291031359781572, 'max_depth': 4, 'colsample_bytree': 0.22659667537991923, 'subsample': 0.9138521308729727, 'eval_metric': 'auc', 'use_label_encoder': False, 'gamma': 0.5, 'reg_lambda': 100.0, 'tree_method': 'gpu_hist', 'gpu_id': 0, 'predictor': 'gpu_predictor', 'random_state': 42}. Best is trial 44 with value: 0.8394804825751118.\u001b[0m\n",
      "\u001b[32m[I 2022-09-22 00:56:57,058]\u001b[0m Trial 48 finished with value: 0.8374706140690796 and parameters: {'n_estimators': 10000, 'learning_rate': 0.0039182482672466, 'max_depth': 4, 'colsample_bytree': 0.22511117009645748, 'subsample': 0.898493554395868, 'eval_metric': 'auc', 'use_label_encoder': False, 'gamma': 0.5, 'reg_lambda': 5.0, 'tree_method': 'gpu_hist', 'gpu_id': 0, 'predictor': 'gpu_predictor', 'random_state': 42}. Best is trial 44 with value: 0.8394804825751118.\u001b[0m\n",
      "\u001b[32m[I 2022-09-22 00:56:57,849]\u001b[0m Trial 49 finished with value: 0.8374034462269755 and parameters: {'n_estimators': 10000, 'learning_rate': 0.0042964745702188485, 'max_depth': 4, 'colsample_bytree': 0.21402018803743705, 'subsample': 0.8970194081586228, 'eval_metric': 'auc', 'use_label_encoder': False, 'gamma': 0.5, 'reg_lambda': 5.0, 'tree_method': 'gpu_hist', 'gpu_id': 0, 'predictor': 'gpu_predictor', 'random_state': 42}. Best is trial 44 with value: 0.8394804825751118.\u001b[0m\n",
      "\u001b[32m[I 2022-09-22 00:57:13,427]\u001b[0m Trial 50 finished with value: 0.8393474385801751 and parameters: {'n_estimators': 10000, 'learning_rate': 0.015654592155313254, 'max_depth': 4, 'colsample_bytree': 0.20143113136919266, 'subsample': 0.9166163062930812, 'eval_metric': 'auc', 'use_label_encoder': False, 'gamma': 0.5, 'reg_lambda': 100.0, 'tree_method': 'gpu_hist', 'gpu_id': 0, 'predictor': 'gpu_predictor', 'random_state': 42}. Best is trial 44 with value: 0.8394804825751118.\u001b[0m\n",
      "\u001b[32m[I 2022-09-22 00:57:13,679]\u001b[0m Trial 51 finished with value: 0.8393538970265313 and parameters: {'n_estimators': 10000, 'learning_rate': 0.01687012964980308, 'max_depth': 4, 'colsample_bytree': 0.2057575428222769, 'subsample': 0.968102383016169, 'eval_metric': 'auc', 'use_label_encoder': False, 'gamma': 0.5, 'reg_lambda': 100.0, 'tree_method': 'gpu_hist', 'gpu_id': 0, 'predictor': 'gpu_predictor', 'random_state': 42}. Best is trial 44 with value: 0.8394804825751118.\u001b[0m\n",
      "\u001b[32m[I 2022-09-22 00:57:29,134]\u001b[0m Trial 53 finished with value: 0.8391976026247124 and parameters: {'n_estimators': 10000, 'learning_rate': 0.02693971639189387, 'max_depth': 4, 'colsample_bytree': 0.2020233449233444, 'subsample': 0.9856058782279051, 'eval_metric': 'auc', 'use_label_encoder': False, 'gamma': 0.5, 'reg_lambda': 100.0, 'tree_method': 'gpu_hist', 'gpu_id': 0, 'predictor': 'gpu_predictor', 'random_state': 42}. Best is trial 44 with value: 0.8394804825751118.\u001b[0m\n",
      "\u001b[32m[I 2022-09-22 00:57:30,118]\u001b[0m Trial 52 finished with value: 0.8396819861014235 and parameters: {'n_estimators': 10000, 'learning_rate': 0.013656665581548245, 'max_depth': 4, 'colsample_bytree': 0.20339414542087605, 'subsample': 0.9396151392178383, 'eval_metric': 'auc', 'use_label_encoder': False, 'gamma': 0.5, 'reg_lambda': 100.0, 'tree_method': 'gpu_hist', 'gpu_id': 0, 'predictor': 'gpu_predictor', 'random_state': 42}. Best is trial 52 with value: 0.8396819861014235.\u001b[0m\n",
      "\u001b[32m[I 2022-09-22 00:57:43,367]\u001b[0m Trial 54 finished with value: 0.8391640187036606 and parameters: {'n_estimators': 10000, 'learning_rate': 0.023717107632281322, 'max_depth': 3, 'colsample_bytree': 0.20367091457374417, 'subsample': 0.9753660995274501, 'eval_metric': 'auc', 'use_label_encoder': False, 'gamma': 0.5, 'reg_lambda': 100.0, 'tree_method': 'gpu_hist', 'gpu_id': 0, 'predictor': 'gpu_predictor', 'random_state': 42}. Best is trial 52 with value: 0.8396819861014235.\u001b[0m\n",
      "\u001b[32m[I 2022-09-22 00:57:47,430]\u001b[0m Trial 55 finished with value: 0.8370779405306259 and parameters: {'n_estimators': 10000, 'learning_rate': 0.015262999137321551, 'max_depth': 3, 'colsample_bytree': 0.2026225089686435, 'subsample': 0.7680817736644513, 'eval_metric': 'auc', 'use_label_encoder': False, 'gamma': 0.5, 'reg_lambda': 50.0, 'tree_method': 'gpu_hist', 'gpu_id': 0, 'predictor': 'gpu_predictor', 'random_state': 42}. Best is trial 52 with value: 0.8396819861014235.\u001b[0m\n",
      "\u001b[32m[I 2022-09-22 00:58:00,883]\u001b[0m Trial 56 finished with value: 0.8378994549071276 and parameters: {'n_estimators': 10000, 'learning_rate': 0.01351487768669079, 'max_depth': 4, 'colsample_bytree': 0.2120363953961281, 'subsample': 0.8719063546276067, 'eval_metric': 'auc', 'use_label_encoder': False, 'gamma': 0.5, 'reg_lambda': 50.0, 'tree_method': 'gpu_hist', 'gpu_id': 0, 'predictor': 'gpu_predictor', 'random_state': 42}. Best is trial 52 with value: 0.8396819861014235.\u001b[0m\n",
      "\u001b[32m[I 2022-09-22 00:58:02,938]\u001b[0m Trial 57 finished with value: 0.831751013976078 and parameters: {'n_estimators': 10000, 'learning_rate': 0.03226346149092999, 'max_depth': 6, 'colsample_bytree': 0.2606685169573167, 'subsample': 0.8647096305123331, 'eval_metric': 'auc', 'use_label_encoder': False, 'gamma': 1.0, 'reg_lambda': 0.1, 'tree_method': 'gpu_hist', 'gpu_id': 0, 'predictor': 'gpu_predictor', 'random_state': 42}. Best is trial 52 with value: 0.8396819861014235.\u001b[0m\n",
      "\u001b[32m[I 2022-09-22 00:58:15,393]\u001b[0m Trial 58 finished with value: 0.8353264098788395 and parameters: {'n_estimators': 10000, 'learning_rate': 0.030694267906230092, 'max_depth': 9, 'colsample_bytree': 0.23385063712813775, 'subsample': 0.9486867499204108, 'eval_metric': 'auc', 'use_label_encoder': False, 'gamma': 1.0, 'reg_lambda': 0.1, 'tree_method': 'gpu_hist', 'gpu_id': 0, 'predictor': 'gpu_predictor', 'random_state': 42}. Best is trial 52 with value: 0.8396819861014235.\u001b[0m\n",
      "\u001b[32m[I 2022-09-22 00:58:19,969]\u001b[0m Trial 59 finished with value: 0.8384910485933504 and parameters: {'n_estimators': 10000, 'learning_rate': 0.018756875211158056, 'max_depth': 3, 'colsample_bytree': 0.25610298903776224, 'subsample': 0.22007912819273262, 'eval_metric': 'auc', 'use_label_encoder': False, 'gamma': 0.5, 'reg_lambda': 100.0, 'tree_method': 'gpu_hist', 'gpu_id': 0, 'predictor': 'gpu_predictor', 'random_state': 42}. Best is trial 52 with value: 0.8396819861014235.\u001b[0m\n",
      "\u001b[32m[I 2022-09-22 00:58:32,173]\u001b[0m Trial 60 finished with value: 0.8370572735022863 and parameters: {'n_estimators': 10000, 'learning_rate': 0.017568011164479314, 'max_depth': 3, 'colsample_bytree': 0.25660684331302724, 'subsample': 0.7752513531268497, 'eval_metric': 'auc', 'use_label_encoder': False, 'gamma': 0.5, 'reg_lambda': 100.0, 'tree_method': 'gpu_hist', 'gpu_id': 0, 'predictor': 'gpu_predictor', 'random_state': 42}. Best is trial 52 with value: 0.8396819861014235.\u001b[0m\n",
      "\u001b[32m[I 2022-09-22 00:58:35,730]\u001b[0m Trial 61 finished with value: 0.8341638895347335 and parameters: {'n_estimators': 10000, 'learning_rate': 0.0642064555978581, 'max_depth': 4, 'colsample_bytree': 0.214329283134442, 'subsample': 0.7650297225649529, 'eval_metric': 'auc', 'use_label_encoder': False, 'gamma': 0.5, 'reg_lambda': 100.0, 'tree_method': 'gpu_hist', 'gpu_id': 0, 'predictor': 'gpu_predictor', 'random_state': 42}. Best is trial 52 with value: 0.8396819861014235.\u001b[0m\n",
      "\u001b[32m[I 2022-09-22 00:58:46,544]\u001b[0m Trial 62 finished with value: 0.8393022294556821 and parameters: {'n_estimators': 10000, 'learning_rate': 0.025049390089042396, 'max_depth': 4, 'colsample_bytree': 0.20239943732657115, 'subsample': 0.9274904675449007, 'eval_metric': 'auc', 'use_label_encoder': False, 'gamma': 0.5, 'reg_lambda': 100.0, 'tree_method': 'gpu_hist', 'gpu_id': 0, 'predictor': 'gpu_predictor', 'random_state': 42}. Best is trial 52 with value: 0.8396819861014235.\u001b[0m\n",
      "\u001b[32m[I 2022-09-22 00:58:49,551]\u001b[0m Trial 63 finished with value: 0.8386680100235089 and parameters: {'n_estimators': 10000, 'learning_rate': 0.02193335182741166, 'max_depth': 4, 'colsample_bytree': 0.2127539686589041, 'subsample': 0.9883898195131099, 'eval_metric': 'auc', 'use_label_encoder': False, 'gamma': 0.5, 'reg_lambda': 100.0, 'tree_method': 'gpu_hist', 'gpu_id': 0, 'predictor': 'gpu_predictor', 'random_state': 42}. Best is trial 52 with value: 0.8396819861014235.\u001b[0m\n",
      "\u001b[32m[I 2022-09-22 00:59:04,027]\u001b[0m Trial 64 finished with value: 0.8387468030690538 and parameters: {'n_estimators': 10000, 'learning_rate': 0.007228511491617627, 'max_depth': 4, 'colsample_bytree': 0.23572420373483316, 'subsample': 0.9145376423429115, 'eval_metric': 'auc', 'use_label_encoder': False, 'gamma': 0.5, 'reg_lambda': 100.0, 'tree_method': 'gpu_hist', 'gpu_id': 0, 'predictor': 'gpu_predictor', 'random_state': 42}. Best is trial 52 with value: 0.8396819861014235.\u001b[0m\n",
      "\u001b[32m[I 2022-09-22 00:59:07,001]\u001b[0m Trial 65 finished with value: 0.8394391485184326 and parameters: {'n_estimators': 10000, 'learning_rate': 0.007272063955111719, 'max_depth': 4, 'colsample_bytree': 0.20004956438464103, 'subsample': 0.9262515862964579, 'eval_metric': 'auc', 'use_label_encoder': False, 'gamma': 0.5, 'reg_lambda': 100.0, 'tree_method': 'gpu_hist', 'gpu_id': 0, 'predictor': 'gpu_predictor', 'random_state': 42}. Best is trial 52 with value: 0.8396819861014235.\u001b[0m\n",
      "\u001b[32m[I 2022-09-22 00:59:22,933]\u001b[0m Trial 66 finished with value: 0.8366645999638326 and parameters: {'n_estimators': 10000, 'learning_rate': 0.011910884877791666, 'max_depth': 4, 'colsample_bytree': 0.4656978924929149, 'subsample': 0.8529863173809693, 'eval_metric': 'auc', 'use_label_encoder': False, 'gamma': 0.5, 'reg_lambda': 100.0, 'tree_method': 'gpu_hist', 'gpu_id': 0, 'predictor': 'gpu_predictor', 'random_state': 42}. Best is trial 52 with value: 0.8396819861014235.\u001b[0m\n",
      "\u001b[32m[I 2022-09-22 00:59:25,010]\u001b[0m Trial 67 finished with value: 0.8221860549226279 and parameters: {'n_estimators': 10000, 'learning_rate': 0.041083584077471716, 'max_depth': 5, 'colsample_bytree': 0.20149074349438453, 'subsample': 0.8468983902781447, 'eval_metric': 'auc', 'use_label_encoder': False, 'gamma': 0.5, 'reg_lambda': 10.0, 'tree_method': 'gpu_hist', 'gpu_id': 0, 'predictor': 'gpu_predictor', 'random_state': 42}. Best is trial 52 with value: 0.8396819861014235.\u001b[0m\n",
      "\u001b[32m[I 2022-09-22 00:59:49,048]\u001b[0m Trial 69 finished with value: 0.8381500426257458 and parameters: {'n_estimators': 10000, 'learning_rate': 0.006953095231050905, 'max_depth': 3, 'colsample_bytree': 0.21594100666906296, 'subsample': 0.9369248478567733, 'eval_metric': 'auc', 'use_label_encoder': False, 'gamma': 0, 'reg_lambda': 100.0, 'tree_method': 'gpu_hist', 'gpu_id': 0, 'predictor': 'gpu_predictor', 'random_state': 42}. Best is trial 52 with value: 0.8396819861014235.\u001b[0m\n",
      "\u001b[32m[I 2022-09-22 01:00:06,995]\u001b[0m Trial 68 finished with value: 0.7973869126043038 and parameters: {'n_estimators': 10000, 'learning_rate': 0.041606026465995934, 'max_depth': 5, 'colsample_bytree': 0.201004533760609, 'subsample': 0.823747415417874, 'eval_metric': 'auc', 'use_label_encoder': False, 'gamma': 0, 'reg_lambda': 10.0, 'tree_method': 'gpu_hist', 'gpu_id': 0, 'predictor': 'gpu_predictor', 'random_state': 42}. Best is trial 52 with value: 0.8396819861014235.\u001b[0m\n",
      "\u001b[32m[I 2022-09-22 01:00:07,356]\u001b[0m Trial 70 finished with value: 0.8387803869901056 and parameters: {'n_estimators': 10000, 'learning_rate': 0.0088354779108296, 'max_depth': 6, 'colsample_bytree': 0.20003467203308145, 'subsample': 0.8175267794251091, 'eval_metric': 'auc', 'use_label_encoder': False, 'gamma': 0.5, 'reg_lambda': 100.0, 'tree_method': 'gpu_hist', 'gpu_id': 0, 'predictor': 'gpu_predictor', 'random_state': 42}. Best is trial 52 with value: 0.8396819861014235.\u001b[0m\n",
      "\u001b[32m[I 2022-09-22 01:00:28,105]\u001b[0m Trial 71 finished with value: 0.8378297036864812 and parameters: {'n_estimators': 10000, 'learning_rate': 0.014483686664921802, 'max_depth': 11, 'colsample_bytree': 0.23430652619784967, 'subsample': 0.6640124449898455, 'eval_metric': 'auc', 'use_label_encoder': False, 'gamma': 0.5, 'reg_lambda': 100.0, 'tree_method': 'gpu_hist', 'gpu_id': 0, 'predictor': 'gpu_predictor', 'random_state': 42}. Best is trial 52 with value: 0.8396819861014235.\u001b[0m\n",
      "\u001b[32m[I 2022-09-22 01:00:28,557]\u001b[0m Trial 72 finished with value: 0.8386331344131854 and parameters: {'n_estimators': 10000, 'learning_rate': 0.0032743473036959147, 'max_depth': 4, 'colsample_bytree': 0.23412859835390126, 'subsample': 0.2874445329918318, 'eval_metric': 'auc', 'use_label_encoder': False, 'gamma': 0.5, 'reg_lambda': 100.0, 'tree_method': 'gpu_hist', 'gpu_id': 0, 'predictor': 'gpu_predictor', 'random_state': 42}. Best is trial 52 with value: 0.8396819861014235.\u001b[0m\n",
      "\u001b[32m[I 2022-09-22 01:00:51,307]\u001b[0m Trial 73 finished with value: 0.8393022294556821 and parameters: {'n_estimators': 10000, 'learning_rate': 0.0026499483027931287, 'max_depth': 4, 'colsample_bytree': 0.21741475631260843, 'subsample': 0.9190185982357533, 'eval_metric': 'auc', 'use_label_encoder': False, 'gamma': 0.5, 'reg_lambda': 100.0, 'tree_method': 'gpu_hist', 'gpu_id': 0, 'predictor': 'gpu_predictor', 'random_state': 42}. Best is trial 52 with value: 0.8396819861014235.\u001b[0m\n",
      "\u001b[32m[I 2022-09-22 01:00:51,672]\u001b[0m Trial 74 finished with value: 0.8392738122917152 and parameters: {'n_estimators': 10000, 'learning_rate': 0.0025270452285517165, 'max_depth': 4, 'colsample_bytree': 0.22018412235353857, 'subsample': 0.919517548353894, 'eval_metric': 'auc', 'use_label_encoder': False, 'gamma': 0.5, 'reg_lambda': 100.0, 'tree_method': 'gpu_hist', 'gpu_id': 0, 'predictor': 'gpu_predictor', 'random_state': 42}. Best is trial 52 with value: 0.8396819861014235.\u001b[0m\n",
      "\u001b[32m[I 2022-09-22 01:01:16,579]\u001b[0m Trial 75 finished with value: 0.8389612234880778 and parameters: {'n_estimators': 10000, 'learning_rate': 0.002246476500924476, 'max_depth': 5, 'colsample_bytree': 0.21644513037910662, 'subsample': 0.7391770316873753, 'eval_metric': 'auc', 'use_label_encoder': False, 'gamma': 0.5, 'reg_lambda': 100.0, 'tree_method': 'gpu_hist', 'gpu_id': 0, 'predictor': 'gpu_predictor', 'random_state': 42}. Best is trial 52 with value: 0.8396819861014235.\u001b[0m\n",
      "\u001b[32m[I 2022-09-22 01:01:16,853]\u001b[0m Trial 76 finished with value: 0.838935389702653 and parameters: {'n_estimators': 10000, 'learning_rate': 0.002287176671552065, 'max_depth': 5, 'colsample_bytree': 0.21132153481783025, 'subsample': 0.7417955133114711, 'eval_metric': 'auc', 'use_label_encoder': False, 'gamma': 0.5, 'reg_lambda': 100.0, 'tree_method': 'gpu_hist', 'gpu_id': 0, 'predictor': 'gpu_predictor', 'random_state': 42}. Best is trial 52 with value: 0.8396819861014235.\u001b[0m\n",
      "\u001b[32m[I 2022-09-22 01:01:33,928]\u001b[0m Trial 77 finished with value: 0.8362228422330724 and parameters: {'n_estimators': 10000, 'learning_rate': 0.010147179310796716, 'max_depth': 3, 'colsample_bytree': 0.7627824451728286, 'subsample': 0.8632225218201547, 'eval_metric': 'auc', 'use_label_encoder': False, 'gamma': 1.0, 'reg_lambda': 5.0, 'tree_method': 'gpu_hist', 'gpu_id': 0, 'predictor': 'gpu_predictor', 'random_state': 42}. Best is trial 52 with value: 0.8396819861014235.\u001b[0m\n",
      "\u001b[32m[I 2022-09-22 01:01:34,594]\u001b[0m Trial 78 finished with value: 0.8372226097290036 and parameters: {'n_estimators': 10000, 'learning_rate': 0.013088865265651105, 'max_depth': 10, 'colsample_bytree': 0.24491996071012834, 'subsample': 0.8744707253802119, 'eval_metric': 'auc', 'use_label_encoder': False, 'gamma': 1.0, 'reg_lambda': 5.0, 'tree_method': 'gpu_hist', 'gpu_id': 0, 'predictor': 'gpu_predictor', 'random_state': 42}. Best is trial 52 with value: 0.8396819861014235.\u001b[0m\n",
      "\u001b[32m[I 2022-09-22 01:01:52,281]\u001b[0m Trial 80 finished with value: 0.83652509752254 and parameters: {'n_estimators': 10000, 'learning_rate': 0.016901578224386166, 'max_depth': 5, 'colsample_bytree': 0.538499297314194, 'subsample': 0.9481454690470226, 'eval_metric': 'auc', 'use_label_encoder': False, 'gamma': 0.5, 'reg_lambda': 50.0, 'tree_method': 'gpu_hist', 'gpu_id': 0, 'predictor': 'gpu_predictor', 'random_state': 42}. Best is trial 52 with value: 0.8396819861014235.\u001b[0m\n",
      "\u001b[32m[I 2022-09-22 01:01:54,125]\u001b[0m Trial 79 finished with value: 0.8389147226743136 and parameters: {'n_estimators': 10000, 'learning_rate': 0.0063883032039354845, 'max_depth': 9, 'colsample_bytree': 0.245831089048124, 'subsample': 0.94704414279707, 'eval_metric': 'auc', 'use_label_encoder': False, 'gamma': 0.5, 'reg_lambda': 50.0, 'tree_method': 'gpu_hist', 'gpu_id': 0, 'predictor': 'gpu_predictor', 'random_state': 42}. Best is trial 52 with value: 0.8396819861014235.\u001b[0m\n",
      "\u001b[32m[I 2022-09-22 01:02:06,774]\u001b[0m Trial 81 finished with value: 0.8205107339378439 and parameters: {'n_estimators': 10000, 'learning_rate': 0.44941265373737305, 'max_depth': 4, 'colsample_bytree': 0.2540101110162159, 'subsample': 0.8018321319015989, 'eval_metric': 'auc', 'use_label_encoder': False, 'gamma': 0.5, 'reg_lambda': 100.0, 'tree_method': 'gpu_hist', 'gpu_id': 0, 'predictor': 'gpu_predictor', 'random_state': 42}. Best is trial 52 with value: 0.8396819861014235.\u001b[0m\n",
      "\u001b[32m[I 2022-09-22 01:02:13,916]\u001b[0m Trial 82 finished with value: 0.83913172647188 and parameters: {'n_estimators': 10000, 'learning_rate': 0.003213052824771468, 'max_depth': 4, 'colsample_bytree': 0.22039780353124824, 'subsample': 0.3288931977591005, 'eval_metric': 'auc', 'use_label_encoder': False, 'gamma': 0.5, 'reg_lambda': 100.0, 'tree_method': 'gpu_hist', 'gpu_id': 0, 'predictor': 'gpu_predictor', 'random_state': 42}. Best is trial 52 with value: 0.8396819861014235.\u001b[0m\n",
      "\u001b[32m[I 2022-09-22 01:02:26,443]\u001b[0m Trial 83 finished with value: 0.8394288150042626 and parameters: {'n_estimators': 10000, 'learning_rate': 0.004614025261560179, 'max_depth': 4, 'colsample_bytree': 0.2116197795983515, 'subsample': 0.8895115543996218, 'eval_metric': 'auc', 'use_label_encoder': False, 'gamma': 0.5, 'reg_lambda': 100.0, 'tree_method': 'gpu_hist', 'gpu_id': 0, 'predictor': 'gpu_predictor', 'random_state': 42}. Best is trial 52 with value: 0.8396819861014235.\u001b[0m\n",
      "\u001b[32m[I 2022-09-22 01:02:33,229]\u001b[0m Trial 84 finished with value: 0.8394494820326023 and parameters: {'n_estimators': 10000, 'learning_rate': 0.004474866648071334, 'max_depth': 4, 'colsample_bytree': 0.2085958224683958, 'subsample': 0.889312679821414, 'eval_metric': 'auc', 'use_label_encoder': False, 'gamma': 0.5, 'reg_lambda': 100.0, 'tree_method': 'gpu_hist', 'gpu_id': 0, 'predictor': 'gpu_predictor', 'random_state': 42}. Best is trial 52 with value: 0.8396819861014235.\u001b[0m\n",
      "\u001b[32m[I 2022-09-22 01:02:45,126]\u001b[0m Trial 85 finished with value: 0.8395579839313855 and parameters: {'n_estimators': 10000, 'learning_rate': 0.0047974270145682936, 'max_depth': 4, 'colsample_bytree': 0.21013540684631354, 'subsample': 0.8912818475837809, 'eval_metric': 'auc', 'use_label_encoder': False, 'gamma': 0.5, 'reg_lambda': 100.0, 'tree_method': 'gpu_hist', 'gpu_id': 0, 'predictor': 'gpu_predictor', 'random_state': 42}. Best is trial 52 with value: 0.8396819861014235.\u001b[0m\n",
      "\u001b[32m[I 2022-09-22 01:02:50,424]\u001b[0m Trial 86 finished with value: 0.8392996460771398 and parameters: {'n_estimators': 10000, 'learning_rate': 0.0047950610270412865, 'max_depth': 3, 'colsample_bytree': 0.2106353754087157, 'subsample': 0.8852776419755125, 'eval_metric': 'auc', 'use_label_encoder': False, 'gamma': 0.5, 'reg_lambda': 100.0, 'tree_method': 'gpu_hist', 'gpu_id': 0, 'predictor': 'gpu_predictor', 'random_state': 42}. Best is trial 52 with value: 0.8396819861014235.\u001b[0m\n",
      "\u001b[32m[I 2022-09-22 01:03:02,625]\u001b[0m Trial 87 finished with value: 0.8393151463483943 and parameters: {'n_estimators': 10000, 'learning_rate': 0.0045864264426248875, 'max_depth': 3, 'colsample_bytree': 0.21063136980755504, 'subsample': 0.880547584494362, 'eval_metric': 'auc', 'use_label_encoder': False, 'gamma': 0.5, 'reg_lambda': 100.0, 'tree_method': 'gpu_hist', 'gpu_id': 0, 'predictor': 'gpu_predictor', 'random_state': 42}. Best is trial 52 with value: 0.8396819861014235.\u001b[0m\n",
      "\u001b[32m[I 2022-09-22 01:03:09,551]\u001b[0m Trial 88 finished with value: 0.831660595727092 and parameters: {'n_estimators': 10000, 'learning_rate': 0.00801966346382364, 'max_depth': 3, 'colsample_bytree': 0.23855278479054468, 'subsample': 0.7882863919262133, 'eval_metric': 'auc', 'use_label_encoder': False, 'gamma': 0.5, 'reg_lambda': 0.1, 'tree_method': 'gpu_hist', 'gpu_id': 0, 'predictor': 'gpu_predictor', 'random_state': 42}. Best is trial 52 with value: 0.8396819861014235.\u001b[0m\n",
      "\u001b[32m[I 2022-09-22 01:03:23,634]\u001b[0m Trial 89 finished with value: 0.8347399829497015 and parameters: {'n_estimators': 10000, 'learning_rate': 0.004551138451211438, 'max_depth': 3, 'colsample_bytree': 0.23775239467772963, 'subsample': 0.6845755545299844, 'eval_metric': 'auc', 'use_label_encoder': False, 'gamma': 0.5, 'reg_lambda': 0.1, 'tree_method': 'gpu_hist', 'gpu_id': 0, 'predictor': 'gpu_predictor', 'random_state': 42}. Best is trial 52 with value: 0.8396819861014235.\u001b[0m\n",
      "\u001b[32m[I 2022-09-22 01:03:29,979]\u001b[0m Trial 90 finished with value: 0.8381190420832365 and parameters: {'n_estimators': 10000, 'learning_rate': 0.004539624084286687, 'max_depth': 3, 'colsample_bytree': 0.9867965183964267, 'subsample': 0.8412022512339069, 'eval_metric': 'auc', 'use_label_encoder': False, 'gamma': 0.5, 'reg_lambda': 100.0, 'tree_method': 'gpu_hist', 'gpu_id': 0, 'predictor': 'gpu_predictor', 'random_state': 42}. Best is trial 52 with value: 0.8396819861014235.\u001b[0m\n",
      "\u001b[32m[I 2022-09-22 01:03:42,214]\u001b[0m Trial 91 finished with value: 0.8386047172492185 and parameters: {'n_estimators': 10000, 'learning_rate': 0.0058116703471082, 'max_depth': 3, 'colsample_bytree': 0.22865401360048893, 'subsample': 0.2546612865043442, 'eval_metric': 'auc', 'use_label_encoder': False, 'gamma': 0.5, 'reg_lambda': 100.0, 'tree_method': 'gpu_hist', 'gpu_id': 0, 'predictor': 'gpu_predictor', 'random_state': 42}. Best is trial 52 with value: 0.8396819861014235.\u001b[0m\n",
      "\u001b[32m[I 2022-09-22 01:03:50,071]\u001b[0m Trial 92 finished with value: 0.8390309747087241 and parameters: {'n_estimators': 10000, 'learning_rate': 0.0036307379972571733, 'max_depth': 4, 'colsample_bytree': 0.20684692187859605, 'subsample': 0.9616985373854617, 'eval_metric': 'auc', 'use_label_encoder': False, 'gamma': 0.5, 'reg_lambda': 100.0, 'tree_method': 'gpu_hist', 'gpu_id': 0, 'predictor': 'gpu_predictor', 'random_state': 42}. Best is trial 52 with value: 0.8396819861014235.\u001b[0m\n",
      "\u001b[32m[I 2022-09-22 01:04:01,501]\u001b[0m Trial 93 finished with value: 0.8391265597147951 and parameters: {'n_estimators': 10000, 'learning_rate': 0.0036916985320126906, 'max_depth': 4, 'colsample_bytree': 0.2104079524124739, 'subsample': 0.9641637195442421, 'eval_metric': 'auc', 'use_label_encoder': False, 'gamma': 0.5, 'reg_lambda': 100.0, 'tree_method': 'gpu_hist', 'gpu_id': 0, 'predictor': 'gpu_predictor', 'random_state': 42}. Best is trial 52 with value: 0.8396819861014235.\u001b[0m\n",
      "\u001b[32m[I 2022-09-22 01:04:07,277]\u001b[0m Trial 94 finished with value: 0.838860471724922 and parameters: {'n_estimators': 10000, 'learning_rate': 0.009582554793099843, 'max_depth': 5, 'colsample_bytree': 0.2093116256025043, 'subsample': 0.883371180771532, 'eval_metric': 'auc', 'use_label_encoder': False, 'gamma': 0.5, 'reg_lambda': 100.0, 'tree_method': 'gpu_hist', 'gpu_id': 0, 'predictor': 'gpu_predictor', 'random_state': 42}. Best is trial 52 with value: 0.8396819861014235.\u001b[0m\n",
      "\u001b[32m[I 2022-09-22 01:04:17,206]\u001b[0m Trial 95 finished with value: 0.8386925521196621 and parameters: {'n_estimators': 10000, 'learning_rate': 0.01946883840999847, 'max_depth': 5, 'colsample_bytree': 0.20842586542040376, 'subsample': 0.8817396164562159, 'eval_metric': 'auc', 'use_label_encoder': False, 'gamma': 0.5, 'reg_lambda': 100.0, 'tree_method': 'gpu_hist', 'gpu_id': 0, 'predictor': 'gpu_predictor', 'random_state': 42}. Best is trial 52 with value: 0.8396819861014235.\u001b[0m\n",
      "\u001b[32m[I 2022-09-22 01:04:26,584]\u001b[0m Trial 96 finished with value: 0.8393719806763286 and parameters: {'n_estimators': 10000, 'learning_rate': 0.0055794504641256655, 'max_depth': 4, 'colsample_bytree': 0.22125539643473877, 'subsample': 0.8217284470945437, 'eval_metric': 'auc', 'use_label_encoder': False, 'gamma': 0.5, 'reg_lambda': 100.0, 'tree_method': 'gpu_hist', 'gpu_id': 0, 'predictor': 'gpu_predictor', 'random_state': 42}. Best is trial 52 with value: 0.8396819861014235.\u001b[0m\n",
      "\u001b[32m[I 2022-09-22 01:04:50,013]\u001b[0m Trial 97 finished with value: 0.8260081634761941 and parameters: {'n_estimators': 10000, 'learning_rate': 0.02701441959913966, 'max_depth': 4, 'colsample_bytree': 0.20014665069291357, 'subsample': 0.9871585746665341, 'eval_metric': 'auc', 'use_label_encoder': False, 'gamma': 0, 'reg_lambda': 100.0, 'tree_method': 'gpu_hist', 'gpu_id': 0, 'predictor': 'gpu_predictor', 'random_state': 42}. Best is trial 52 with value: 0.8396819861014235.\u001b[0m\n",
      "\u001b[32m[I 2022-09-22 01:04:55,646]\u001b[0m Trial 98 finished with value: 0.8373982794698908 and parameters: {'n_estimators': 10000, 'learning_rate': 0.0065624596596580926, 'max_depth': 4, 'colsample_bytree': 0.22180450840651159, 'subsample': 0.8205221737846103, 'eval_metric': 'auc', 'use_label_encoder': False, 'gamma': 0, 'reg_lambda': 100.0, 'tree_method': 'gpu_hist', 'gpu_id': 0, 'predictor': 'gpu_predictor', 'random_state': 42}. Best is trial 52 with value: 0.8396819861014235.\u001b[0m\n",
      "\u001b[32m[I 2022-09-22 01:05:08,779]\u001b[0m Trial 99 finished with value: 0.8392893125629699 and parameters: {'n_estimators': 10000, 'learning_rate': 0.006029361386432026, 'max_depth': 5, 'colsample_bytree': 0.2235696362361765, 'subsample': 0.8172325465586356, 'eval_metric': 'auc', 'use_label_encoder': False, 'gamma': 0.5, 'reg_lambda': 100.0, 'tree_method': 'gpu_hist', 'gpu_id': 0, 'predictor': 'gpu_predictor', 'random_state': 42}. Best is trial 52 with value: 0.8396819861014235.\u001b[0m\n",
      "\u001b[32m[I 2022-09-22 01:05:13,771]\u001b[0m Trial 100 finished with value: 0.8386718850913223 and parameters: {'n_estimators': 10000, 'learning_rate': 0.005364815399179772, 'max_depth': 3, 'colsample_bytree': 0.2290565656144309, 'subsample': 0.7665967281843571, 'eval_metric': 'auc', 'use_label_encoder': False, 'gamma': 0.5, 'reg_lambda': 100.0, 'tree_method': 'gpu_hist', 'gpu_id': 0, 'predictor': 'gpu_predictor', 'random_state': 42}. Best is trial 52 with value: 0.8396819861014235.\u001b[0m\n",
      "\u001b[32m[I 2022-09-22 01:05:27,061]\u001b[0m Trial 101 finished with value: 0.8385995504921336 and parameters: {'n_estimators': 10000, 'learning_rate': 0.0051694402854768505, 'max_depth': 3, 'colsample_bytree': 0.24974647925454663, 'subsample': 0.7520766717708198, 'eval_metric': 'auc', 'use_label_encoder': False, 'gamma': 0.5, 'reg_lambda': 100.0, 'tree_method': 'gpu_hist', 'gpu_id': 0, 'predictor': 'gpu_predictor', 'random_state': 42}. Best is trial 52 with value: 0.8396819861014235.\u001b[0m\n",
      "\u001b[32m[I 2022-09-22 01:05:32,988]\u001b[0m Trial 102 finished with value: 0.839431398382805 and parameters: {'n_estimators': 10000, 'learning_rate': 0.004132635430562747, 'max_depth': 4, 'colsample_bytree': 0.20680234087566648, 'subsample': 0.930003400743371, 'eval_metric': 'auc', 'use_label_encoder': False, 'gamma': 0.5, 'reg_lambda': 100.0, 'tree_method': 'gpu_hist', 'gpu_id': 0, 'predictor': 'gpu_predictor', 'random_state': 42}. Best is trial 52 with value: 0.8396819861014235.\u001b[0m\n",
      "\u001b[32m[I 2022-09-22 01:05:44,696]\u001b[0m Trial 103 finished with value: 0.8392324782350358 and parameters: {'n_estimators': 10000, 'learning_rate': 0.007728225381230183, 'max_depth': 4, 'colsample_bytree': 0.20703249733097437, 'subsample': 0.8472043348221704, 'eval_metric': 'auc', 'use_label_encoder': False, 'gamma': 0.5, 'reg_lambda': 100.0, 'tree_method': 'gpu_hist', 'gpu_id': 0, 'predictor': 'gpu_predictor', 'random_state': 42}. Best is trial 52 with value: 0.8396819861014235.\u001b[0m\n",
      "\u001b[32m[I 2022-09-22 01:05:52,520]\u001b[0m Trial 104 finished with value: 0.8390671420083186 and parameters: {'n_estimators': 10000, 'learning_rate': 0.004111978385184784, 'max_depth': 4, 'colsample_bytree': 0.21737009804650342, 'subsample': 0.4195221651985275, 'eval_metric': 'auc', 'use_label_encoder': False, 'gamma': 0.5, 'reg_lambda': 100.0, 'tree_method': 'gpu_hist', 'gpu_id': 0, 'predictor': 'gpu_predictor', 'random_state': 42}. Best is trial 52 with value: 0.8396819861014235.\u001b[0m\n",
      "\u001b[32m[I 2022-09-22 01:06:07,937]\u001b[0m Trial 105 finished with value: 0.8373595287917539 and parameters: {'n_estimators': 10000, 'learning_rate': 0.004068305805296089, 'max_depth': 4, 'colsample_bytree': 0.27930299072948395, 'subsample': 0.8954890612102973, 'eval_metric': 'auc', 'use_label_encoder': False, 'gamma': 0.5, 'reg_lambda': 10.0, 'tree_method': 'gpu_hist', 'gpu_id': 0, 'predictor': 'gpu_predictor', 'random_state': 42}. Best is trial 52 with value: 0.8396819861014235.\u001b[0m\n",
      "\u001b[32m[I 2022-09-22 01:06:18,688]\u001b[0m Trial 106 finished with value: 0.829110801105686 and parameters: {'n_estimators': 10000, 'learning_rate': 0.009033883653875354, 'max_depth': 4, 'colsample_bytree': 0.22768799786195804, 'subsample': 0.36384216983952544, 'eval_metric': 'auc', 'use_label_encoder': False, 'gamma': 0.5, 'reg_lambda': 10.0, 'tree_method': 'gpu_hist', 'gpu_id': 0, 'predictor': 'gpu_predictor', 'random_state': 42}. Best is trial 52 with value: 0.8396819861014235.\u001b[0m\n",
      "\u001b[32m[I 2022-09-22 01:06:24,159]\u001b[0m Trial 107 finished with value: 0.8390296830194529 and parameters: {'n_estimators': 10000, 'learning_rate': 0.008486667510273094, 'max_depth': 4, 'colsample_bytree': 0.2308038206525558, 'subsample': 0.9348119986317703, 'eval_metric': 'auc', 'use_label_encoder': False, 'gamma': 0.5, 'reg_lambda': 100.0, 'tree_method': 'gpu_hist', 'gpu_id': 0, 'predictor': 'gpu_predictor', 'random_state': 42}. Best is trial 52 with value: 0.8396819861014235.\u001b[0m\n",
      "\u001b[32m[I 2022-09-22 01:06:34,559]\u001b[0m Trial 108 finished with value: 0.8394727324394844 and parameters: {'n_estimators': 10000, 'learning_rate': 0.010804664665611176, 'max_depth': 5, 'colsample_bytree': 0.20748259660864157, 'subsample': 0.9350516535639705, 'eval_metric': 'auc', 'use_label_encoder': False, 'gamma': 0.5, 'reg_lambda': 100.0, 'tree_method': 'gpu_hist', 'gpu_id': 0, 'predictor': 'gpu_predictor', 'random_state': 42}. Best is trial 52 with value: 0.8396819861014235.\u001b[0m\n",
      "\u001b[32m[I 2022-09-22 01:06:41,240]\u001b[0m Trial 109 finished with value: 0.8388759719961766 and parameters: {'n_estimators': 10000, 'learning_rate': 0.011517633600984331, 'max_depth': 5, 'colsample_bytree': 0.2070267502664128, 'subsample': 0.860385676393905, 'eval_metric': 'auc', 'use_label_encoder': False, 'gamma': 0.5, 'reg_lambda': 100.0, 'tree_method': 'gpu_hist', 'gpu_id': 0, 'predictor': 'gpu_predictor', 'random_state': 42}. Best is trial 52 with value: 0.8396819861014235.\u001b[0m\n",
      "\u001b[32m[I 2022-09-22 01:06:49,785]\u001b[0m Trial 110 finished with value: 0.839002557544757 and parameters: {'n_estimators': 10000, 'learning_rate': 0.011592619069442369, 'max_depth': 5, 'colsample_bytree': 0.21838062084866602, 'subsample': 0.9891862143702133, 'eval_metric': 'auc', 'use_label_encoder': False, 'gamma': 0.5, 'reg_lambda': 100.0, 'tree_method': 'gpu_hist', 'gpu_id': 0, 'predictor': 'gpu_predictor', 'random_state': 42}. Best is trial 52 with value: 0.8396819861014235.\u001b[0m\n",
      "\u001b[32m[I 2022-09-22 01:06:56,178]\u001b[0m Trial 111 finished with value: 0.8388656384820069 and parameters: {'n_estimators': 10000, 'learning_rate': 0.01266870912071076, 'max_depth': 4, 'colsample_bytree': 0.23967694263004125, 'subsample': 0.9589655085474519, 'eval_metric': 'auc', 'use_label_encoder': False, 'gamma': 0.5, 'reg_lambda': 100.0, 'tree_method': 'gpu_hist', 'gpu_id': 0, 'predictor': 'gpu_predictor', 'random_state': 42}. Best is trial 52 with value: 0.8396819861014235.\u001b[0m\n",
      "\u001b[32m[I 2022-09-22 01:07:06,841]\u001b[0m Trial 112 finished with value: 0.8394003978402955 and parameters: {'n_estimators': 10000, 'learning_rate': 0.007314254070117871, 'max_depth': 4, 'colsample_bytree': 0.21384740969424781, 'subsample': 0.9008338732714979, 'eval_metric': 'auc', 'use_label_encoder': False, 'gamma': 0.5, 'reg_lambda': 100.0, 'tree_method': 'gpu_hist', 'gpu_id': 0, 'predictor': 'gpu_predictor', 'random_state': 42}. Best is trial 52 with value: 0.8396819861014235.\u001b[0m\n",
      "\u001b[32m[I 2022-09-22 01:07:11,543]\u001b[0m Trial 113 finished with value: 0.8392815624273426 and parameters: {'n_estimators': 10000, 'learning_rate': 0.01622499239055847, 'max_depth': 4, 'colsample_bytree': 0.21359751556492454, 'subsample': 0.9026517450428428, 'eval_metric': 'auc', 'use_label_encoder': False, 'gamma': 0.5, 'reg_lambda': 100.0, 'tree_method': 'gpu_hist', 'gpu_id': 0, 'predictor': 'gpu_predictor', 'random_state': 42}. Best is trial 52 with value: 0.8396819861014235.\u001b[0m\n",
      "\u001b[32m[I 2022-09-22 01:07:23,092]\u001b[0m Trial 114 finished with value: 0.8393164380376656 and parameters: {'n_estimators': 10000, 'learning_rate': 0.01565558155568403, 'max_depth': 4, 'colsample_bytree': 0.21569608075433883, 'subsample': 0.9084035315016161, 'eval_metric': 'auc', 'use_label_encoder': False, 'gamma': 0.5, 'reg_lambda': 100.0, 'tree_method': 'gpu_hist', 'gpu_id': 0, 'predictor': 'gpu_predictor', 'random_state': 42}. Best is trial 52 with value: 0.8396819861014235.\u001b[0m\n",
      "\u001b[32m[I 2022-09-22 01:07:28,984]\u001b[0m Trial 115 finished with value: 0.8394417318969749 and parameters: {'n_estimators': 10000, 'learning_rate': 0.007107120486294112, 'max_depth': 4, 'colsample_bytree': 0.20592644536390456, 'subsample': 0.9337641497809944, 'eval_metric': 'auc', 'use_label_encoder': False, 'gamma': 0.5, 'reg_lambda': 100.0, 'tree_method': 'gpu_hist', 'gpu_id': 0, 'predictor': 'gpu_predictor', 'random_state': 42}. Best is trial 52 with value: 0.8396819861014235.\u001b[0m\n",
      "\u001b[32m[I 2022-09-22 01:07:38,003]\u001b[0m Trial 116 finished with value: 0.8390400165336227 and parameters: {'n_estimators': 10000, 'learning_rate': 0.0069050771479228605, 'max_depth': 4, 'colsample_bytree': 0.20124934634018574, 'subsample': 0.9393681802513707, 'eval_metric': 'auc', 'use_label_encoder': False, 'gamma': 1.0, 'reg_lambda': 100.0, 'tree_method': 'gpu_hist', 'gpu_id': 0, 'predictor': 'gpu_predictor', 'random_state': 42}. Best is trial 52 with value: 0.8396819861014235.\u001b[0m\n",
      "\u001b[32m[I 2022-09-22 01:07:44,816]\u001b[0m Trial 117 finished with value: 0.8391291430933375 and parameters: {'n_estimators': 10000, 'learning_rate': 0.006772416355383061, 'max_depth': 5, 'colsample_bytree': 0.22338228253557554, 'subsample': 0.793118282522492, 'eval_metric': 'auc', 'use_label_encoder': False, 'gamma': 1.0, 'reg_lambda': 100.0, 'tree_method': 'gpu_hist', 'gpu_id': 0, 'predictor': 'gpu_predictor', 'random_state': 42}. Best is trial 52 with value: 0.8396819861014235.\u001b[0m\n",
      "\u001b[32m[I 2022-09-22 01:07:57,433]\u001b[0m Trial 118 finished with value: 0.8389560567309927 and parameters: {'n_estimators': 10000, 'learning_rate': 0.007430132702716765, 'max_depth': 5, 'colsample_bytree': 0.2233307681988488, 'subsample': 0.7890845462648595, 'eval_metric': 'auc', 'use_label_encoder': False, 'gamma': 0.5, 'reg_lambda': 100.0, 'tree_method': 'gpu_hist', 'gpu_id': 0, 'predictor': 'gpu_predictor', 'random_state': 42}. Best is trial 52 with value: 0.8396819861014235.\u001b[0m\n",
      "\u001b[32m[I 2022-09-22 01:08:06,167]\u001b[0m Trial 119 finished with value: 0.8310289596734609 and parameters: {'n_estimators': 10000, 'learning_rate': 0.010262291965207766, 'max_depth': 4, 'colsample_bytree': 0.20764938422143767, 'subsample': 0.8413196297661555, 'eval_metric': 'auc', 'use_label_encoder': False, 'gamma': 0.5, 'reg_lambda': 5.0, 'tree_method': 'gpu_hist', 'gpu_id': 0, 'predictor': 'gpu_predictor', 'random_state': 42}. Best is trial 52 with value: 0.8396819861014235.\u001b[0m\n",
      "\u001b[32m[I 2022-09-22 01:08:24,420]\u001b[0m Trial 120 finished with value: 0.8277390270996409 and parameters: {'n_estimators': 10000, 'learning_rate': 0.010502699267681525, 'max_depth': 7, 'colsample_bytree': 0.20515271512278369, 'subsample': 0.8385543122477844, 'eval_metric': 'auc', 'use_label_encoder': False, 'gamma': 0.5, 'reg_lambda': 5.0, 'tree_method': 'gpu_hist', 'gpu_id': 0, 'predictor': 'gpu_predictor', 'random_state': 42}. Best is trial 52 with value: 0.8396819861014235.\u001b[0m\n",
      "\u001b[32m[I 2022-09-22 01:08:24,944]\u001b[0m Trial 121 finished with value: 0.8387713451652071 and parameters: {'n_estimators': 10000, 'learning_rate': 0.005361319975960277, 'max_depth': 4, 'colsample_bytree': 0.2319657897329308, 'subsample': 0.9386630538991994, 'eval_metric': 'auc', 'use_label_encoder': False, 'gamma': 0.5, 'reg_lambda': 100.0, 'tree_method': 'gpu_hist', 'gpu_id': 0, 'predictor': 'gpu_predictor', 'random_state': 42}. Best is trial 52 with value: 0.8396819861014235.\u001b[0m\n",
      "\u001b[32m[I 2022-09-22 01:08:40,478]\u001b[0m Trial 123 finished with value: 0.8337143816683459 and parameters: {'n_estimators': 10000, 'learning_rate': 0.14643473875638988, 'max_depth': 4, 'colsample_bytree': 0.20088089081988353, 'subsample': 0.8666622992791584, 'eval_metric': 'auc', 'use_label_encoder': False, 'gamma': 0.5, 'reg_lambda': 100.0, 'tree_method': 'gpu_hist', 'gpu_id': 0, 'predictor': 'gpu_predictor', 'random_state': 42}. Best is trial 52 with value: 0.8396819861014235.\u001b[0m\n",
      "\u001b[32m[I 2022-09-22 01:08:42,951]\u001b[0m Trial 122 finished with value: 0.8394184814900928 and parameters: {'n_estimators': 10000, 'learning_rate': 0.005248324306640652, 'max_depth': 4, 'colsample_bytree': 0.20064744148658856, 'subsample': 0.9280484570121742, 'eval_metric': 'auc', 'use_label_encoder': False, 'gamma': 0.5, 'reg_lambda': 100.0, 'tree_method': 'gpu_hist', 'gpu_id': 0, 'predictor': 'gpu_predictor', 'random_state': 42}. Best is trial 52 with value: 0.8396819861014235.\u001b[0m\n",
      "\u001b[32m[I 2022-09-22 01:09:02,661]\u001b[0m Trial 124 finished with value: 0.8375041979901314 and parameters: {'n_estimators': 10000, 'learning_rate': 0.0033680206470616094, 'max_depth': 4, 'colsample_bytree': 0.6429321313660238, 'subsample': 0.9231633338475566, 'eval_metric': 'auc', 'use_label_encoder': False, 'gamma': 0.5, 'reg_lambda': 100.0, 'tree_method': 'gpu_hist', 'gpu_id': 0, 'predictor': 'gpu_predictor', 'random_state': 42}. Best is trial 52 with value: 0.8396819861014235.\u001b[0m\n",
      "\u001b[32m[I 2022-09-22 01:09:03,719]\u001b[0m Trial 125 finished with value: 0.8394210648686352 and parameters: {'n_estimators': 10000, 'learning_rate': 0.0035251843116668193, 'max_depth': 4, 'colsample_bytree': 0.21625439732517898, 'subsample': 0.8961154452481761, 'eval_metric': 'auc', 'use_label_encoder': False, 'gamma': 0.5, 'reg_lambda': 100.0, 'tree_method': 'gpu_hist', 'gpu_id': 0, 'predictor': 'gpu_predictor', 'random_state': 42}. Best is trial 52 with value: 0.8396819861014235.\u001b[0m\n",
      "\u001b[32m[I 2022-09-22 01:09:20,591]\u001b[0m Trial 126 finished with value: 0.8392143945852386 and parameters: {'n_estimators': 10000, 'learning_rate': 0.005981542314449521, 'max_depth': 4, 'colsample_bytree': 0.21493888986411078, 'subsample': 0.9676921027142324, 'eval_metric': 'auc', 'use_label_encoder': False, 'gamma': 0.5, 'reg_lambda': 100.0, 'tree_method': 'gpu_hist', 'gpu_id': 0, 'predictor': 'gpu_predictor', 'random_state': 42}. Best is trial 52 with value: 0.8396819861014235.\u001b[0m\n",
      "\u001b[32m[I 2022-09-22 01:09:22,441]\u001b[0m Trial 127 finished with value: 0.8392557286419178 and parameters: {'n_estimators': 10000, 'learning_rate': 0.0060178534644603566, 'max_depth': 4, 'colsample_bytree': 0.21600029381826077, 'subsample': 0.8696027178450227, 'eval_metric': 'auc', 'use_label_encoder': False, 'gamma': 0.5, 'reg_lambda': 100.0, 'tree_method': 'gpu_hist', 'gpu_id': 0, 'predictor': 'gpu_predictor', 'random_state': 42}. Best is trial 52 with value: 0.8396819861014235.\u001b[0m\n",
      "\u001b[32m[I 2022-09-22 01:09:42,129]\u001b[0m Trial 128 finished with value: 0.8393797308119559 and parameters: {'n_estimators': 10000, 'learning_rate': 0.0031100644477840664, 'max_depth': 4, 'colsample_bytree': 0.2158649262677168, 'subsample': 0.8942996715653007, 'eval_metric': 'auc', 'use_label_encoder': False, 'gamma': 0.5, 'reg_lambda': 100.0, 'tree_method': 'gpu_hist', 'gpu_id': 0, 'predictor': 'gpu_predictor', 'random_state': 42}. Best is trial 52 with value: 0.8396819861014235.\u001b[0m\n",
      "\u001b[32m[I 2022-09-22 01:09:47,825]\u001b[0m Trial 129 finished with value: 0.8389715570022476 and parameters: {'n_estimators': 10000, 'learning_rate': 0.0029762224898627694, 'max_depth': 5, 'colsample_bytree': 0.2417921603891766, 'subsample': 0.8979090046000364, 'eval_metric': 'auc', 'use_label_encoder': False, 'gamma': 0.5, 'reg_lambda': 50.0, 'tree_method': 'gpu_hist', 'gpu_id': 0, 'predictor': 'gpu_predictor', 'random_state': 42}. Best is trial 52 with value: 0.8396819861014235.\u001b[0m\n",
      "\u001b[32m[I 2022-09-22 01:10:04,737]\u001b[0m Trial 130 finished with value: 0.8386202175204733 and parameters: {'n_estimators': 10000, 'learning_rate': 0.004157850271000886, 'max_depth': 5, 'colsample_bytree': 0.2407372901055997, 'subsample': 0.8960685780838014, 'eval_metric': 'auc', 'use_label_encoder': False, 'gamma': 0.5, 'reg_lambda': 50.0, 'tree_method': 'gpu_hist', 'gpu_id': 0, 'predictor': 'gpu_predictor', 'random_state': 42}. Best is trial 52 with value: 0.8396819861014235.\u001b[0m\n",
      "\u001b[32m[I 2022-09-22 01:10:06,105]\u001b[0m Trial 131 finished with value: 0.8377961197654292 and parameters: {'n_estimators': 10000, 'learning_rate': 0.004155303500810041, 'max_depth': 3, 'colsample_bytree': 0.21035756411578038, 'subsample': 0.9415226229747649, 'eval_metric': 'auc', 'use_label_encoder': False, 'gamma': 0.5, 'reg_lambda': 0.1, 'tree_method': 'gpu_hist', 'gpu_id': 0, 'predictor': 'gpu_predictor', 'random_state': 42}. Best is trial 52 with value: 0.8396819861014235.\u001b[0m\n",
      "\u001b[32m[I 2022-09-22 01:10:25,760]\u001b[0m Trial 132 finished with value: 0.8393177297269369 and parameters: {'n_estimators': 10000, 'learning_rate': 0.003545232204134906, 'max_depth': 4, 'colsample_bytree': 0.22286147468531833, 'subsample': 0.9311939478984228, 'eval_metric': 'auc', 'use_label_encoder': False, 'gamma': 0.5, 'reg_lambda': 100.0, 'tree_method': 'gpu_hist', 'gpu_id': 0, 'predictor': 'gpu_predictor', 'random_state': 42}. Best is trial 52 with value: 0.8396819861014235.\u001b[0m\n",
      "\u001b[32m[I 2022-09-22 01:10:27,601]\u001b[0m Trial 133 finished with value: 0.839516649874706 and parameters: {'n_estimators': 10000, 'learning_rate': 0.003433778084844633, 'max_depth': 4, 'colsample_bytree': 0.22209042523863232, 'subsample': 0.8238990007233391, 'eval_metric': 'auc', 'use_label_encoder': False, 'gamma': 0.5, 'reg_lambda': 100.0, 'tree_method': 'gpu_hist', 'gpu_id': 0, 'predictor': 'gpu_predictor', 'random_state': 42}. Best is trial 52 with value: 0.8396819861014235.\u001b[0m\n",
      "\u001b[32m[I 2022-09-22 01:10:45,884]\u001b[0m Trial 134 finished with value: 0.8395399002815882 and parameters: {'n_estimators': 10000, 'learning_rate': 0.005089985210145382, 'max_depth': 4, 'colsample_bytree': 0.21927698012908917, 'subsample': 0.8349605364233749, 'eval_metric': 'auc', 'use_label_encoder': False, 'gamma': 0.5, 'reg_lambda': 100.0, 'tree_method': 'gpu_hist', 'gpu_id': 0, 'predictor': 'gpu_predictor', 'random_state': 42}. Best is trial 52 with value: 0.8396819861014235.\u001b[0m\n",
      "\u001b[32m[I 2022-09-22 01:10:51,952]\u001b[0m Trial 135 finished with value: 0.8381758764111705 and parameters: {'n_estimators': 10000, 'learning_rate': 0.004757586595340939, 'max_depth': 8, 'colsample_bytree': 0.32291413728999663, 'subsample': 0.8663505842105557, 'eval_metric': 'auc', 'use_label_encoder': False, 'gamma': 0.5, 'reg_lambda': 100.0, 'tree_method': 'gpu_hist', 'gpu_id': 0, 'predictor': 'gpu_predictor', 'random_state': 42}. Best is trial 52 with value: 0.8396819861014235.\u001b[0m\n",
      "\u001b[32m[I 2022-09-22 01:11:10,819]\u001b[0m Trial 136 finished with value: 0.8383334625022603 and parameters: {'n_estimators': 10000, 'learning_rate': 0.0019362481570445798, 'max_depth': 4, 'colsample_bytree': 0.32680091361012126, 'subsample': 0.8521294107805166, 'eval_metric': 'auc', 'use_label_encoder': False, 'gamma': 0.5, 'reg_lambda': 100.0, 'tree_method': 'gpu_hist', 'gpu_id': 0, 'predictor': 'gpu_predictor', 'random_state': 42}. Best is trial 52 with value: 0.8396819861014235.\u001b[0m\n",
      "\u001b[32m[I 2022-09-22 01:11:12,615]\u001b[0m Trial 137 finished with value: 0.8388708052390917 and parameters: {'n_estimators': 10000, 'learning_rate': 0.00503134502667375, 'max_depth': 4, 'colsample_bytree': 0.23358149356774555, 'subsample': 0.8243661115722987, 'eval_metric': 'auc', 'use_label_encoder': False, 'gamma': 0.5, 'reg_lambda': 100.0, 'tree_method': 'gpu_hist', 'gpu_id': 0, 'predictor': 'gpu_predictor', 'random_state': 42}. Best is trial 52 with value: 0.8396819861014235.\u001b[0m\n",
      "\u001b[32m[I 2022-09-22 01:11:31,777]\u001b[0m Trial 138 finished with value: 0.8389198894313983 and parameters: {'n_estimators': 10000, 'learning_rate': 0.004999997262803997, 'max_depth': 4, 'colsample_bytree': 0.23235828084697288, 'subsample': 0.807075182749238, 'eval_metric': 'auc', 'use_label_encoder': False, 'gamma': 0.5, 'reg_lambda': 100.0, 'tree_method': 'gpu_hist', 'gpu_id': 0, 'predictor': 'gpu_predictor', 'random_state': 42}. Best is trial 52 with value: 0.8396819861014235.\u001b[0m\n",
      "\u001b[32m[I 2022-09-22 01:11:31,878]\u001b[0m Trial 139 finished with value: 0.8397543207006123 and parameters: {'n_estimators': 10000, 'learning_rate': 0.00361600049994702, 'max_depth': 3, 'colsample_bytree': 0.26121887396297944, 'subsample': 0.985044064239948, 'eval_metric': 'auc', 'use_label_encoder': False, 'gamma': 0.5, 'reg_lambda': 1.0, 'tree_method': 'gpu_hist', 'gpu_id': 0, 'predictor': 'gpu_predictor', 'random_state': 42}. Best is trial 139 with value: 0.8397543207006123.\u001b[0m\n",
      "\u001b[32m[I 2022-09-22 01:11:58,143]\u001b[0m Trial 140 finished with value: 0.8363830117027047 and parameters: {'n_estimators': 10000, 'learning_rate': 0.0036880779035110382, 'max_depth': 3, 'colsample_bytree': 0.2617654234297662, 'subsample': 0.9528006118023512, 'eval_metric': 'auc', 'use_label_encoder': False, 'gamma': 0, 'reg_lambda': 1.0, 'tree_method': 'gpu_hist', 'gpu_id': 0, 'predictor': 'gpu_predictor', 'random_state': 42}. Best is trial 139 with value: 0.8397543207006123.\u001b[0m\n",
      "\u001b[32m[I 2022-09-22 01:11:58,237]\u001b[0m Trial 141 finished with value: 0.8383773799374823 and parameters: {'n_estimators': 10000, 'learning_rate': 0.0027535556775791117, 'max_depth': 3, 'colsample_bytree': 0.4295748585052744, 'subsample': 0.9896368207131035, 'eval_metric': 'auc', 'use_label_encoder': False, 'gamma': 0, 'reg_lambda': 1.0, 'tree_method': 'gpu_hist', 'gpu_id': 0, 'predictor': 'gpu_predictor', 'random_state': 42}. Best is trial 139 with value: 0.8397543207006123.\u001b[0m\n",
      "\u001b[32m[I 2022-09-22 01:12:18,843]\u001b[0m Trial 143 finished with value: 0.8378064532795991 and parameters: {'n_estimators': 10000, 'learning_rate': 0.004512454596777881, 'max_depth': 3, 'colsample_bytree': 0.2070386308037406, 'subsample': 0.9172932630273702, 'eval_metric': 'auc', 'use_label_encoder': False, 'gamma': 0.5, 'reg_lambda': 1.0, 'tree_method': 'gpu_hist', 'gpu_id': 0, 'predictor': 'gpu_predictor', 'random_state': 42}. Best is trial 139 with value: 0.8397543207006123.\u001b[0m\n",
      "\u001b[32m[I 2022-09-22 01:12:19,205]\u001b[0m Trial 142 finished with value: 0.8391097677542689 and parameters: {'n_estimators': 10000, 'learning_rate': 0.00262555929518377, 'max_depth': 3, 'colsample_bytree': 0.20705671735044875, 'subsample': 0.9792029909475214, 'eval_metric': 'auc', 'use_label_encoder': False, 'gamma': 0.5, 'reg_lambda': 100.0, 'tree_method': 'gpu_hist', 'gpu_id': 0, 'predictor': 'gpu_predictor', 'random_state': 42}. Best is trial 139 with value: 0.8397543207006123.\u001b[0m\n",
      "\u001b[32m[I 2022-09-22 01:12:41,446]\u001b[0m Trial 144 finished with value: 0.8321772714355834 and parameters: {'n_estimators': 10000, 'learning_rate': 0.00810236625225565, 'max_depth': 4, 'colsample_bytree': 0.20073599425002078, 'subsample': 0.8823963103831278, 'eval_metric': 'auc', 'use_label_encoder': False, 'gamma': 0.5, 'reg_lambda': 1.0, 'tree_method': 'gpu_hist', 'gpu_id': 0, 'predictor': 'gpu_predictor', 'random_state': 42}. Best is trial 139 with value: 0.8397543207006123.\u001b[0m\n",
      "\u001b[32m[I 2022-09-22 01:12:42,104]\u001b[0m Trial 145 finished with value: 0.839374564054871 and parameters: {'n_estimators': 10000, 'learning_rate': 0.003330981114839465, 'max_depth': 4, 'colsample_bytree': 0.20032036110570306, 'subsample': 0.8828032897244106, 'eval_metric': 'auc', 'use_label_encoder': False, 'gamma': 0.5, 'reg_lambda': 100.0, 'tree_method': 'gpu_hist', 'gpu_id': 0, 'predictor': 'gpu_predictor', 'random_state': 42}. Best is trial 139 with value: 0.8397543207006123.\u001b[0m\n",
      "\u001b[32m[I 2022-09-22 01:13:04,100]\u001b[0m Trial 147 finished with value: 0.8391033093079129 and parameters: {'n_estimators': 10000, 'learning_rate': 0.003761352931103247, 'max_depth': 4, 'colsample_bytree': 0.22429007145823368, 'subsample': 0.9489979180698747, 'eval_metric': 'auc', 'use_label_encoder': False, 'gamma': 0.5, 'reg_lambda': 100.0, 'tree_method': 'gpu_hist', 'gpu_id': 0, 'predictor': 'gpu_predictor', 'random_state': 42}. Best is trial 139 with value: 0.8397543207006123.\u001b[0m\n",
      "\u001b[32m[I 2022-09-22 01:13:04,161]\u001b[0m Trial 146 finished with value: 0.8393177297269369 and parameters: {'n_estimators': 10000, 'learning_rate': 0.0034274620714250933, 'max_depth': 4, 'colsample_bytree': 0.22382312475801322, 'subsample': 0.9167126355114529, 'eval_metric': 'auc', 'use_label_encoder': False, 'gamma': 0.5, 'reg_lambda': 100.0, 'tree_method': 'gpu_hist', 'gpu_id': 0, 'predictor': 'gpu_predictor', 'random_state': 42}. Best is trial 139 with value: 0.8397543207006123.\u001b[0m\n",
      "\u001b[32m[I 2022-09-22 01:13:26,709]\u001b[0m Trial 148 finished with value: 0.8338797178950632 and parameters: {'n_estimators': 10000, 'learning_rate': 0.006940870695637617, 'max_depth': 4, 'colsample_bytree': 0.2132290420540161, 'subsample': 0.9078539381786088, 'eval_metric': 'auc', 'use_label_encoder': False, 'gamma': 0.5, 'reg_lambda': 1.0, 'tree_method': 'gpu_hist', 'gpu_id': 0, 'predictor': 'gpu_predictor', 'random_state': 42}. Best is trial 139 with value: 0.8397543207006123.\u001b[0m\n",
      "\u001b[32m[I 2022-09-22 01:13:28,631]\u001b[0m Trial 149 finished with value: 0.8299607326461547 and parameters: {'n_estimators': 10000, 'learning_rate': 0.006211412693322775, 'max_depth': 5, 'colsample_bytree': 0.21314694274575566, 'subsample': 0.8480326091604169, 'eval_metric': 'auc', 'use_label_encoder': False, 'gamma': 0.5, 'reg_lambda': 1.0, 'tree_method': 'gpu_hist', 'gpu_id': 0, 'predictor': 'gpu_predictor', 'random_state': 42}. Best is trial 139 with value: 0.8397543207006123.\u001b[0m\n"
     ]
    },
    {
     "data": {
      "text/markdown": [
       "**BEST TRIAL**"
      ],
      "text/plain": [
       "<IPython.core.display.Markdown object>"
      ]
     },
     "metadata": {},
     "output_type": "display_data"
    },
    {
     "name": "stdout",
     "output_type": "stream",
     "text": [
      "Best Score:  0.8397543207006123\n"
     ]
    },
    {
     "data": {
      "text/markdown": [
       "**XGBoost Tuned Hyperparameters**"
      ],
      "text/plain": [
       "<IPython.core.display.Markdown object>"
      ]
     },
     "metadata": {},
     "output_type": "display_data"
    },
    {
     "name": "stdout",
     "output_type": "stream",
     "text": [
      "{'colsample_bytree': 0.26121887396297944,\n",
      " 'eval_metric': 'auc',\n",
      " 'gamma': 0.5,\n",
      " 'gpu_id': 0,\n",
      " 'learning_rate': 0.00361600049994702,\n",
      " 'max_depth': 3,\n",
      " 'n_estimators': 10000,\n",
      " 'predictor': 'gpu_predictor',\n",
      " 'random_state': 42,\n",
      " 'reg_lambda': 1.0,\n",
      " 'subsample': 0.985044064239948,\n",
      " 'tree_method': 'gpu_hist',\n",
      " 'use_label_encoder': False}\n",
      "CPU times: user 39min 31s, sys: 10min 56s, total: 50min 27s\n",
      "Wall time: 34min 16s\n"
     ]
    }
   ],
   "source": [
    "%%time\n",
    "n_trials = int(150)\n",
    "\n",
    "# set logging level\n",
    "# optuna.logging.set_verbosity(optuna_verbosity)\n",
    "\n",
    "study = optuna.create_study(direction = \"maximize\", sampler = optuna.samplers.TPESampler(seed=int(SEED)))\n",
    "study.optimize(objective, n_trials = n_trials, n_jobs = multiprocessing.cpu_count())\n",
    "\n",
    "printmd('**BEST TRIAL**')\n",
    "print(\"Best Score: \", study.best_value)\n",
    "printmd('**XGBoost Tuned Hyperparameters**')\n",
    "pprint.pprint(study.best_trial.params)"
   ]
  },
  {
   "cell_type": "code",
   "execution_count": 20,
   "id": "52b00d0e",
   "metadata": {
    "execution": {
     "iopub.execute_input": "2022-09-22T01:13:28.967340Z",
     "iopub.status.busy": "2022-09-22T01:13:28.966395Z",
     "iopub.status.idle": "2022-09-22T01:13:35.407824Z",
     "shell.execute_reply": "2022-09-22T01:13:35.409227Z",
     "shell.execute_reply.started": "2022-04-25T19:05:03.9788Z"
    },
    "id": "DT2j8OBAYHdO",
    "outputId": "274e5c36-3bb7-4bfe-dafe-f4dce24d8626",
    "papermill": {
     "duration": 6.605694,
     "end_time": "2022-09-22T01:13:35.409484",
     "exception": false,
     "start_time": "2022-09-22T01:13:28.803790",
     "status": "completed"
    },
    "tags": []
   },
   "outputs": [
    {
     "name": "stdout",
     "output_type": "stream",
     "text": [
      "Best Score:  0.8397543207006123\n"
     ]
    },
    {
     "data": {
      "text/markdown": [
       "**XGBoost Tuned Hyperparameters**"
      ],
      "text/plain": [
       "<IPython.core.display.Markdown object>"
      ]
     },
     "metadata": {},
     "output_type": "display_data"
    },
    {
     "name": "stdout",
     "output_type": "stream",
     "text": [
      "{'colsample_bytree': 0.26121887396297944,\n",
      " 'eval_metric': 'auc',\n",
      " 'gamma': 0.5,\n",
      " 'gpu_id': 0,\n",
      " 'learning_rate': 0.00361600049994702,\n",
      " 'max_depth': 3,\n",
      " 'n_estimators': 10000,\n",
      " 'predictor': 'gpu_predictor',\n",
      " 'random_state': 42,\n",
      " 'reg_lambda': 1.0,\n",
      " 'subsample': 0.985044064239948,\n",
      " 'tree_method': 'gpu_hist',\n",
      " 'use_label_encoder': False}\n"
     ]
    },
    {
     "data": {
      "application/vnd.plotly.v1+json": {
       "config": {
        "plotlyServerURL": "https://plot.ly"
       },
       "data": [
        {
         "mode": "markers",
         "name": "Objective Value",
         "type": "scatter",
         "x": [
          0,
          1,
          2,
          3,
          4,
          5,
          6,
          7,
          8,
          9,
          10,
          11,
          12,
          13,
          14,
          15,
          16,
          17,
          18,
          19,
          20,
          21,
          22,
          23,
          24,
          25,
          26,
          27,
          28,
          29,
          30,
          31,
          32,
          33,
          34,
          35,
          36,
          37,
          38,
          39,
          40,
          41,
          42,
          43,
          44,
          45,
          46,
          47,
          48,
          49,
          50,
          51,
          52,
          53,
          54,
          55,
          56,
          57,
          58,
          59,
          60,
          61,
          62,
          63,
          64,
          65,
          66,
          67,
          68,
          69,
          70,
          71,
          72,
          73,
          74,
          75,
          76,
          77,
          78,
          79,
          80,
          81,
          82,
          83,
          84,
          85,
          86,
          87,
          88,
          89,
          90,
          91,
          92,
          93,
          94,
          95,
          96,
          97,
          98,
          99,
          100,
          101,
          102,
          103,
          104,
          105,
          106,
          107,
          108,
          109,
          110,
          111,
          112,
          113,
          114,
          115,
          116,
          117,
          118,
          119,
          120,
          121,
          122,
          123,
          124,
          125,
          126,
          127,
          128,
          129,
          130,
          131,
          132,
          133,
          134,
          135,
          136,
          137,
          138,
          139,
          140,
          141,
          142,
          143,
          144,
          145,
          146,
          147,
          148,
          149
         ],
         "y": [
          0.8220155519388257,
          0.7960616394120231,
          0.8057518923247824,
          0.8372897775711075,
          0.8158916531039294,
          0.7960823064403627,
          0.8147007155958563,
          0.7689516649874706,
          0.7650016791960526,
          0.8282634529437598,
          0.7544718282569944,
          0.8356054147614249,
          0.8292554703040637,
          0.8372458601358858,
          0.8297695626340127,
          0.836891937275569,
          0.8162765765067554,
          0.7826487380195821,
          0.795141956650908,
          0.8384290475083314,
          0.8340760546642899,
          0.8158606525614198,
          0.8388475548322095,
          0.8385194657573174,
          0.8338306337027565,
          0.8349724870185229,
          0.8347580665994988,
          0.8275065230308196,
          0.8347322328140743,
          0.8332028727169394,
          0.8381267922188639,
          0.8358172518019066,
          0.8380286238342504,
          0.8381758764111705,
          0.8385504662998269,
          0.8379252886925522,
          0.8386253842775583,
          0.8167984189723319,
          0.8385246325144023,
          0.8384652148079258,
          0.8373982794698906,
          0.8376772843524762,
          0.8390800589010309,
          0.8389353897026531,
          0.8394804825751118,
          0.838844971453667,
          0.8392014776925263,
          0.8392350616135784,
          0.8374706140690796,
          0.8374034462269755,
          0.8393474385801751,
          0.8393538970265313,
          0.8396819861014235,
          0.8391976026247124,
          0.8391640187036606,
          0.8370779405306259,
          0.8378994549071276,
          0.831751013976078,
          0.8353264098788395,
          0.8384910485933504,
          0.8370572735022863,
          0.8341638895347335,
          0.8393022294556821,
          0.8386680100235089,
          0.8387468030690538,
          0.8394391485184326,
          0.8366645999638326,
          0.8221860549226279,
          0.7973869126043038,
          0.8381500426257458,
          0.8387803869901056,
          0.8378297036864812,
          0.8386331344131854,
          0.8393022294556821,
          0.8392738122917152,
          0.8389612234880778,
          0.838935389702653,
          0.8362228422330724,
          0.8372226097290036,
          0.8389147226743136,
          0.83652509752254,
          0.8205107339378439,
          0.83913172647188,
          0.8394288150042626,
          0.8394494820326023,
          0.8395579839313855,
          0.8392996460771398,
          0.8393151463483943,
          0.831660595727092,
          0.8347399829497015,
          0.8381190420832365,
          0.8386047172492185,
          0.8390309747087241,
          0.8391265597147951,
          0.838860471724922,
          0.8386925521196621,
          0.8393719806763286,
          0.8260081634761941,
          0.8373982794698908,
          0.8392893125629699,
          0.8386718850913223,
          0.8385995504921336,
          0.839431398382805,
          0.8392324782350358,
          0.8390671420083186,
          0.8373595287917539,
          0.829110801105686,
          0.8390296830194529,
          0.8394727324394844,
          0.8388759719961766,
          0.839002557544757,
          0.8388656384820069,
          0.8394003978402955,
          0.8392815624273426,
          0.8393164380376656,
          0.8394417318969749,
          0.8390400165336227,
          0.8391291430933375,
          0.8389560567309927,
          0.8310289596734609,
          0.8277390270996409,
          0.8387713451652071,
          0.8394184814900928,
          0.8337143816683459,
          0.8375041979901314,
          0.8394210648686352,
          0.8392143945852386,
          0.8392557286419178,
          0.8393797308119559,
          0.8389715570022476,
          0.8386202175204733,
          0.8377961197654292,
          0.8393177297269369,
          0.839516649874706,
          0.8395399002815882,
          0.8381758764111705,
          0.8383334625022603,
          0.8388708052390917,
          0.8389198894313983,
          0.8397543207006123,
          0.8363830117027047,
          0.8383773799374823,
          0.8391097677542689,
          0.8378064532795991,
          0.8321772714355834,
          0.839374564054871,
          0.8393177297269369,
          0.8391033093079129,
          0.8338797178950632,
          0.8299607326461547
         ]
        },
        {
         "name": "Best Value",
         "type": "scatter",
         "x": [
          0,
          1,
          2,
          3,
          4,
          5,
          6,
          7,
          8,
          9,
          10,
          11,
          12,
          13,
          14,
          15,
          16,
          17,
          18,
          19,
          20,
          21,
          22,
          23,
          24,
          25,
          26,
          27,
          28,
          29,
          30,
          31,
          32,
          33,
          34,
          35,
          36,
          37,
          38,
          39,
          40,
          41,
          42,
          43,
          44,
          45,
          46,
          47,
          48,
          49,
          50,
          51,
          52,
          53,
          54,
          55,
          56,
          57,
          58,
          59,
          60,
          61,
          62,
          63,
          64,
          65,
          66,
          67,
          68,
          69,
          70,
          71,
          72,
          73,
          74,
          75,
          76,
          77,
          78,
          79,
          80,
          81,
          82,
          83,
          84,
          85,
          86,
          87,
          88,
          89,
          90,
          91,
          92,
          93,
          94,
          95,
          96,
          97,
          98,
          99,
          100,
          101,
          102,
          103,
          104,
          105,
          106,
          107,
          108,
          109,
          110,
          111,
          112,
          113,
          114,
          115,
          116,
          117,
          118,
          119,
          120,
          121,
          122,
          123,
          124,
          125,
          126,
          127,
          128,
          129,
          130,
          131,
          132,
          133,
          134,
          135,
          136,
          137,
          138,
          139,
          140,
          141,
          142,
          143,
          144,
          145,
          146,
          147,
          148,
          149
         ],
         "y": [
          0.8220155519388257,
          0.8220155519388257,
          0.8220155519388257,
          0.8372897775711075,
          0.8372897775711075,
          0.8372897775711075,
          0.8372897775711075,
          0.8372897775711075,
          0.8372897775711075,
          0.8372897775711075,
          0.8372897775711075,
          0.8372897775711075,
          0.8372897775711075,
          0.8372897775711075,
          0.8372897775711075,
          0.8372897775711075,
          0.8372897775711075,
          0.8372897775711075,
          0.8372897775711075,
          0.8384290475083314,
          0.8384290475083314,
          0.8384290475083314,
          0.8388475548322095,
          0.8388475548322095,
          0.8388475548322095,
          0.8388475548322095,
          0.8388475548322095,
          0.8388475548322095,
          0.8388475548322095,
          0.8388475548322095,
          0.8388475548322095,
          0.8388475548322095,
          0.8388475548322095,
          0.8388475548322095,
          0.8388475548322095,
          0.8388475548322095,
          0.8388475548322095,
          0.8388475548322095,
          0.8388475548322095,
          0.8388475548322095,
          0.8388475548322095,
          0.8388475548322095,
          0.8390800589010309,
          0.8390800589010309,
          0.8394804825751118,
          0.8394804825751118,
          0.8394804825751118,
          0.8394804825751118,
          0.8394804825751118,
          0.8394804825751118,
          0.8394804825751118,
          0.8394804825751118,
          0.8396819861014235,
          0.8396819861014235,
          0.8396819861014235,
          0.8396819861014235,
          0.8396819861014235,
          0.8396819861014235,
          0.8396819861014235,
          0.8396819861014235,
          0.8396819861014235,
          0.8396819861014235,
          0.8396819861014235,
          0.8396819861014235,
          0.8396819861014235,
          0.8396819861014235,
          0.8396819861014235,
          0.8396819861014235,
          0.8396819861014235,
          0.8396819861014235,
          0.8396819861014235,
          0.8396819861014235,
          0.8396819861014235,
          0.8396819861014235,
          0.8396819861014235,
          0.8396819861014235,
          0.8396819861014235,
          0.8396819861014235,
          0.8396819861014235,
          0.8396819861014235,
          0.8396819861014235,
          0.8396819861014235,
          0.8396819861014235,
          0.8396819861014235,
          0.8396819861014235,
          0.8396819861014235,
          0.8396819861014235,
          0.8396819861014235,
          0.8396819861014235,
          0.8396819861014235,
          0.8396819861014235,
          0.8396819861014235,
          0.8396819861014235,
          0.8396819861014235,
          0.8396819861014235,
          0.8396819861014235,
          0.8396819861014235,
          0.8396819861014235,
          0.8396819861014235,
          0.8396819861014235,
          0.8396819861014235,
          0.8396819861014235,
          0.8396819861014235,
          0.8396819861014235,
          0.8396819861014235,
          0.8396819861014235,
          0.8396819861014235,
          0.8396819861014235,
          0.8396819861014235,
          0.8396819861014235,
          0.8396819861014235,
          0.8396819861014235,
          0.8396819861014235,
          0.8396819861014235,
          0.8396819861014235,
          0.8396819861014235,
          0.8396819861014235,
          0.8396819861014235,
          0.8396819861014235,
          0.8396819861014235,
          0.8396819861014235,
          0.8396819861014235,
          0.8396819861014235,
          0.8396819861014235,
          0.8396819861014235,
          0.8396819861014235,
          0.8396819861014235,
          0.8396819861014235,
          0.8396819861014235,
          0.8396819861014235,
          0.8396819861014235,
          0.8396819861014235,
          0.8396819861014235,
          0.8396819861014235,
          0.8396819861014235,
          0.8396819861014235,
          0.8396819861014235,
          0.8396819861014235,
          0.8396819861014235,
          0.8397543207006123,
          0.8397543207006123,
          0.8397543207006123,
          0.8397543207006123,
          0.8397543207006123,
          0.8397543207006123,
          0.8397543207006123,
          0.8397543207006123,
          0.8397543207006123,
          0.8397543207006123,
          0.8397543207006123
         ]
        }
       ],
       "layout": {
        "template": {
         "data": {
          "bar": [
           {
            "error_x": {
             "color": "#2a3f5f"
            },
            "error_y": {
             "color": "#2a3f5f"
            },
            "marker": {
             "line": {
              "color": "#E5ECF6",
              "width": 0.5
             },
             "pattern": {
              "fillmode": "overlay",
              "size": 10,
              "solidity": 0.2
             }
            },
            "type": "bar"
           }
          ],
          "barpolar": [
           {
            "marker": {
             "line": {
              "color": "#E5ECF6",
              "width": 0.5
             },
             "pattern": {
              "fillmode": "overlay",
              "size": 10,
              "solidity": 0.2
             }
            },
            "type": "barpolar"
           }
          ],
          "carpet": [
           {
            "aaxis": {
             "endlinecolor": "#2a3f5f",
             "gridcolor": "white",
             "linecolor": "white",
             "minorgridcolor": "white",
             "startlinecolor": "#2a3f5f"
            },
            "baxis": {
             "endlinecolor": "#2a3f5f",
             "gridcolor": "white",
             "linecolor": "white",
             "minorgridcolor": "white",
             "startlinecolor": "#2a3f5f"
            },
            "type": "carpet"
           }
          ],
          "choropleth": [
           {
            "colorbar": {
             "outlinewidth": 0,
             "ticks": ""
            },
            "type": "choropleth"
           }
          ],
          "contour": [
           {
            "colorbar": {
             "outlinewidth": 0,
             "ticks": ""
            },
            "colorscale": [
             [
              0,
              "#0d0887"
             ],
             [
              0.1111111111111111,
              "#46039f"
             ],
             [
              0.2222222222222222,
              "#7201a8"
             ],
             [
              0.3333333333333333,
              "#9c179e"
             ],
             [
              0.4444444444444444,
              "#bd3786"
             ],
             [
              0.5555555555555556,
              "#d8576b"
             ],
             [
              0.6666666666666666,
              "#ed7953"
             ],
             [
              0.7777777777777778,
              "#fb9f3a"
             ],
             [
              0.8888888888888888,
              "#fdca26"
             ],
             [
              1,
              "#f0f921"
             ]
            ],
            "type": "contour"
           }
          ],
          "contourcarpet": [
           {
            "colorbar": {
             "outlinewidth": 0,
             "ticks": ""
            },
            "type": "contourcarpet"
           }
          ],
          "heatmap": [
           {
            "colorbar": {
             "outlinewidth": 0,
             "ticks": ""
            },
            "colorscale": [
             [
              0,
              "#0d0887"
             ],
             [
              0.1111111111111111,
              "#46039f"
             ],
             [
              0.2222222222222222,
              "#7201a8"
             ],
             [
              0.3333333333333333,
              "#9c179e"
             ],
             [
              0.4444444444444444,
              "#bd3786"
             ],
             [
              0.5555555555555556,
              "#d8576b"
             ],
             [
              0.6666666666666666,
              "#ed7953"
             ],
             [
              0.7777777777777778,
              "#fb9f3a"
             ],
             [
              0.8888888888888888,
              "#fdca26"
             ],
             [
              1,
              "#f0f921"
             ]
            ],
            "type": "heatmap"
           }
          ],
          "heatmapgl": [
           {
            "colorbar": {
             "outlinewidth": 0,
             "ticks": ""
            },
            "colorscale": [
             [
              0,
              "#0d0887"
             ],
             [
              0.1111111111111111,
              "#46039f"
             ],
             [
              0.2222222222222222,
              "#7201a8"
             ],
             [
              0.3333333333333333,
              "#9c179e"
             ],
             [
              0.4444444444444444,
              "#bd3786"
             ],
             [
              0.5555555555555556,
              "#d8576b"
             ],
             [
              0.6666666666666666,
              "#ed7953"
             ],
             [
              0.7777777777777778,
              "#fb9f3a"
             ],
             [
              0.8888888888888888,
              "#fdca26"
             ],
             [
              1,
              "#f0f921"
             ]
            ],
            "type": "heatmapgl"
           }
          ],
          "histogram": [
           {
            "marker": {
             "pattern": {
              "fillmode": "overlay",
              "size": 10,
              "solidity": 0.2
             }
            },
            "type": "histogram"
           }
          ],
          "histogram2d": [
           {
            "colorbar": {
             "outlinewidth": 0,
             "ticks": ""
            },
            "colorscale": [
             [
              0,
              "#0d0887"
             ],
             [
              0.1111111111111111,
              "#46039f"
             ],
             [
              0.2222222222222222,
              "#7201a8"
             ],
             [
              0.3333333333333333,
              "#9c179e"
             ],
             [
              0.4444444444444444,
              "#bd3786"
             ],
             [
              0.5555555555555556,
              "#d8576b"
             ],
             [
              0.6666666666666666,
              "#ed7953"
             ],
             [
              0.7777777777777778,
              "#fb9f3a"
             ],
             [
              0.8888888888888888,
              "#fdca26"
             ],
             [
              1,
              "#f0f921"
             ]
            ],
            "type": "histogram2d"
           }
          ],
          "histogram2dcontour": [
           {
            "colorbar": {
             "outlinewidth": 0,
             "ticks": ""
            },
            "colorscale": [
             [
              0,
              "#0d0887"
             ],
             [
              0.1111111111111111,
              "#46039f"
             ],
             [
              0.2222222222222222,
              "#7201a8"
             ],
             [
              0.3333333333333333,
              "#9c179e"
             ],
             [
              0.4444444444444444,
              "#bd3786"
             ],
             [
              0.5555555555555556,
              "#d8576b"
             ],
             [
              0.6666666666666666,
              "#ed7953"
             ],
             [
              0.7777777777777778,
              "#fb9f3a"
             ],
             [
              0.8888888888888888,
              "#fdca26"
             ],
             [
              1,
              "#f0f921"
             ]
            ],
            "type": "histogram2dcontour"
           }
          ],
          "mesh3d": [
           {
            "colorbar": {
             "outlinewidth": 0,
             "ticks": ""
            },
            "type": "mesh3d"
           }
          ],
          "parcoords": [
           {
            "line": {
             "colorbar": {
              "outlinewidth": 0,
              "ticks": ""
             }
            },
            "type": "parcoords"
           }
          ],
          "pie": [
           {
            "automargin": true,
            "type": "pie"
           }
          ],
          "scatter": [
           {
            "marker": {
             "colorbar": {
              "outlinewidth": 0,
              "ticks": ""
             }
            },
            "type": "scatter"
           }
          ],
          "scatter3d": [
           {
            "line": {
             "colorbar": {
              "outlinewidth": 0,
              "ticks": ""
             }
            },
            "marker": {
             "colorbar": {
              "outlinewidth": 0,
              "ticks": ""
             }
            },
            "type": "scatter3d"
           }
          ],
          "scattercarpet": [
           {
            "marker": {
             "colorbar": {
              "outlinewidth": 0,
              "ticks": ""
             }
            },
            "type": "scattercarpet"
           }
          ],
          "scattergeo": [
           {
            "marker": {
             "colorbar": {
              "outlinewidth": 0,
              "ticks": ""
             }
            },
            "type": "scattergeo"
           }
          ],
          "scattergl": [
           {
            "marker": {
             "colorbar": {
              "outlinewidth": 0,
              "ticks": ""
             }
            },
            "type": "scattergl"
           }
          ],
          "scattermapbox": [
           {
            "marker": {
             "colorbar": {
              "outlinewidth": 0,
              "ticks": ""
             }
            },
            "type": "scattermapbox"
           }
          ],
          "scatterpolar": [
           {
            "marker": {
             "colorbar": {
              "outlinewidth": 0,
              "ticks": ""
             }
            },
            "type": "scatterpolar"
           }
          ],
          "scatterpolargl": [
           {
            "marker": {
             "colorbar": {
              "outlinewidth": 0,
              "ticks": ""
             }
            },
            "type": "scatterpolargl"
           }
          ],
          "scatterternary": [
           {
            "marker": {
             "colorbar": {
              "outlinewidth": 0,
              "ticks": ""
             }
            },
            "type": "scatterternary"
           }
          ],
          "surface": [
           {
            "colorbar": {
             "outlinewidth": 0,
             "ticks": ""
            },
            "colorscale": [
             [
              0,
              "#0d0887"
             ],
             [
              0.1111111111111111,
              "#46039f"
             ],
             [
              0.2222222222222222,
              "#7201a8"
             ],
             [
              0.3333333333333333,
              "#9c179e"
             ],
             [
              0.4444444444444444,
              "#bd3786"
             ],
             [
              0.5555555555555556,
              "#d8576b"
             ],
             [
              0.6666666666666666,
              "#ed7953"
             ],
             [
              0.7777777777777778,
              "#fb9f3a"
             ],
             [
              0.8888888888888888,
              "#fdca26"
             ],
             [
              1,
              "#f0f921"
             ]
            ],
            "type": "surface"
           }
          ],
          "table": [
           {
            "cells": {
             "fill": {
              "color": "#EBF0F8"
             },
             "line": {
              "color": "white"
             }
            },
            "header": {
             "fill": {
              "color": "#C8D4E3"
             },
             "line": {
              "color": "white"
             }
            },
            "type": "table"
           }
          ]
         },
         "layout": {
          "annotationdefaults": {
           "arrowcolor": "#2a3f5f",
           "arrowhead": 0,
           "arrowwidth": 1
          },
          "autotypenumbers": "strict",
          "coloraxis": {
           "colorbar": {
            "outlinewidth": 0,
            "ticks": ""
           }
          },
          "colorscale": {
           "diverging": [
            [
             0,
             "#8e0152"
            ],
            [
             0.1,
             "#c51b7d"
            ],
            [
             0.2,
             "#de77ae"
            ],
            [
             0.3,
             "#f1b6da"
            ],
            [
             0.4,
             "#fde0ef"
            ],
            [
             0.5,
             "#f7f7f7"
            ],
            [
             0.6,
             "#e6f5d0"
            ],
            [
             0.7,
             "#b8e186"
            ],
            [
             0.8,
             "#7fbc41"
            ],
            [
             0.9,
             "#4d9221"
            ],
            [
             1,
             "#276419"
            ]
           ],
           "sequential": [
            [
             0,
             "#0d0887"
            ],
            [
             0.1111111111111111,
             "#46039f"
            ],
            [
             0.2222222222222222,
             "#7201a8"
            ],
            [
             0.3333333333333333,
             "#9c179e"
            ],
            [
             0.4444444444444444,
             "#bd3786"
            ],
            [
             0.5555555555555556,
             "#d8576b"
            ],
            [
             0.6666666666666666,
             "#ed7953"
            ],
            [
             0.7777777777777778,
             "#fb9f3a"
            ],
            [
             0.8888888888888888,
             "#fdca26"
            ],
            [
             1,
             "#f0f921"
            ]
           ],
           "sequentialminus": [
            [
             0,
             "#0d0887"
            ],
            [
             0.1111111111111111,
             "#46039f"
            ],
            [
             0.2222222222222222,
             "#7201a8"
            ],
            [
             0.3333333333333333,
             "#9c179e"
            ],
            [
             0.4444444444444444,
             "#bd3786"
            ],
            [
             0.5555555555555556,
             "#d8576b"
            ],
            [
             0.6666666666666666,
             "#ed7953"
            ],
            [
             0.7777777777777778,
             "#fb9f3a"
            ],
            [
             0.8888888888888888,
             "#fdca26"
            ],
            [
             1,
             "#f0f921"
            ]
           ]
          },
          "colorway": [
           "#636efa",
           "#EF553B",
           "#00cc96",
           "#ab63fa",
           "#FFA15A",
           "#19d3f3",
           "#FF6692",
           "#B6E880",
           "#FF97FF",
           "#FECB52"
          ],
          "font": {
           "color": "#2a3f5f"
          },
          "geo": {
           "bgcolor": "white",
           "lakecolor": "white",
           "landcolor": "#E5ECF6",
           "showlakes": true,
           "showland": true,
           "subunitcolor": "white"
          },
          "hoverlabel": {
           "align": "left"
          },
          "hovermode": "closest",
          "mapbox": {
           "style": "light"
          },
          "paper_bgcolor": "white",
          "plot_bgcolor": "#E5ECF6",
          "polar": {
           "angularaxis": {
            "gridcolor": "white",
            "linecolor": "white",
            "ticks": ""
           },
           "bgcolor": "#E5ECF6",
           "radialaxis": {
            "gridcolor": "white",
            "linecolor": "white",
            "ticks": ""
           }
          },
          "scene": {
           "xaxis": {
            "backgroundcolor": "#E5ECF6",
            "gridcolor": "white",
            "gridwidth": 2,
            "linecolor": "white",
            "showbackground": true,
            "ticks": "",
            "zerolinecolor": "white"
           },
           "yaxis": {
            "backgroundcolor": "#E5ECF6",
            "gridcolor": "white",
            "gridwidth": 2,
            "linecolor": "white",
            "showbackground": true,
            "ticks": "",
            "zerolinecolor": "white"
           },
           "zaxis": {
            "backgroundcolor": "#E5ECF6",
            "gridcolor": "white",
            "gridwidth": 2,
            "linecolor": "white",
            "showbackground": true,
            "ticks": "",
            "zerolinecolor": "white"
           }
          },
          "shapedefaults": {
           "line": {
            "color": "#2a3f5f"
           }
          },
          "ternary": {
           "aaxis": {
            "gridcolor": "white",
            "linecolor": "white",
            "ticks": ""
           },
           "baxis": {
            "gridcolor": "white",
            "linecolor": "white",
            "ticks": ""
           },
           "bgcolor": "#E5ECF6",
           "caxis": {
            "gridcolor": "white",
            "linecolor": "white",
            "ticks": ""
           }
          },
          "title": {
           "x": 0.05
          },
          "xaxis": {
           "automargin": true,
           "gridcolor": "white",
           "linecolor": "white",
           "ticks": "",
           "title": {
            "standoff": 15
           },
           "zerolinecolor": "white",
           "zerolinewidth": 2
          },
          "yaxis": {
           "automargin": true,
           "gridcolor": "white",
           "linecolor": "white",
           "ticks": "",
           "title": {
            "standoff": 15
           },
           "zerolinecolor": "white",
           "zerolinewidth": 2
          }
         }
        },
        "title": {
         "text": "Optimization History Plot"
        },
        "xaxis": {
         "title": {
          "text": "#Trials"
         }
        },
        "yaxis": {
         "title": {
          "text": "Objective Value"
         }
        }
       }
      },
      "text/html": [
       "<div>                            <div id=\"e9caee34-4c6a-48ad-8c5c-bfcded01c370\" class=\"plotly-graph-div\" style=\"height:525px; width:100%;\"></div>            <script type=\"text/javascript\">                require([\"plotly\"], function(Plotly) {                    window.PLOTLYENV=window.PLOTLYENV || {};                                    if (document.getElementById(\"e9caee34-4c6a-48ad-8c5c-bfcded01c370\")) {                    Plotly.newPlot(                        \"e9caee34-4c6a-48ad-8c5c-bfcded01c370\",                        [{\"mode\":\"markers\",\"name\":\"Objective Value\",\"type\":\"scatter\",\"x\":[0,1,2,3,4,5,6,7,8,9,10,11,12,13,14,15,16,17,18,19,20,21,22,23,24,25,26,27,28,29,30,31,32,33,34,35,36,37,38,39,40,41,42,43,44,45,46,47,48,49,50,51,52,53,54,55,56,57,58,59,60,61,62,63,64,65,66,67,68,69,70,71,72,73,74,75,76,77,78,79,80,81,82,83,84,85,86,87,88,89,90,91,92,93,94,95,96,97,98,99,100,101,102,103,104,105,106,107,108,109,110,111,112,113,114,115,116,117,118,119,120,121,122,123,124,125,126,127,128,129,130,131,132,133,134,135,136,137,138,139,140,141,142,143,144,145,146,147,148,149],\"y\":[0.8220155519388257,0.7960616394120231,0.8057518923247824,0.8372897775711075,0.8158916531039294,0.7960823064403627,0.8147007155958563,0.7689516649874706,0.7650016791960526,0.8282634529437598,0.7544718282569944,0.8356054147614249,0.8292554703040637,0.8372458601358858,0.8297695626340127,0.836891937275569,0.8162765765067554,0.7826487380195821,0.795141956650908,0.8384290475083314,0.8340760546642899,0.8158606525614198,0.8388475548322095,0.8385194657573174,0.8338306337027565,0.8349724870185229,0.8347580665994988,0.8275065230308196,0.8347322328140743,0.8332028727169394,0.8381267922188639,0.8358172518019066,0.8380286238342504,0.8381758764111705,0.8385504662998269,0.8379252886925522,0.8386253842775583,0.8167984189723319,0.8385246325144023,0.8384652148079258,0.8373982794698906,0.8376772843524762,0.8390800589010309,0.8389353897026531,0.8394804825751118,0.838844971453667,0.8392014776925263,0.8392350616135784,0.8374706140690796,0.8374034462269755,0.8393474385801751,0.8393538970265313,0.8396819861014235,0.8391976026247124,0.8391640187036606,0.8370779405306259,0.8378994549071276,0.831751013976078,0.8353264098788395,0.8384910485933504,0.8370572735022863,0.8341638895347335,0.8393022294556821,0.8386680100235089,0.8387468030690538,0.8394391485184326,0.8366645999638326,0.8221860549226279,0.7973869126043038,0.8381500426257458,0.8387803869901056,0.8378297036864812,0.8386331344131854,0.8393022294556821,0.8392738122917152,0.8389612234880778,0.838935389702653,0.8362228422330724,0.8372226097290036,0.8389147226743136,0.83652509752254,0.8205107339378439,0.83913172647188,0.8394288150042626,0.8394494820326023,0.8395579839313855,0.8392996460771398,0.8393151463483943,0.831660595727092,0.8347399829497015,0.8381190420832365,0.8386047172492185,0.8390309747087241,0.8391265597147951,0.838860471724922,0.8386925521196621,0.8393719806763286,0.8260081634761941,0.8373982794698908,0.8392893125629699,0.8386718850913223,0.8385995504921336,0.839431398382805,0.8392324782350358,0.8390671420083186,0.8373595287917539,0.829110801105686,0.8390296830194529,0.8394727324394844,0.8388759719961766,0.839002557544757,0.8388656384820069,0.8394003978402955,0.8392815624273426,0.8393164380376656,0.8394417318969749,0.8390400165336227,0.8391291430933375,0.8389560567309927,0.8310289596734609,0.8277390270996409,0.8387713451652071,0.8394184814900928,0.8337143816683459,0.8375041979901314,0.8394210648686352,0.8392143945852386,0.8392557286419178,0.8393797308119559,0.8389715570022476,0.8386202175204733,0.8377961197654292,0.8393177297269369,0.839516649874706,0.8395399002815882,0.8381758764111705,0.8383334625022603,0.8388708052390917,0.8389198894313983,0.8397543207006123,0.8363830117027047,0.8383773799374823,0.8391097677542689,0.8378064532795991,0.8321772714355834,0.839374564054871,0.8393177297269369,0.8391033093079129,0.8338797178950632,0.8299607326461547]},{\"name\":\"Best Value\",\"type\":\"scatter\",\"x\":[0,1,2,3,4,5,6,7,8,9,10,11,12,13,14,15,16,17,18,19,20,21,22,23,24,25,26,27,28,29,30,31,32,33,34,35,36,37,38,39,40,41,42,43,44,45,46,47,48,49,50,51,52,53,54,55,56,57,58,59,60,61,62,63,64,65,66,67,68,69,70,71,72,73,74,75,76,77,78,79,80,81,82,83,84,85,86,87,88,89,90,91,92,93,94,95,96,97,98,99,100,101,102,103,104,105,106,107,108,109,110,111,112,113,114,115,116,117,118,119,120,121,122,123,124,125,126,127,128,129,130,131,132,133,134,135,136,137,138,139,140,141,142,143,144,145,146,147,148,149],\"y\":[0.8220155519388257,0.8220155519388257,0.8220155519388257,0.8372897775711075,0.8372897775711075,0.8372897775711075,0.8372897775711075,0.8372897775711075,0.8372897775711075,0.8372897775711075,0.8372897775711075,0.8372897775711075,0.8372897775711075,0.8372897775711075,0.8372897775711075,0.8372897775711075,0.8372897775711075,0.8372897775711075,0.8372897775711075,0.8384290475083314,0.8384290475083314,0.8384290475083314,0.8388475548322095,0.8388475548322095,0.8388475548322095,0.8388475548322095,0.8388475548322095,0.8388475548322095,0.8388475548322095,0.8388475548322095,0.8388475548322095,0.8388475548322095,0.8388475548322095,0.8388475548322095,0.8388475548322095,0.8388475548322095,0.8388475548322095,0.8388475548322095,0.8388475548322095,0.8388475548322095,0.8388475548322095,0.8388475548322095,0.8390800589010309,0.8390800589010309,0.8394804825751118,0.8394804825751118,0.8394804825751118,0.8394804825751118,0.8394804825751118,0.8394804825751118,0.8394804825751118,0.8394804825751118,0.8396819861014235,0.8396819861014235,0.8396819861014235,0.8396819861014235,0.8396819861014235,0.8396819861014235,0.8396819861014235,0.8396819861014235,0.8396819861014235,0.8396819861014235,0.8396819861014235,0.8396819861014235,0.8396819861014235,0.8396819861014235,0.8396819861014235,0.8396819861014235,0.8396819861014235,0.8396819861014235,0.8396819861014235,0.8396819861014235,0.8396819861014235,0.8396819861014235,0.8396819861014235,0.8396819861014235,0.8396819861014235,0.8396819861014235,0.8396819861014235,0.8396819861014235,0.8396819861014235,0.8396819861014235,0.8396819861014235,0.8396819861014235,0.8396819861014235,0.8396819861014235,0.8396819861014235,0.8396819861014235,0.8396819861014235,0.8396819861014235,0.8396819861014235,0.8396819861014235,0.8396819861014235,0.8396819861014235,0.8396819861014235,0.8396819861014235,0.8396819861014235,0.8396819861014235,0.8396819861014235,0.8396819861014235,0.8396819861014235,0.8396819861014235,0.8396819861014235,0.8396819861014235,0.8396819861014235,0.8396819861014235,0.8396819861014235,0.8396819861014235,0.8396819861014235,0.8396819861014235,0.8396819861014235,0.8396819861014235,0.8396819861014235,0.8396819861014235,0.8396819861014235,0.8396819861014235,0.8396819861014235,0.8396819861014235,0.8396819861014235,0.8396819861014235,0.8396819861014235,0.8396819861014235,0.8396819861014235,0.8396819861014235,0.8396819861014235,0.8396819861014235,0.8396819861014235,0.8396819861014235,0.8396819861014235,0.8396819861014235,0.8396819861014235,0.8396819861014235,0.8396819861014235,0.8396819861014235,0.8396819861014235,0.8396819861014235,0.8396819861014235,0.8396819861014235,0.8396819861014235,0.8397543207006123,0.8397543207006123,0.8397543207006123,0.8397543207006123,0.8397543207006123,0.8397543207006123,0.8397543207006123,0.8397543207006123,0.8397543207006123,0.8397543207006123,0.8397543207006123]}],                        {\"template\":{\"data\":{\"bar\":[{\"error_x\":{\"color\":\"#2a3f5f\"},\"error_y\":{\"color\":\"#2a3f5f\"},\"marker\":{\"line\":{\"color\":\"#E5ECF6\",\"width\":0.5},\"pattern\":{\"fillmode\":\"overlay\",\"size\":10,\"solidity\":0.2}},\"type\":\"bar\"}],\"barpolar\":[{\"marker\":{\"line\":{\"color\":\"#E5ECF6\",\"width\":0.5},\"pattern\":{\"fillmode\":\"overlay\",\"size\":10,\"solidity\":0.2}},\"type\":\"barpolar\"}],\"carpet\":[{\"aaxis\":{\"endlinecolor\":\"#2a3f5f\",\"gridcolor\":\"white\",\"linecolor\":\"white\",\"minorgridcolor\":\"white\",\"startlinecolor\":\"#2a3f5f\"},\"baxis\":{\"endlinecolor\":\"#2a3f5f\",\"gridcolor\":\"white\",\"linecolor\":\"white\",\"minorgridcolor\":\"white\",\"startlinecolor\":\"#2a3f5f\"},\"type\":\"carpet\"}],\"choropleth\":[{\"colorbar\":{\"outlinewidth\":0,\"ticks\":\"\"},\"type\":\"choropleth\"}],\"contour\":[{\"colorbar\":{\"outlinewidth\":0,\"ticks\":\"\"},\"colorscale\":[[0.0,\"#0d0887\"],[0.1111111111111111,\"#46039f\"],[0.2222222222222222,\"#7201a8\"],[0.3333333333333333,\"#9c179e\"],[0.4444444444444444,\"#bd3786\"],[0.5555555555555556,\"#d8576b\"],[0.6666666666666666,\"#ed7953\"],[0.7777777777777778,\"#fb9f3a\"],[0.8888888888888888,\"#fdca26\"],[1.0,\"#f0f921\"]],\"type\":\"contour\"}],\"contourcarpet\":[{\"colorbar\":{\"outlinewidth\":0,\"ticks\":\"\"},\"type\":\"contourcarpet\"}],\"heatmap\":[{\"colorbar\":{\"outlinewidth\":0,\"ticks\":\"\"},\"colorscale\":[[0.0,\"#0d0887\"],[0.1111111111111111,\"#46039f\"],[0.2222222222222222,\"#7201a8\"],[0.3333333333333333,\"#9c179e\"],[0.4444444444444444,\"#bd3786\"],[0.5555555555555556,\"#d8576b\"],[0.6666666666666666,\"#ed7953\"],[0.7777777777777778,\"#fb9f3a\"],[0.8888888888888888,\"#fdca26\"],[1.0,\"#f0f921\"]],\"type\":\"heatmap\"}],\"heatmapgl\":[{\"colorbar\":{\"outlinewidth\":0,\"ticks\":\"\"},\"colorscale\":[[0.0,\"#0d0887\"],[0.1111111111111111,\"#46039f\"],[0.2222222222222222,\"#7201a8\"],[0.3333333333333333,\"#9c179e\"],[0.4444444444444444,\"#bd3786\"],[0.5555555555555556,\"#d8576b\"],[0.6666666666666666,\"#ed7953\"],[0.7777777777777778,\"#fb9f3a\"],[0.8888888888888888,\"#fdca26\"],[1.0,\"#f0f921\"]],\"type\":\"heatmapgl\"}],\"histogram\":[{\"marker\":{\"pattern\":{\"fillmode\":\"overlay\",\"size\":10,\"solidity\":0.2}},\"type\":\"histogram\"}],\"histogram2d\":[{\"colorbar\":{\"outlinewidth\":0,\"ticks\":\"\"},\"colorscale\":[[0.0,\"#0d0887\"],[0.1111111111111111,\"#46039f\"],[0.2222222222222222,\"#7201a8\"],[0.3333333333333333,\"#9c179e\"],[0.4444444444444444,\"#bd3786\"],[0.5555555555555556,\"#d8576b\"],[0.6666666666666666,\"#ed7953\"],[0.7777777777777778,\"#fb9f3a\"],[0.8888888888888888,\"#fdca26\"],[1.0,\"#f0f921\"]],\"type\":\"histogram2d\"}],\"histogram2dcontour\":[{\"colorbar\":{\"outlinewidth\":0,\"ticks\":\"\"},\"colorscale\":[[0.0,\"#0d0887\"],[0.1111111111111111,\"#46039f\"],[0.2222222222222222,\"#7201a8\"],[0.3333333333333333,\"#9c179e\"],[0.4444444444444444,\"#bd3786\"],[0.5555555555555556,\"#d8576b\"],[0.6666666666666666,\"#ed7953\"],[0.7777777777777778,\"#fb9f3a\"],[0.8888888888888888,\"#fdca26\"],[1.0,\"#f0f921\"]],\"type\":\"histogram2dcontour\"}],\"mesh3d\":[{\"colorbar\":{\"outlinewidth\":0,\"ticks\":\"\"},\"type\":\"mesh3d\"}],\"parcoords\":[{\"line\":{\"colorbar\":{\"outlinewidth\":0,\"ticks\":\"\"}},\"type\":\"parcoords\"}],\"pie\":[{\"automargin\":true,\"type\":\"pie\"}],\"scatter\":[{\"marker\":{\"colorbar\":{\"outlinewidth\":0,\"ticks\":\"\"}},\"type\":\"scatter\"}],\"scatter3d\":[{\"line\":{\"colorbar\":{\"outlinewidth\":0,\"ticks\":\"\"}},\"marker\":{\"colorbar\":{\"outlinewidth\":0,\"ticks\":\"\"}},\"type\":\"scatter3d\"}],\"scattercarpet\":[{\"marker\":{\"colorbar\":{\"outlinewidth\":0,\"ticks\":\"\"}},\"type\":\"scattercarpet\"}],\"scattergeo\":[{\"marker\":{\"colorbar\":{\"outlinewidth\":0,\"ticks\":\"\"}},\"type\":\"scattergeo\"}],\"scattergl\":[{\"marker\":{\"colorbar\":{\"outlinewidth\":0,\"ticks\":\"\"}},\"type\":\"scattergl\"}],\"scattermapbox\":[{\"marker\":{\"colorbar\":{\"outlinewidth\":0,\"ticks\":\"\"}},\"type\":\"scattermapbox\"}],\"scatterpolar\":[{\"marker\":{\"colorbar\":{\"outlinewidth\":0,\"ticks\":\"\"}},\"type\":\"scatterpolar\"}],\"scatterpolargl\":[{\"marker\":{\"colorbar\":{\"outlinewidth\":0,\"ticks\":\"\"}},\"type\":\"scatterpolargl\"}],\"scatterternary\":[{\"marker\":{\"colorbar\":{\"outlinewidth\":0,\"ticks\":\"\"}},\"type\":\"scatterternary\"}],\"surface\":[{\"colorbar\":{\"outlinewidth\":0,\"ticks\":\"\"},\"colorscale\":[[0.0,\"#0d0887\"],[0.1111111111111111,\"#46039f\"],[0.2222222222222222,\"#7201a8\"],[0.3333333333333333,\"#9c179e\"],[0.4444444444444444,\"#bd3786\"],[0.5555555555555556,\"#d8576b\"],[0.6666666666666666,\"#ed7953\"],[0.7777777777777778,\"#fb9f3a\"],[0.8888888888888888,\"#fdca26\"],[1.0,\"#f0f921\"]],\"type\":\"surface\"}],\"table\":[{\"cells\":{\"fill\":{\"color\":\"#EBF0F8\"},\"line\":{\"color\":\"white\"}},\"header\":{\"fill\":{\"color\":\"#C8D4E3\"},\"line\":{\"color\":\"white\"}},\"type\":\"table\"}]},\"layout\":{\"annotationdefaults\":{\"arrowcolor\":\"#2a3f5f\",\"arrowhead\":0,\"arrowwidth\":1},\"autotypenumbers\":\"strict\",\"coloraxis\":{\"colorbar\":{\"outlinewidth\":0,\"ticks\":\"\"}},\"colorscale\":{\"diverging\":[[0,\"#8e0152\"],[0.1,\"#c51b7d\"],[0.2,\"#de77ae\"],[0.3,\"#f1b6da\"],[0.4,\"#fde0ef\"],[0.5,\"#f7f7f7\"],[0.6,\"#e6f5d0\"],[0.7,\"#b8e186\"],[0.8,\"#7fbc41\"],[0.9,\"#4d9221\"],[1,\"#276419\"]],\"sequential\":[[0.0,\"#0d0887\"],[0.1111111111111111,\"#46039f\"],[0.2222222222222222,\"#7201a8\"],[0.3333333333333333,\"#9c179e\"],[0.4444444444444444,\"#bd3786\"],[0.5555555555555556,\"#d8576b\"],[0.6666666666666666,\"#ed7953\"],[0.7777777777777778,\"#fb9f3a\"],[0.8888888888888888,\"#fdca26\"],[1.0,\"#f0f921\"]],\"sequentialminus\":[[0.0,\"#0d0887\"],[0.1111111111111111,\"#46039f\"],[0.2222222222222222,\"#7201a8\"],[0.3333333333333333,\"#9c179e\"],[0.4444444444444444,\"#bd3786\"],[0.5555555555555556,\"#d8576b\"],[0.6666666666666666,\"#ed7953\"],[0.7777777777777778,\"#fb9f3a\"],[0.8888888888888888,\"#fdca26\"],[1.0,\"#f0f921\"]]},\"colorway\":[\"#636efa\",\"#EF553B\",\"#00cc96\",\"#ab63fa\",\"#FFA15A\",\"#19d3f3\",\"#FF6692\",\"#B6E880\",\"#FF97FF\",\"#FECB52\"],\"font\":{\"color\":\"#2a3f5f\"},\"geo\":{\"bgcolor\":\"white\",\"lakecolor\":\"white\",\"landcolor\":\"#E5ECF6\",\"showlakes\":true,\"showland\":true,\"subunitcolor\":\"white\"},\"hoverlabel\":{\"align\":\"left\"},\"hovermode\":\"closest\",\"mapbox\":{\"style\":\"light\"},\"paper_bgcolor\":\"white\",\"plot_bgcolor\":\"#E5ECF6\",\"polar\":{\"angularaxis\":{\"gridcolor\":\"white\",\"linecolor\":\"white\",\"ticks\":\"\"},\"bgcolor\":\"#E5ECF6\",\"radialaxis\":{\"gridcolor\":\"white\",\"linecolor\":\"white\",\"ticks\":\"\"}},\"scene\":{\"xaxis\":{\"backgroundcolor\":\"#E5ECF6\",\"gridcolor\":\"white\",\"gridwidth\":2,\"linecolor\":\"white\",\"showbackground\":true,\"ticks\":\"\",\"zerolinecolor\":\"white\"},\"yaxis\":{\"backgroundcolor\":\"#E5ECF6\",\"gridcolor\":\"white\",\"gridwidth\":2,\"linecolor\":\"white\",\"showbackground\":true,\"ticks\":\"\",\"zerolinecolor\":\"white\"},\"zaxis\":{\"backgroundcolor\":\"#E5ECF6\",\"gridcolor\":\"white\",\"gridwidth\":2,\"linecolor\":\"white\",\"showbackground\":true,\"ticks\":\"\",\"zerolinecolor\":\"white\"}},\"shapedefaults\":{\"line\":{\"color\":\"#2a3f5f\"}},\"ternary\":{\"aaxis\":{\"gridcolor\":\"white\",\"linecolor\":\"white\",\"ticks\":\"\"},\"baxis\":{\"gridcolor\":\"white\",\"linecolor\":\"white\",\"ticks\":\"\"},\"bgcolor\":\"#E5ECF6\",\"caxis\":{\"gridcolor\":\"white\",\"linecolor\":\"white\",\"ticks\":\"\"}},\"title\":{\"x\":0.05},\"xaxis\":{\"automargin\":true,\"gridcolor\":\"white\",\"linecolor\":\"white\",\"ticks\":\"\",\"title\":{\"standoff\":15},\"zerolinecolor\":\"white\",\"zerolinewidth\":2},\"yaxis\":{\"automargin\":true,\"gridcolor\":\"white\",\"linecolor\":\"white\",\"ticks\":\"\",\"title\":{\"standoff\":15},\"zerolinecolor\":\"white\",\"zerolinewidth\":2}}},\"title\":{\"text\":\"Optimization History Plot\"},\"xaxis\":{\"title\":{\"text\":\"#Trials\"}},\"yaxis\":{\"title\":{\"text\":\"Objective Value\"}}},                        {\"responsive\": true}                    ).then(function(){\n",
       "                            \n",
       "var gd = document.getElementById('e9caee34-4c6a-48ad-8c5c-bfcded01c370');\n",
       "var x = new MutationObserver(function (mutations, observer) {{\n",
       "        var display = window.getComputedStyle(gd).display;\n",
       "        if (!display || display === 'none') {{\n",
       "            console.log([gd, 'removed!']);\n",
       "            Plotly.purge(gd);\n",
       "            observer.disconnect();\n",
       "        }}\n",
       "}});\n",
       "\n",
       "// Listen for the removal of the full notebook cells\n",
       "var notebookContainer = gd.closest('#notebook-container');\n",
       "if (notebookContainer) {{\n",
       "    x.observe(notebookContainer, {childList: true});\n",
       "}}\n",
       "\n",
       "// Listen for the clearing of the current output cell\n",
       "var outputEl = gd.closest('.output');\n",
       "if (outputEl) {{\n",
       "    x.observe(outputEl, {childList: true});\n",
       "}}\n",
       "\n",
       "                        })                };                });            </script>        </div>"
      ]
     },
     "metadata": {},
     "output_type": "display_data"
    },
    {
     "data": {
      "application/vnd.plotly.v1+json": {
       "config": {
        "plotlyServerURL": "https://plot.ly"
       },
       "data": [
        {
         "cliponaxis": false,
         "hovertemplate": [
          "eval_metric (CategoricalDistribution): 0.0<extra></extra>",
          "gpu_id (CategoricalDistribution): 0.0<extra></extra>",
          "n_estimators (CategoricalDistribution): 0.0<extra></extra>",
          "predictor (CategoricalDistribution): 0.0<extra></extra>",
          "random_state (CategoricalDistribution): 0.0<extra></extra>",
          "tree_method (CategoricalDistribution): 0.0<extra></extra>",
          "use_label_encoder (CategoricalDistribution): 0.0<extra></extra>",
          "max_depth (IntUniformDistribution): 0.01610868963999568<extra></extra>",
          "subsample (LogUniformDistribution): 0.08610960060736066<extra></extra>",
          "gamma (CategoricalDistribution): 0.09047837402121969<extra></extra>",
          "reg_lambda (CategoricalDistribution): 0.24070173004735537<extra></extra>",
          "learning_rate (LogUniformDistribution): 0.2594587689400075<extra></extra>",
          "colsample_bytree (LogUniformDistribution): 0.30714283674406123<extra></extra>"
         ],
         "marker": {
          "color": "rgb(66,146,198)"
         },
         "orientation": "h",
         "text": [
          "0.0",
          "0.0",
          "0.0",
          "0.0",
          "0.0",
          "0.0",
          "0.0",
          "0.01610868963999568",
          "0.08610960060736066",
          "0.09047837402121969",
          "0.24070173004735537",
          "0.2594587689400075",
          "0.30714283674406123"
         ],
         "textposition": "outside",
         "texttemplate": "%{text:.2f}",
         "type": "bar",
         "x": [
          0,
          0,
          0,
          0,
          0,
          0,
          0,
          0.01610868963999568,
          0.08610960060736066,
          0.09047837402121969,
          0.24070173004735537,
          0.2594587689400075,
          0.30714283674406123
         ],
         "y": [
          "eval_metric",
          "gpu_id",
          "n_estimators",
          "predictor",
          "random_state",
          "tree_method",
          "use_label_encoder",
          "max_depth",
          "subsample",
          "gamma",
          "reg_lambda",
          "learning_rate",
          "colsample_bytree"
         ]
        }
       ],
       "layout": {
        "showlegend": false,
        "template": {
         "data": {
          "bar": [
           {
            "error_x": {
             "color": "#2a3f5f"
            },
            "error_y": {
             "color": "#2a3f5f"
            },
            "marker": {
             "line": {
              "color": "#E5ECF6",
              "width": 0.5
             },
             "pattern": {
              "fillmode": "overlay",
              "size": 10,
              "solidity": 0.2
             }
            },
            "type": "bar"
           }
          ],
          "barpolar": [
           {
            "marker": {
             "line": {
              "color": "#E5ECF6",
              "width": 0.5
             },
             "pattern": {
              "fillmode": "overlay",
              "size": 10,
              "solidity": 0.2
             }
            },
            "type": "barpolar"
           }
          ],
          "carpet": [
           {
            "aaxis": {
             "endlinecolor": "#2a3f5f",
             "gridcolor": "white",
             "linecolor": "white",
             "minorgridcolor": "white",
             "startlinecolor": "#2a3f5f"
            },
            "baxis": {
             "endlinecolor": "#2a3f5f",
             "gridcolor": "white",
             "linecolor": "white",
             "minorgridcolor": "white",
             "startlinecolor": "#2a3f5f"
            },
            "type": "carpet"
           }
          ],
          "choropleth": [
           {
            "colorbar": {
             "outlinewidth": 0,
             "ticks": ""
            },
            "type": "choropleth"
           }
          ],
          "contour": [
           {
            "colorbar": {
             "outlinewidth": 0,
             "ticks": ""
            },
            "colorscale": [
             [
              0,
              "#0d0887"
             ],
             [
              0.1111111111111111,
              "#46039f"
             ],
             [
              0.2222222222222222,
              "#7201a8"
             ],
             [
              0.3333333333333333,
              "#9c179e"
             ],
             [
              0.4444444444444444,
              "#bd3786"
             ],
             [
              0.5555555555555556,
              "#d8576b"
             ],
             [
              0.6666666666666666,
              "#ed7953"
             ],
             [
              0.7777777777777778,
              "#fb9f3a"
             ],
             [
              0.8888888888888888,
              "#fdca26"
             ],
             [
              1,
              "#f0f921"
             ]
            ],
            "type": "contour"
           }
          ],
          "contourcarpet": [
           {
            "colorbar": {
             "outlinewidth": 0,
             "ticks": ""
            },
            "type": "contourcarpet"
           }
          ],
          "heatmap": [
           {
            "colorbar": {
             "outlinewidth": 0,
             "ticks": ""
            },
            "colorscale": [
             [
              0,
              "#0d0887"
             ],
             [
              0.1111111111111111,
              "#46039f"
             ],
             [
              0.2222222222222222,
              "#7201a8"
             ],
             [
              0.3333333333333333,
              "#9c179e"
             ],
             [
              0.4444444444444444,
              "#bd3786"
             ],
             [
              0.5555555555555556,
              "#d8576b"
             ],
             [
              0.6666666666666666,
              "#ed7953"
             ],
             [
              0.7777777777777778,
              "#fb9f3a"
             ],
             [
              0.8888888888888888,
              "#fdca26"
             ],
             [
              1,
              "#f0f921"
             ]
            ],
            "type": "heatmap"
           }
          ],
          "heatmapgl": [
           {
            "colorbar": {
             "outlinewidth": 0,
             "ticks": ""
            },
            "colorscale": [
             [
              0,
              "#0d0887"
             ],
             [
              0.1111111111111111,
              "#46039f"
             ],
             [
              0.2222222222222222,
              "#7201a8"
             ],
             [
              0.3333333333333333,
              "#9c179e"
             ],
             [
              0.4444444444444444,
              "#bd3786"
             ],
             [
              0.5555555555555556,
              "#d8576b"
             ],
             [
              0.6666666666666666,
              "#ed7953"
             ],
             [
              0.7777777777777778,
              "#fb9f3a"
             ],
             [
              0.8888888888888888,
              "#fdca26"
             ],
             [
              1,
              "#f0f921"
             ]
            ],
            "type": "heatmapgl"
           }
          ],
          "histogram": [
           {
            "marker": {
             "pattern": {
              "fillmode": "overlay",
              "size": 10,
              "solidity": 0.2
             }
            },
            "type": "histogram"
           }
          ],
          "histogram2d": [
           {
            "colorbar": {
             "outlinewidth": 0,
             "ticks": ""
            },
            "colorscale": [
             [
              0,
              "#0d0887"
             ],
             [
              0.1111111111111111,
              "#46039f"
             ],
             [
              0.2222222222222222,
              "#7201a8"
             ],
             [
              0.3333333333333333,
              "#9c179e"
             ],
             [
              0.4444444444444444,
              "#bd3786"
             ],
             [
              0.5555555555555556,
              "#d8576b"
             ],
             [
              0.6666666666666666,
              "#ed7953"
             ],
             [
              0.7777777777777778,
              "#fb9f3a"
             ],
             [
              0.8888888888888888,
              "#fdca26"
             ],
             [
              1,
              "#f0f921"
             ]
            ],
            "type": "histogram2d"
           }
          ],
          "histogram2dcontour": [
           {
            "colorbar": {
             "outlinewidth": 0,
             "ticks": ""
            },
            "colorscale": [
             [
              0,
              "#0d0887"
             ],
             [
              0.1111111111111111,
              "#46039f"
             ],
             [
              0.2222222222222222,
              "#7201a8"
             ],
             [
              0.3333333333333333,
              "#9c179e"
             ],
             [
              0.4444444444444444,
              "#bd3786"
             ],
             [
              0.5555555555555556,
              "#d8576b"
             ],
             [
              0.6666666666666666,
              "#ed7953"
             ],
             [
              0.7777777777777778,
              "#fb9f3a"
             ],
             [
              0.8888888888888888,
              "#fdca26"
             ],
             [
              1,
              "#f0f921"
             ]
            ],
            "type": "histogram2dcontour"
           }
          ],
          "mesh3d": [
           {
            "colorbar": {
             "outlinewidth": 0,
             "ticks": ""
            },
            "type": "mesh3d"
           }
          ],
          "parcoords": [
           {
            "line": {
             "colorbar": {
              "outlinewidth": 0,
              "ticks": ""
             }
            },
            "type": "parcoords"
           }
          ],
          "pie": [
           {
            "automargin": true,
            "type": "pie"
           }
          ],
          "scatter": [
           {
            "marker": {
             "colorbar": {
              "outlinewidth": 0,
              "ticks": ""
             }
            },
            "type": "scatter"
           }
          ],
          "scatter3d": [
           {
            "line": {
             "colorbar": {
              "outlinewidth": 0,
              "ticks": ""
             }
            },
            "marker": {
             "colorbar": {
              "outlinewidth": 0,
              "ticks": ""
             }
            },
            "type": "scatter3d"
           }
          ],
          "scattercarpet": [
           {
            "marker": {
             "colorbar": {
              "outlinewidth": 0,
              "ticks": ""
             }
            },
            "type": "scattercarpet"
           }
          ],
          "scattergeo": [
           {
            "marker": {
             "colorbar": {
              "outlinewidth": 0,
              "ticks": ""
             }
            },
            "type": "scattergeo"
           }
          ],
          "scattergl": [
           {
            "marker": {
             "colorbar": {
              "outlinewidth": 0,
              "ticks": ""
             }
            },
            "type": "scattergl"
           }
          ],
          "scattermapbox": [
           {
            "marker": {
             "colorbar": {
              "outlinewidth": 0,
              "ticks": ""
             }
            },
            "type": "scattermapbox"
           }
          ],
          "scatterpolar": [
           {
            "marker": {
             "colorbar": {
              "outlinewidth": 0,
              "ticks": ""
             }
            },
            "type": "scatterpolar"
           }
          ],
          "scatterpolargl": [
           {
            "marker": {
             "colorbar": {
              "outlinewidth": 0,
              "ticks": ""
             }
            },
            "type": "scatterpolargl"
           }
          ],
          "scatterternary": [
           {
            "marker": {
             "colorbar": {
              "outlinewidth": 0,
              "ticks": ""
             }
            },
            "type": "scatterternary"
           }
          ],
          "surface": [
           {
            "colorbar": {
             "outlinewidth": 0,
             "ticks": ""
            },
            "colorscale": [
             [
              0,
              "#0d0887"
             ],
             [
              0.1111111111111111,
              "#46039f"
             ],
             [
              0.2222222222222222,
              "#7201a8"
             ],
             [
              0.3333333333333333,
              "#9c179e"
             ],
             [
              0.4444444444444444,
              "#bd3786"
             ],
             [
              0.5555555555555556,
              "#d8576b"
             ],
             [
              0.6666666666666666,
              "#ed7953"
             ],
             [
              0.7777777777777778,
              "#fb9f3a"
             ],
             [
              0.8888888888888888,
              "#fdca26"
             ],
             [
              1,
              "#f0f921"
             ]
            ],
            "type": "surface"
           }
          ],
          "table": [
           {
            "cells": {
             "fill": {
              "color": "#EBF0F8"
             },
             "line": {
              "color": "white"
             }
            },
            "header": {
             "fill": {
              "color": "#C8D4E3"
             },
             "line": {
              "color": "white"
             }
            },
            "type": "table"
           }
          ]
         },
         "layout": {
          "annotationdefaults": {
           "arrowcolor": "#2a3f5f",
           "arrowhead": 0,
           "arrowwidth": 1
          },
          "autotypenumbers": "strict",
          "coloraxis": {
           "colorbar": {
            "outlinewidth": 0,
            "ticks": ""
           }
          },
          "colorscale": {
           "diverging": [
            [
             0,
             "#8e0152"
            ],
            [
             0.1,
             "#c51b7d"
            ],
            [
             0.2,
             "#de77ae"
            ],
            [
             0.3,
             "#f1b6da"
            ],
            [
             0.4,
             "#fde0ef"
            ],
            [
             0.5,
             "#f7f7f7"
            ],
            [
             0.6,
             "#e6f5d0"
            ],
            [
             0.7,
             "#b8e186"
            ],
            [
             0.8,
             "#7fbc41"
            ],
            [
             0.9,
             "#4d9221"
            ],
            [
             1,
             "#276419"
            ]
           ],
           "sequential": [
            [
             0,
             "#0d0887"
            ],
            [
             0.1111111111111111,
             "#46039f"
            ],
            [
             0.2222222222222222,
             "#7201a8"
            ],
            [
             0.3333333333333333,
             "#9c179e"
            ],
            [
             0.4444444444444444,
             "#bd3786"
            ],
            [
             0.5555555555555556,
             "#d8576b"
            ],
            [
             0.6666666666666666,
             "#ed7953"
            ],
            [
             0.7777777777777778,
             "#fb9f3a"
            ],
            [
             0.8888888888888888,
             "#fdca26"
            ],
            [
             1,
             "#f0f921"
            ]
           ],
           "sequentialminus": [
            [
             0,
             "#0d0887"
            ],
            [
             0.1111111111111111,
             "#46039f"
            ],
            [
             0.2222222222222222,
             "#7201a8"
            ],
            [
             0.3333333333333333,
             "#9c179e"
            ],
            [
             0.4444444444444444,
             "#bd3786"
            ],
            [
             0.5555555555555556,
             "#d8576b"
            ],
            [
             0.6666666666666666,
             "#ed7953"
            ],
            [
             0.7777777777777778,
             "#fb9f3a"
            ],
            [
             0.8888888888888888,
             "#fdca26"
            ],
            [
             1,
             "#f0f921"
            ]
           ]
          },
          "colorway": [
           "#636efa",
           "#EF553B",
           "#00cc96",
           "#ab63fa",
           "#FFA15A",
           "#19d3f3",
           "#FF6692",
           "#B6E880",
           "#FF97FF",
           "#FECB52"
          ],
          "font": {
           "color": "#2a3f5f"
          },
          "geo": {
           "bgcolor": "white",
           "lakecolor": "white",
           "landcolor": "#E5ECF6",
           "showlakes": true,
           "showland": true,
           "subunitcolor": "white"
          },
          "hoverlabel": {
           "align": "left"
          },
          "hovermode": "closest",
          "mapbox": {
           "style": "light"
          },
          "paper_bgcolor": "white",
          "plot_bgcolor": "#E5ECF6",
          "polar": {
           "angularaxis": {
            "gridcolor": "white",
            "linecolor": "white",
            "ticks": ""
           },
           "bgcolor": "#E5ECF6",
           "radialaxis": {
            "gridcolor": "white",
            "linecolor": "white",
            "ticks": ""
           }
          },
          "scene": {
           "xaxis": {
            "backgroundcolor": "#E5ECF6",
            "gridcolor": "white",
            "gridwidth": 2,
            "linecolor": "white",
            "showbackground": true,
            "ticks": "",
            "zerolinecolor": "white"
           },
           "yaxis": {
            "backgroundcolor": "#E5ECF6",
            "gridcolor": "white",
            "gridwidth": 2,
            "linecolor": "white",
            "showbackground": true,
            "ticks": "",
            "zerolinecolor": "white"
           },
           "zaxis": {
            "backgroundcolor": "#E5ECF6",
            "gridcolor": "white",
            "gridwidth": 2,
            "linecolor": "white",
            "showbackground": true,
            "ticks": "",
            "zerolinecolor": "white"
           }
          },
          "shapedefaults": {
           "line": {
            "color": "#2a3f5f"
           }
          },
          "ternary": {
           "aaxis": {
            "gridcolor": "white",
            "linecolor": "white",
            "ticks": ""
           },
           "baxis": {
            "gridcolor": "white",
            "linecolor": "white",
            "ticks": ""
           },
           "bgcolor": "#E5ECF6",
           "caxis": {
            "gridcolor": "white",
            "linecolor": "white",
            "ticks": ""
           }
          },
          "title": {
           "x": 0.05
          },
          "xaxis": {
           "automargin": true,
           "gridcolor": "white",
           "linecolor": "white",
           "ticks": "",
           "title": {
            "standoff": 15
           },
           "zerolinecolor": "white",
           "zerolinewidth": 2
          },
          "yaxis": {
           "automargin": true,
           "gridcolor": "white",
           "linecolor": "white",
           "ticks": "",
           "title": {
            "standoff": 15
           },
           "zerolinecolor": "white",
           "zerolinewidth": 2
          }
         }
        },
        "title": {
         "text": "Hyperparameter Importances"
        },
        "xaxis": {
         "title": {
          "text": "Importance for Objective Value"
         }
        },
        "yaxis": {
         "title": {
          "text": "Hyperparameter"
         }
        }
       }
      },
      "text/html": [
       "<div>                            <div id=\"afdfdd46-2887-460f-8ab7-cd87819531f5\" class=\"plotly-graph-div\" style=\"height:525px; width:100%;\"></div>            <script type=\"text/javascript\">                require([\"plotly\"], function(Plotly) {                    window.PLOTLYENV=window.PLOTLYENV || {};                                    if (document.getElementById(\"afdfdd46-2887-460f-8ab7-cd87819531f5\")) {                    Plotly.newPlot(                        \"afdfdd46-2887-460f-8ab7-cd87819531f5\",                        [{\"cliponaxis\":false,\"hovertemplate\":[\"eval_metric (CategoricalDistribution): 0.0<extra></extra>\",\"gpu_id (CategoricalDistribution): 0.0<extra></extra>\",\"n_estimators (CategoricalDistribution): 0.0<extra></extra>\",\"predictor (CategoricalDistribution): 0.0<extra></extra>\",\"random_state (CategoricalDistribution): 0.0<extra></extra>\",\"tree_method (CategoricalDistribution): 0.0<extra></extra>\",\"use_label_encoder (CategoricalDistribution): 0.0<extra></extra>\",\"max_depth (IntUniformDistribution): 0.01610868963999568<extra></extra>\",\"subsample (LogUniformDistribution): 0.08610960060736066<extra></extra>\",\"gamma (CategoricalDistribution): 0.09047837402121969<extra></extra>\",\"reg_lambda (CategoricalDistribution): 0.24070173004735537<extra></extra>\",\"learning_rate (LogUniformDistribution): 0.2594587689400075<extra></extra>\",\"colsample_bytree (LogUniformDistribution): 0.30714283674406123<extra></extra>\"],\"marker\":{\"color\":\"rgb(66,146,198)\"},\"orientation\":\"h\",\"text\":[\"0.0\",\"0.0\",\"0.0\",\"0.0\",\"0.0\",\"0.0\",\"0.0\",\"0.01610868963999568\",\"0.08610960060736066\",\"0.09047837402121969\",\"0.24070173004735537\",\"0.2594587689400075\",\"0.30714283674406123\"],\"textposition\":\"outside\",\"texttemplate\":\"%{text:.2f}\",\"type\":\"bar\",\"x\":[0.0,0.0,0.0,0.0,0.0,0.0,0.0,0.01610868963999568,0.08610960060736066,0.09047837402121969,0.24070173004735537,0.2594587689400075,0.30714283674406123],\"y\":[\"eval_metric\",\"gpu_id\",\"n_estimators\",\"predictor\",\"random_state\",\"tree_method\",\"use_label_encoder\",\"max_depth\",\"subsample\",\"gamma\",\"reg_lambda\",\"learning_rate\",\"colsample_bytree\"]}],                        {\"showlegend\":false,\"template\":{\"data\":{\"bar\":[{\"error_x\":{\"color\":\"#2a3f5f\"},\"error_y\":{\"color\":\"#2a3f5f\"},\"marker\":{\"line\":{\"color\":\"#E5ECF6\",\"width\":0.5},\"pattern\":{\"fillmode\":\"overlay\",\"size\":10,\"solidity\":0.2}},\"type\":\"bar\"}],\"barpolar\":[{\"marker\":{\"line\":{\"color\":\"#E5ECF6\",\"width\":0.5},\"pattern\":{\"fillmode\":\"overlay\",\"size\":10,\"solidity\":0.2}},\"type\":\"barpolar\"}],\"carpet\":[{\"aaxis\":{\"endlinecolor\":\"#2a3f5f\",\"gridcolor\":\"white\",\"linecolor\":\"white\",\"minorgridcolor\":\"white\",\"startlinecolor\":\"#2a3f5f\"},\"baxis\":{\"endlinecolor\":\"#2a3f5f\",\"gridcolor\":\"white\",\"linecolor\":\"white\",\"minorgridcolor\":\"white\",\"startlinecolor\":\"#2a3f5f\"},\"type\":\"carpet\"}],\"choropleth\":[{\"colorbar\":{\"outlinewidth\":0,\"ticks\":\"\"},\"type\":\"choropleth\"}],\"contour\":[{\"colorbar\":{\"outlinewidth\":0,\"ticks\":\"\"},\"colorscale\":[[0.0,\"#0d0887\"],[0.1111111111111111,\"#46039f\"],[0.2222222222222222,\"#7201a8\"],[0.3333333333333333,\"#9c179e\"],[0.4444444444444444,\"#bd3786\"],[0.5555555555555556,\"#d8576b\"],[0.6666666666666666,\"#ed7953\"],[0.7777777777777778,\"#fb9f3a\"],[0.8888888888888888,\"#fdca26\"],[1.0,\"#f0f921\"]],\"type\":\"contour\"}],\"contourcarpet\":[{\"colorbar\":{\"outlinewidth\":0,\"ticks\":\"\"},\"type\":\"contourcarpet\"}],\"heatmap\":[{\"colorbar\":{\"outlinewidth\":0,\"ticks\":\"\"},\"colorscale\":[[0.0,\"#0d0887\"],[0.1111111111111111,\"#46039f\"],[0.2222222222222222,\"#7201a8\"],[0.3333333333333333,\"#9c179e\"],[0.4444444444444444,\"#bd3786\"],[0.5555555555555556,\"#d8576b\"],[0.6666666666666666,\"#ed7953\"],[0.7777777777777778,\"#fb9f3a\"],[0.8888888888888888,\"#fdca26\"],[1.0,\"#f0f921\"]],\"type\":\"heatmap\"}],\"heatmapgl\":[{\"colorbar\":{\"outlinewidth\":0,\"ticks\":\"\"},\"colorscale\":[[0.0,\"#0d0887\"],[0.1111111111111111,\"#46039f\"],[0.2222222222222222,\"#7201a8\"],[0.3333333333333333,\"#9c179e\"],[0.4444444444444444,\"#bd3786\"],[0.5555555555555556,\"#d8576b\"],[0.6666666666666666,\"#ed7953\"],[0.7777777777777778,\"#fb9f3a\"],[0.8888888888888888,\"#fdca26\"],[1.0,\"#f0f921\"]],\"type\":\"heatmapgl\"}],\"histogram\":[{\"marker\":{\"pattern\":{\"fillmode\":\"overlay\",\"size\":10,\"solidity\":0.2}},\"type\":\"histogram\"}],\"histogram2d\":[{\"colorbar\":{\"outlinewidth\":0,\"ticks\":\"\"},\"colorscale\":[[0.0,\"#0d0887\"],[0.1111111111111111,\"#46039f\"],[0.2222222222222222,\"#7201a8\"],[0.3333333333333333,\"#9c179e\"],[0.4444444444444444,\"#bd3786\"],[0.5555555555555556,\"#d8576b\"],[0.6666666666666666,\"#ed7953\"],[0.7777777777777778,\"#fb9f3a\"],[0.8888888888888888,\"#fdca26\"],[1.0,\"#f0f921\"]],\"type\":\"histogram2d\"}],\"histogram2dcontour\":[{\"colorbar\":{\"outlinewidth\":0,\"ticks\":\"\"},\"colorscale\":[[0.0,\"#0d0887\"],[0.1111111111111111,\"#46039f\"],[0.2222222222222222,\"#7201a8\"],[0.3333333333333333,\"#9c179e\"],[0.4444444444444444,\"#bd3786\"],[0.5555555555555556,\"#d8576b\"],[0.6666666666666666,\"#ed7953\"],[0.7777777777777778,\"#fb9f3a\"],[0.8888888888888888,\"#fdca26\"],[1.0,\"#f0f921\"]],\"type\":\"histogram2dcontour\"}],\"mesh3d\":[{\"colorbar\":{\"outlinewidth\":0,\"ticks\":\"\"},\"type\":\"mesh3d\"}],\"parcoords\":[{\"line\":{\"colorbar\":{\"outlinewidth\":0,\"ticks\":\"\"}},\"type\":\"parcoords\"}],\"pie\":[{\"automargin\":true,\"type\":\"pie\"}],\"scatter\":[{\"marker\":{\"colorbar\":{\"outlinewidth\":0,\"ticks\":\"\"}},\"type\":\"scatter\"}],\"scatter3d\":[{\"line\":{\"colorbar\":{\"outlinewidth\":0,\"ticks\":\"\"}},\"marker\":{\"colorbar\":{\"outlinewidth\":0,\"ticks\":\"\"}},\"type\":\"scatter3d\"}],\"scattercarpet\":[{\"marker\":{\"colorbar\":{\"outlinewidth\":0,\"ticks\":\"\"}},\"type\":\"scattercarpet\"}],\"scattergeo\":[{\"marker\":{\"colorbar\":{\"outlinewidth\":0,\"ticks\":\"\"}},\"type\":\"scattergeo\"}],\"scattergl\":[{\"marker\":{\"colorbar\":{\"outlinewidth\":0,\"ticks\":\"\"}},\"type\":\"scattergl\"}],\"scattermapbox\":[{\"marker\":{\"colorbar\":{\"outlinewidth\":0,\"ticks\":\"\"}},\"type\":\"scattermapbox\"}],\"scatterpolar\":[{\"marker\":{\"colorbar\":{\"outlinewidth\":0,\"ticks\":\"\"}},\"type\":\"scatterpolar\"}],\"scatterpolargl\":[{\"marker\":{\"colorbar\":{\"outlinewidth\":0,\"ticks\":\"\"}},\"type\":\"scatterpolargl\"}],\"scatterternary\":[{\"marker\":{\"colorbar\":{\"outlinewidth\":0,\"ticks\":\"\"}},\"type\":\"scatterternary\"}],\"surface\":[{\"colorbar\":{\"outlinewidth\":0,\"ticks\":\"\"},\"colorscale\":[[0.0,\"#0d0887\"],[0.1111111111111111,\"#46039f\"],[0.2222222222222222,\"#7201a8\"],[0.3333333333333333,\"#9c179e\"],[0.4444444444444444,\"#bd3786\"],[0.5555555555555556,\"#d8576b\"],[0.6666666666666666,\"#ed7953\"],[0.7777777777777778,\"#fb9f3a\"],[0.8888888888888888,\"#fdca26\"],[1.0,\"#f0f921\"]],\"type\":\"surface\"}],\"table\":[{\"cells\":{\"fill\":{\"color\":\"#EBF0F8\"},\"line\":{\"color\":\"white\"}},\"header\":{\"fill\":{\"color\":\"#C8D4E3\"},\"line\":{\"color\":\"white\"}},\"type\":\"table\"}]},\"layout\":{\"annotationdefaults\":{\"arrowcolor\":\"#2a3f5f\",\"arrowhead\":0,\"arrowwidth\":1},\"autotypenumbers\":\"strict\",\"coloraxis\":{\"colorbar\":{\"outlinewidth\":0,\"ticks\":\"\"}},\"colorscale\":{\"diverging\":[[0,\"#8e0152\"],[0.1,\"#c51b7d\"],[0.2,\"#de77ae\"],[0.3,\"#f1b6da\"],[0.4,\"#fde0ef\"],[0.5,\"#f7f7f7\"],[0.6,\"#e6f5d0\"],[0.7,\"#b8e186\"],[0.8,\"#7fbc41\"],[0.9,\"#4d9221\"],[1,\"#276419\"]],\"sequential\":[[0.0,\"#0d0887\"],[0.1111111111111111,\"#46039f\"],[0.2222222222222222,\"#7201a8\"],[0.3333333333333333,\"#9c179e\"],[0.4444444444444444,\"#bd3786\"],[0.5555555555555556,\"#d8576b\"],[0.6666666666666666,\"#ed7953\"],[0.7777777777777778,\"#fb9f3a\"],[0.8888888888888888,\"#fdca26\"],[1.0,\"#f0f921\"]],\"sequentialminus\":[[0.0,\"#0d0887\"],[0.1111111111111111,\"#46039f\"],[0.2222222222222222,\"#7201a8\"],[0.3333333333333333,\"#9c179e\"],[0.4444444444444444,\"#bd3786\"],[0.5555555555555556,\"#d8576b\"],[0.6666666666666666,\"#ed7953\"],[0.7777777777777778,\"#fb9f3a\"],[0.8888888888888888,\"#fdca26\"],[1.0,\"#f0f921\"]]},\"colorway\":[\"#636efa\",\"#EF553B\",\"#00cc96\",\"#ab63fa\",\"#FFA15A\",\"#19d3f3\",\"#FF6692\",\"#B6E880\",\"#FF97FF\",\"#FECB52\"],\"font\":{\"color\":\"#2a3f5f\"},\"geo\":{\"bgcolor\":\"white\",\"lakecolor\":\"white\",\"landcolor\":\"#E5ECF6\",\"showlakes\":true,\"showland\":true,\"subunitcolor\":\"white\"},\"hoverlabel\":{\"align\":\"left\"},\"hovermode\":\"closest\",\"mapbox\":{\"style\":\"light\"},\"paper_bgcolor\":\"white\",\"plot_bgcolor\":\"#E5ECF6\",\"polar\":{\"angularaxis\":{\"gridcolor\":\"white\",\"linecolor\":\"white\",\"ticks\":\"\"},\"bgcolor\":\"#E5ECF6\",\"radialaxis\":{\"gridcolor\":\"white\",\"linecolor\":\"white\",\"ticks\":\"\"}},\"scene\":{\"xaxis\":{\"backgroundcolor\":\"#E5ECF6\",\"gridcolor\":\"white\",\"gridwidth\":2,\"linecolor\":\"white\",\"showbackground\":true,\"ticks\":\"\",\"zerolinecolor\":\"white\"},\"yaxis\":{\"backgroundcolor\":\"#E5ECF6\",\"gridcolor\":\"white\",\"gridwidth\":2,\"linecolor\":\"white\",\"showbackground\":true,\"ticks\":\"\",\"zerolinecolor\":\"white\"},\"zaxis\":{\"backgroundcolor\":\"#E5ECF6\",\"gridcolor\":\"white\",\"gridwidth\":2,\"linecolor\":\"white\",\"showbackground\":true,\"ticks\":\"\",\"zerolinecolor\":\"white\"}},\"shapedefaults\":{\"line\":{\"color\":\"#2a3f5f\"}},\"ternary\":{\"aaxis\":{\"gridcolor\":\"white\",\"linecolor\":\"white\",\"ticks\":\"\"},\"baxis\":{\"gridcolor\":\"white\",\"linecolor\":\"white\",\"ticks\":\"\"},\"bgcolor\":\"#E5ECF6\",\"caxis\":{\"gridcolor\":\"white\",\"linecolor\":\"white\",\"ticks\":\"\"}},\"title\":{\"x\":0.05},\"xaxis\":{\"automargin\":true,\"gridcolor\":\"white\",\"linecolor\":\"white\",\"ticks\":\"\",\"title\":{\"standoff\":15},\"zerolinecolor\":\"white\",\"zerolinewidth\":2},\"yaxis\":{\"automargin\":true,\"gridcolor\":\"white\",\"linecolor\":\"white\",\"ticks\":\"\",\"title\":{\"standoff\":15},\"zerolinecolor\":\"white\",\"zerolinewidth\":2}}},\"title\":{\"text\":\"Hyperparameter Importances\"},\"xaxis\":{\"title\":{\"text\":\"Importance for Objective Value\"}},\"yaxis\":{\"title\":{\"text\":\"Hyperparameter\"}}},                        {\"responsive\": true}                    ).then(function(){\n",
       "                            \n",
       "var gd = document.getElementById('afdfdd46-2887-460f-8ab7-cd87819531f5');\n",
       "var x = new MutationObserver(function (mutations, observer) {{\n",
       "        var display = window.getComputedStyle(gd).display;\n",
       "        if (!display || display === 'none') {{\n",
       "            console.log([gd, 'removed!']);\n",
       "            Plotly.purge(gd);\n",
       "            observer.disconnect();\n",
       "        }}\n",
       "}});\n",
       "\n",
       "// Listen for the removal of the full notebook cells\n",
       "var notebookContainer = gd.closest('#notebook-container');\n",
       "if (notebookContainer) {{\n",
       "    x.observe(notebookContainer, {childList: true});\n",
       "}}\n",
       "\n",
       "// Listen for the clearing of the current output cell\n",
       "var outputEl = gd.closest('.output');\n",
       "if (outputEl) {{\n",
       "    x.observe(outputEl, {childList: true});\n",
       "}}\n",
       "\n",
       "                        })                };                });            </script>        </div>"
      ]
     },
     "metadata": {},
     "output_type": "display_data"
    }
   ],
   "source": [
    "# Save\n",
    "pickle.dump(study.best_trial.params, open('XGB_Hyperparameter.pickle', 'wb'))\n",
    "print(\"Best Score: \", study.best_value)\n",
    "\n",
    "printmd('**XGBoost Tuned Hyperparameters**')\n",
    "pprint.pprint(study.best_trial.params)\n",
    "\n",
    "\n",
    "# history\n",
    "display(optuna.visualization.plot_optimization_history(study))\n",
    "\n",
    "# Importance\n",
    "display(plot_param_importances(study))"
   ]
  },
  {
   "cell_type": "markdown",
   "id": "995c2fa5",
   "metadata": {
    "id": "XFlAeLxKVOJK",
    "papermill": {
     "duration": 0.165227,
     "end_time": "2022-09-22T01:13:35.763733",
     "exception": false,
     "start_time": "2022-09-22T01:13:35.598506",
     "status": "completed"
    },
    "tags": []
   },
   "source": [
    "<a id='5.4'></a>\n",
    "## 5.4 LGBM"
   ]
  },
  {
   "cell_type": "markdown",
   "id": "4d611e20",
   "metadata": {
    "id": "U6OyeHrnlJet",
    "papermill": {
     "duration": 0.16805,
     "end_time": "2022-09-22T01:13:36.100413",
     "exception": false,
     "start_time": "2022-09-22T01:13:35.932363",
     "status": "completed"
    },
    "tags": []
   },
   "source": [
    "<a id='5.4.1'></a>\n",
    "### 5.4.1 Training"
   ]
  },
  {
   "cell_type": "code",
   "execution_count": 21,
   "id": "c3e71c09",
   "metadata": {
    "execution": {
     "iopub.execute_input": "2022-09-22T01:13:36.437961Z",
     "iopub.status.busy": "2022-09-22T01:13:36.436961Z",
     "iopub.status.idle": "2022-09-22T01:13:49.072076Z",
     "shell.execute_reply": "2022-09-22T01:13:49.072565Z",
     "shell.execute_reply.started": "2022-04-25T19:05:13.136681Z"
    },
    "id": "vBuARij8fO2V",
    "outputId": "14672eb2-5c77-4f3f-fa60-39ac6fb77257",
    "papermill": {
     "duration": 12.807773,
     "end_time": "2022-09-22T01:13:49.072755",
     "exception": false,
     "start_time": "2022-09-22T01:13:36.264982",
     "status": "completed"
    },
    "tags": []
   },
   "outputs": [
    {
     "data": {
      "text/markdown": [
       "**lgbm Init**"
      ],
      "text/plain": [
       "<IPython.core.display.Markdown object>"
      ]
     },
     "metadata": {},
     "output_type": "display_data"
    },
    {
     "name": "stdout",
     "output_type": "stream",
     "text": [
      "--------------------------------------------------\n",
      "Fold 1\n",
      "AUC Score :  0.8239533011272142\n",
      "--------------------------------------------------\n",
      "Fold 2\n",
      "AUC Score :  0.8613526570048309\n",
      "--------------------------------------------------\n",
      "Fold 3\n",
      "AUC Score :  0.8340982286634462\n",
      "--------------------------------------------------\n",
      "Fold 4\n",
      "AUC Score :  0.8305152979066022\n",
      "--------------------------------------------------\n",
      "Fold 5\n",
      "AUC Score :  0.8392990305741983\n",
      "--------------------------------------------------\n",
      "Fold 6\n",
      "AUC Score :  0.856328826638135\n",
      "--------------------------------------------------\n",
      "Fold 7\n",
      "AUC Score :  0.8692409947151704\n",
      "--------------------------------------------------\n",
      "Fold 8\n",
      "AUC Score :  0.858395746198489\n",
      "--------------------------------------------------\n",
      "Fold 9\n",
      "AUC Score :  0.8547320299581753\n",
      "--------------------------------------------------\n",
      "Fold 10\n",
      "AUC Score :  0.8681275221953186\n",
      "--------------------------------------------------\n",
      "Train : Base Model - lgbm - AUC score : mean ---> 0.849604363498158, std ---> 0.015441944183698274\n",
      "Test  : Base Model - lgbm - AUC score : 0.8474812059211035\n",
      "Done!\n",
      "CPU times: user 14.9 s, sys: 1.36 s, total: 16.3 s\n",
      "Wall time: 12.3 s\n"
     ]
    },
    {
     "data": {
      "image/png": "[encoded data removed]",
      "text/plain": [
       "<Figure size 1000x800 with 1 Axes>"
      ]
     },
     "metadata": {
      "needs_background": "light"
     },
     "output_type": "display_data"
    }
   ],
   "source": [
    "%%time\n",
    "# highly recommended : https://neptune.ai/blog/lightgbm-parameters-guide\n",
    "\n",
    "fold_num = 10\n",
    "\n",
    "# convert datatype to category to use 'categorical_feature' parameter\n",
    "# it does not improve score, feel free to try it out\n",
    "# for c in cat_cols:\n",
    "#     X[c] = X[c].astype('category')\n",
    "#     X_test[c] = X_test[c].astype('category')\n",
    "\n",
    "lgbm_params = {'n_estimators': 12749, \n",
    "               'learning_rate': 0.1985328656822506, \n",
    "               'reg_alpha': 9.77289653841389, \n",
    "               'reg_lambda': 4.979048257991328, \n",
    "               'num_leaves': 921, \n",
    "               'min_child_samples': 85, \n",
    "               'max_depth': 56, \n",
    "               'colsample_bytree': 0.43848926369957975, \n",
    "               'cat_smooth': 92, \n",
    "               'cat_l2': 17, \n",
    "               'device': 'gpu',\n",
    "               'gpu_platform_id': 0,\n",
    "               'gpu_device_id': 0,\n",
    "               'min_data_per_group': 59,\n",
    "               'random_state': SEED,\n",
    "              #  'is_unbalance':True,  # does not improve score\n",
    "              # 'categorical_feature': cat_cols, # does not improve score\n",
    "               }\n",
    "\n",
    "\n",
    "lgbm = lgb.LGBMClassifier(**lgbm_params)\n",
    "\n",
    "train_model(lgbm, 'lgbm', X, y, X_test, fold_num)"
   ]
  },
  {
   "cell_type": "markdown",
   "id": "d70ac131",
   "metadata": {
    "id": "0DOWcZite_ax",
    "papermill": {
     "duration": 0.169087,
     "end_time": "2022-09-22T01:13:49.412366",
     "exception": false,
     "start_time": "2022-09-22T01:13:49.243279",
     "status": "completed"
    },
    "tags": []
   },
   "source": [
    "<a id='5.4.2'></a>\n",
    "### 5.4.2 Optuna Tuning"
   ]
  },
  {
   "cell_type": "code",
   "execution_count": 22,
   "id": "c3656e45",
   "metadata": {
    "execution": {
     "iopub.execute_input": "2022-09-22T01:13:49.768796Z",
     "iopub.status.busy": "2022-09-22T01:13:49.768031Z",
     "iopub.status.idle": "2022-09-22T01:13:49.771301Z",
     "shell.execute_reply": "2022-09-22T01:13:49.771782Z",
     "shell.execute_reply.started": "2022-04-25T19:05:25.428508Z"
    },
    "id": "-qaNwXsUe_a0",
    "outputId": "20aa7ae1-6da7-4c5f-ddb2-0183acc2d8a1",
    "papermill": {
     "duration": 0.185681,
     "end_time": "2022-09-22T01:13:49.771942",
     "exception": false,
     "start_time": "2022-09-22T01:13:49.586261",
     "status": "completed"
    },
    "tags": []
   },
   "outputs": [
    {
     "name": "stdout",
     "output_type": "stream",
     "text": [
      "CPU times: user 10 µs, sys: 0 ns, total: 10 µs\n",
      "Wall time: 13.6 µs\n"
     ]
    }
   ],
   "source": [
    "%%time\n",
    "def objective(trial):\n",
    "    X_train, X_test, y_train, y_test = train_test_split(X, y, test_size=0.25, random_state=int(SEED), shuffle=True, stratify=y)\n",
    "\n",
    "    params = {\n",
    "        'objective': 'binary', # binary target\n",
    "        'n_estimators': trial.suggest_int('n_estimators', 4000, 20000),\n",
    "        'learning_rate' : trial.suggest_float('learning_rate',1e-3,5e-1,log=True),\n",
    "        'reg_alpha': trial.suggest_float('reg_alpha', 0.001, 10.0),\n",
    "        'reg_lambda': trial.suggest_float('reg_lambda', 0.001, 10.0),\n",
    "        'num_leaves': trial.suggest_int('num_leaves', 5, 1000), # num leaves = 2^max_depth\n",
    "        'min_child_samples': trial.suggest_int('min_child_samples', 5, 100),\n",
    "        'max_depth': trial.suggest_int('max_depth', 5, 64),\n",
    "        'colsample_bytree': trial.suggest_float('colsample_bytree', 0.1, 0.5),\n",
    "        'cat_smooth' : trial.suggest_int('cat_smooth', 10, 100),\n",
    "        'cat_l2': trial.suggest_int('cat_l2', 1, 20),\n",
    "        'min_data_per_group': trial.suggest_int('min_data_per_group', 50, 200),\n",
    "        'random_state': int(SEED),\n",
    "        'device': 'gpu',\n",
    "        'gpu_platform_id': 0,\n",
    "        'gpu_device_id': 0,\n",
    "        \n",
    "        #     'subsample': 0.6,\n",
    "        #     'subsample_freq': 1,\n",
    "        #     'min_child_weight': trial.suggest_float('min_child_weight', 0.001, 10.0),\n",
    "    }\n",
    "\n",
    "    # Learning\n",
    "    model = lgb.LGBMClassifier(**params)        \n",
    "    model.fit(X_train, y_train, \n",
    "              verbose=False) # 1000\n",
    "    val_pred = model.predict_proba(X_test)[:,1]\n",
    "    auc = roc_auc_score(y_test, val_pred) # AUROC requires probabilities of the predictions\n",
    "\n",
    "    # print(\"AUC Score : \",auc) # check the auc score in each trial\n",
    "    \n",
    "    return auc"
   ]
  },
  {
   "cell_type": "code",
   "execution_count": 23,
   "id": "97d3e156",
   "metadata": {
    "_kg_hide-output": true,
    "execution": {
     "iopub.execute_input": "2022-09-22T01:13:50.118515Z",
     "iopub.status.busy": "2022-09-22T01:13:50.117661Z",
     "iopub.status.idle": "2022-09-22T01:58:41.886167Z",
     "shell.execute_reply": "2022-09-22T01:58:41.885629Z",
     "shell.execute_reply.started": "2022-04-25T19:05:25.45335Z"
    },
    "id": "MisrJEwee_a1",
    "outputId": "ab617ba6-1e93-44c6-a5d2-2a1749780173",
    "papermill": {
     "duration": 2691.945637,
     "end_time": "2022-09-22T01:58:41.886318",
     "exception": false,
     "start_time": "2022-09-22T01:13:49.940681",
     "status": "completed"
    },
    "tags": []
   },
   "outputs": [
    {
     "name": "stderr",
     "output_type": "stream",
     "text": [
      "\u001b[32m[I 2022-09-22 01:13:50,116]\u001b[0m A new study created in memory with name: no-name-c6c6a97e-06f1-4240-a93a-d382ad8ebfb2\u001b[0m\n",
      "\u001b[32m[I 2022-09-22 01:13:54,675]\u001b[0m Trial 0 finished with value: 0.8298315637190317 and parameters: {'n_estimators': 4239, 'learning_rate': 0.2805405717644125, 'reg_alpha': 2.4785204452496608, 'reg_lambda': 6.383007367072198, 'num_leaves': 203, 'min_child_samples': 44, 'max_depth': 55, 'colsample_bytree': 0.3234220488230496, 'cat_smooth': 12, 'cat_l2': 8, 'min_data_per_group': 95}. Best is trial 0 with value: 0.8298315637190317.\u001b[0m\n",
      "\u001b[32m[I 2022-09-22 01:13:59,494]\u001b[0m Trial 1 finished with value: 0.8383967552765507 and parameters: {'n_estimators': 6311, 'learning_rate': 0.027344050977500426, 'reg_alpha': 5.60825127882, 'reg_lambda': 7.306479609914956, 'num_leaves': 906, 'min_child_samples': 94, 'max_depth': 23, 'colsample_bytree': 0.3028326926153305, 'cat_smooth': 36, 'cat_l2': 7, 'min_data_per_group': 96}. Best is trial 1 with value: 0.8383967552765507.\u001b[0m\n",
      "\u001b[32m[I 2022-09-22 01:13:59,735]\u001b[0m Trial 2 finished with value: 0.8340024283758299 and parameters: {'n_estimators': 6020, 'learning_rate': 0.35960147307833795, 'reg_alpha': 6.761834984041047, 'reg_lambda': 3.739365288679887, 'num_leaves': 195, 'min_child_samples': 41, 'max_depth': 64, 'colsample_bytree': 0.4100151315193181, 'cat_smooth': 18, 'cat_l2': 2, 'min_data_per_group': 161}. Best is trial 1 with value: 0.8383967552765507.\u001b[0m\n",
      "\u001b[32m[I 2022-09-22 01:14:14,722]\u001b[0m Trial 3 finished with value: 0.8241300472758274 and parameters: {'n_estimators': 4843, 'learning_rate': 0.09938960304261926, 'reg_alpha': 1.5603924824171043, 'reg_lambda': 8.640966844890514, 'num_leaves': 767, 'min_child_samples': 5, 'max_depth': 42, 'colsample_bytree': 0.39554924005420844, 'cat_smooth': 45, 'cat_l2': 4, 'min_data_per_group': 81}. Best is trial 1 with value: 0.8383967552765507.\u001b[0m\n",
      "\u001b[32m[I 2022-09-22 01:17:07,706]\u001b[0m Trial 5 finished with value: 0.8113371567335761 and parameters: {'n_estimators': 16762, 'learning_rate': 0.01162184702743519, 'reg_alpha': 0.8241511091786383, 'reg_lambda': 8.22506875338687, 'num_leaves': 824, 'min_child_samples': 33, 'max_depth': 37, 'colsample_bytree': 0.44985519214410663, 'cat_smooth': 35, 'cat_l2': 14, 'min_data_per_group': 127}. Best is trial 1 with value: 0.8383967552765507.\u001b[0m\n",
      "\u001b[32m[I 2022-09-22 01:17:25,075]\u001b[0m Trial 4 finished with value: 0.8275633573587539 and parameters: {'n_estimators': 17833, 'learning_rate': 0.001173364947251547, 'reg_alpha': 0.05731195274873433, 'reg_lambda': 9.607395929013192, 'num_leaves': 302, 'min_child_samples': 51, 'max_depth': 10, 'colsample_bytree': 0.43531484642685403, 'cat_smooth': 24, 'cat_l2': 1, 'min_data_per_group': 163}. Best is trial 1 with value: 0.8383967552765507.\u001b[0m\n",
      "\u001b[32m[I 2022-09-22 01:17:26,458]\u001b[0m Trial 6 finished with value: 0.8402141620811697 and parameters: {'n_estimators': 4253, 'learning_rate': 0.0025008834451733662, 'reg_alpha': 5.946314537835789, 'reg_lambda': 4.733882579740903, 'num_leaves': 649, 'min_child_samples': 89, 'max_depth': 35, 'colsample_bytree': 0.276770732177845, 'cat_smooth': 19, 'cat_l2': 12, 'min_data_per_group': 145}. Best is trial 6 with value: 0.8402141620811697.\u001b[0m\n",
      "\u001b[32m[I 2022-09-22 01:17:49,824]\u001b[0m Trial 7 finished with value: 0.8393228964840218 and parameters: {'n_estimators': 4644, 'learning_rate': 0.003002672164778759, 'reg_alpha': 6.231420517344061, 'reg_lambda': 1.8642972205319708, 'num_leaves': 929, 'min_child_samples': 14, 'max_depth': 54, 'colsample_bytree': 0.22915505732993768, 'cat_smooth': 37, 'cat_l2': 17, 'min_data_per_group': 60}. Best is trial 6 with value: 0.8402141620811697.\u001b[0m\n",
      "\u001b[32m[I 2022-09-22 01:17:58,312]\u001b[0m Trial 8 finished with value: 0.8352747423079905 and parameters: {'n_estimators': 9899, 'learning_rate': 0.00617801039538047, 'reg_alpha': 3.1100543509904814, 'reg_lambda': 1.4618831167472528, 'num_leaves': 484, 'min_child_samples': 98, 'max_depth': 28, 'colsample_bytree': 0.20849186085589466, 'cat_smooth': 37, 'cat_l2': 14, 'min_data_per_group': 131}. Best is trial 6 with value: 0.8402141620811697.\u001b[0m\n",
      "\u001b[32m[I 2022-09-22 01:18:07,315]\u001b[0m Trial 9 finished with value: 0.8240112118628741 and parameters: {'n_estimators': 14333, 'learning_rate': 0.14856283046548927, 'reg_alpha': 1.2271980021803184, 'reg_lambda': 4.974861994099876, 'num_leaves': 544, 'min_child_samples': 77, 'max_depth': 46, 'colsample_bytree': 0.19155982434245233, 'cat_smooth': 62, 'cat_l2': 8, 'min_data_per_group': 138}. Best is trial 6 with value: 0.8402141620811697.\u001b[0m\n",
      "\u001b[32m[I 2022-09-22 01:18:28,622]\u001b[0m Trial 10 finished with value: 0.8397452788757136 and parameters: {'n_estimators': 14039, 'learning_rate': 0.004643308009785932, 'reg_alpha': 6.753851940976188, 'reg_lambda': 1.0954668949889812, 'num_leaves': 479, 'min_child_samples': 19, 'max_depth': 55, 'colsample_bytree': 0.18301954685698543, 'cat_smooth': 79, 'cat_l2': 17, 'min_data_per_group': 151}. Best is trial 6 with value: 0.8402141620811697.\u001b[0m\n",
      "\u001b[32m[I 2022-09-22 01:18:37,357]\u001b[0m Trial 11 finished with value: 0.8396367769769305 and parameters: {'n_estimators': 9674, 'learning_rate': 0.0010496047599416935, 'reg_alpha': 9.699653355662264, 'reg_lambda': 0.039800140370783055, 'num_leaves': 598, 'min_child_samples': 70, 'max_depth': 15, 'colsample_bytree': 0.12429282067492844, 'cat_smooth': 88, 'cat_l2': 18, 'min_data_per_group': 193}. Best is trial 6 with value: 0.8402141620811697.\u001b[0m\n",
      "\u001b[32m[I 2022-09-22 01:18:56,209]\u001b[0m Trial 12 finished with value: 0.8356002480043401 and parameters: {'n_estimators': 10940, 'learning_rate': 0.0010231620295415849, 'reg_alpha': 9.340710164243998, 'reg_lambda': 0.5868100479760645, 'num_leaves': 566, 'min_child_samples': 69, 'max_depth': 16, 'colsample_bytree': 0.10754117196797856, 'cat_smooth': 92, 'cat_l2': 20, 'min_data_per_group': 187}. Best is trial 6 with value: 0.8402141620811697.\u001b[0m\n",
      "\u001b[32m[I 2022-09-22 01:19:04,561]\u001b[0m Trial 13 finished with value: 0.8391356015396936 and parameters: {'n_estimators': 13145, 'learning_rate': 0.003934766524359989, 'reg_alpha': 8.174216839007997, 'reg_lambda': 3.4168631263413047, 'num_leaves': 416, 'min_child_samples': 27, 'max_depth': 28, 'colsample_bytree': 0.12994242971024778, 'cat_smooth': 73, 'cat_l2': 13, 'min_data_per_group': 160}. Best is trial 6 with value: 0.8402141620811697.\u001b[0m\n",
      "\u001b[32m[I 2022-09-22 01:19:15,244]\u001b[0m Trial 14 finished with value: 0.8390516417370637 and parameters: {'n_estimators': 13585, 'learning_rate': 0.004201181046876627, 'reg_alpha': 7.94033974007092, 'reg_lambda': 3.0420400794696008, 'num_leaves': 5, 'min_child_samples': 22, 'max_depth': 30, 'colsample_bytree': 0.25944417598399994, 'cat_smooth': 70, 'cat_l2': 13, 'min_data_per_group': 158}. Best is trial 6 with value: 0.8402141620811697.\u001b[0m\n",
      "\u001b[32m[I 2022-09-22 01:19:21,058]\u001b[0m Trial 15 finished with value: 0.8383463793949727 and parameters: {'n_estimators': 16078, 'learning_rate': 0.02795539246380904, 'reg_alpha': 4.311923694130458, 'reg_lambda': 3.0437301604840155, 'num_leaves': 12, 'min_child_samples': 83, 'max_depth': 64, 'colsample_bytree': 0.2570278889798109, 'cat_smooth': 72, 'cat_l2': 12, 'min_data_per_group': 148}. Best is trial 6 with value: 0.8402141620811697.\u001b[0m\n",
      "\u001b[32m[I 2022-09-22 01:19:35,312]\u001b[0m Trial 16 finished with value: 0.8360962566844921 and parameters: {'n_estimators': 19341, 'learning_rate': 0.029001602558742304, 'reg_alpha': 3.7056027089015613, 'reg_lambda': 5.376737631930107, 'num_leaves': 708, 'min_child_samples': 84, 'max_depth': 52, 'colsample_bytree': 0.32708543352446784, 'cat_smooth': 82, 'cat_l2': 11, 'min_data_per_group': 108}. Best is trial 6 with value: 0.8402141620811697.\u001b[0m\n",
      "\u001b[32m[I 2022-09-22 01:19:50,059]\u001b[0m Trial 17 finished with value: 0.8381965434395102 and parameters: {'n_estimators': 7991, 'learning_rate': 0.009585684748964367, 'reg_alpha': 4.266400255295811, 'reg_lambda': 5.063930097126351, 'num_leaves': 697, 'min_child_samples': 60, 'max_depth': 49, 'colsample_bytree': 0.34283843774349687, 'cat_smooth': 51, 'cat_l2': 16, 'min_data_per_group': 111}. Best is trial 6 with value: 0.8402141620811697.\u001b[0m\n",
      "\u001b[32m[I 2022-09-22 01:19:56,538]\u001b[0m Trial 18 finished with value: 0.8386990105660183 and parameters: {'n_estimators': 8712, 'learning_rate': 0.010068772217665339, 'reg_alpha': 4.920186865936946, 'reg_lambda': 5.217908705583059, 'num_leaves': 679, 'min_child_samples': 62, 'max_depth': 40, 'colsample_bytree': 0.16664981226661793, 'cat_smooth': 51, 'cat_l2': 16, 'min_data_per_group': 179}. Best is trial 6 with value: 0.8402141620811697.\u001b[0m\n",
      "\u001b[32m[I 2022-09-22 01:20:25,335]\u001b[0m Trial 19 finished with value: 0.8394546487896871 and parameters: {'n_estimators': 11404, 'learning_rate': 0.002031728652436693, 'reg_alpha': 7.2942536927150305, 'reg_lambda': 2.013854651170801, 'num_leaves': 403, 'min_child_samples': 61, 'max_depth': 40, 'colsample_bytree': 0.19103613744864223, 'cat_smooth': 97, 'cat_l2': 19, 'min_data_per_group': 185}. Best is trial 6 with value: 0.8402141620811697.\u001b[0m\n",
      "\u001b[32m[I 2022-09-22 01:20:37,366]\u001b[0m Trial 20 finished with value: 0.8394236482471776 and parameters: {'n_estimators': 11796, 'learning_rate': 0.0021372691420174297, 'reg_alpha': 7.275148607232641, 'reg_lambda': 1.9330594795363107, 'num_leaves': 375, 'min_child_samples': 14, 'max_depth': 58, 'colsample_bytree': 0.26267920660953104, 'cat_smooth': 99, 'cat_l2': 10, 'min_data_per_group': 173}. Best is trial 6 with value: 0.8402141620811697.\u001b[0m\n",
      "\u001b[32m[I 2022-09-22 01:21:10,816]\u001b[0m Trial 22 finished with value: 0.839374564054871 and parameters: {'n_estimators': 15052, 'learning_rate': 0.0016946665732665517, 'reg_alpha': 9.875052270903026, 'reg_lambda': 0.031346726173929786, 'num_leaves': 608, 'min_child_samples': 73, 'max_depth': 6, 'colsample_bytree': 0.15556275256186222, 'cat_smooth': 85, 'cat_l2': 18, 'min_data_per_group': 198}. Best is trial 6 with value: 0.8402141620811697.\u001b[0m\n",
      "\u001b[32m[I 2022-09-22 01:21:25,171]\u001b[0m Trial 23 finished with value: 0.8386602598878815 and parameters: {'n_estimators': 7418, 'learning_rate': 0.005799238981543287, 'reg_alpha': 8.779861510241883, 'reg_lambda': 0.647499999464632, 'num_leaves': 482, 'min_child_samples': 88, 'max_depth': 20, 'colsample_bytree': 0.11157699546008923, 'cat_smooth': 83, 'cat_l2': 15, 'min_data_per_group': 141}. Best is trial 6 with value: 0.8402141620811697.\u001b[0m\n",
      "\u001b[32m[I 2022-09-22 01:21:29,473]\u001b[0m Trial 21 finished with value: 0.8392712289131727 and parameters: {'n_estimators': 15364, 'learning_rate': 0.002013691047506171, 'reg_alpha': 5.715456286927197, 'reg_lambda': 6.526427499899991, 'num_leaves': 327, 'min_child_samples': 7, 'max_depth': 58, 'colsample_bytree': 0.2609575681927768, 'cat_smooth': 61, 'cat_l2': 15, 'min_data_per_group': 142}. Best is trial 6 with value: 0.8402141620811697.\u001b[0m\n",
      "\u001b[32m[I 2022-09-22 01:21:59,719]\u001b[0m Trial 24 finished with value: 0.8390064326125708 and parameters: {'n_estimators': 9644, 'learning_rate': 0.002565692870654573, 'reg_alpha': 5.873547891848132, 'reg_lambda': 0.9114774912144616, 'num_leaves': 619, 'min_child_samples': 70, 'max_depth': 35, 'colsample_bytree': 0.14959446272048493, 'cat_smooth': 62, 'cat_l2': 20, 'min_data_per_group': 196}. Best is trial 6 with value: 0.8402141620811697.\u001b[0m\n",
      "\u001b[32m[I 2022-09-22 01:22:16,645]\u001b[0m Trial 26 finished with value: 0.8391821023534579 and parameters: {'n_estimators': 13232, 'learning_rate': 0.016883382112311756, 'reg_alpha': 8.967815004027349, 'reg_lambda': 4.124114589934864, 'num_leaves': 802, 'min_child_samples': 89, 'max_depth': 14, 'colsample_bytree': 0.21165847779638436, 'cat_smooth': 90, 'cat_l2': 18, 'min_data_per_group': 121}. Best is trial 6 with value: 0.8402141620811697.\u001b[0m\n",
      "\u001b[32m[I 2022-09-22 01:22:19,842]\u001b[0m Trial 25 finished with value: 0.8387945955720892 and parameters: {'n_estimators': 9421, 'learning_rate': 0.0011053376309564994, 'reg_alpha': 8.813626522023354, 'reg_lambda': 1.019214845375399, 'num_leaves': 642, 'min_child_samples': 68, 'max_depth': 34, 'colsample_bytree': 0.4987451309924599, 'cat_smooth': 88, 'cat_l2': 20, 'min_data_per_group': 195}. Best is trial 6 with value: 0.8402141620811697.\u001b[0m\n",
      "\u001b[32m[I 2022-09-22 01:22:38,529]\u001b[0m Trial 28 finished with value: 0.8394985662249089 and parameters: {'n_estimators': 6416, 'learning_rate': 0.005534981117448692, 'reg_alpha': 6.692074287546007, 'reg_lambda': 0.008041459064210166, 'num_leaves': 496, 'min_child_samples': 79, 'max_depth': 21, 'colsample_bytree': 0.3647904647022141, 'cat_smooth': 76, 'cat_l2': 10, 'min_data_per_group': 172}. Best is trial 6 with value: 0.8402141620811697.\u001b[0m\n",
      "\u001b[32m[I 2022-09-22 01:22:50,526]\u001b[0m Trial 27 finished with value: 0.8395205249425198 and parameters: {'n_estimators': 6572, 'learning_rate': 0.0013128752422584362, 'reg_alpha': 7.6877284482037505, 'reg_lambda': 1.1727188984359216, 'num_leaves': 636, 'min_child_samples': 79, 'max_depth': 45, 'colsample_bytree': 0.3666315741209543, 'cat_smooth': 78, 'cat_l2': 17, 'min_data_per_group': 172}. Best is trial 6 with value: 0.8402141620811697.\u001b[0m\n",
      "\u001b[32m[I 2022-09-22 01:22:59,884]\u001b[0m Trial 30 finished with value: 0.8300434007595133 and parameters: {'n_estimators': 4317, 'learning_rate': 0.04899980854161155, 'reg_alpha': 2.425611270592676, 'reg_lambda': 2.1676642022569856, 'num_leaves': 228, 'min_child_samples': 48, 'max_depth': 8, 'colsample_bytree': 0.16622530306036595, 'cat_smooth': 19, 'cat_l2': 8, 'min_data_per_group': 150}. Best is trial 6 with value: 0.8402141620811697.\u001b[0m\n",
      "\u001b[32m[I 2022-09-22 01:23:15,257]\u001b[0m Trial 29 finished with value: 0.8390671420083184 and parameters: {'n_estimators': 10559, 'learning_rate': 0.001590905808312196, 'reg_alpha': 8.073191780346955, 'reg_lambda': 2.3909433129387416, 'num_leaves': 849, 'min_child_samples': 52, 'max_depth': 46, 'colsample_bytree': 0.16480435310222818, 'cat_smooth': 29, 'cat_l2': 17, 'min_data_per_group': 152}. Best is trial 6 with value: 0.8402141620811697.\u001b[0m\n",
      "\u001b[32m[I 2022-09-22 01:23:37,147]\u001b[0m Trial 32 finished with value: 0.8395502337957581 and parameters: {'n_estimators': 7668, 'learning_rate': 0.0035334147473444493, 'reg_alpha': 7.471241150908532, 'reg_lambda': 1.5300152639953257, 'num_leaves': 558, 'min_child_samples': 99, 'max_depth': 45, 'colsample_bytree': 0.2938639992970373, 'cat_smooth': 11, 'cat_l2': 18, 'min_data_per_group': 171}. Best is trial 6 with value: 0.8402141620811697.\u001b[0m\n",
      "\u001b[32m[I 2022-09-22 01:23:50,903]\u001b[0m Trial 31 finished with value: 0.8382662946601567 and parameters: {'n_estimators': 12450, 'learning_rate': 0.0032297890573854387, 'reg_alpha': 4.992463458387869, 'reg_lambda': 6.302603095922471, 'num_leaves': 862, 'min_child_samples': 54, 'max_depth': 16, 'colsample_bytree': 0.3014361157160591, 'cat_smooth': 67, 'cat_l2': 18, 'min_data_per_group': 69}. Best is trial 6 with value: 0.8402141620811697.\u001b[0m\n",
      "\u001b[32m[I 2022-09-22 01:24:06,310]\u001b[0m Trial 33 finished with value: 0.8398150300963602 and parameters: {'n_estimators': 7491, 'learning_rate': 0.0040156188204357735, 'reg_alpha': 5.05406542458509, 'reg_lambda': 6.330174765598402, 'num_leaves': 542, 'min_child_samples': 97, 'max_depth': 50, 'colsample_bytree': 0.2930015925658093, 'cat_smooth': 10, 'cat_l2': 19, 'min_data_per_group': 180}. Best is trial 6 with value: 0.8402141620811697.\u001b[0m\n",
      "\u001b[32m[I 2022-09-22 01:24:07,788]\u001b[0m Trial 34 finished with value: 0.8399855330801621 and parameters: {'n_estimators': 7600, 'learning_rate': 0.00718856613058173, 'reg_alpha': 6.629029862730284, 'reg_lambda': 2.707115436997091, 'num_leaves': 740, 'min_child_samples': 99, 'max_depth': 50, 'colsample_bytree': 0.29307661502454796, 'cat_smooth': 10, 'cat_l2': 19, 'min_data_per_group': 185}. Best is trial 6 with value: 0.8402141620811697.\u001b[0m\n",
      "\u001b[32m[I 2022-09-22 01:24:23,181]\u001b[0m Trial 36 finished with value: 0.8398511973959545 and parameters: {'n_estimators': 5466, 'learning_rate': 0.0074327030679317944, 'reg_alpha': 6.509703921712131, 'reg_lambda': 7.130016574424407, 'num_leaves': 741, 'min_child_samples': 92, 'max_depth': 58, 'colsample_bytree': 0.2811782018089854, 'cat_smooth': 16, 'cat_l2': 5, 'min_data_per_group': 181}. Best is trial 6 with value: 0.8402141620811697.\u001b[0m\n",
      "\u001b[32m[I 2022-09-22 01:24:25,167]\u001b[0m Trial 35 finished with value: 0.8388643467927356 and parameters: {'n_estimators': 5564, 'learning_rate': 0.006829352339120425, 'reg_alpha': 6.285652900766052, 'reg_lambda': 7.165795373960968, 'num_leaves': 749, 'min_child_samples': 92, 'max_depth': 59, 'colsample_bytree': 0.2402982034404577, 'cat_smooth': 16, 'cat_l2': 5, 'min_data_per_group': 185}. Best is trial 6 with value: 0.8402141620811697.\u001b[0m\n",
      "\u001b[32m[I 2022-09-22 01:24:36,545]\u001b[0m Trial 38 finished with value: 0.8396755276550674 and parameters: {'n_estimators': 5211, 'learning_rate': 0.014316343617519886, 'reg_alpha': 5.394771266832553, 'reg_lambda': 7.9028068953017305, 'num_leaves': 981, 'min_child_samples': 94, 'max_depth': 50, 'colsample_bytree': 0.29069079655698665, 'cat_smooth': 24, 'cat_l2': 3, 'min_data_per_group': 91}. Best is trial 6 with value: 0.8402141620811697.\u001b[0m\n",
      "\u001b[32m[I 2022-09-22 01:24:41,420]\u001b[0m Trial 37 finished with value: 0.8397569040791547 and parameters: {'n_estimators': 6170, 'learning_rate': 0.0077827349051649225, 'reg_alpha': 5.398918337309505, 'reg_lambda': 6.779974147808444, 'num_leaves': 750, 'min_child_samples': 92, 'max_depth': 60, 'colsample_bytree': 0.2940461603738072, 'cat_smooth': 17, 'cat_l2': 5, 'min_data_per_group': 182}. Best is trial 6 with value: 0.8402141620811697.\u001b[0m\n",
      "\u001b[32m[I 2022-09-22 01:24:52,473]\u001b[0m Trial 40 finished with value: 0.8380428324162338 and parameters: {'n_estimators': 4247, 'learning_rate': 0.01855952721940085, 'reg_alpha': 4.537652633858938, 'reg_lambda': 5.95137919320155, 'num_leaves': 918, 'min_child_samples': 100, 'max_depth': 64, 'colsample_bytree': 0.332357931271689, 'cat_smooth': 10, 'cat_l2': 7, 'min_data_per_group': 166}. Best is trial 6 with value: 0.8402141620811697.\u001b[0m\n",
      "\u001b[32m[I 2022-09-22 01:24:54,463]\u001b[0m Trial 39 finished with value: 0.8388307628716835 and parameters: {'n_estimators': 4190, 'learning_rate': 0.007745154074445144, 'reg_alpha': 4.400430947472501, 'reg_lambda': 5.951416702371632, 'num_leaves': 749, 'min_child_samples': 100, 'max_depth': 63, 'colsample_bytree': 0.32271021601502187, 'cat_smooth': 17, 'cat_l2': 6, 'min_data_per_group': 165}. Best is trial 6 with value: 0.8402141620811697.\u001b[0m\n",
      "\u001b[32m[I 2022-09-22 01:25:01,987]\u001b[0m Trial 41 finished with value: 0.8365380144152523 and parameters: {'n_estimators': 6962, 'learning_rate': 0.04487922572363356, 'reg_alpha': 3.518182418310121, 'reg_lambda': 9.006727340017317, 'num_leaves': 775, 'min_child_samples': 85, 'max_depth': 55, 'colsample_bytree': 0.27841304799705124, 'cat_smooth': 24, 'cat_l2': 1, 'min_data_per_group': 177}. Best is trial 6 with value: 0.8402141620811697.\u001b[0m\n",
      "\u001b[32m[I 2022-09-22 01:25:12,578]\u001b[0m Trial 42 finished with value: 0.839555400552843 and parameters: {'n_estimators': 6789, 'learning_rate': 0.007855337121992535, 'reg_alpha': 5.373696862110065, 'reg_lambda': 7.191723559774424, 'num_leaves': 782, 'min_child_samples': 94, 'max_depth': 55, 'colsample_bytree': 0.279465226721628, 'cat_smooth': 23, 'cat_l2': 1, 'min_data_per_group': 182}. Best is trial 6 with value: 0.8402141620811697.\u001b[0m\n",
      "\u001b[32m[I 2022-09-22 01:25:16,205]\u001b[0m Trial 43 finished with value: 0.8391407682967786 and parameters: {'n_estimators': 5732, 'learning_rate': 0.011378341104607972, 'reg_alpha': 6.294122102058141, 'reg_lambda': 7.3978869487129995, 'num_leaves': 714, 'min_child_samples': 94, 'max_depth': 61, 'colsample_bytree': 0.31332729062335046, 'cat_smooth': 15, 'cat_l2': 4, 'min_data_per_group': 181}. Best is trial 6 with value: 0.8402141620811697.\u001b[0m\n",
      "\u001b[32m[I 2022-09-22 01:25:17,258]\u001b[0m Trial 44 finished with value: 0.836908729236095 and parameters: {'n_estimators': 5502, 'learning_rate': 0.47047726838694837, 'reg_alpha': 6.427641980223964, 'reg_lambda': 4.440255281204529, 'num_leaves': 713, 'min_child_samples': 91, 'max_depth': 60, 'colsample_bytree': 0.23270468236750538, 'cat_smooth': 32, 'cat_l2': 4, 'min_data_per_group': 199}. Best is trial 6 with value: 0.8402141620811697.\u001b[0m\n",
      "\u001b[32m[I 2022-09-22 01:25:40,609]\u001b[0m Trial 46 finished with value: 0.8392415200599344 and parameters: {'n_estimators': 8346, 'learning_rate': 0.004929158289168741, 'reg_alpha': 7.076133111500109, 'reg_lambda': 6.6079930855517475, 'num_leaves': 879, 'min_child_samples': 96, 'max_depth': 51, 'colsample_bytree': 0.34696579647678527, 'cat_smooth': 29, 'cat_l2': 9, 'min_data_per_group': 190}. Best is trial 6 with value: 0.8402141620811697.\u001b[0m\n",
      "\u001b[32m[I 2022-09-22 01:25:41,456]\u001b[0m Trial 45 finished with value: 0.8391653103929319 and parameters: {'n_estimators': 8338, 'learning_rate': 0.004456352214246268, 'reg_alpha': 6.8451972418975835, 'reg_lambda': 4.558992500486732, 'num_leaves': 664, 'min_child_samples': 90, 'max_depth': 50, 'colsample_bytree': 0.3514714648921146, 'cat_smooth': 31, 'cat_l2': 3, 'min_data_per_group': 189}. Best is trial 6 with value: 0.8402141620811697.\u001b[0m\n",
      "\u001b[32m[I 2022-09-22 01:26:01,101]\u001b[0m Trial 48 finished with value: 0.8383295874344469 and parameters: {'n_estimators': 6270, 'learning_rate': 0.013657460815419412, 'reg_alpha': 5.980600373325931, 'reg_lambda': 8.937303841321132, 'num_leaves': 558, 'min_child_samples': 40, 'max_depth': 53, 'colsample_bytree': 0.4054907729904326, 'cat_smooth': 40, 'cat_l2': 6, 'min_data_per_group': 134}. Best is trial 6 with value: 0.8402141620811697.\u001b[0m\n",
      "\u001b[32m[I 2022-09-22 01:26:20,821]\u001b[0m Trial 47 finished with value: 0.8393590637836161 and parameters: {'n_estimators': 8812, 'learning_rate': 0.002649582105006357, 'reg_alpha': 5.863915678825671, 'reg_lambda': 8.060315354005514, 'num_leaves': 654, 'min_child_samples': 87, 'max_depth': 48, 'colsample_bytree': 0.39166007392622837, 'cat_smooth': 41, 'cat_l2': 6, 'min_data_per_group': 160}. Best is trial 6 with value: 0.8402141620811697.\u001b[0m\n",
      "\u001b[32m[I 2022-09-22 01:26:28,542]\u001b[0m Trial 49 finished with value: 0.8392789790488 and parameters: {'n_estimators': 4935, 'learning_rate': 0.002895876673002608, 'reg_alpha': 5.566119501500435, 'reg_lambda': 7.916972466647704, 'num_leaves': 832, 'min_child_samples': 86, 'max_depth': 48, 'colsample_bytree': 0.3851777456271703, 'cat_smooth': 20, 'cat_l2': 8, 'min_data_per_group': 158}. Best is trial 6 with value: 0.8402141620811697.\u001b[0m\n",
      "\u001b[32m[I 2022-09-22 01:26:34,527]\u001b[0m Trial 51 finished with value: 0.8361840915549354 and parameters: {'n_estimators': 7223, 'learning_rate': 0.22216092036834004, 'reg_alpha': 3.958845175879513, 'reg_lambda': 5.568981077300948, 'num_leaves': 529, 'min_child_samples': 81, 'max_depth': 41, 'colsample_bytree': 0.31183753389616503, 'cat_smooth': 13, 'cat_l2': 13, 'min_data_per_group': 121}. Best is trial 6 with value: 0.8402141620811697.\u001b[0m\n",
      "\u001b[32m[I 2022-09-22 01:26:41,527]\u001b[0m Trial 50 finished with value: 0.8389896406520447 and parameters: {'n_estimators': 7314, 'learning_rate': 0.008919486062968714, 'reg_alpha': 5.470350342505067, 'reg_lambda': 5.949614054697528, 'num_leaves': 822, 'min_child_samples': 82, 'max_depth': 42, 'colsample_bytree': 0.21269240869512607, 'cat_smooth': 20, 'cat_l2': 12, 'min_data_per_group': 156}. Best is trial 6 with value: 0.8402141620811697.\u001b[0m\n",
      "\u001b[32m[I 2022-09-22 01:27:01,121]\u001b[0m Trial 52 finished with value: 0.8393190214162081 and parameters: {'n_estimators': 17323, 'learning_rate': 0.00958277848414159, 'reg_alpha': 4.9965358426272, 'reg_lambda': 2.81197238490408, 'num_leaves': 455, 'min_child_samples': 30, 'max_depth': 54, 'colsample_bytree': 0.2806000690176448, 'cat_smooth': 10, 'cat_l2': 20, 'min_data_per_group': 166}. Best is trial 6 with value: 0.8402141620811697.\u001b[0m\n",
      "\u001b[32m[I 2022-09-22 01:27:08,626]\u001b[0m Trial 53 finished with value: 0.8387984706399028 and parameters: {'n_estimators': 4904, 'learning_rate': 0.004101349460475976, 'reg_alpha': 4.79800666354081, 'reg_lambda': 3.5217490732154797, 'num_leaves': 597, 'min_child_samples': 39, 'max_depth': 56, 'colsample_bytree': 0.24569376005931065, 'cat_smooth': 10, 'cat_l2': 19, 'min_data_per_group': 166}. Best is trial 6 with value: 0.8402141620811697.\u001b[0m\n",
      "\u001b[32m[I 2022-09-22 01:27:25,720]\u001b[0m Trial 54 finished with value: 0.8389883489627735 and parameters: {'n_estimators': 5977, 'learning_rate': 0.0038361425562359708, 'reg_alpha': 6.6554118543204845, 'reg_lambda': 6.823477644056032, 'num_leaves': 596, 'min_child_samples': 38, 'max_depth': 57, 'colsample_bytree': 0.24631227946596565, 'cat_smooth': 15, 'cat_l2': 19, 'min_data_per_group': 147}. Best is trial 6 with value: 0.8402141620811697.\u001b[0m\n",
      "\u001b[32m[I 2022-09-22 01:27:26,718]\u001b[0m Trial 55 finished with value: 0.8396781110336098 and parameters: {'n_estimators': 6000, 'learning_rate': 0.006141859705713042, 'reg_alpha': 6.621125366269671, 'reg_lambda': 6.81583375207793, 'num_leaves': 448, 'min_child_samples': 97, 'max_depth': 61, 'colsample_bytree': 0.26795139075541563, 'cat_smooth': 16, 'cat_l2': 19, 'min_data_per_group': 145}. Best is trial 6 with value: 0.8402141620811697.\u001b[0m\n",
      "\u001b[32m[I 2022-09-22 01:27:36,060]\u001b[0m Trial 57 finished with value: 0.8391536851894908 and parameters: {'n_estimators': 4749, 'learning_rate': 0.021243677299117296, 'reg_alpha': 6.951342710993654, 'reg_lambda': 7.660522518861512, 'num_leaves': 736, 'min_child_samples': 74, 'max_depth': 38, 'colsample_bytree': 0.19143523511124494, 'cat_smooth': 22, 'cat_l2': 14, 'min_data_per_group': 176}. Best is trial 6 with value: 0.8402141620811697.\u001b[0m\n",
      "\u001b[32m[I 2022-09-22 01:27:51,105]\u001b[0m Trial 56 finished with value: 0.8391175178898964 and parameters: {'n_estimators': 13861, 'learning_rate': 0.005993676580761189, 'reg_alpha': 6.986481279595317, 'reg_lambda': 7.659972473308464, 'num_leaves': 456, 'min_child_samples': 22, 'max_depth': 61, 'colsample_bytree': 0.27406695299388606, 'cat_smooth': 26, 'cat_l2': 16, 'min_data_per_group': 176}. Best is trial 6 with value: 0.8402141620811697.\u001b[0m\n",
      "\u001b[32m[I 2022-09-22 01:28:07,816]\u001b[0m Trial 58 finished with value: 0.8390723087654034 and parameters: {'n_estimators': 14159, 'learning_rate': 0.006893282618114513, 'reg_alpha': 6.237489887168424, 'reg_lambda': 4.705735218457118, 'num_leaves': 345, 'min_child_samples': 18, 'max_depth': 52, 'colsample_bytree': 0.2213827410914025, 'cat_smooth': 27, 'cat_l2': 16, 'min_data_per_group': 130}. Best is trial 6 with value: 0.8402141620811697.\u001b[0m\n",
      "\u001b[32m[I 2022-09-22 01:28:23,358]\u001b[0m Trial 59 finished with value: 0.8391963109354413 and parameters: {'n_estimators': 10357, 'learning_rate': 0.0023366936703939425, 'reg_alpha': 8.407396041061386, 'reg_lambda': 8.413788044186957, 'num_leaves': 516, 'min_child_samples': 96, 'max_depth': 27, 'colsample_bytree': 0.30730514503267187, 'cat_smooth': 48, 'cat_l2': 9, 'min_data_per_group': 128}. Best is trial 6 with value: 0.8402141620811697.\u001b[0m\n",
      "\u001b[32m[I 2022-09-22 01:28:45,524]\u001b[0m Trial 60 finished with value: 0.8389986824769433 and parameters: {'n_estimators': 12624, 'learning_rate': 0.0023741443537994237, 'reg_alpha': 7.716029280101235, 'reg_lambda': 3.914824286259255, 'num_leaves': 522, 'min_child_samples': 75, 'max_depth': 28, 'colsample_bytree': 0.3114340358000634, 'cat_smooth': 13, 'cat_l2': 15, 'min_data_per_group': 190}. Best is trial 6 with value: 0.8402141620811697.\u001b[0m\n",
      "\u001b[32m[I 2022-09-22 01:28:49,819]\u001b[0m Trial 61 finished with value: 0.8389857655842311 and parameters: {'n_estimators': 14902, 'learning_rate': 0.004880965036590732, 'reg_alpha': 7.6081882412286745, 'reg_lambda': 5.603062888708699, 'num_leaves': 683, 'min_child_samples': 75, 'max_depth': 43, 'colsample_bytree': 0.2906879841317453, 'cat_smooth': 14, 'cat_l2': 15, 'min_data_per_group': 193}. Best is trial 6 with value: 0.8402141620811697.\u001b[0m\n",
      "\u001b[32m[I 2022-09-22 01:29:03,764]\u001b[0m Trial 62 finished with value: 0.8398111550285463 and parameters: {'n_estimators': 6040, 'learning_rate': 0.005173851272904227, 'reg_alpha': 6.567897778645237, 'reg_lambda': 6.9157922937955885, 'num_leaves': 258, 'min_child_samples': 96, 'max_depth': 57, 'colsample_bytree': 0.2557945757182202, 'cat_smooth': 18, 'cat_l2': 19, 'min_data_per_group': 135}. Best is trial 6 with value: 0.8402141620811697.\u001b[0m\n",
      "\u001b[32m[I 2022-09-22 01:29:17,005]\u001b[0m Trial 63 finished with value: 0.8400849931540469 and parameters: {'n_estimators': 6006, 'learning_rate': 0.0016210006649600571, 'reg_alpha': 6.5454877272948915, 'reg_lambda': 6.916844390717431, 'num_leaves': 389, 'min_child_samples': 96, 'max_depth': 61, 'colsample_bytree': 0.26220117415202887, 'cat_smooth': 17, 'cat_l2': 19, 'min_data_per_group': 143}. Best is trial 6 with value: 0.8402141620811697.\u001b[0m\n",
      "\u001b[32m[I 2022-09-22 01:29:34,144]\u001b[0m Trial 64 finished with value: 0.8399209486166008 and parameters: {'n_estimators': 7856, 'learning_rate': 0.0033190901111213272, 'reg_alpha': 6.001309485848087, 'reg_lambda': 6.25859447797253, 'num_leaves': 119, 'min_child_samples': 93, 'max_depth': 32, 'colsample_bytree': 0.2560666891138214, 'cat_smooth': 19, 'cat_l2': 17, 'min_data_per_group': 137}. Best is trial 6 with value: 0.8402141620811697.\u001b[0m\n",
      "\u001b[32m[I 2022-09-22 01:29:57,540]\u001b[0m Trial 65 finished with value: 0.8402012451884575 and parameters: {'n_estimators': 7785, 'learning_rate': 0.0015014535605108045, 'reg_alpha': 5.211614633708883, 'reg_lambda': 6.350561203874728, 'num_leaves': 243, 'min_child_samples': 91, 'max_depth': 57, 'colsample_bytree': 0.2505849879189696, 'cat_smooth': 20, 'cat_l2': 20, 'min_data_per_group': 116}. Best is trial 6 with value: 0.8402141620811697.\u001b[0m\n",
      "\u001b[32m[I 2022-09-22 01:30:10,280]\u001b[0m Trial 66 finished with value: 0.8400669095042496 and parameters: {'n_estimators': 7943, 'learning_rate': 0.0017638679562907698, 'reg_alpha': 5.909452639832881, 'reg_lambda': 6.264436485277499, 'num_leaves': 76, 'min_child_samples': 89, 'max_depth': 32, 'colsample_bytree': 0.2534200915566366, 'cat_smooth': 19, 'cat_l2': 20, 'min_data_per_group': 137}. Best is trial 6 with value: 0.8402141620811697.\u001b[0m\n",
      "\u001b[32m[I 2022-09-22 01:30:39,306]\u001b[0m Trial 67 finished with value: 0.8394921077785528 and parameters: {'n_estimators': 9186, 'learning_rate': 0.0013550263364111223, 'reg_alpha': 5.980970842424415, 'reg_lambda': 4.8833152092963985, 'num_leaves': 120, 'min_child_samples': 88, 'max_depth': 32, 'colsample_bytree': 0.23041493269454272, 'cat_smooth': 20, 'cat_l2': 20, 'min_data_per_group': 110}. Best is trial 6 with value: 0.8402141620811697.\u001b[0m\n",
      "\u001b[32m[I 2022-09-22 01:30:50,052]\u001b[0m Trial 68 finished with value: 0.8395269833888759 and parameters: {'n_estimators': 9038, 'learning_rate': 0.0015742559835260608, 'reg_alpha': 5.9784567879042045, 'reg_lambda': 6.229390211887374, 'num_leaves': 117, 'min_child_samples': 88, 'max_depth': 31, 'colsample_bytree': 0.2258151991230973, 'cat_smooth': 21, 'cat_l2': 17, 'min_data_per_group': 107}. Best is trial 6 with value: 0.8402141620811697.\u001b[0m\n",
      "\u001b[32m[I 2022-09-22 01:31:09,982]\u001b[0m Trial 69 finished with value: 0.839634193598388 and parameters: {'n_estimators': 8099, 'learning_rate': 0.0018139604397744767, 'reg_alpha': 7.318782935875188, 'reg_lambda': 6.16331834453577, 'num_leaves': 113, 'min_child_samples': 84, 'max_depth': 26, 'colsample_bytree': 0.2540595064704549, 'cat_smooth': 36, 'cat_l2': 17, 'min_data_per_group': 117}. Best is trial 6 with value: 0.8402141620811697.\u001b[0m\n",
      "\u001b[32m[I 2022-09-22 01:31:23,193]\u001b[0m Trial 70 finished with value: 0.8391511018109483 and parameters: {'n_estimators': 8208, 'learning_rate': 0.0017707508663380792, 'reg_alpha': 7.32477743666688, 'reg_lambda': 5.372881665726935, 'num_leaves': 140, 'min_child_samples': 65, 'max_depth': 25, 'colsample_bytree': 0.2442429629675052, 'cat_smooth': 35, 'cat_l2': 20, 'min_data_per_group': 120}. Best is trial 6 with value: 0.8402141620811697.\u001b[0m\n",
      "\u001b[32m[I 2022-09-22 01:31:48,929]\u001b[0m Trial 71 finished with value: 0.8382779198635976 and parameters: {'n_estimators': 9945, 'learning_rate': 0.0010627750231974333, 'reg_alpha': 5.675889182944436, 'reg_lambda': 5.335024619114291, 'num_leaves': 61, 'min_child_samples': 80, 'max_depth': 36, 'colsample_bytree': 0.20343447805677062, 'cat_smooth': 27, 'cat_l2': 18, 'min_data_per_group': 98}. Best is trial 6 with value: 0.8402141620811697.\u001b[0m\n",
      "\u001b[32m[I 2022-09-22 01:31:59,524]\u001b[0m Trial 72 finished with value: 0.8401676612674054 and parameters: {'n_estimators': 7708, 'learning_rate': 0.0013334680349426171, 'reg_alpha': 5.196916212560495, 'reg_lambda': 5.722853312061659, 'num_leaves': 50, 'min_child_samples': 93, 'max_depth': 35, 'colsample_bytree': 0.27082346170431365, 'cat_smooth': 12, 'cat_l2': 18, 'min_data_per_group': 140}. Best is trial 6 with value: 0.8402141620811697.\u001b[0m\n",
      "\u001b[32m[I 2022-09-22 01:32:21,368]\u001b[0m Trial 73 finished with value: 0.8400992017360304 and parameters: {'n_estimators': 7543, 'learning_rate': 0.003259472436534999, 'reg_alpha': 5.162781674392881, 'reg_lambda': 5.728616230375414, 'num_leaves': 186, 'min_child_samples': 93, 'max_depth': 38, 'colsample_bytree': 0.2672752009882381, 'cat_smooth': 13, 'cat_l2': 19, 'min_data_per_group': 141}. Best is trial 6 with value: 0.8402141620811697.\u001b[0m\n",
      "\u001b[32m[I 2022-09-22 01:33:00,545]\u001b[0m Trial 75 finished with value: 0.8401211604536413 and parameters: {'n_estimators': 7650, 'learning_rate': 0.0013688072579110975, 'reg_alpha': 4.7071316098628655, 'reg_lambda': 5.735689250173632, 'num_leaves': 191, 'min_child_samples': 100, 'max_depth': 33, 'colsample_bytree': 0.261204672969116, 'cat_smooth': 12, 'cat_l2': 18, 'min_data_per_group': 140}. Best is trial 6 with value: 0.8402141620811697.\u001b[0m\n",
      "\u001b[32m[I 2022-09-22 01:33:07,294]\u001b[0m Trial 74 finished with value: 0.8370056059314372 and parameters: {'n_estimators': 7779, 'learning_rate': 0.0013067619457898224, 'reg_alpha': 0.1157394374308316, 'reg_lambda': 5.709984224375199, 'num_leaves': 47, 'min_child_samples': 92, 'max_depth': 32, 'colsample_bytree': 0.26745675667256463, 'cat_smooth': 13, 'cat_l2': 18, 'min_data_per_group': 139}. Best is trial 6 with value: 0.8402141620811697.\u001b[0m\n",
      "\u001b[32m[I 2022-09-22 01:33:32,293]\u001b[0m Trial 76 finished with value: 0.8400281588261129 and parameters: {'n_estimators': 6605, 'learning_rate': 0.0013751575086559152, 'reg_alpha': 4.739170842287859, 'reg_lambda': 5.807272958665739, 'num_leaves': 179, 'min_child_samples': 100, 'max_depth': 39, 'colsample_bytree': 0.2667346428353052, 'cat_smooth': 12, 'cat_l2': 20, 'min_data_per_group': 143}. Best is trial 6 with value: 0.8402141620811697.\u001b[0m\n",
      "\u001b[32m[I 2022-09-22 01:33:39,833]\u001b[0m Trial 77 finished with value: 0.8396277351520318 and parameters: {'n_estimators': 6735, 'learning_rate': 0.0014190184903821045, 'reg_alpha': 4.109884809373245, 'reg_lambda': 5.074385444768067, 'num_leaves': 183, 'min_child_samples': 100, 'max_depth': 38, 'colsample_bytree': 0.23950135107325626, 'cat_smooth': 12, 'cat_l2': 20, 'min_data_per_group': 125}. Best is trial 6 with value: 0.8402141620811697.\u001b[0m\n",
      "\u001b[32m[I 2022-09-22 01:34:06,719]\u001b[0m Trial 78 finished with value: 0.8396897362370508 and parameters: {'n_estimators': 6756, 'learning_rate': 0.0014730625809445282, 'reg_alpha': 4.054624717809563, 'reg_lambda': 5.086044109305687, 'num_leaves': 173, 'min_child_samples': 100, 'max_depth': 38, 'colsample_bytree': 0.23755530403825686, 'cat_smooth': 13, 'cat_l2': 20, 'min_data_per_group': 154}. Best is trial 6 with value: 0.8402141620811697.\u001b[0m\n",
      "\u001b[32m[I 2022-09-22 01:34:18,398]\u001b[0m Trial 79 finished with value: 0.8404763750032292 and parameters: {'n_estimators': 7082, 'learning_rate': 0.0019346874942038936, 'reg_alpha': 4.562948968438817, 'reg_lambda': 5.782022147996157, 'num_leaves': 277, 'min_child_samples': 90, 'max_depth': 34, 'colsample_bytree': 0.2666184528774462, 'cat_smooth': 22, 'cat_l2': 20, 'min_data_per_group': 153}. Best is trial 79 with value: 0.8404763750032292.\u001b[0m\n",
      "\u001b[32m[I 2022-09-22 01:34:41,104]\u001b[0m Trial 80 finished with value: 0.8402632462734765 and parameters: {'n_estimators': 7192, 'learning_rate': 0.00195631162736648, 'reg_alpha': 5.204398485463997, 'reg_lambda': 4.1602369400976675, 'num_leaves': 280, 'min_child_samples': 97, 'max_depth': 34, 'colsample_bytree': 0.2683037723777312, 'cat_smooth': 25, 'cat_l2': 19, 'min_data_per_group': 143}. Best is trial 79 with value: 0.8404763750032292.\u001b[0m\n",
      "\u001b[32m[I 2022-09-22 01:35:26,067]\u001b[0m Trial 82 finished with value: 0.840232245730967 and parameters: {'n_estimators': 8606, 'learning_rate': 0.0010066728431287104, 'reg_alpha': 5.1333930476224925, 'reg_lambda': 4.070114089175296, 'num_leaves': 281, 'min_child_samples': 90, 'max_depth': 34, 'colsample_bytree': 0.25001173869778853, 'cat_smooth': 25, 'cat_l2': 19, 'min_data_per_group': 149}. Best is trial 79 with value: 0.8404763750032292.\u001b[0m\n",
      "\u001b[32m[I 2022-09-22 01:35:57,201]\u001b[0m Trial 81 finished with value: 0.8363029269678887 and parameters: {'n_estimators': 19058, 'learning_rate': 0.0019917574061752816, 'reg_alpha': 3.49039718576969, 'reg_lambda': 4.793320112820234, 'num_leaves': 254, 'min_child_samples': 90, 'max_depth': 34, 'colsample_bytree': 0.2046257125313396, 'cat_smooth': 23, 'cat_l2': 19, 'min_data_per_group': 150}. Best is trial 79 with value: 0.8404763750032292.\u001b[0m\n",
      "\u001b[32m[I 2022-09-22 01:36:10,633]\u001b[0m Trial 83 finished with value: 0.8399299904414994 and parameters: {'n_estimators': 8633, 'learning_rate': 0.0010167288922565702, 'reg_alpha': 3.406144385583115, 'reg_lambda': 4.239497559765496, 'num_leaves': 285, 'min_child_samples': 95, 'max_depth': 34, 'colsample_bytree': 0.2188226995729175, 'cat_smooth': 25, 'cat_l2': 18, 'min_data_per_group': 149}. Best is trial 79 with value: 0.8404763750032292.\u001b[0m\n",
      "\u001b[32m[I 2022-09-22 01:36:36,437]\u001b[0m Trial 84 finished with value: 0.8396199850164043 and parameters: {'n_estimators': 8832, 'learning_rate': 0.0011595173193982692, 'reg_alpha': 5.280569876252772, 'reg_lambda': 4.201537335719588, 'num_leaves': 289, 'min_child_samples': 95, 'max_depth': 35, 'colsample_bytree': 0.21987458527596163, 'cat_smooth': 25, 'cat_l2': 18, 'min_data_per_group': 133}. Best is trial 79 with value: 0.8404763750032292.\u001b[0m\n",
      "\u001b[32m[I 2022-09-22 01:36:48,356]\u001b[0m Trial 85 finished with value: 0.8399532408483816 and parameters: {'n_estimators': 7327, 'learning_rate': 0.001182058530878747, 'reg_alpha': 5.257655760956139, 'reg_lambda': 3.5711785242565446, 'num_leaves': 213, 'min_child_samples': 85, 'max_depth': 36, 'colsample_bytree': 0.28708291829208527, 'cat_smooth': 32, 'cat_l2': 19, 'min_data_per_group': 144}. Best is trial 79 with value: 0.8404763750032292.\u001b[0m\n",
      "\u001b[32m[I 2022-09-22 01:37:11,222]\u001b[0m Trial 86 finished with value: 0.8397698209718669 and parameters: {'n_estimators': 7127, 'learning_rate': 0.002811221801403152, 'reg_alpha': 4.592029609845384, 'reg_lambda': 3.2654926418936876, 'num_leaves': 216, 'min_child_samples': 84, 'max_depth': 29, 'colsample_bytree': 0.27171228572924777, 'cat_smooth': 32, 'cat_l2': 19, 'min_data_per_group': 141}. Best is trial 79 with value: 0.8404763750032292.\u001b[0m\n",
      "\u001b[32m[I 2022-09-22 01:37:29,380]\u001b[0m Trial 87 finished with value: 0.8391523935002196 and parameters: {'n_estimators': 7090, 'learning_rate': 0.002112494717170641, 'reg_alpha': 4.660165102625284, 'reg_lambda': 6.5764059502082715, 'num_leaves': 333, 'min_child_samples': 97, 'max_depth': 29, 'colsample_bytree': 0.3240576224086957, 'cat_smooth': 29, 'cat_l2': 19, 'min_data_per_group': 146}. Best is trial 79 with value: 0.8404763750032292.\u001b[0m\n",
      "\u001b[32m[I 2022-09-22 01:37:58,773]\u001b[0m Trial 89 finished with value: 0.8393151463483943 and parameters: {'n_estimators': 5280, 'learning_rate': 0.002348859136858542, 'reg_alpha': 5.212518906835503, 'reg_lambda': 3.8863770533358277, 'num_leaves': 375, 'min_child_samples': 91, 'max_depth': 33, 'colsample_bytree': 0.30131093470983983, 'cat_smooth': 17, 'cat_l2': 17, 'min_data_per_group': 153}. Best is trial 79 with value: 0.8404763750032292.\u001b[0m\n",
      "\u001b[32m[I 2022-09-22 01:38:00,875]\u001b[0m Trial 88 finished with value: 0.8390232245730966 and parameters: {'n_estimators': 9500, 'learning_rate': 0.0021293312851967164, 'reg_alpha': 5.128270980571684, 'reg_lambda': 4.437288771978141, 'num_leaves': 325, 'min_child_samples': 78, 'max_depth': 23, 'colsample_bytree': 0.30246260929355673, 'cat_smooth': 29, 'cat_l2': 16, 'min_data_per_group': 126}. Best is trial 79 with value: 0.8404763750032292.\u001b[0m\n",
      "\u001b[32m[I 2022-09-22 01:38:51,179]\u001b[0m Trial 90 finished with value: 0.8393668139192436 and parameters: {'n_estimators': 8466, 'learning_rate': 0.0016103140854081077, 'reg_alpha': 4.362946119075346, 'reg_lambda': 5.384950325173031, 'num_leaves': 250, 'min_child_samples': 56, 'max_depth': 36, 'colsample_bytree': 0.259619675464582, 'cat_smooth': 59, 'cat_l2': 18, 'min_data_per_group': 126}. Best is trial 79 with value: 0.8404763750032292.\u001b[0m\n",
      "\u001b[32m[I 2022-09-22 01:38:54,412]\u001b[0m Trial 91 finished with value: 0.839255728641918 and parameters: {'n_estimators': 8511, 'learning_rate': 0.0016342189707707502, 'reg_alpha': 3.0104323544626705, 'reg_lambda': 5.483121640518435, 'num_leaves': 247, 'min_child_samples': 87, 'max_depth': 30, 'colsample_bytree': 0.26269255532517055, 'cat_smooth': 22, 'cat_l2': 18, 'min_data_per_group': 155}. Best is trial 79 with value: 0.8404763750032292.\u001b[0m\n",
      "\u001b[32m[I 2022-09-22 01:39:28,858]\u001b[0m Trial 92 finished with value: 0.8401469942390658 and parameters: {'n_estimators': 7924, 'learning_rate': 0.0011917459317347756, 'reg_alpha': 5.7033108832715005, 'reg_lambda': 6.5021295378363515, 'num_leaves': 70, 'min_child_samples': 89, 'max_depth': 30, 'colsample_bytree': 0.251175499960321, 'cat_smooth': 21, 'cat_l2': 20, 'min_data_per_group': 136}. Best is trial 79 with value: 0.8404763750032292.\u001b[0m\n",
      "\u001b[32m[I 2022-09-22 01:39:33,032]\u001b[0m Trial 93 finished with value: 0.8402451626236791 and parameters: {'n_estimators': 7862, 'learning_rate': 0.001765367542491668, 'reg_alpha': 4.8802562226399235, 'reg_lambda': 6.072863944360822, 'num_leaves': 76, 'min_child_samples': 89, 'max_depth': 40, 'colsample_bytree': 0.25323135484177894, 'cat_smooth': 17, 'cat_l2': 20, 'min_data_per_group': 137}. Best is trial 79 with value: 0.8404763750032292.\u001b[0m\n",
      "\u001b[32m[I 2022-09-22 01:40:01,906]\u001b[0m Trial 94 finished with value: 0.8399493657805679 and parameters: {'n_estimators': 6482, 'learning_rate': 0.0012120847595061528, 'reg_alpha': 4.876906284040871, 'reg_lambda': 6.0017978351182775, 'num_leaves': 156, 'min_child_samples': 93, 'max_depth': 40, 'colsample_bytree': 0.2835069797049081, 'cat_smooth': 15, 'cat_l2': 20, 'min_data_per_group': 140}. Best is trial 79 with value: 0.8404763750032292.\u001b[0m\n",
      "\u001b[32m[I 2022-09-22 01:40:16,834]\u001b[0m Trial 95 finished with value: 0.8402399958665943 and parameters: {'n_estimators': 9177, 'learning_rate': 0.0012109264935732634, 'reg_alpha': 4.880663997562304, 'reg_lambda': 6.005856905200336, 'num_leaves': 160, 'min_child_samples': 93, 'max_depth': 44, 'colsample_bytree': 0.2835133624393942, 'cat_smooth': 22, 'cat_l2': 20, 'min_data_per_group': 132}. Best is trial 79 with value: 0.8404763750032292.\u001b[0m\n",
      "\u001b[32m[I 2022-09-22 01:40:43,650]\u001b[0m Trial 96 finished with value: 0.8399764912552635 and parameters: {'n_estimators': 7590, 'learning_rate': 0.0018831783102484288, 'reg_alpha': 3.7812655696051634, 'reg_lambda': 5.169895856246136, 'num_leaves': 29, 'min_child_samples': 90, 'max_depth': 37, 'colsample_bytree': 0.2736056342659536, 'cat_smooth': 21, 'cat_l2': 20, 'min_data_per_group': 131}. Best is trial 79 with value: 0.8404763750032292.\u001b[0m\n",
      "\u001b[32m[I 2022-09-22 01:41:04,851]\u001b[0m Trial 97 finished with value: 0.8393112712805808 and parameters: {'n_estimators': 11013, 'learning_rate': 0.001011429767188201, 'reg_alpha': 5.703443415241919, 'reg_lambda': 5.1585731201702165, 'num_leaves': 21, 'min_child_samples': 82, 'max_depth': 43, 'colsample_bytree': 0.24894053985275083, 'cat_smooth': 22, 'cat_l2': 20, 'min_data_per_group': 131}. Best is trial 79 with value: 0.8404763750032292.\u001b[0m\n",
      "\u001b[32m[I 2022-09-22 01:41:25,524]\u001b[0m Trial 98 finished with value: 0.8393190214162082 and parameters: {'n_estimators': 9864, 'learning_rate': 0.001035524499792159, 'reg_alpha': 5.670274142779373, 'reg_lambda': 6.478157435556137, 'num_leaves': 86, 'min_child_samples': 82, 'max_depth': 44, 'colsample_bytree': 0.24843657063315408, 'cat_smooth': 27, 'cat_l2': 20, 'min_data_per_group': 134}. Best is trial 79 with value: 0.8404763750032292.\u001b[0m\n",
      "\u001b[32m[I 2022-09-22 01:41:51,552]\u001b[0m Trial 99 finished with value: 0.8396290268413031 and parameters: {'n_estimators': 10050, 'learning_rate': 0.0012742835567770918, 'reg_alpha': 4.48296235885081, 'reg_lambda': 6.572670085836542, 'num_leaves': 151, 'min_child_samples': 88, 'max_depth': 30, 'colsample_bytree': 0.2330754438890088, 'cat_smooth': 39, 'cat_l2': 20, 'min_data_per_group': 118}. Best is trial 79 with value: 0.8404763750032292.\u001b[0m\n",
      "\u001b[32m[I 2022-09-22 01:42:09,685]\u001b[0m Trial 100 finished with value: 0.8398124467178175 and parameters: {'n_estimators': 9391, 'learning_rate': 0.0012577193504758756, 'reg_alpha': 4.505323112968051, 'reg_lambda': 4.685015191225382, 'num_leaves': 83, 'min_child_samples': 98, 'max_depth': 41, 'colsample_bytree': 0.23061050785596268, 'cat_smooth': 18, 'cat_l2': 19, 'min_data_per_group': 113}. Best is trial 79 with value: 0.8404763750032292.\u001b[0m\n",
      "\u001b[32m[I 2022-09-22 01:42:39,549]\u001b[0m Trial 101 finished with value: 0.8401263272107261 and parameters: {'n_estimators': 8929, 'learning_rate': 0.0014023208396143833, 'reg_alpha': 4.2816951002472265, 'reg_lambda': 6.03679935719288, 'num_leaves': 96, 'min_child_samples': 86, 'max_depth': 41, 'colsample_bytree': 0.2790928840083595, 'cat_smooth': 18, 'cat_l2': 11, 'min_data_per_group': 114}. Best is trial 79 with value: 0.8404763750032292.\u001b[0m\n",
      "\u001b[32m[I 2022-09-22 01:42:42,791]\u001b[0m Trial 102 finished with value: 0.8401767030923042 and parameters: {'n_estimators': 7535, 'learning_rate': 0.002535269496547145, 'reg_alpha': 5.0518700204131095, 'reg_lambda': 5.852519347068534, 'num_leaves': 232, 'min_child_samples': 93, 'max_depth': 35, 'colsample_bytree': 0.276281813550735, 'cat_smooth': 15, 'cat_l2': 19, 'min_data_per_group': 137}. Best is trial 79 with value: 0.8404763750032292.\u001b[0m\n",
      "\u001b[32m[I 2022-09-22 01:42:47,795]\u001b[0m Trial 103 finished with value: 0.8367950605802267 and parameters: {'n_estimators': 8057, 'learning_rate': 0.08280010935716768, 'reg_alpha': 4.255765101490604, 'reg_lambda': 6.069468660503118, 'num_leaves': 102, 'min_child_samples': 85, 'max_depth': 35, 'colsample_bytree': 0.4505046343796168, 'cat_smooth': 23, 'cat_l2': 13, 'min_data_per_group': 101}. Best is trial 79 with value: 0.8404763750032292.\u001b[0m\n",
      "\u001b[32m[I 2022-09-22 01:43:25,193]\u001b[0m Trial 104 finished with value: 0.8399480740912966 and parameters: {'n_estimators': 8942, 'learning_rate': 0.002516965635619963, 'reg_alpha': 4.912862736625826, 'reg_lambda': 6.025044148379852, 'num_leaves': 39, 'min_child_samples': 87, 'max_depth': 46, 'colsample_bytree': 0.2799280774556374, 'cat_smooth': 24, 'cat_l2': 11, 'min_data_per_group': 106}. Best is trial 79 with value: 0.8404763750032292.\u001b[0m\n",
      "\u001b[32m[I 2022-09-22 01:43:27,634]\u001b[0m Trial 105 finished with value: 0.8402464543129504 and parameters: {'n_estimators': 8999, 'learning_rate': 0.0025471374288651353, 'reg_alpha': 4.970717510798663, 'reg_lambda': 6.409534555214381, 'num_leaves': 46, 'min_child_samples': 91, 'max_depth': 40, 'colsample_bytree': 0.28208177765431347, 'cat_smooth': 25, 'cat_l2': 11, 'min_data_per_group': 114}. Best is trial 79 with value: 0.8404763750032292.\u001b[0m\n",
      "\u001b[32m[I 2022-09-22 01:44:03,921]\u001b[0m Trial 107 finished with value: 0.8399984499728743 and parameters: {'n_estimators': 9239, 'learning_rate': 0.0029586634535411385, 'reg_alpha': 5.472170058434736, 'reg_lambda': 7.399550921659001, 'num_leaves': 64, 'min_child_samples': 91, 'max_depth': 37, 'colsample_bytree': 0.2913907139343913, 'cat_smooth': 26, 'cat_l2': 9, 'min_data_per_group': 124}. Best is trial 79 with value: 0.8404763750032292.\u001b[0m\n",
      "\u001b[32m[I 2022-09-22 01:44:09,431]\u001b[0m Trial 106 finished with value: 0.8402800382340024 and parameters: {'n_estimators': 9218, 'learning_rate': 0.0019296293970562615, 'reg_alpha': 5.02269017436554, 'reg_lambda': 5.865783899534987, 'num_leaves': 229, 'min_child_samples': 90, 'max_depth': 40, 'colsample_bytree': 0.29534661312032856, 'cat_smooth': 19, 'cat_l2': 12, 'min_data_per_group': 114}. Best is trial 79 with value: 0.8404763750032292.\u001b[0m\n",
      "\u001b[32m[I 2022-09-22 01:44:38,123]\u001b[0m Trial 108 finished with value: 0.8393280632411068 and parameters: {'n_estimators': 10410, 'learning_rate': 0.0019500624699995092, 'reg_alpha': 5.023092512871285, 'reg_lambda': 7.008951555510032, 'num_leaves': 8, 'min_child_samples': 89, 'max_depth': 39, 'colsample_bytree': 0.29656781444575964, 'cat_smooth': 30, 'cat_l2': 10, 'min_data_per_group': 147}. Best is trial 79 with value: 0.8404763750032292.\u001b[0m\n",
      "\u001b[32m[I 2022-09-22 01:45:05,476]\u001b[0m Trial 109 finished with value: 0.8390852256581157 and parameters: {'n_estimators': 11499, 'learning_rate': 0.0019022209984852678, 'reg_alpha': 5.008188715541315, 'reg_lambda': 3.9995225658044915, 'num_leaves': 285, 'min_child_samples': 94, 'max_depth': 39, 'colsample_bytree': 0.33052068112036365, 'cat_smooth': 30, 'cat_l2': 12, 'min_data_per_group': 162}. Best is trial 79 with value: 0.8404763750032292.\u001b[0m\n",
      "\u001b[32m[I 2022-09-22 01:45:25,477]\u001b[0m Trial 110 finished with value: 0.8393073962127671 and parameters: {'n_estimators': 11866, 'learning_rate': 0.0022660073941685173, 'reg_alpha': 5.480132593393266, 'reg_lambda': 5.510469347963319, 'num_leaves': 232, 'min_child_samples': 94, 'max_depth': 40, 'colsample_bytree': 0.33534695436164275, 'cat_smooth': 15, 'cat_l2': 12, 'min_data_per_group': 89}. Best is trial 79 with value: 0.8404763750032292.\u001b[0m\n",
      "\u001b[32m[I 2022-09-22 01:46:02,295]\u001b[0m Trial 111 finished with value: 0.8388475548322095 and parameters: {'n_estimators': 10818, 'learning_rate': 0.002632346154191167, 'reg_alpha': 3.7894965716277813, 'reg_lambda': 4.3683726584317055, 'num_leaves': 235, 'min_child_samples': 98, 'max_depth': 42, 'colsample_bytree': 0.28729032754728845, 'cat_smooth': 16, 'cat_l2': 12, 'min_data_per_group': 91}. Best is trial 79 with value: 0.8404763750032292.\u001b[0m\n",
      "\u001b[32m[I 2022-09-22 01:46:08,628]\u001b[0m Trial 112 finished with value: 0.8389586401095354 and parameters: {'n_estimators': 8265, 'learning_rate': 0.002708052529283801, 'reg_alpha': 4.797662251183471, 'reg_lambda': 6.730034991829002, 'num_leaves': 307, 'min_child_samples': 98, 'max_depth': 33, 'colsample_bytree': 0.3174468573418481, 'cat_smooth': 22, 'cat_l2': 12, 'min_data_per_group': 123}. Best is trial 79 with value: 0.8404763750032292.\u001b[0m\n",
      "\u001b[32m[I 2022-09-22 01:46:46,242]\u001b[0m Trial 113 finished with value: 0.8403937068898706 and parameters: {'n_estimators': 8413, 'learning_rate': 0.0015259697782975495, 'reg_alpha': 4.798179288690802, 'reg_lambda': 6.450650605359479, 'num_leaves': 139, 'min_child_samples': 90, 'max_depth': 33, 'colsample_bytree': 0.2737426511069658, 'cat_smooth': 34, 'cat_l2': 13, 'min_data_per_group': 123}. Best is trial 79 with value: 0.8404763750032292.\u001b[0m\n",
      "\u001b[32m[I 2022-09-22 01:46:47,313]\u001b[0m Trial 114 finished with value: 0.840243870934408 and parameters: {'n_estimators': 7966, 'learning_rate': 0.0015322839619486427, 'reg_alpha': 5.250087470892181, 'reg_lambda': 5.8653697626411585, 'num_leaves': 137, 'min_child_samples': 91, 'max_depth': 36, 'colsample_bytree': 0.27380742437444977, 'cat_smooth': 20, 'cat_l2': 13, 'min_data_per_group': 116}. Best is trial 79 with value: 0.8404763750032292.\u001b[0m\n",
      "\u001b[32m[I 2022-09-22 01:47:16,023]\u001b[0m Trial 115 finished with value: 0.8400875765325894 and parameters: {'n_estimators': 7017, 'learning_rate': 0.003485434963575665, 'reg_alpha': 5.334257680598406, 'reg_lambda': 5.8460311301107195, 'num_leaves': 135, 'min_child_samples': 91, 'max_depth': 36, 'colsample_bytree': 0.27111365350902233, 'cat_smooth': 34, 'cat_l2': 14, 'min_data_per_group': 114}. Best is trial 79 with value: 0.8404763750032292.\u001b[0m\n",
      "\u001b[32m[I 2022-09-22 01:47:38,131]\u001b[0m Trial 116 finished with value: 0.8394598155467722 and parameters: {'n_estimators': 9651, 'learning_rate': 0.0016408237348339856, 'reg_alpha': 5.368468108316803, 'reg_lambda': 5.845134711960011, 'num_leaves': 272, 'min_child_samples': 46, 'max_depth': 36, 'colsample_bytree': 0.2742005139707984, 'cat_smooth': 34, 'cat_l2': 14, 'min_data_per_group': 116}. Best is trial 79 with value: 0.8404763750032292.\u001b[0m\n",
      "\u001b[32m[I 2022-09-22 01:48:05,904]\u001b[0m Trial 117 finished with value: 0.8392828541166137 and parameters: {'n_estimators': 9672, 'learning_rate': 0.001525279958984753, 'reg_alpha': 6.141183538163855, 'reg_lambda': 6.277541488183504, 'num_leaves': 264, 'min_child_samples': 83, 'max_depth': 37, 'colsample_bytree': 0.30279499837396784, 'cat_smooth': 19, 'cat_l2': 11, 'min_data_per_group': 117}. Best is trial 79 with value: 0.8404763750032292.\u001b[0m\n",
      "\u001b[32m[I 2022-09-22 01:48:26,804]\u001b[0m Trial 118 finished with value: 0.8385685499496243 and parameters: {'n_estimators': 8540, 'learning_rate': 0.002155811578977995, 'reg_alpha': 4.674350196994961, 'reg_lambda': 3.715462585980082, 'num_leaves': 200, 'min_child_samples': 83, 'max_depth': 34, 'colsample_bytree': 0.3063871225118443, 'cat_smooth': 27, 'cat_l2': 13, 'min_data_per_group': 103}. Best is trial 79 with value: 0.8404763750032292.\u001b[0m\n",
      "\u001b[32m[I 2022-09-22 01:48:50,899]\u001b[0m Trial 119 finished with value: 0.8394740241287557 and parameters: {'n_estimators': 9131, 'learning_rate': 0.0021416399612171778, 'reg_alpha': 4.605556403144067, 'reg_lambda': 4.896079513440081, 'num_leaves': 215, 'min_child_samples': 80, 'max_depth': 34, 'colsample_bytree': 0.28569342693825, 'cat_smooth': 44, 'cat_l2': 13, 'min_data_per_group': 110}. Best is trial 79 with value: 0.8404763750032292.\u001b[0m\n",
      "\u001b[32m[I 2022-09-22 01:49:10,478]\u001b[0m Trial 120 finished with value: 0.8399687411196363 and parameters: {'n_estimators': 8222, 'learning_rate': 0.0017374687372306785, 'reg_alpha': 4.157959240765013, 'reg_lambda': 4.941658263242393, 'num_leaves': 164, 'min_child_samples': 86, 'max_depth': 31, 'colsample_bytree': 0.28585548027441393, 'cat_smooth': 24, 'cat_l2': 13, 'min_data_per_group': 128}. Best is trial 79 with value: 0.8404763750032292.\u001b[0m\n",
      "\u001b[32m[I 2022-09-22 01:49:37,896]\u001b[0m Trial 121 finished with value: 0.8391381849182359 and parameters: {'n_estimators': 8732, 'learning_rate': 0.0017735054640712212, 'reg_alpha': 4.018570225537734, 'reg_lambda': 6.716579767002099, 'num_leaves': 162, 'min_child_samples': 86, 'max_depth': 44, 'colsample_bytree': 0.2376454271918661, 'cat_smooth': 25, 'cat_l2': 13, 'min_data_per_group': 50}. Best is trial 79 with value: 0.8404763750032292.\u001b[0m\n",
      "\u001b[32m[I 2022-09-22 01:49:52,105]\u001b[0m Trial 122 finished with value: 0.840181869849389 and parameters: {'n_estimators': 8737, 'learning_rate': 0.00179209650766171, 'reg_alpha': 5.1576551772152985, 'reg_lambda': 6.364404465667996, 'num_leaves': 142, 'min_child_samples': 92, 'max_depth': 35, 'colsample_bytree': 0.26271379507047876, 'cat_smooth': 20, 'cat_l2': 11, 'min_data_per_group': 129}. Best is trial 79 with value: 0.8404763750032292.\u001b[0m\n",
      "\u001b[32m[I 2022-09-22 01:50:17,089]\u001b[0m Trial 123 finished with value: 0.8401521609961508 and parameters: {'n_estimators': 7732, 'learning_rate': 0.0014838082207427944, 'reg_alpha': 5.147011506610167, 'reg_lambda': 6.4102456209891105, 'num_leaves': 134, 'min_child_samples': 92, 'max_depth': 35, 'colsample_bytree': 0.2610590882907707, 'cat_smooth': 20, 'cat_l2': 11, 'min_data_per_group': 121}. Best is trial 79 with value: 0.8404763750032292.\u001b[0m\n",
      "\u001b[32m[I 2022-09-22 01:50:37,442]\u001b[0m Trial 124 finished with value: 0.8401482859283371 and parameters: {'n_estimators': 10142, 'learning_rate': 0.0025345064891378805, 'reg_alpha': 4.891021702022781, 'reg_lambda': 6.409438912715396, 'num_leaves': 312, 'min_child_samples': 91, 'max_depth': 40, 'colsample_bytree': 0.2566021457430705, 'cat_smooth': 19, 'cat_l2': 11, 'min_data_per_group': 122}. Best is trial 79 with value: 0.8404763750032292.\u001b[0m\n",
      "\u001b[32m[I 2022-09-22 01:50:49,464]\u001b[0m Trial 126 finished with value: 0.8384445477795861 and parameters: {'n_estimators': 7395, 'learning_rate': 0.033212965288010717, 'reg_alpha': 5.577208810955942, 'reg_lambda': 5.61145535326946, 'num_leaves': 351, 'min_child_samples': 95, 'max_depth': 33, 'colsample_bytree': 0.2427571577992134, 'cat_smooth': 28, 'cat_l2': 12, 'min_data_per_group': 130}. Best is trial 79 with value: 0.8404763750032292.\u001b[0m\n",
      "\u001b[32m[I 2022-09-22 01:50:53,816]\u001b[0m Trial 125 finished with value: 0.8401883282957453 and parameters: {'n_estimators': 8556, 'learning_rate': 0.002365494022163152, 'reg_alpha': 4.938994723226742, 'reg_lambda': 6.138013155314106, 'num_leaves': 315, 'min_child_samples': 96, 'max_depth': 33, 'colsample_bytree': 0.25256316137070883, 'cat_smooth': 19, 'cat_l2': 10, 'min_data_per_group': 120}. Best is trial 79 with value: 0.8404763750032292.\u001b[0m\n",
      "\u001b[32m[I 2022-09-22 01:51:25,828]\u001b[0m Trial 127 finished with value: 0.8399532408483814 and parameters: {'n_estimators': 8615, 'learning_rate': 0.003085309409259765, 'reg_alpha': 4.882112126944393, 'reg_lambda': 6.109570770174896, 'num_leaves': 199, 'min_child_samples': 89, 'max_depth': 31, 'colsample_bytree': 0.2755274865673541, 'cat_smooth': 21, 'cat_l2': 10, 'min_data_per_group': 133}. Best is trial 79 with value: 0.8404763750032292.\u001b[0m\n",
      "\u001b[32m[I 2022-09-22 01:51:46,905]\u001b[0m Trial 128 finished with value: 0.8394998579141801 and parameters: {'n_estimators': 8721, 'learning_rate': 0.0011392773487816958, 'reg_alpha': 4.397436702376677, 'reg_lambda': 6.160446697432357, 'num_leaves': 357, 'min_child_samples': 89, 'max_depth': 31, 'colsample_bytree': 0.2972866540704384, 'cat_smooth': 23, 'cat_l2': 10, 'min_data_per_group': 104}. Best is trial 79 with value: 0.8404763750032292.\u001b[0m\n",
      "\u001b[32m[I 2022-09-22 01:52:02,562]\u001b[0m Trial 129 finished with value: 0.8401056601823865 and parameters: {'n_estimators': 8070, 'learning_rate': 0.001142751819613696, 'reg_alpha': 5.808562286758371, 'reg_lambda': 7.021089297439854, 'num_leaves': 358, 'min_child_samples': 96, 'max_depth': 38, 'colsample_bytree': 0.2648081366124403, 'cat_smooth': 24, 'cat_l2': 10, 'min_data_per_group': 112}. Best is trial 79 with value: 0.8404763750032292.\u001b[0m\n",
      "\u001b[32m[I 2022-09-22 01:52:28,817]\u001b[0m Trial 130 finished with value: 0.8401973701206438 and parameters: {'n_estimators': 9195, 'learning_rate': 0.0018281457365023825, 'reg_alpha': 5.510190557034195, 'reg_lambda': 7.134031761500424, 'num_leaves': 136, 'min_child_samples': 97, 'max_depth': 37, 'colsample_bytree': 0.2523674477131833, 'cat_smooth': 17, 'cat_l2': 11, 'min_data_per_group': 119}. Best is trial 79 with value: 0.8404763750032292.\u001b[0m\n",
      "\u001b[32m[I 2022-09-22 01:52:34,052]\u001b[0m Trial 131 finished with value: 0.8396703608979823 and parameters: {'n_estimators': 9365, 'learning_rate': 0.0037036011448490225, 'reg_alpha': 5.510676813145337, 'reg_lambda': 7.306270642897492, 'num_leaves': 142, 'min_child_samples': 96, 'max_depth': 37, 'colsample_bytree': 0.25017553112801627, 'cat_smooth': 17, 'cat_l2': 9, 'min_data_per_group': 128}. Best is trial 79 with value: 0.8404763750032292.\u001b[0m\n",
      "\u001b[32m[I 2022-09-22 01:53:09,443]\u001b[0m Trial 132 finished with value: 0.8396664858301687 and parameters: {'n_estimators': 9236, 'learning_rate': 0.0019146833640449829, 'reg_alpha': 5.503436138254498, 'reg_lambda': 7.315555469850545, 'num_leaves': 145, 'min_child_samples': 97, 'max_depth': 37, 'colsample_bytree': 0.24737571893582008, 'cat_smooth': 19, 'cat_l2': 9, 'min_data_per_group': 119}. Best is trial 79 with value: 0.8404763750032292.\u001b[0m\n",
      "\u001b[32m[I 2022-09-22 01:53:14,084]\u001b[0m Trial 133 finished with value: 0.839656152315999 and parameters: {'n_estimators': 9081, 'learning_rate': 0.0019211630638687565, 'reg_alpha': 5.271421169749426, 'reg_lambda': 6.714728481808942, 'num_leaves': 111, 'min_child_samples': 98, 'max_depth': 39, 'colsample_bytree': 0.24399549661744818, 'cat_smooth': 20, 'cat_l2': 11, 'min_data_per_group': 120}. Best is trial 79 with value: 0.8404763750032292.\u001b[0m\n",
      "\u001b[32m[I 2022-09-22 01:53:48,991]\u001b[0m Trial 134 finished with value: 0.840103076803844 and parameters: {'n_estimators': 8338, 'learning_rate': 0.001522597908675268, 'reg_alpha': 5.251272089226938, 'reg_lambda': 9.97624987327193, 'num_leaves': 115, 'min_child_samples': 94, 'max_depth': 39, 'colsample_bytree': 0.25393401982949665, 'cat_smooth': 26, 'cat_l2': 11, 'min_data_per_group': 116}. Best is trial 79 with value: 0.8404763750032292.\u001b[0m\n",
      "\u001b[32m[I 2022-09-22 01:53:52,337]\u001b[0m Trial 135 finished with value: 0.8402916634374434 and parameters: {'n_estimators': 8535, 'learning_rate': 0.001527693583025173, 'reg_alpha': 6.1584599673992075, 'reg_lambda': 5.309702876690624, 'num_leaves': 289, 'min_child_samples': 94, 'max_depth': 33, 'colsample_bytree': 0.2652753236113533, 'cat_smooth': 26, 'cat_l2': 12, 'min_data_per_group': 115}. Best is trial 79 with value: 0.8404763750032292.\u001b[0m\n",
      "\u001b[32m[I 2022-09-22 01:54:23,854]\u001b[0m Trial 136 finished with value: 0.8400707845720634 and parameters: {'n_estimators': 6946, 'learning_rate': 0.0023311932035278973, 'reg_alpha': 4.735559153177794, 'reg_lambda': 6.322490342582674, 'num_leaves': 425, 'min_child_samples': 91, 'max_depth': 33, 'colsample_bytree': 0.26742865498149054, 'cat_smooth': 22, 'cat_l2': 12, 'min_data_per_group': 109}. Best is trial 79 with value: 0.8404763750032292.\u001b[0m\n",
      "\u001b[32m[I 2022-09-22 01:54:26,815]\u001b[0m Trial 137 finished with value: 0.8392570203311891 and parameters: {'n_estimators': 8346, 'learning_rate': 0.002310297493376443, 'reg_alpha': 6.3414251885720425, 'reg_lambda': 5.426103476296394, 'num_leaves': 276, 'min_child_samples': 91, 'max_depth': 33, 'colsample_bytree': 0.2279897115138162, 'cat_smooth': 17, 'cat_l2': 12, 'min_data_per_group': 107}. Best is trial 79 with value: 0.8404763750032292.\u001b[0m\n",
      "\u001b[32m[I 2022-09-22 01:54:58,090]\u001b[0m Trial 138 finished with value: 0.8394714407502131 and parameters: {'n_estimators': 7972, 'learning_rate': 0.0014574398853559288, 'reg_alpha': 6.138620488355781, 'reg_lambda': 5.254897580885418, 'num_leaves': 294, 'min_child_samples': 88, 'max_depth': 29, 'colsample_bytree': 0.2246172078468023, 'cat_smooth': 17, 'cat_l2': 12, 'min_data_per_group': 114}. Best is trial 79 with value: 0.8404763750032292.\u001b[0m\n",
      "\u001b[32m[I 2022-09-22 01:55:02,963]\u001b[0m Trial 139 finished with value: 0.8401999534991862 and parameters: {'n_estimators': 7933, 'learning_rate': 0.0014689402458754526, 'reg_alpha': 6.1431953906103605, 'reg_lambda': 4.507414914224502, 'num_leaves': 314, 'min_child_samples': 88, 'max_depth': 28, 'colsample_bytree': 0.2815586831340672, 'cat_smooth': 25, 'cat_l2': 14, 'min_data_per_group': 151}. Best is trial 79 with value: 0.8404763750032292.\u001b[0m\n",
      "\u001b[32m[I 2022-09-22 01:55:36,862]\u001b[0m Trial 141 finished with value: 0.8392131028959675 and parameters: {'n_estimators': 6550, 'learning_rate': 0.0012628172891000064, 'reg_alpha': 5.802756607757767, 'reg_lambda': 4.589822941337348, 'num_leaves': 248, 'min_child_samples': 87, 'max_depth': 28, 'colsample_bytree': 0.3187463385539372, 'cat_smooth': 66, 'cat_l2': 14, 'min_data_per_group': 158}. Best is trial 79 with value: 0.8404763750032292.\u001b[0m\n",
      "\u001b[32m[I 2022-09-22 01:55:39,978]\u001b[0m Trial 140 finished with value: 0.8402839133018161 and parameters: {'n_estimators': 9643, 'learning_rate': 0.0015770893839126218, 'reg_alpha': 5.815582402755411, 'reg_lambda': 4.590415242645984, 'num_leaves': 313, 'min_child_samples': 95, 'max_depth': 42, 'colsample_bytree': 0.28398377187722196, 'cat_smooth': 25, 'cat_l2': 10, 'min_data_per_group': 124}. Best is trial 79 with value: 0.8404763750032292.\u001b[0m\n",
      "\u001b[32m[I 2022-09-22 01:56:19,483]\u001b[0m Trial 142 finished with value: 0.8403329974941229 and parameters: {'n_estimators': 9646, 'learning_rate': 0.001600643753549017, 'reg_alpha': 6.03444814959275, 'reg_lambda': 4.074415754138102, 'num_leaves': 301, 'min_child_samples': 95, 'max_depth': 25, 'colsample_bytree': 0.281304615360056, 'cat_smooth': 25, 'cat_l2': 13, 'min_data_per_group': 151}. Best is trial 79 with value: 0.8404763750032292.\u001b[0m\n",
      "\u001b[32m[I 2022-09-22 01:56:21,201]\u001b[0m Trial 143 finished with value: 0.8403136221550543 and parameters: {'n_estimators': 9780, 'learning_rate': 0.0015396281192609942, 'reg_alpha': 6.072060398883085, 'reg_lambda': 4.182481024430381, 'num_leaves': 212, 'min_child_samples': 94, 'max_depth': 42, 'colsample_bytree': 0.28171009004459735, 'cat_smooth': 26, 'cat_l2': 13, 'min_data_per_group': 150}. Best is trial 79 with value: 0.8404763750032292.\u001b[0m\n",
      "\u001b[32m[I 2022-09-22 01:57:04,567]\u001b[0m Trial 144 finished with value: 0.8403937068898706 and parameters: {'n_estimators': 10140, 'learning_rate': 0.0015612392220354502, 'reg_alpha': 5.874447477202547, 'reg_lambda': 4.09126138911383, 'num_leaves': 329, 'min_child_samples': 90, 'max_depth': 26, 'colsample_bytree': 0.2954084849070572, 'cat_smooth': 28, 'cat_l2': 12, 'min_data_per_group': 153}. Best is trial 79 with value: 0.8404763750032292.\u001b[0m\n",
      "\u001b[32m[I 2022-09-22 01:57:07,464]\u001b[0m Trial 145 finished with value: 0.8403730398615309 and parameters: {'n_estimators': 10195, 'learning_rate': 0.0010029423688175706, 'reg_alpha': 6.001267014391784, 'reg_lambda': 4.128837774235393, 'num_leaves': 265, 'min_child_samples': 94, 'max_depth': 42, 'colsample_bytree': 0.2897400984558821, 'cat_smooth': 31, 'cat_l2': 13, 'min_data_per_group': 148}. Best is trial 79 with value: 0.8404763750032292.\u001b[0m\n",
      "\u001b[32m[I 2022-09-22 01:57:52,670]\u001b[0m Trial 147 finished with value: 0.840379498307887 and parameters: {'n_estimators': 10225, 'learning_rate': 0.0010088268462381841, 'reg_alpha': 6.432846789802401, 'reg_lambda': 4.145253393789388, 'num_leaves': 335, 'min_child_samples': 94, 'max_depth': 24, 'colsample_bytree': 0.29382494281726673, 'cat_smooth': 31, 'cat_l2': 13, 'min_data_per_group': 156}. Best is trial 79 with value: 0.8404763750032292.\u001b[0m\n",
      "\u001b[32m[I 2022-09-22 01:57:54,181]\u001b[0m Trial 146 finished with value: 0.8392712289131727 and parameters: {'n_estimators': 10773, 'learning_rate': 0.0016127163411341191, 'reg_alpha': 6.472099748644758, 'reg_lambda': 4.1235550165310775, 'num_leaves': 336, 'min_child_samples': 94, 'max_depth': 24, 'colsample_bytree': 0.29605647753929054, 'cat_smooth': 28, 'cat_l2': 13, 'min_data_per_group': 148}. Best is trial 79 with value: 0.8404763750032292.\u001b[0m\n",
      "\u001b[32m[I 2022-09-22 01:58:38,134]\u001b[0m Trial 148 finished with value: 0.8402180371489835 and parameters: {'n_estimators': 10619, 'learning_rate': 0.0012472836734106925, 'reg_alpha': 6.752713265072105, 'reg_lambda': 3.758974784063349, 'num_leaves': 375, 'min_child_samples': 94, 'max_depth': 23, 'colsample_bytree': 0.2951742933303472, 'cat_smooth': 31, 'cat_l2': 13, 'min_data_per_group': 156}. Best is trial 79 with value: 0.8404763750032292.\u001b[0m\n",
      "\u001b[32m[I 2022-09-22 01:58:41,867]\u001b[0m Trial 149 finished with value: 0.8393603554728875 and parameters: {'n_estimators': 11168, 'learning_rate': 0.001282036699220692, 'reg_alpha': 6.744806472297391, 'reg_lambda': 3.2774047605009313, 'num_leaves': 382, 'min_child_samples': 94, 'max_depth': 21, 'colsample_bytree': 0.30535537833008347, 'cat_smooth': 31, 'cat_l2': 15, 'min_data_per_group': 156}. Best is trial 79 with value: 0.8404763750032292.\u001b[0m\n"
     ]
    },
    {
     "data": {
      "text/markdown": [
       "**BEST TRIAL**"
      ],
      "text/plain": [
       "<IPython.core.display.Markdown object>"
      ]
     },
     "metadata": {},
     "output_type": "display_data"
    },
    {
     "name": "stdout",
     "output_type": "stream",
     "text": [
      "Best Score:  0.8404763750032292\n"
     ]
    },
    {
     "data": {
      "text/markdown": [
       "**LGBM Tuned Hyperparameters**"
      ],
      "text/plain": [
       "<IPython.core.display.Markdown object>"
      ]
     },
     "metadata": {},
     "output_type": "display_data"
    },
    {
     "name": "stdout",
     "output_type": "stream",
     "text": [
      "{'cat_l2': 20,\n",
      " 'cat_smooth': 22,\n",
      " 'colsample_bytree': 0.2666184528774462,\n",
      " 'learning_rate': 0.0019346874942038936,\n",
      " 'max_depth': 34,\n",
      " 'min_child_samples': 90,\n",
      " 'min_data_per_group': 153,\n",
      " 'n_estimators': 7082,\n",
      " 'num_leaves': 277,\n",
      " 'reg_alpha': 4.562948968438817,\n",
      " 'reg_lambda': 5.782022147996157}\n",
      "CPU times: user 1h 11min 13s, sys: 12min 47s, total: 1h 24min 1s\n",
      "Wall time: 44min 51s\n"
     ]
    }
   ],
   "source": [
    "%%time\n",
    "n_trials = int(150)\n",
    "\n",
    "# set logging level\n",
    "# optuna.logging.set_verbosity(optuna_verbosity)\n",
    "\n",
    "study = optuna.create_study(direction = \"maximize\", sampler = optuna.samplers.TPESampler(seed=int(SEED)))\n",
    "study.optimize(objective, n_trials = n_trials, n_jobs = multiprocessing.cpu_count())\n",
    "\n",
    "printmd('**BEST TRIAL**')\n",
    "print(\"Best Score: \", study.best_value)\n",
    "printmd('**LGBM Tuned Hyperparameters**')\n",
    "pprint.pprint(study.best_trial.params)"
   ]
  },
  {
   "cell_type": "code",
   "execution_count": 24,
   "id": "021ea56b",
   "metadata": {
    "execution": {
     "iopub.execute_input": "2022-09-22T01:58:42.322700Z",
     "iopub.status.busy": "2022-09-22T01:58:42.321873Z",
     "iopub.status.idle": "2022-09-22T01:58:47.913157Z",
     "shell.execute_reply": "2022-09-22T01:58:47.913580Z",
     "shell.execute_reply.started": "2022-04-25T19:35:59.845922Z"
    },
    "id": "F0svFmvYe_a1",
    "outputId": "7695810e-dfce-41f7-c85e-8e5922b4760b",
    "papermill": {
     "duration": 5.808495,
     "end_time": "2022-09-22T01:58:47.913747",
     "exception": false,
     "start_time": "2022-09-22T01:58:42.105252",
     "status": "completed"
    },
    "tags": []
   },
   "outputs": [
    {
     "name": "stdout",
     "output_type": "stream",
     "text": [
      "Best Score:  0.8404763750032292\n"
     ]
    },
    {
     "data": {
      "text/markdown": [
       "**LGBM Tuned Hyperparameters**"
      ],
      "text/plain": [
       "<IPython.core.display.Markdown object>"
      ]
     },
     "metadata": {},
     "output_type": "display_data"
    },
    {
     "name": "stdout",
     "output_type": "stream",
     "text": [
      "{'cat_l2': 20,\n",
      " 'cat_smooth': 22,\n",
      " 'colsample_bytree': 0.2666184528774462,\n",
      " 'learning_rate': 0.0019346874942038936,\n",
      " 'max_depth': 34,\n",
      " 'min_child_samples': 90,\n",
      " 'min_data_per_group': 153,\n",
      " 'n_estimators': 7082,\n",
      " 'num_leaves': 277,\n",
      " 'reg_alpha': 4.562948968438817,\n",
      " 'reg_lambda': 5.782022147996157}\n"
     ]
    },
    {
     "data": {
      "application/vnd.plotly.v1+json": {
       "config": {
        "plotlyServerURL": "https://plot.ly"
       },
       "data": [
        {
         "mode": "markers",
         "name": "Objective Value",
         "type": "scatter",
         "x": [
          0,
          1,
          2,
          3,
          4,
          5,
          6,
          7,
          8,
          9,
          10,
          11,
          12,
          13,
          14,
          15,
          16,
          17,
          18,
          19,
          20,
          21,
          22,
          23,
          24,
          25,
          26,
          27,
          28,
          29,
          30,
          31,
          32,
          33,
          34,
          35,
          36,
          37,
          38,
          39,
          40,
          41,
          42,
          43,
          44,
          45,
          46,
          47,
          48,
          49,
          50,
          51,
          52,
          53,
          54,
          55,
          56,
          57,
          58,
          59,
          60,
          61,
          62,
          63,
          64,
          65,
          66,
          67,
          68,
          69,
          70,
          71,
          72,
          73,
          74,
          75,
          76,
          77,
          78,
          79,
          80,
          81,
          82,
          83,
          84,
          85,
          86,
          87,
          88,
          89,
          90,
          91,
          92,
          93,
          94,
          95,
          96,
          97,
          98,
          99,
          100,
          101,
          102,
          103,
          104,
          105,
          106,
          107,
          108,
          109,
          110,
          111,
          112,
          113,
          114,
          115,
          116,
          117,
          118,
          119,
          120,
          121,
          122,
          123,
          124,
          125,
          126,
          127,
          128,
          129,
          130,
          131,
          132,
          133,
          134,
          135,
          136,
          137,
          138,
          139,
          140,
          141,
          142,
          143,
          144,
          145,
          146,
          147,
          148,
          149
         ],
         "y": [
          0.8298315637190317,
          0.8383967552765507,
          0.8340024283758299,
          0.8241300472758274,
          0.8275633573587539,
          0.8113371567335761,
          0.8402141620811697,
          0.8393228964840218,
          0.8352747423079905,
          0.8240112118628741,
          0.8397452788757136,
          0.8396367769769305,
          0.8356002480043401,
          0.8391356015396936,
          0.8390516417370637,
          0.8383463793949727,
          0.8360962566844921,
          0.8381965434395102,
          0.8386990105660183,
          0.8394546487896871,
          0.8394236482471776,
          0.8392712289131727,
          0.839374564054871,
          0.8386602598878815,
          0.8390064326125708,
          0.8387945955720892,
          0.8391821023534579,
          0.8395205249425198,
          0.8394985662249089,
          0.8390671420083184,
          0.8300434007595133,
          0.8382662946601567,
          0.8395502337957581,
          0.8398150300963602,
          0.8399855330801621,
          0.8388643467927356,
          0.8398511973959545,
          0.8397569040791547,
          0.8396755276550674,
          0.8388307628716835,
          0.8380428324162338,
          0.8365380144152523,
          0.839555400552843,
          0.8391407682967786,
          0.836908729236095,
          0.8391653103929319,
          0.8392415200599344,
          0.8393590637836161,
          0.8383295874344469,
          0.8392789790488,
          0.8389896406520447,
          0.8361840915549354,
          0.8393190214162081,
          0.8387984706399028,
          0.8389883489627735,
          0.8396781110336098,
          0.8391175178898964,
          0.8391536851894908,
          0.8390723087654034,
          0.8391963109354413,
          0.8389986824769433,
          0.8389857655842311,
          0.8398111550285463,
          0.8400849931540469,
          0.8399209486166008,
          0.8402012451884575,
          0.8400669095042496,
          0.8394921077785528,
          0.8395269833888759,
          0.839634193598388,
          0.8391511018109483,
          0.8382779198635976,
          0.8401676612674054,
          0.8400992017360304,
          0.8370056059314372,
          0.8401211604536413,
          0.8400281588261129,
          0.8396277351520318,
          0.8396897362370508,
          0.8404763750032292,
          0.8402632462734765,
          0.8363029269678887,
          0.840232245730967,
          0.8399299904414994,
          0.8396199850164043,
          0.8399532408483816,
          0.8397698209718669,
          0.8391523935002196,
          0.8390232245730966,
          0.8393151463483943,
          0.8393668139192436,
          0.839255728641918,
          0.8401469942390658,
          0.8402451626236791,
          0.8399493657805679,
          0.8402399958665943,
          0.8399764912552635,
          0.8393112712805808,
          0.8393190214162082,
          0.8396290268413031,
          0.8398124467178175,
          0.8401263272107261,
          0.8401767030923042,
          0.8367950605802267,
          0.8399480740912966,
          0.8402464543129504,
          0.8402800382340024,
          0.8399984499728743,
          0.8393280632411068,
          0.8390852256581157,
          0.8393073962127671,
          0.8388475548322095,
          0.8389586401095354,
          0.8403937068898706,
          0.840243870934408,
          0.8400875765325894,
          0.8394598155467722,
          0.8392828541166137,
          0.8385685499496243,
          0.8394740241287557,
          0.8399687411196363,
          0.8391381849182359,
          0.840181869849389,
          0.8401521609961508,
          0.8401482859283371,
          0.8401883282957453,
          0.8384445477795861,
          0.8399532408483814,
          0.8394998579141801,
          0.8401056601823865,
          0.8401973701206438,
          0.8396703608979823,
          0.8396664858301687,
          0.839656152315999,
          0.840103076803844,
          0.8402916634374434,
          0.8400707845720634,
          0.8392570203311891,
          0.8394714407502131,
          0.8401999534991862,
          0.8402839133018161,
          0.8392131028959675,
          0.8403329974941229,
          0.8403136221550543,
          0.8403937068898706,
          0.8403730398615309,
          0.8392712289131727,
          0.840379498307887,
          0.8402180371489835,
          0.8393603554728875
         ]
        },
        {
         "name": "Best Value",
         "type": "scatter",
         "x": [
          0,
          1,
          2,
          3,
          4,
          5,
          6,
          7,
          8,
          9,
          10,
          11,
          12,
          13,
          14,
          15,
          16,
          17,
          18,
          19,
          20,
          21,
          22,
          23,
          24,
          25,
          26,
          27,
          28,
          29,
          30,
          31,
          32,
          33,
          34,
          35,
          36,
          37,
          38,
          39,
          40,
          41,
          42,
          43,
          44,
          45,
          46,
          47,
          48,
          49,
          50,
          51,
          52,
          53,
          54,
          55,
          56,
          57,
          58,
          59,
          60,
          61,
          62,
          63,
          64,
          65,
          66,
          67,
          68,
          69,
          70,
          71,
          72,
          73,
          74,
          75,
          76,
          77,
          78,
          79,
          80,
          81,
          82,
          83,
          84,
          85,
          86,
          87,
          88,
          89,
          90,
          91,
          92,
          93,
          94,
          95,
          96,
          97,
          98,
          99,
          100,
          101,
          102,
          103,
          104,
          105,
          106,
          107,
          108,
          109,
          110,
          111,
          112,
          113,
          114,
          115,
          116,
          117,
          118,
          119,
          120,
          121,
          122,
          123,
          124,
          125,
          126,
          127,
          128,
          129,
          130,
          131,
          132,
          133,
          134,
          135,
          136,
          137,
          138,
          139,
          140,
          141,
          142,
          143,
          144,
          145,
          146,
          147,
          148,
          149
         ],
         "y": [
          0.8298315637190317,
          0.8383967552765507,
          0.8383967552765507,
          0.8383967552765507,
          0.8383967552765507,
          0.8383967552765507,
          0.8402141620811697,
          0.8402141620811697,
          0.8402141620811697,
          0.8402141620811697,
          0.8402141620811697,
          0.8402141620811697,
          0.8402141620811697,
          0.8402141620811697,
          0.8402141620811697,
          0.8402141620811697,
          0.8402141620811697,
          0.8402141620811697,
          0.8402141620811697,
          0.8402141620811697,
          0.8402141620811697,
          0.8402141620811697,
          0.8402141620811697,
          0.8402141620811697,
          0.8402141620811697,
          0.8402141620811697,
          0.8402141620811697,
          0.8402141620811697,
          0.8402141620811697,
          0.8402141620811697,
          0.8402141620811697,
          0.8402141620811697,
          0.8402141620811697,
          0.8402141620811697,
          0.8402141620811697,
          0.8402141620811697,
          0.8402141620811697,
          0.8402141620811697,
          0.8402141620811697,
          0.8402141620811697,
          0.8402141620811697,
          0.8402141620811697,
          0.8402141620811697,
          0.8402141620811697,
          0.8402141620811697,
          0.8402141620811697,
          0.8402141620811697,
          0.8402141620811697,
          0.8402141620811697,
          0.8402141620811697,
          0.8402141620811697,
          0.8402141620811697,
          0.8402141620811697,
          0.8402141620811697,
          0.8402141620811697,
          0.8402141620811697,
          0.8402141620811697,
          0.8402141620811697,
          0.8402141620811697,
          0.8402141620811697,
          0.8402141620811697,
          0.8402141620811697,
          0.8402141620811697,
          0.8402141620811697,
          0.8402141620811697,
          0.8402141620811697,
          0.8402141620811697,
          0.8402141620811697,
          0.8402141620811697,
          0.8402141620811697,
          0.8402141620811697,
          0.8402141620811697,
          0.8402141620811697,
          0.8402141620811697,
          0.8402141620811697,
          0.8402141620811697,
          0.8402141620811697,
          0.8402141620811697,
          0.8402141620811697,
          0.8404763750032292,
          0.8404763750032292,
          0.8404763750032292,
          0.8404763750032292,
          0.8404763750032292,
          0.8404763750032292,
          0.8404763750032292,
          0.8404763750032292,
          0.8404763750032292,
          0.8404763750032292,
          0.8404763750032292,
          0.8404763750032292,
          0.8404763750032292,
          0.8404763750032292,
          0.8404763750032292,
          0.8404763750032292,
          0.8404763750032292,
          0.8404763750032292,
          0.8404763750032292,
          0.8404763750032292,
          0.8404763750032292,
          0.8404763750032292,
          0.8404763750032292,
          0.8404763750032292,
          0.8404763750032292,
          0.8404763750032292,
          0.8404763750032292,
          0.8404763750032292,
          0.8404763750032292,
          0.8404763750032292,
          0.8404763750032292,
          0.8404763750032292,
          0.8404763750032292,
          0.8404763750032292,
          0.8404763750032292,
          0.8404763750032292,
          0.8404763750032292,
          0.8404763750032292,
          0.8404763750032292,
          0.8404763750032292,
          0.8404763750032292,
          0.8404763750032292,
          0.8404763750032292,
          0.8404763750032292,
          0.8404763750032292,
          0.8404763750032292,
          0.8404763750032292,
          0.8404763750032292,
          0.8404763750032292,
          0.8404763750032292,
          0.8404763750032292,
          0.8404763750032292,
          0.8404763750032292,
          0.8404763750032292,
          0.8404763750032292,
          0.8404763750032292,
          0.8404763750032292,
          0.8404763750032292,
          0.8404763750032292,
          0.8404763750032292,
          0.8404763750032292,
          0.8404763750032292,
          0.8404763750032292,
          0.8404763750032292,
          0.8404763750032292,
          0.8404763750032292,
          0.8404763750032292,
          0.8404763750032292,
          0.8404763750032292,
          0.8404763750032292,
          0.8404763750032292
         ]
        }
       ],
       "layout": {
        "template": {
         "data": {
          "bar": [
           {
            "error_x": {
             "color": "#2a3f5f"
            },
            "error_y": {
             "color": "#2a3f5f"
            },
            "marker": {
             "line": {
              "color": "#E5ECF6",
              "width": 0.5
             },
             "pattern": {
              "fillmode": "overlay",
              "size": 10,
              "solidity": 0.2
             }
            },
            "type": "bar"
           }
          ],
          "barpolar": [
           {
            "marker": {
             "line": {
              "color": "#E5ECF6",
              "width": 0.5
             },
             "pattern": {
              "fillmode": "overlay",
              "size": 10,
              "solidity": 0.2
             }
            },
            "type": "barpolar"
           }
          ],
          "carpet": [
           {
            "aaxis": {
             "endlinecolor": "#2a3f5f",
             "gridcolor": "white",
             "linecolor": "white",
             "minorgridcolor": "white",
             "startlinecolor": "#2a3f5f"
            },
            "baxis": {
             "endlinecolor": "#2a3f5f",
             "gridcolor": "white",
             "linecolor": "white",
             "minorgridcolor": "white",
             "startlinecolor": "#2a3f5f"
            },
            "type": "carpet"
           }
          ],
          "choropleth": [
           {
            "colorbar": {
             "outlinewidth": 0,
             "ticks": ""
            },
            "type": "choropleth"
           }
          ],
          "contour": [
           {
            "colorbar": {
             "outlinewidth": 0,
             "ticks": ""
            },
            "colorscale": [
             [
              0,
              "#0d0887"
             ],
             [
              0.1111111111111111,
              "#46039f"
             ],
             [
              0.2222222222222222,
              "#7201a8"
             ],
             [
              0.3333333333333333,
              "#9c179e"
             ],
             [
              0.4444444444444444,
              "#bd3786"
             ],
             [
              0.5555555555555556,
              "#d8576b"
             ],
             [
              0.6666666666666666,
              "#ed7953"
             ],
             [
              0.7777777777777778,
              "#fb9f3a"
             ],
             [
              0.8888888888888888,
              "#fdca26"
             ],
             [
              1,
              "#f0f921"
             ]
            ],
            "type": "contour"
           }
          ],
          "contourcarpet": [
           {
            "colorbar": {
             "outlinewidth": 0,
             "ticks": ""
            },
            "type": "contourcarpet"
           }
          ],
          "heatmap": [
           {
            "colorbar": {
             "outlinewidth": 0,
             "ticks": ""
            },
            "colorscale": [
             [
              0,
              "#0d0887"
             ],
             [
              0.1111111111111111,
              "#46039f"
             ],
             [
              0.2222222222222222,
              "#7201a8"
             ],
             [
              0.3333333333333333,
              "#9c179e"
             ],
             [
              0.4444444444444444,
              "#bd3786"
             ],
             [
              0.5555555555555556,
              "#d8576b"
             ],
             [
              0.6666666666666666,
              "#ed7953"
             ],
             [
              0.7777777777777778,
              "#fb9f3a"
             ],
             [
              0.8888888888888888,
              "#fdca26"
             ],
             [
              1,
              "#f0f921"
             ]
            ],
            "type": "heatmap"
           }
          ],
          "heatmapgl": [
           {
            "colorbar": {
             "outlinewidth": 0,
             "ticks": ""
            },
            "colorscale": [
             [
              0,
              "#0d0887"
             ],
             [
              0.1111111111111111,
              "#46039f"
             ],
             [
              0.2222222222222222,
              "#7201a8"
             ],
             [
              0.3333333333333333,
              "#9c179e"
             ],
             [
              0.4444444444444444,
              "#bd3786"
             ],
             [
              0.5555555555555556,
              "#d8576b"
             ],
             [
              0.6666666666666666,
              "#ed7953"
             ],
             [
              0.7777777777777778,
              "#fb9f3a"
             ],
             [
              0.8888888888888888,
              "#fdca26"
             ],
             [
              1,
              "#f0f921"
             ]
            ],
            "type": "heatmapgl"
           }
          ],
          "histogram": [
           {
            "marker": {
             "pattern": {
              "fillmode": "overlay",
              "size": 10,
              "solidity": 0.2
             }
            },
            "type": "histogram"
           }
          ],
          "histogram2d": [
           {
            "colorbar": {
             "outlinewidth": 0,
             "ticks": ""
            },
            "colorscale": [
             [
              0,
              "#0d0887"
             ],
             [
              0.1111111111111111,
              "#46039f"
             ],
             [
              0.2222222222222222,
              "#7201a8"
             ],
             [
              0.3333333333333333,
              "#9c179e"
             ],
             [
              0.4444444444444444,
              "#bd3786"
             ],
             [
              0.5555555555555556,
              "#d8576b"
             ],
             [
              0.6666666666666666,
              "#ed7953"
             ],
             [
              0.7777777777777778,
              "#fb9f3a"
             ],
             [
              0.8888888888888888,
              "#fdca26"
             ],
             [
              1,
              "#f0f921"
             ]
            ],
            "type": "histogram2d"
           }
          ],
          "histogram2dcontour": [
           {
            "colorbar": {
             "outlinewidth": 0,
             "ticks": ""
            },
            "colorscale": [
             [
              0,
              "#0d0887"
             ],
             [
              0.1111111111111111,
              "#46039f"
             ],
             [
              0.2222222222222222,
              "#7201a8"
             ],
             [
              0.3333333333333333,
              "#9c179e"
             ],
             [
              0.4444444444444444,
              "#bd3786"
             ],
             [
              0.5555555555555556,
              "#d8576b"
             ],
             [
              0.6666666666666666,
              "#ed7953"
             ],
             [
              0.7777777777777778,
              "#fb9f3a"
             ],
             [
              0.8888888888888888,
              "#fdca26"
             ],
             [
              1,
              "#f0f921"
             ]
            ],
            "type": "histogram2dcontour"
           }
          ],
          "mesh3d": [
           {
            "colorbar": {
             "outlinewidth": 0,
             "ticks": ""
            },
            "type": "mesh3d"
           }
          ],
          "parcoords": [
           {
            "line": {
             "colorbar": {
              "outlinewidth": 0,
              "ticks": ""
             }
            },
            "type": "parcoords"
           }
          ],
          "pie": [
           {
            "automargin": true,
            "type": "pie"
           }
          ],
          "scatter": [
           {
            "marker": {
             "colorbar": {
              "outlinewidth": 0,
              "ticks": ""
             }
            },
            "type": "scatter"
           }
          ],
          "scatter3d": [
           {
            "line": {
             "colorbar": {
              "outlinewidth": 0,
              "ticks": ""
             }
            },
            "marker": {
             "colorbar": {
              "outlinewidth": 0,
              "ticks": ""
             }
            },
            "type": "scatter3d"
           }
          ],
          "scattercarpet": [
           {
            "marker": {
             "colorbar": {
              "outlinewidth": 0,
              "ticks": ""
             }
            },
            "type": "scattercarpet"
           }
          ],
          "scattergeo": [
           {
            "marker": {
             "colorbar": {
              "outlinewidth": 0,
              "ticks": ""
             }
            },
            "type": "scattergeo"
           }
          ],
          "scattergl": [
           {
            "marker": {
             "colorbar": {
              "outlinewidth": 0,
              "ticks": ""
             }
            },
            "type": "scattergl"
           }
          ],
          "scattermapbox": [
           {
            "marker": {
             "colorbar": {
              "outlinewidth": 0,
              "ticks": ""
             }
            },
            "type": "scattermapbox"
           }
          ],
          "scatterpolar": [
           {
            "marker": {
             "colorbar": {
              "outlinewidth": 0,
              "ticks": ""
             }
            },
            "type": "scatterpolar"
           }
          ],
          "scatterpolargl": [
           {
            "marker": {
             "colorbar": {
              "outlinewidth": 0,
              "ticks": ""
             }
            },
            "type": "scatterpolargl"
           }
          ],
          "scatterternary": [
           {
            "marker": {
             "colorbar": {
              "outlinewidth": 0,
              "ticks": ""
             }
            },
            "type": "scatterternary"
           }
          ],
          "surface": [
           {
            "colorbar": {
             "outlinewidth": 0,
             "ticks": ""
            },
            "colorscale": [
             [
              0,
              "#0d0887"
             ],
             [
              0.1111111111111111,
              "#46039f"
             ],
             [
              0.2222222222222222,
              "#7201a8"
             ],
             [
              0.3333333333333333,
              "#9c179e"
             ],
             [
              0.4444444444444444,
              "#bd3786"
             ],
             [
              0.5555555555555556,
              "#d8576b"
             ],
             [
              0.6666666666666666,
              "#ed7953"
             ],
             [
              0.7777777777777778,
              "#fb9f3a"
             ],
             [
              0.8888888888888888,
              "#fdca26"
             ],
             [
              1,
              "#f0f921"
             ]
            ],
            "type": "surface"
           }
          ],
          "table": [
           {
            "cells": {
             "fill": {
              "color": "#EBF0F8"
             },
             "line": {
              "color": "white"
             }
            },
            "header": {
             "fill": {
              "color": "#C8D4E3"
             },
             "line": {
              "color": "white"
             }
            },
            "type": "table"
           }
          ]
         },
         "layout": {
          "annotationdefaults": {
           "arrowcolor": "#2a3f5f",
           "arrowhead": 0,
           "arrowwidth": 1
          },
          "autotypenumbers": "strict",
          "coloraxis": {
           "colorbar": {
            "outlinewidth": 0,
            "ticks": ""
           }
          },
          "colorscale": {
           "diverging": [
            [
             0,
             "#8e0152"
            ],
            [
             0.1,
             "#c51b7d"
            ],
            [
             0.2,
             "#de77ae"
            ],
            [
             0.3,
             "#f1b6da"
            ],
            [
             0.4,
             "#fde0ef"
            ],
            [
             0.5,
             "#f7f7f7"
            ],
            [
             0.6,
             "#e6f5d0"
            ],
            [
             0.7,
             "#b8e186"
            ],
            [
             0.8,
             "#7fbc41"
            ],
            [
             0.9,
             "#4d9221"
            ],
            [
             1,
             "#276419"
            ]
           ],
           "sequential": [
            [
             0,
             "#0d0887"
            ],
            [
             0.1111111111111111,
             "#46039f"
            ],
            [
             0.2222222222222222,
             "#7201a8"
            ],
            [
             0.3333333333333333,
             "#9c179e"
            ],
            [
             0.4444444444444444,
             "#bd3786"
            ],
            [
             0.5555555555555556,
             "#d8576b"
            ],
            [
             0.6666666666666666,
             "#ed7953"
            ],
            [
             0.7777777777777778,
             "#fb9f3a"
            ],
            [
             0.8888888888888888,
             "#fdca26"
            ],
            [
             1,
             "#f0f921"
            ]
           ],
           "sequentialminus": [
            [
             0,
             "#0d0887"
            ],
            [
             0.1111111111111111,
             "#46039f"
            ],
            [
             0.2222222222222222,
             "#7201a8"
            ],
            [
             0.3333333333333333,
             "#9c179e"
            ],
            [
             0.4444444444444444,
             "#bd3786"
            ],
            [
             0.5555555555555556,
             "#d8576b"
            ],
            [
             0.6666666666666666,
             "#ed7953"
            ],
            [
             0.7777777777777778,
             "#fb9f3a"
            ],
            [
             0.8888888888888888,
             "#fdca26"
            ],
            [
             1,
             "#f0f921"
            ]
           ]
          },
          "colorway": [
           "#636efa",
           "#EF553B",
           "#00cc96",
           "#ab63fa",
           "#FFA15A",
           "#19d3f3",
           "#FF6692",
           "#B6E880",
           "#FF97FF",
           "#FECB52"
          ],
          "font": {
           "color": "#2a3f5f"
          },
          "geo": {
           "bgcolor": "white",
           "lakecolor": "white",
           "landcolor": "#E5ECF6",
           "showlakes": true,
           "showland": true,
           "subunitcolor": "white"
          },
          "hoverlabel": {
           "align": "left"
          },
          "hovermode": "closest",
          "mapbox": {
           "style": "light"
          },
          "paper_bgcolor": "white",
          "plot_bgcolor": "#E5ECF6",
          "polar": {
           "angularaxis": {
            "gridcolor": "white",
            "linecolor": "white",
            "ticks": ""
           },
           "bgcolor": "#E5ECF6",
           "radialaxis": {
            "gridcolor": "white",
            "linecolor": "white",
            "ticks": ""
           }
          },
          "scene": {
           "xaxis": {
            "backgroundcolor": "#E5ECF6",
            "gridcolor": "white",
            "gridwidth": 2,
            "linecolor": "white",
            "showbackground": true,
            "ticks": "",
            "zerolinecolor": "white"
           },
           "yaxis": {
            "backgroundcolor": "#E5ECF6",
            "gridcolor": "white",
            "gridwidth": 2,
            "linecolor": "white",
            "showbackground": true,
            "ticks": "",
            "zerolinecolor": "white"
           },
           "zaxis": {
            "backgroundcolor": "#E5ECF6",
            "gridcolor": "white",
            "gridwidth": 2,
            "linecolor": "white",
            "showbackground": true,
            "ticks": "",
            "zerolinecolor": "white"
           }
          },
          "shapedefaults": {
           "line": {
            "color": "#2a3f5f"
           }
          },
          "ternary": {
           "aaxis": {
            "gridcolor": "white",
            "linecolor": "white",
            "ticks": ""
           },
           "baxis": {
            "gridcolor": "white",
            "linecolor": "white",
            "ticks": ""
           },
           "bgcolor": "#E5ECF6",
           "caxis": {
            "gridcolor": "white",
            "linecolor": "white",
            "ticks": ""
           }
          },
          "title": {
           "x": 0.05
          },
          "xaxis": {
           "automargin": true,
           "gridcolor": "white",
           "linecolor": "white",
           "ticks": "",
           "title": {
            "standoff": 15
           },
           "zerolinecolor": "white",
           "zerolinewidth": 2
          },
          "yaxis": {
           "automargin": true,
           "gridcolor": "white",
           "linecolor": "white",
           "ticks": "",
           "title": {
            "standoff": 15
           },
           "zerolinecolor": "white",
           "zerolinewidth": 2
          }
         }
        },
        "title": {
         "text": "Optimization History Plot"
        },
        "xaxis": {
         "title": {
          "text": "#Trials"
         }
        },
        "yaxis": {
         "title": {
          "text": "Objective Value"
         }
        }
       }
      },
      "text/html": [
       "<div>                            <div id=\"e9485568-fecd-4558-b984-43a8a5d5e537\" class=\"plotly-graph-div\" style=\"height:525px; width:100%;\"></div>            <script type=\"text/javascript\">                require([\"plotly\"], function(Plotly) {                    window.PLOTLYENV=window.PLOTLYENV || {};                                    if (document.getElementById(\"e9485568-fecd-4558-b984-43a8a5d5e537\")) {                    Plotly.newPlot(                        \"e9485568-fecd-4558-b984-43a8a5d5e537\",                        [{\"mode\":\"markers\",\"name\":\"Objective Value\",\"type\":\"scatter\",\"x\":[0,1,2,3,4,5,6,7,8,9,10,11,12,13,14,15,16,17,18,19,20,21,22,23,24,25,26,27,28,29,30,31,32,33,34,35,36,37,38,39,40,41,42,43,44,45,46,47,48,49,50,51,52,53,54,55,56,57,58,59,60,61,62,63,64,65,66,67,68,69,70,71,72,73,74,75,76,77,78,79,80,81,82,83,84,85,86,87,88,89,90,91,92,93,94,95,96,97,98,99,100,101,102,103,104,105,106,107,108,109,110,111,112,113,114,115,116,117,118,119,120,121,122,123,124,125,126,127,128,129,130,131,132,133,134,135,136,137,138,139,140,141,142,143,144,145,146,147,148,149],\"y\":[0.8298315637190317,0.8383967552765507,0.8340024283758299,0.8241300472758274,0.8275633573587539,0.8113371567335761,0.8402141620811697,0.8393228964840218,0.8352747423079905,0.8240112118628741,0.8397452788757136,0.8396367769769305,0.8356002480043401,0.8391356015396936,0.8390516417370637,0.8383463793949727,0.8360962566844921,0.8381965434395102,0.8386990105660183,0.8394546487896871,0.8394236482471776,0.8392712289131727,0.839374564054871,0.8386602598878815,0.8390064326125708,0.8387945955720892,0.8391821023534579,0.8395205249425198,0.8394985662249089,0.8390671420083184,0.8300434007595133,0.8382662946601567,0.8395502337957581,0.8398150300963602,0.8399855330801621,0.8388643467927356,0.8398511973959545,0.8397569040791547,0.8396755276550674,0.8388307628716835,0.8380428324162338,0.8365380144152523,0.839555400552843,0.8391407682967786,0.836908729236095,0.8391653103929319,0.8392415200599344,0.8393590637836161,0.8383295874344469,0.8392789790488,0.8389896406520447,0.8361840915549354,0.8393190214162081,0.8387984706399028,0.8389883489627735,0.8396781110336098,0.8391175178898964,0.8391536851894908,0.8390723087654034,0.8391963109354413,0.8389986824769433,0.8389857655842311,0.8398111550285463,0.8400849931540469,0.8399209486166008,0.8402012451884575,0.8400669095042496,0.8394921077785528,0.8395269833888759,0.839634193598388,0.8391511018109483,0.8382779198635976,0.8401676612674054,0.8400992017360304,0.8370056059314372,0.8401211604536413,0.8400281588261129,0.8396277351520318,0.8396897362370508,0.8404763750032292,0.8402632462734765,0.8363029269678887,0.840232245730967,0.8399299904414994,0.8396199850164043,0.8399532408483816,0.8397698209718669,0.8391523935002196,0.8390232245730966,0.8393151463483943,0.8393668139192436,0.839255728641918,0.8401469942390658,0.8402451626236791,0.8399493657805679,0.8402399958665943,0.8399764912552635,0.8393112712805808,0.8393190214162082,0.8396290268413031,0.8398124467178175,0.8401263272107261,0.8401767030923042,0.8367950605802267,0.8399480740912966,0.8402464543129504,0.8402800382340024,0.8399984499728743,0.8393280632411068,0.8390852256581157,0.8393073962127671,0.8388475548322095,0.8389586401095354,0.8403937068898706,0.840243870934408,0.8400875765325894,0.8394598155467722,0.8392828541166137,0.8385685499496243,0.8394740241287557,0.8399687411196363,0.8391381849182359,0.840181869849389,0.8401521609961508,0.8401482859283371,0.8401883282957453,0.8384445477795861,0.8399532408483814,0.8394998579141801,0.8401056601823865,0.8401973701206438,0.8396703608979823,0.8396664858301687,0.839656152315999,0.840103076803844,0.8402916634374434,0.8400707845720634,0.8392570203311891,0.8394714407502131,0.8401999534991862,0.8402839133018161,0.8392131028959675,0.8403329974941229,0.8403136221550543,0.8403937068898706,0.8403730398615309,0.8392712289131727,0.840379498307887,0.8402180371489835,0.8393603554728875]},{\"name\":\"Best Value\",\"type\":\"scatter\",\"x\":[0,1,2,3,4,5,6,7,8,9,10,11,12,13,14,15,16,17,18,19,20,21,22,23,24,25,26,27,28,29,30,31,32,33,34,35,36,37,38,39,40,41,42,43,44,45,46,47,48,49,50,51,52,53,54,55,56,57,58,59,60,61,62,63,64,65,66,67,68,69,70,71,72,73,74,75,76,77,78,79,80,81,82,83,84,85,86,87,88,89,90,91,92,93,94,95,96,97,98,99,100,101,102,103,104,105,106,107,108,109,110,111,112,113,114,115,116,117,118,119,120,121,122,123,124,125,126,127,128,129,130,131,132,133,134,135,136,137,138,139,140,141,142,143,144,145,146,147,148,149],\"y\":[0.8298315637190317,0.8383967552765507,0.8383967552765507,0.8383967552765507,0.8383967552765507,0.8383967552765507,0.8402141620811697,0.8402141620811697,0.8402141620811697,0.8402141620811697,0.8402141620811697,0.8402141620811697,0.8402141620811697,0.8402141620811697,0.8402141620811697,0.8402141620811697,0.8402141620811697,0.8402141620811697,0.8402141620811697,0.8402141620811697,0.8402141620811697,0.8402141620811697,0.8402141620811697,0.8402141620811697,0.8402141620811697,0.8402141620811697,0.8402141620811697,0.8402141620811697,0.8402141620811697,0.8402141620811697,0.8402141620811697,0.8402141620811697,0.8402141620811697,0.8402141620811697,0.8402141620811697,0.8402141620811697,0.8402141620811697,0.8402141620811697,0.8402141620811697,0.8402141620811697,0.8402141620811697,0.8402141620811697,0.8402141620811697,0.8402141620811697,0.8402141620811697,0.8402141620811697,0.8402141620811697,0.8402141620811697,0.8402141620811697,0.8402141620811697,0.8402141620811697,0.8402141620811697,0.8402141620811697,0.8402141620811697,0.8402141620811697,0.8402141620811697,0.8402141620811697,0.8402141620811697,0.8402141620811697,0.8402141620811697,0.8402141620811697,0.8402141620811697,0.8402141620811697,0.8402141620811697,0.8402141620811697,0.8402141620811697,0.8402141620811697,0.8402141620811697,0.8402141620811697,0.8402141620811697,0.8402141620811697,0.8402141620811697,0.8402141620811697,0.8402141620811697,0.8402141620811697,0.8402141620811697,0.8402141620811697,0.8402141620811697,0.8402141620811697,0.8404763750032292,0.8404763750032292,0.8404763750032292,0.8404763750032292,0.8404763750032292,0.8404763750032292,0.8404763750032292,0.8404763750032292,0.8404763750032292,0.8404763750032292,0.8404763750032292,0.8404763750032292,0.8404763750032292,0.8404763750032292,0.8404763750032292,0.8404763750032292,0.8404763750032292,0.8404763750032292,0.8404763750032292,0.8404763750032292,0.8404763750032292,0.8404763750032292,0.8404763750032292,0.8404763750032292,0.8404763750032292,0.8404763750032292,0.8404763750032292,0.8404763750032292,0.8404763750032292,0.8404763750032292,0.8404763750032292,0.8404763750032292,0.8404763750032292,0.8404763750032292,0.8404763750032292,0.8404763750032292,0.8404763750032292,0.8404763750032292,0.8404763750032292,0.8404763750032292,0.8404763750032292,0.8404763750032292,0.8404763750032292,0.8404763750032292,0.8404763750032292,0.8404763750032292,0.8404763750032292,0.8404763750032292,0.8404763750032292,0.8404763750032292,0.8404763750032292,0.8404763750032292,0.8404763750032292,0.8404763750032292,0.8404763750032292,0.8404763750032292,0.8404763750032292,0.8404763750032292,0.8404763750032292,0.8404763750032292,0.8404763750032292,0.8404763750032292,0.8404763750032292,0.8404763750032292,0.8404763750032292,0.8404763750032292,0.8404763750032292,0.8404763750032292,0.8404763750032292,0.8404763750032292,0.8404763750032292]}],                        {\"template\":{\"data\":{\"bar\":[{\"error_x\":{\"color\":\"#2a3f5f\"},\"error_y\":{\"color\":\"#2a3f5f\"},\"marker\":{\"line\":{\"color\":\"#E5ECF6\",\"width\":0.5},\"pattern\":{\"fillmode\":\"overlay\",\"size\":10,\"solidity\":0.2}},\"type\":\"bar\"}],\"barpolar\":[{\"marker\":{\"line\":{\"color\":\"#E5ECF6\",\"width\":0.5},\"pattern\":{\"fillmode\":\"overlay\",\"size\":10,\"solidity\":0.2}},\"type\":\"barpolar\"}],\"carpet\":[{\"aaxis\":{\"endlinecolor\":\"#2a3f5f\",\"gridcolor\":\"white\",\"linecolor\":\"white\",\"minorgridcolor\":\"white\",\"startlinecolor\":\"#2a3f5f\"},\"baxis\":{\"endlinecolor\":\"#2a3f5f\",\"gridcolor\":\"white\",\"linecolor\":\"white\",\"minorgridcolor\":\"white\",\"startlinecolor\":\"#2a3f5f\"},\"type\":\"carpet\"}],\"choropleth\":[{\"colorbar\":{\"outlinewidth\":0,\"ticks\":\"\"},\"type\":\"choropleth\"}],\"contour\":[{\"colorbar\":{\"outlinewidth\":0,\"ticks\":\"\"},\"colorscale\":[[0.0,\"#0d0887\"],[0.1111111111111111,\"#46039f\"],[0.2222222222222222,\"#7201a8\"],[0.3333333333333333,\"#9c179e\"],[0.4444444444444444,\"#bd3786\"],[0.5555555555555556,\"#d8576b\"],[0.6666666666666666,\"#ed7953\"],[0.7777777777777778,\"#fb9f3a\"],[0.8888888888888888,\"#fdca26\"],[1.0,\"#f0f921\"]],\"type\":\"contour\"}],\"contourcarpet\":[{\"colorbar\":{\"outlinewidth\":0,\"ticks\":\"\"},\"type\":\"contourcarpet\"}],\"heatmap\":[{\"colorbar\":{\"outlinewidth\":0,\"ticks\":\"\"},\"colorscale\":[[0.0,\"#0d0887\"],[0.1111111111111111,\"#46039f\"],[0.2222222222222222,\"#7201a8\"],[0.3333333333333333,\"#9c179e\"],[0.4444444444444444,\"#bd3786\"],[0.5555555555555556,\"#d8576b\"],[0.6666666666666666,\"#ed7953\"],[0.7777777777777778,\"#fb9f3a\"],[0.8888888888888888,\"#fdca26\"],[1.0,\"#f0f921\"]],\"type\":\"heatmap\"}],\"heatmapgl\":[{\"colorbar\":{\"outlinewidth\":0,\"ticks\":\"\"},\"colorscale\":[[0.0,\"#0d0887\"],[0.1111111111111111,\"#46039f\"],[0.2222222222222222,\"#7201a8\"],[0.3333333333333333,\"#9c179e\"],[0.4444444444444444,\"#bd3786\"],[0.5555555555555556,\"#d8576b\"],[0.6666666666666666,\"#ed7953\"],[0.7777777777777778,\"#fb9f3a\"],[0.8888888888888888,\"#fdca26\"],[1.0,\"#f0f921\"]],\"type\":\"heatmapgl\"}],\"histogram\":[{\"marker\":{\"pattern\":{\"fillmode\":\"overlay\",\"size\":10,\"solidity\":0.2}},\"type\":\"histogram\"}],\"histogram2d\":[{\"colorbar\":{\"outlinewidth\":0,\"ticks\":\"\"},\"colorscale\":[[0.0,\"#0d0887\"],[0.1111111111111111,\"#46039f\"],[0.2222222222222222,\"#7201a8\"],[0.3333333333333333,\"#9c179e\"],[0.4444444444444444,\"#bd3786\"],[0.5555555555555556,\"#d8576b\"],[0.6666666666666666,\"#ed7953\"],[0.7777777777777778,\"#fb9f3a\"],[0.8888888888888888,\"#fdca26\"],[1.0,\"#f0f921\"]],\"type\":\"histogram2d\"}],\"histogram2dcontour\":[{\"colorbar\":{\"outlinewidth\":0,\"ticks\":\"\"},\"colorscale\":[[0.0,\"#0d0887\"],[0.1111111111111111,\"#46039f\"],[0.2222222222222222,\"#7201a8\"],[0.3333333333333333,\"#9c179e\"],[0.4444444444444444,\"#bd3786\"],[0.5555555555555556,\"#d8576b\"],[0.6666666666666666,\"#ed7953\"],[0.7777777777777778,\"#fb9f3a\"],[0.8888888888888888,\"#fdca26\"],[1.0,\"#f0f921\"]],\"type\":\"histogram2dcontour\"}],\"mesh3d\":[{\"colorbar\":{\"outlinewidth\":0,\"ticks\":\"\"},\"type\":\"mesh3d\"}],\"parcoords\":[{\"line\":{\"colorbar\":{\"outlinewidth\":0,\"ticks\":\"\"}},\"type\":\"parcoords\"}],\"pie\":[{\"automargin\":true,\"type\":\"pie\"}],\"scatter\":[{\"marker\":{\"colorbar\":{\"outlinewidth\":0,\"ticks\":\"\"}},\"type\":\"scatter\"}],\"scatter3d\":[{\"line\":{\"colorbar\":{\"outlinewidth\":0,\"ticks\":\"\"}},\"marker\":{\"colorbar\":{\"outlinewidth\":0,\"ticks\":\"\"}},\"type\":\"scatter3d\"}],\"scattercarpet\":[{\"marker\":{\"colorbar\":{\"outlinewidth\":0,\"ticks\":\"\"}},\"type\":\"scattercarpet\"}],\"scattergeo\":[{\"marker\":{\"colorbar\":{\"outlinewidth\":0,\"ticks\":\"\"}},\"type\":\"scattergeo\"}],\"scattergl\":[{\"marker\":{\"colorbar\":{\"outlinewidth\":0,\"ticks\":\"\"}},\"type\":\"scattergl\"}],\"scattermapbox\":[{\"marker\":{\"colorbar\":{\"outlinewidth\":0,\"ticks\":\"\"}},\"type\":\"scattermapbox\"}],\"scatterpolar\":[{\"marker\":{\"colorbar\":{\"outlinewidth\":0,\"ticks\":\"\"}},\"type\":\"scatterpolar\"}],\"scatterpolargl\":[{\"marker\":{\"colorbar\":{\"outlinewidth\":0,\"ticks\":\"\"}},\"type\":\"scatterpolargl\"}],\"scatterternary\":[{\"marker\":{\"colorbar\":{\"outlinewidth\":0,\"ticks\":\"\"}},\"type\":\"scatterternary\"}],\"surface\":[{\"colorbar\":{\"outlinewidth\":0,\"ticks\":\"\"},\"colorscale\":[[0.0,\"#0d0887\"],[0.1111111111111111,\"#46039f\"],[0.2222222222222222,\"#7201a8\"],[0.3333333333333333,\"#9c179e\"],[0.4444444444444444,\"#bd3786\"],[0.5555555555555556,\"#d8576b\"],[0.6666666666666666,\"#ed7953\"],[0.7777777777777778,\"#fb9f3a\"],[0.8888888888888888,\"#fdca26\"],[1.0,\"#f0f921\"]],\"type\":\"surface\"}],\"table\":[{\"cells\":{\"fill\":{\"color\":\"#EBF0F8\"},\"line\":{\"color\":\"white\"}},\"header\":{\"fill\":{\"color\":\"#C8D4E3\"},\"line\":{\"color\":\"white\"}},\"type\":\"table\"}]},\"layout\":{\"annotationdefaults\":{\"arrowcolor\":\"#2a3f5f\",\"arrowhead\":0,\"arrowwidth\":1},\"autotypenumbers\":\"strict\",\"coloraxis\":{\"colorbar\":{\"outlinewidth\":0,\"ticks\":\"\"}},\"colorscale\":{\"diverging\":[[0,\"#8e0152\"],[0.1,\"#c51b7d\"],[0.2,\"#de77ae\"],[0.3,\"#f1b6da\"],[0.4,\"#fde0ef\"],[0.5,\"#f7f7f7\"],[0.6,\"#e6f5d0\"],[0.7,\"#b8e186\"],[0.8,\"#7fbc41\"],[0.9,\"#4d9221\"],[1,\"#276419\"]],\"sequential\":[[0.0,\"#0d0887\"],[0.1111111111111111,\"#46039f\"],[0.2222222222222222,\"#7201a8\"],[0.3333333333333333,\"#9c179e\"],[0.4444444444444444,\"#bd3786\"],[0.5555555555555556,\"#d8576b\"],[0.6666666666666666,\"#ed7953\"],[0.7777777777777778,\"#fb9f3a\"],[0.8888888888888888,\"#fdca26\"],[1.0,\"#f0f921\"]],\"sequentialminus\":[[0.0,\"#0d0887\"],[0.1111111111111111,\"#46039f\"],[0.2222222222222222,\"#7201a8\"],[0.3333333333333333,\"#9c179e\"],[0.4444444444444444,\"#bd3786\"],[0.5555555555555556,\"#d8576b\"],[0.6666666666666666,\"#ed7953\"],[0.7777777777777778,\"#fb9f3a\"],[0.8888888888888888,\"#fdca26\"],[1.0,\"#f0f921\"]]},\"colorway\":[\"#636efa\",\"#EF553B\",\"#00cc96\",\"#ab63fa\",\"#FFA15A\",\"#19d3f3\",\"#FF6692\",\"#B6E880\",\"#FF97FF\",\"#FECB52\"],\"font\":{\"color\":\"#2a3f5f\"},\"geo\":{\"bgcolor\":\"white\",\"lakecolor\":\"white\",\"landcolor\":\"#E5ECF6\",\"showlakes\":true,\"showland\":true,\"subunitcolor\":\"white\"},\"hoverlabel\":{\"align\":\"left\"},\"hovermode\":\"closest\",\"mapbox\":{\"style\":\"light\"},\"paper_bgcolor\":\"white\",\"plot_bgcolor\":\"#E5ECF6\",\"polar\":{\"angularaxis\":{\"gridcolor\":\"white\",\"linecolor\":\"white\",\"ticks\":\"\"},\"bgcolor\":\"#E5ECF6\",\"radialaxis\":{\"gridcolor\":\"white\",\"linecolor\":\"white\",\"ticks\":\"\"}},\"scene\":{\"xaxis\":{\"backgroundcolor\":\"#E5ECF6\",\"gridcolor\":\"white\",\"gridwidth\":2,\"linecolor\":\"white\",\"showbackground\":true,\"ticks\":\"\",\"zerolinecolor\":\"white\"},\"yaxis\":{\"backgroundcolor\":\"#E5ECF6\",\"gridcolor\":\"white\",\"gridwidth\":2,\"linecolor\":\"white\",\"showbackground\":true,\"ticks\":\"\",\"zerolinecolor\":\"white\"},\"zaxis\":{\"backgroundcolor\":\"#E5ECF6\",\"gridcolor\":\"white\",\"gridwidth\":2,\"linecolor\":\"white\",\"showbackground\":true,\"ticks\":\"\",\"zerolinecolor\":\"white\"}},\"shapedefaults\":{\"line\":{\"color\":\"#2a3f5f\"}},\"ternary\":{\"aaxis\":{\"gridcolor\":\"white\",\"linecolor\":\"white\",\"ticks\":\"\"},\"baxis\":{\"gridcolor\":\"white\",\"linecolor\":\"white\",\"ticks\":\"\"},\"bgcolor\":\"#E5ECF6\",\"caxis\":{\"gridcolor\":\"white\",\"linecolor\":\"white\",\"ticks\":\"\"}},\"title\":{\"x\":0.05},\"xaxis\":{\"automargin\":true,\"gridcolor\":\"white\",\"linecolor\":\"white\",\"ticks\":\"\",\"title\":{\"standoff\":15},\"zerolinecolor\":\"white\",\"zerolinewidth\":2},\"yaxis\":{\"automargin\":true,\"gridcolor\":\"white\",\"linecolor\":\"white\",\"ticks\":\"\",\"title\":{\"standoff\":15},\"zerolinecolor\":\"white\",\"zerolinewidth\":2}}},\"title\":{\"text\":\"Optimization History Plot\"},\"xaxis\":{\"title\":{\"text\":\"#Trials\"}},\"yaxis\":{\"title\":{\"text\":\"Objective Value\"}}},                        {\"responsive\": true}                    ).then(function(){\n",
       "                            \n",
       "var gd = document.getElementById('e9485568-fecd-4558-b984-43a8a5d5e537');\n",
       "var x = new MutationObserver(function (mutations, observer) {{\n",
       "        var display = window.getComputedStyle(gd).display;\n",
       "        if (!display || display === 'none') {{\n",
       "            console.log([gd, 'removed!']);\n",
       "            Plotly.purge(gd);\n",
       "            observer.disconnect();\n",
       "        }}\n",
       "}});\n",
       "\n",
       "// Listen for the removal of the full notebook cells\n",
       "var notebookContainer = gd.closest('#notebook-container');\n",
       "if (notebookContainer) {{\n",
       "    x.observe(notebookContainer, {childList: true});\n",
       "}}\n",
       "\n",
       "// Listen for the clearing of the current output cell\n",
       "var outputEl = gd.closest('.output');\n",
       "if (outputEl) {{\n",
       "    x.observe(outputEl, {childList: true});\n",
       "}}\n",
       "\n",
       "                        })                };                });            </script>        </div>"
      ]
     },
     "metadata": {},
     "output_type": "display_data"
    },
    {
     "data": {
      "application/vnd.plotly.v1+json": {
       "config": {
        "plotlyServerURL": "https://plot.ly"
       },
       "data": [
        {
         "cliponaxis": false,
         "hovertemplate": [
          "max_depth (IntUniformDistribution): 0.0016284484133285372<extra></extra>",
          "min_data_per_group (IntUniformDistribution): 0.004306024773126625<extra></extra>",
          "reg_lambda (UniformDistribution): 0.006284315483402743<extra></extra>",
          "cat_smooth (IntUniformDistribution): 0.007377802462667115<extra></extra>",
          "n_estimators (IntUniformDistribution): 0.009182814131635946<extra></extra>",
          "min_child_samples (IntUniformDistribution): 0.009961453976241917<extra></extra>",
          "cat_l2 (IntUniformDistribution): 0.015200266462495836<extra></extra>",
          "learning_rate (LogUniformDistribution): 0.02177400362878529<extra></extra>",
          "num_leaves (IntUniformDistribution): 0.02588525580192192<extra></extra>",
          "colsample_bytree (UniformDistribution): 0.02776776192319876<extra></extra>",
          "reg_alpha (UniformDistribution): 0.8706318529431953<extra></extra>"
         ],
         "marker": {
          "color": "rgb(66,146,198)"
         },
         "orientation": "h",
         "text": [
          "0.0016284484133285372",
          "0.004306024773126625",
          "0.006284315483402743",
          "0.007377802462667115",
          "0.009182814131635946",
          "0.009961453976241917",
          "0.015200266462495836",
          "0.02177400362878529",
          "0.02588525580192192",
          "0.02776776192319876",
          "0.8706318529431953"
         ],
         "textposition": "outside",
         "texttemplate": "%{text:.2f}",
         "type": "bar",
         "x": [
          0.0016284484133285372,
          0.004306024773126625,
          0.006284315483402743,
          0.007377802462667115,
          0.009182814131635946,
          0.009961453976241917,
          0.015200266462495836,
          0.02177400362878529,
          0.02588525580192192,
          0.02776776192319876,
          0.8706318529431953
         ],
         "y": [
          "max_depth",
          "min_data_per_group",
          "reg_lambda",
          "cat_smooth",
          "n_estimators",
          "min_child_samples",
          "cat_l2",
          "learning_rate",
          "num_leaves",
          "colsample_bytree",
          "reg_alpha"
         ]
        }
       ],
       "layout": {
        "showlegend": false,
        "template": {
         "data": {
          "bar": [
           {
            "error_x": {
             "color": "#2a3f5f"
            },
            "error_y": {
             "color": "#2a3f5f"
            },
            "marker": {
             "line": {
              "color": "#E5ECF6",
              "width": 0.5
             },
             "pattern": {
              "fillmode": "overlay",
              "size": 10,
              "solidity": 0.2
             }
            },
            "type": "bar"
           }
          ],
          "barpolar": [
           {
            "marker": {
             "line": {
              "color": "#E5ECF6",
              "width": 0.5
             },
             "pattern": {
              "fillmode": "overlay",
              "size": 10,
              "solidity": 0.2
             }
            },
            "type": "barpolar"
           }
          ],
          "carpet": [
           {
            "aaxis": {
             "endlinecolor": "#2a3f5f",
             "gridcolor": "white",
             "linecolor": "white",
             "minorgridcolor": "white",
             "startlinecolor": "#2a3f5f"
            },
            "baxis": {
             "endlinecolor": "#2a3f5f",
             "gridcolor": "white",
             "linecolor": "white",
             "minorgridcolor": "white",
             "startlinecolor": "#2a3f5f"
            },
            "type": "carpet"
           }
          ],
          "choropleth": [
           {
            "colorbar": {
             "outlinewidth": 0,
             "ticks": ""
            },
            "type": "choropleth"
           }
          ],
          "contour": [
           {
            "colorbar": {
             "outlinewidth": 0,
             "ticks": ""
            },
            "colorscale": [
             [
              0,
              "#0d0887"
             ],
             [
              0.1111111111111111,
              "#46039f"
             ],
             [
              0.2222222222222222,
              "#7201a8"
             ],
             [
              0.3333333333333333,
              "#9c179e"
             ],
             [
              0.4444444444444444,
              "#bd3786"
             ],
             [
              0.5555555555555556,
              "#d8576b"
             ],
             [
              0.6666666666666666,
              "#ed7953"
             ],
             [
              0.7777777777777778,
              "#fb9f3a"
             ],
             [
              0.8888888888888888,
              "#fdca26"
             ],
             [
              1,
              "#f0f921"
             ]
            ],
            "type": "contour"
           }
          ],
          "contourcarpet": [
           {
            "colorbar": {
             "outlinewidth": 0,
             "ticks": ""
            },
            "type": "contourcarpet"
           }
          ],
          "heatmap": [
           {
            "colorbar": {
             "outlinewidth": 0,
             "ticks": ""
            },
            "colorscale": [
             [
              0,
              "#0d0887"
             ],
             [
              0.1111111111111111,
              "#46039f"
             ],
             [
              0.2222222222222222,
              "#7201a8"
             ],
             [
              0.3333333333333333,
              "#9c179e"
             ],
             [
              0.4444444444444444,
              "#bd3786"
             ],
             [
              0.5555555555555556,
              "#d8576b"
             ],
             [
              0.6666666666666666,
              "#ed7953"
             ],
             [
              0.7777777777777778,
              "#fb9f3a"
             ],
             [
              0.8888888888888888,
              "#fdca26"
             ],
             [
              1,
              "#f0f921"
             ]
            ],
            "type": "heatmap"
           }
          ],
          "heatmapgl": [
           {
            "colorbar": {
             "outlinewidth": 0,
             "ticks": ""
            },
            "colorscale": [
             [
              0,
              "#0d0887"
             ],
             [
              0.1111111111111111,
              "#46039f"
             ],
             [
              0.2222222222222222,
              "#7201a8"
             ],
             [
              0.3333333333333333,
              "#9c179e"
             ],
             [
              0.4444444444444444,
              "#bd3786"
             ],
             [
              0.5555555555555556,
              "#d8576b"
             ],
             [
              0.6666666666666666,
              "#ed7953"
             ],
             [
              0.7777777777777778,
              "#fb9f3a"
             ],
             [
              0.8888888888888888,
              "#fdca26"
             ],
             [
              1,
              "#f0f921"
             ]
            ],
            "type": "heatmapgl"
           }
          ],
          "histogram": [
           {
            "marker": {
             "pattern": {
              "fillmode": "overlay",
              "size": 10,
              "solidity": 0.2
             }
            },
            "type": "histogram"
           }
          ],
          "histogram2d": [
           {
            "colorbar": {
             "outlinewidth": 0,
             "ticks": ""
            },
            "colorscale": [
             [
              0,
              "#0d0887"
             ],
             [
              0.1111111111111111,
              "#46039f"
             ],
             [
              0.2222222222222222,
              "#7201a8"
             ],
             [
              0.3333333333333333,
              "#9c179e"
             ],
             [
              0.4444444444444444,
              "#bd3786"
             ],
             [
              0.5555555555555556,
              "#d8576b"
             ],
             [
              0.6666666666666666,
              "#ed7953"
             ],
             [
              0.7777777777777778,
              "#fb9f3a"
             ],
             [
              0.8888888888888888,
              "#fdca26"
             ],
             [
              1,
              "#f0f921"
             ]
            ],
            "type": "histogram2d"
           }
          ],
          "histogram2dcontour": [
           {
            "colorbar": {
             "outlinewidth": 0,
             "ticks": ""
            },
            "colorscale": [
             [
              0,
              "#0d0887"
             ],
             [
              0.1111111111111111,
              "#46039f"
             ],
             [
              0.2222222222222222,
              "#7201a8"
             ],
             [
              0.3333333333333333,
              "#9c179e"
             ],
             [
              0.4444444444444444,
              "#bd3786"
             ],
             [
              0.5555555555555556,
              "#d8576b"
             ],
             [
              0.6666666666666666,
              "#ed7953"
             ],
             [
              0.7777777777777778,
              "#fb9f3a"
             ],
             [
              0.8888888888888888,
              "#fdca26"
             ],
             [
              1,
              "#f0f921"
             ]
            ],
            "type": "histogram2dcontour"
           }
          ],
          "mesh3d": [
           {
            "colorbar": {
             "outlinewidth": 0,
             "ticks": ""
            },
            "type": "mesh3d"
           }
          ],
          "parcoords": [
           {
            "line": {
             "colorbar": {
              "outlinewidth": 0,
              "ticks": ""
             }
            },
            "type": "parcoords"
           }
          ],
          "pie": [
           {
            "automargin": true,
            "type": "pie"
           }
          ],
          "scatter": [
           {
            "marker": {
             "colorbar": {
              "outlinewidth": 0,
              "ticks": ""
             }
            },
            "type": "scatter"
           }
          ],
          "scatter3d": [
           {
            "line": {
             "colorbar": {
              "outlinewidth": 0,
              "ticks": ""
             }
            },
            "marker": {
             "colorbar": {
              "outlinewidth": 0,
              "ticks": ""
             }
            },
            "type": "scatter3d"
           }
          ],
          "scattercarpet": [
           {
            "marker": {
             "colorbar": {
              "outlinewidth": 0,
              "ticks": ""
             }
            },
            "type": "scattercarpet"
           }
          ],
          "scattergeo": [
           {
            "marker": {
             "colorbar": {
              "outlinewidth": 0,
              "ticks": ""
             }
            },
            "type": "scattergeo"
           }
          ],
          "scattergl": [
           {
            "marker": {
             "colorbar": {
              "outlinewidth": 0,
              "ticks": ""
             }
            },
            "type": "scattergl"
           }
          ],
          "scattermapbox": [
           {
            "marker": {
             "colorbar": {
              "outlinewidth": 0,
              "ticks": ""
             }
            },
            "type": "scattermapbox"
           }
          ],
          "scatterpolar": [
           {
            "marker": {
             "colorbar": {
              "outlinewidth": 0,
              "ticks": ""
             }
            },
            "type": "scatterpolar"
           }
          ],
          "scatterpolargl": [
           {
            "marker": {
             "colorbar": {
              "outlinewidth": 0,
              "ticks": ""
             }
            },
            "type": "scatterpolargl"
           }
          ],
          "scatterternary": [
           {
            "marker": {
             "colorbar": {
              "outlinewidth": 0,
              "ticks": ""
             }
            },
            "type": "scatterternary"
           }
          ],
          "surface": [
           {
            "colorbar": {
             "outlinewidth": 0,
             "ticks": ""
            },
            "colorscale": [
             [
              0,
              "#0d0887"
             ],
             [
              0.1111111111111111,
              "#46039f"
             ],
             [
              0.2222222222222222,
              "#7201a8"
             ],
             [
              0.3333333333333333,
              "#9c179e"
             ],
             [
              0.4444444444444444,
              "#bd3786"
             ],
             [
              0.5555555555555556,
              "#d8576b"
             ],
             [
              0.6666666666666666,
              "#ed7953"
             ],
             [
              0.7777777777777778,
              "#fb9f3a"
             ],
             [
              0.8888888888888888,
              "#fdca26"
             ],
             [
              1,
              "#f0f921"
             ]
            ],
            "type": "surface"
           }
          ],
          "table": [
           {
            "cells": {
             "fill": {
              "color": "#EBF0F8"
             },
             "line": {
              "color": "white"
             }
            },
            "header": {
             "fill": {
              "color": "#C8D4E3"
             },
             "line": {
              "color": "white"
             }
            },
            "type": "table"
           }
          ]
         },
         "layout": {
          "annotationdefaults": {
           "arrowcolor": "#2a3f5f",
           "arrowhead": 0,
           "arrowwidth": 1
          },
          "autotypenumbers": "strict",
          "coloraxis": {
           "colorbar": {
            "outlinewidth": 0,
            "ticks": ""
           }
          },
          "colorscale": {
           "diverging": [
            [
             0,
             "#8e0152"
            ],
            [
             0.1,
             "#c51b7d"
            ],
            [
             0.2,
             "#de77ae"
            ],
            [
             0.3,
             "#f1b6da"
            ],
            [
             0.4,
             "#fde0ef"
            ],
            [
             0.5,
             "#f7f7f7"
            ],
            [
             0.6,
             "#e6f5d0"
            ],
            [
             0.7,
             "#b8e186"
            ],
            [
             0.8,
             "#7fbc41"
            ],
            [
             0.9,
             "#4d9221"
            ],
            [
             1,
             "#276419"
            ]
           ],
           "sequential": [
            [
             0,
             "#0d0887"
            ],
            [
             0.1111111111111111,
             "#46039f"
            ],
            [
             0.2222222222222222,
             "#7201a8"
            ],
            [
             0.3333333333333333,
             "#9c179e"
            ],
            [
             0.4444444444444444,
             "#bd3786"
            ],
            [
             0.5555555555555556,
             "#d8576b"
            ],
            [
             0.6666666666666666,
             "#ed7953"
            ],
            [
             0.7777777777777778,
             "#fb9f3a"
            ],
            [
             0.8888888888888888,
             "#fdca26"
            ],
            [
             1,
             "#f0f921"
            ]
           ],
           "sequentialminus": [
            [
             0,
             "#0d0887"
            ],
            [
             0.1111111111111111,
             "#46039f"
            ],
            [
             0.2222222222222222,
             "#7201a8"
            ],
            [
             0.3333333333333333,
             "#9c179e"
            ],
            [
             0.4444444444444444,
             "#bd3786"
            ],
            [
             0.5555555555555556,
             "#d8576b"
            ],
            [
             0.6666666666666666,
             "#ed7953"
            ],
            [
             0.7777777777777778,
             "#fb9f3a"
            ],
            [
             0.8888888888888888,
             "#fdca26"
            ],
            [
             1,
             "#f0f921"
            ]
           ]
          },
          "colorway": [
           "#636efa",
           "#EF553B",
           "#00cc96",
           "#ab63fa",
           "#FFA15A",
           "#19d3f3",
           "#FF6692",
           "#B6E880",
           "#FF97FF",
           "#FECB52"
          ],
          "font": {
           "color": "#2a3f5f"
          },
          "geo": {
           "bgcolor": "white",
           "lakecolor": "white",
           "landcolor": "#E5ECF6",
           "showlakes": true,
           "showland": true,
           "subunitcolor": "white"
          },
          "hoverlabel": {
           "align": "left"
          },
          "hovermode": "closest",
          "mapbox": {
           "style": "light"
          },
          "paper_bgcolor": "white",
          "plot_bgcolor": "#E5ECF6",
          "polar": {
           "angularaxis": {
            "gridcolor": "white",
            "linecolor": "white",
            "ticks": ""
           },
           "bgcolor": "#E5ECF6",
           "radialaxis": {
            "gridcolor": "white",
            "linecolor": "white",
            "ticks": ""
           }
          },
          "scene": {
           "xaxis": {
            "backgroundcolor": "#E5ECF6",
            "gridcolor": "white",
            "gridwidth": 2,
            "linecolor": "white",
            "showbackground": true,
            "ticks": "",
            "zerolinecolor": "white"
           },
           "yaxis": {
            "backgroundcolor": "#E5ECF6",
            "gridcolor": "white",
            "gridwidth": 2,
            "linecolor": "white",
            "showbackground": true,
            "ticks": "",
            "zerolinecolor": "white"
           },
           "zaxis": {
            "backgroundcolor": "#E5ECF6",
            "gridcolor": "white",
            "gridwidth": 2,
            "linecolor": "white",
            "showbackground": true,
            "ticks": "",
            "zerolinecolor": "white"
           }
          },
          "shapedefaults": {
           "line": {
            "color": "#2a3f5f"
           }
          },
          "ternary": {
           "aaxis": {
            "gridcolor": "white",
            "linecolor": "white",
            "ticks": ""
           },
           "baxis": {
            "gridcolor": "white",
            "linecolor": "white",
            "ticks": ""
           },
           "bgcolor": "#E5ECF6",
           "caxis": {
            "gridcolor": "white",
            "linecolor": "white",
            "ticks": ""
           }
          },
          "title": {
           "x": 0.05
          },
          "xaxis": {
           "automargin": true,
           "gridcolor": "white",
           "linecolor": "white",
           "ticks": "",
           "title": {
            "standoff": 15
           },
           "zerolinecolor": "white",
           "zerolinewidth": 2
          },
          "yaxis": {
           "automargin": true,
           "gridcolor": "white",
           "linecolor": "white",
           "ticks": "",
           "title": {
            "standoff": 15
           },
           "zerolinecolor": "white",
           "zerolinewidth": 2
          }
         }
        },
        "title": {
         "text": "Hyperparameter Importances"
        },
        "xaxis": {
         "title": {
          "text": "Importance for Objective Value"
         }
        },
        "yaxis": {
         "title": {
          "text": "Hyperparameter"
         }
        }
       }
      },
      "text/html": [
       "<div>                            <div id=\"60c6cc41-d132-4ad9-89fd-375897e7acdb\" class=\"plotly-graph-div\" style=\"height:525px; width:100%;\"></div>            <script type=\"text/javascript\">                require([\"plotly\"], function(Plotly) {                    window.PLOTLYENV=window.PLOTLYENV || {};                                    if (document.getElementById(\"60c6cc41-d132-4ad9-89fd-375897e7acdb\")) {                    Plotly.newPlot(                        \"60c6cc41-d132-4ad9-89fd-375897e7acdb\",                        [{\"cliponaxis\":false,\"hovertemplate\":[\"max_depth (IntUniformDistribution): 0.0016284484133285372<extra></extra>\",\"min_data_per_group (IntUniformDistribution): 0.004306024773126625<extra></extra>\",\"reg_lambda (UniformDistribution): 0.006284315483402743<extra></extra>\",\"cat_smooth (IntUniformDistribution): 0.007377802462667115<extra></extra>\",\"n_estimators (IntUniformDistribution): 0.009182814131635946<extra></extra>\",\"min_child_samples (IntUniformDistribution): 0.009961453976241917<extra></extra>\",\"cat_l2 (IntUniformDistribution): 0.015200266462495836<extra></extra>\",\"learning_rate (LogUniformDistribution): 0.02177400362878529<extra></extra>\",\"num_leaves (IntUniformDistribution): 0.02588525580192192<extra></extra>\",\"colsample_bytree (UniformDistribution): 0.02776776192319876<extra></extra>\",\"reg_alpha (UniformDistribution): 0.8706318529431953<extra></extra>\"],\"marker\":{\"color\":\"rgb(66,146,198)\"},\"orientation\":\"h\",\"text\":[\"0.0016284484133285372\",\"0.004306024773126625\",\"0.006284315483402743\",\"0.007377802462667115\",\"0.009182814131635946\",\"0.009961453976241917\",\"0.015200266462495836\",\"0.02177400362878529\",\"0.02588525580192192\",\"0.02776776192319876\",\"0.8706318529431953\"],\"textposition\":\"outside\",\"texttemplate\":\"%{text:.2f}\",\"type\":\"bar\",\"x\":[0.0016284484133285372,0.004306024773126625,0.006284315483402743,0.007377802462667115,0.009182814131635946,0.009961453976241917,0.015200266462495836,0.02177400362878529,0.02588525580192192,0.02776776192319876,0.8706318529431953],\"y\":[\"max_depth\",\"min_data_per_group\",\"reg_lambda\",\"cat_smooth\",\"n_estimators\",\"min_child_samples\",\"cat_l2\",\"learning_rate\",\"num_leaves\",\"colsample_bytree\",\"reg_alpha\"]}],                        {\"showlegend\":false,\"template\":{\"data\":{\"bar\":[{\"error_x\":{\"color\":\"#2a3f5f\"},\"error_y\":{\"color\":\"#2a3f5f\"},\"marker\":{\"line\":{\"color\":\"#E5ECF6\",\"width\":0.5},\"pattern\":{\"fillmode\":\"overlay\",\"size\":10,\"solidity\":0.2}},\"type\":\"bar\"}],\"barpolar\":[{\"marker\":{\"line\":{\"color\":\"#E5ECF6\",\"width\":0.5},\"pattern\":{\"fillmode\":\"overlay\",\"size\":10,\"solidity\":0.2}},\"type\":\"barpolar\"}],\"carpet\":[{\"aaxis\":{\"endlinecolor\":\"#2a3f5f\",\"gridcolor\":\"white\",\"linecolor\":\"white\",\"minorgridcolor\":\"white\",\"startlinecolor\":\"#2a3f5f\"},\"baxis\":{\"endlinecolor\":\"#2a3f5f\",\"gridcolor\":\"white\",\"linecolor\":\"white\",\"minorgridcolor\":\"white\",\"startlinecolor\":\"#2a3f5f\"},\"type\":\"carpet\"}],\"choropleth\":[{\"colorbar\":{\"outlinewidth\":0,\"ticks\":\"\"},\"type\":\"choropleth\"}],\"contour\":[{\"colorbar\":{\"outlinewidth\":0,\"ticks\":\"\"},\"colorscale\":[[0.0,\"#0d0887\"],[0.1111111111111111,\"#46039f\"],[0.2222222222222222,\"#7201a8\"],[0.3333333333333333,\"#9c179e\"],[0.4444444444444444,\"#bd3786\"],[0.5555555555555556,\"#d8576b\"],[0.6666666666666666,\"#ed7953\"],[0.7777777777777778,\"#fb9f3a\"],[0.8888888888888888,\"#fdca26\"],[1.0,\"#f0f921\"]],\"type\":\"contour\"}],\"contourcarpet\":[{\"colorbar\":{\"outlinewidth\":0,\"ticks\":\"\"},\"type\":\"contourcarpet\"}],\"heatmap\":[{\"colorbar\":{\"outlinewidth\":0,\"ticks\":\"\"},\"colorscale\":[[0.0,\"#0d0887\"],[0.1111111111111111,\"#46039f\"],[0.2222222222222222,\"#7201a8\"],[0.3333333333333333,\"#9c179e\"],[0.4444444444444444,\"#bd3786\"],[0.5555555555555556,\"#d8576b\"],[0.6666666666666666,\"#ed7953\"],[0.7777777777777778,\"#fb9f3a\"],[0.8888888888888888,\"#fdca26\"],[1.0,\"#f0f921\"]],\"type\":\"heatmap\"}],\"heatmapgl\":[{\"colorbar\":{\"outlinewidth\":0,\"ticks\":\"\"},\"colorscale\":[[0.0,\"#0d0887\"],[0.1111111111111111,\"#46039f\"],[0.2222222222222222,\"#7201a8\"],[0.3333333333333333,\"#9c179e\"],[0.4444444444444444,\"#bd3786\"],[0.5555555555555556,\"#d8576b\"],[0.6666666666666666,\"#ed7953\"],[0.7777777777777778,\"#fb9f3a\"],[0.8888888888888888,\"#fdca26\"],[1.0,\"#f0f921\"]],\"type\":\"heatmapgl\"}],\"histogram\":[{\"marker\":{\"pattern\":{\"fillmode\":\"overlay\",\"size\":10,\"solidity\":0.2}},\"type\":\"histogram\"}],\"histogram2d\":[{\"colorbar\":{\"outlinewidth\":0,\"ticks\":\"\"},\"colorscale\":[[0.0,\"#0d0887\"],[0.1111111111111111,\"#46039f\"],[0.2222222222222222,\"#7201a8\"],[0.3333333333333333,\"#9c179e\"],[0.4444444444444444,\"#bd3786\"],[0.5555555555555556,\"#d8576b\"],[0.6666666666666666,\"#ed7953\"],[0.7777777777777778,\"#fb9f3a\"],[0.8888888888888888,\"#fdca26\"],[1.0,\"#f0f921\"]],\"type\":\"histogram2d\"}],\"histogram2dcontour\":[{\"colorbar\":{\"outlinewidth\":0,\"ticks\":\"\"},\"colorscale\":[[0.0,\"#0d0887\"],[0.1111111111111111,\"#46039f\"],[0.2222222222222222,\"#7201a8\"],[0.3333333333333333,\"#9c179e\"],[0.4444444444444444,\"#bd3786\"],[0.5555555555555556,\"#d8576b\"],[0.6666666666666666,\"#ed7953\"],[0.7777777777777778,\"#fb9f3a\"],[0.8888888888888888,\"#fdca26\"],[1.0,\"#f0f921\"]],\"type\":\"histogram2dcontour\"}],\"mesh3d\":[{\"colorbar\":{\"outlinewidth\":0,\"ticks\":\"\"},\"type\":\"mesh3d\"}],\"parcoords\":[{\"line\":{\"colorbar\":{\"outlinewidth\":0,\"ticks\":\"\"}},\"type\":\"parcoords\"}],\"pie\":[{\"automargin\":true,\"type\":\"pie\"}],\"scatter\":[{\"marker\":{\"colorbar\":{\"outlinewidth\":0,\"ticks\":\"\"}},\"type\":\"scatter\"}],\"scatter3d\":[{\"line\":{\"colorbar\":{\"outlinewidth\":0,\"ticks\":\"\"}},\"marker\":{\"colorbar\":{\"outlinewidth\":0,\"ticks\":\"\"}},\"type\":\"scatter3d\"}],\"scattercarpet\":[{\"marker\":{\"colorbar\":{\"outlinewidth\":0,\"ticks\":\"\"}},\"type\":\"scattercarpet\"}],\"scattergeo\":[{\"marker\":{\"colorbar\":{\"outlinewidth\":0,\"ticks\":\"\"}},\"type\":\"scattergeo\"}],\"scattergl\":[{\"marker\":{\"colorbar\":{\"outlinewidth\":0,\"ticks\":\"\"}},\"type\":\"scattergl\"}],\"scattermapbox\":[{\"marker\":{\"colorbar\":{\"outlinewidth\":0,\"ticks\":\"\"}},\"type\":\"scattermapbox\"}],\"scatterpolar\":[{\"marker\":{\"colorbar\":{\"outlinewidth\":0,\"ticks\":\"\"}},\"type\":\"scatterpolar\"}],\"scatterpolargl\":[{\"marker\":{\"colorbar\":{\"outlinewidth\":0,\"ticks\":\"\"}},\"type\":\"scatterpolargl\"}],\"scatterternary\":[{\"marker\":{\"colorbar\":{\"outlinewidth\":0,\"ticks\":\"\"}},\"type\":\"scatterternary\"}],\"surface\":[{\"colorbar\":{\"outlinewidth\":0,\"ticks\":\"\"},\"colorscale\":[[0.0,\"#0d0887\"],[0.1111111111111111,\"#46039f\"],[0.2222222222222222,\"#7201a8\"],[0.3333333333333333,\"#9c179e\"],[0.4444444444444444,\"#bd3786\"],[0.5555555555555556,\"#d8576b\"],[0.6666666666666666,\"#ed7953\"],[0.7777777777777778,\"#fb9f3a\"],[0.8888888888888888,\"#fdca26\"],[1.0,\"#f0f921\"]],\"type\":\"surface\"}],\"table\":[{\"cells\":{\"fill\":{\"color\":\"#EBF0F8\"},\"line\":{\"color\":\"white\"}},\"header\":{\"fill\":{\"color\":\"#C8D4E3\"},\"line\":{\"color\":\"white\"}},\"type\":\"table\"}]},\"layout\":{\"annotationdefaults\":{\"arrowcolor\":\"#2a3f5f\",\"arrowhead\":0,\"arrowwidth\":1},\"autotypenumbers\":\"strict\",\"coloraxis\":{\"colorbar\":{\"outlinewidth\":0,\"ticks\":\"\"}},\"colorscale\":{\"diverging\":[[0,\"#8e0152\"],[0.1,\"#c51b7d\"],[0.2,\"#de77ae\"],[0.3,\"#f1b6da\"],[0.4,\"#fde0ef\"],[0.5,\"#f7f7f7\"],[0.6,\"#e6f5d0\"],[0.7,\"#b8e186\"],[0.8,\"#7fbc41\"],[0.9,\"#4d9221\"],[1,\"#276419\"]],\"sequential\":[[0.0,\"#0d0887\"],[0.1111111111111111,\"#46039f\"],[0.2222222222222222,\"#7201a8\"],[0.3333333333333333,\"#9c179e\"],[0.4444444444444444,\"#bd3786\"],[0.5555555555555556,\"#d8576b\"],[0.6666666666666666,\"#ed7953\"],[0.7777777777777778,\"#fb9f3a\"],[0.8888888888888888,\"#fdca26\"],[1.0,\"#f0f921\"]],\"sequentialminus\":[[0.0,\"#0d0887\"],[0.1111111111111111,\"#46039f\"],[0.2222222222222222,\"#7201a8\"],[0.3333333333333333,\"#9c179e\"],[0.4444444444444444,\"#bd3786\"],[0.5555555555555556,\"#d8576b\"],[0.6666666666666666,\"#ed7953\"],[0.7777777777777778,\"#fb9f3a\"],[0.8888888888888888,\"#fdca26\"],[1.0,\"#f0f921\"]]},\"colorway\":[\"#636efa\",\"#EF553B\",\"#00cc96\",\"#ab63fa\",\"#FFA15A\",\"#19d3f3\",\"#FF6692\",\"#B6E880\",\"#FF97FF\",\"#FECB52\"],\"font\":{\"color\":\"#2a3f5f\"},\"geo\":{\"bgcolor\":\"white\",\"lakecolor\":\"white\",\"landcolor\":\"#E5ECF6\",\"showlakes\":true,\"showland\":true,\"subunitcolor\":\"white\"},\"hoverlabel\":{\"align\":\"left\"},\"hovermode\":\"closest\",\"mapbox\":{\"style\":\"light\"},\"paper_bgcolor\":\"white\",\"plot_bgcolor\":\"#E5ECF6\",\"polar\":{\"angularaxis\":{\"gridcolor\":\"white\",\"linecolor\":\"white\",\"ticks\":\"\"},\"bgcolor\":\"#E5ECF6\",\"radialaxis\":{\"gridcolor\":\"white\",\"linecolor\":\"white\",\"ticks\":\"\"}},\"scene\":{\"xaxis\":{\"backgroundcolor\":\"#E5ECF6\",\"gridcolor\":\"white\",\"gridwidth\":2,\"linecolor\":\"white\",\"showbackground\":true,\"ticks\":\"\",\"zerolinecolor\":\"white\"},\"yaxis\":{\"backgroundcolor\":\"#E5ECF6\",\"gridcolor\":\"white\",\"gridwidth\":2,\"linecolor\":\"white\",\"showbackground\":true,\"ticks\":\"\",\"zerolinecolor\":\"white\"},\"zaxis\":{\"backgroundcolor\":\"#E5ECF6\",\"gridcolor\":\"white\",\"gridwidth\":2,\"linecolor\":\"white\",\"showbackground\":true,\"ticks\":\"\",\"zerolinecolor\":\"white\"}},\"shapedefaults\":{\"line\":{\"color\":\"#2a3f5f\"}},\"ternary\":{\"aaxis\":{\"gridcolor\":\"white\",\"linecolor\":\"white\",\"ticks\":\"\"},\"baxis\":{\"gridcolor\":\"white\",\"linecolor\":\"white\",\"ticks\":\"\"},\"bgcolor\":\"#E5ECF6\",\"caxis\":{\"gridcolor\":\"white\",\"linecolor\":\"white\",\"ticks\":\"\"}},\"title\":{\"x\":0.05},\"xaxis\":{\"automargin\":true,\"gridcolor\":\"white\",\"linecolor\":\"white\",\"ticks\":\"\",\"title\":{\"standoff\":15},\"zerolinecolor\":\"white\",\"zerolinewidth\":2},\"yaxis\":{\"automargin\":true,\"gridcolor\":\"white\",\"linecolor\":\"white\",\"ticks\":\"\",\"title\":{\"standoff\":15},\"zerolinecolor\":\"white\",\"zerolinewidth\":2}}},\"title\":{\"text\":\"Hyperparameter Importances\"},\"xaxis\":{\"title\":{\"text\":\"Importance for Objective Value\"}},\"yaxis\":{\"title\":{\"text\":\"Hyperparameter\"}}},                        {\"responsive\": true}                    ).then(function(){\n",
       "                            \n",
       "var gd = document.getElementById('60c6cc41-d132-4ad9-89fd-375897e7acdb');\n",
       "var x = new MutationObserver(function (mutations, observer) {{\n",
       "        var display = window.getComputedStyle(gd).display;\n",
       "        if (!display || display === 'none') {{\n",
       "            console.log([gd, 'removed!']);\n",
       "            Plotly.purge(gd);\n",
       "            observer.disconnect();\n",
       "        }}\n",
       "}});\n",
       "\n",
       "// Listen for the removal of the full notebook cells\n",
       "var notebookContainer = gd.closest('#notebook-container');\n",
       "if (notebookContainer) {{\n",
       "    x.observe(notebookContainer, {childList: true});\n",
       "}}\n",
       "\n",
       "// Listen for the clearing of the current output cell\n",
       "var outputEl = gd.closest('.output');\n",
       "if (outputEl) {{\n",
       "    x.observe(outputEl, {childList: true});\n",
       "}}\n",
       "\n",
       "                        })                };                });            </script>        </div>"
      ]
     },
     "metadata": {},
     "output_type": "display_data"
    }
   ],
   "source": [
    "# Save\n",
    "pickle.dump(study.best_trial.params, open('LGBM_Hyperparameter.pickle', 'wb'))\n",
    "print(\"Best Score: \", study.best_value)\n",
    "printmd('**LGBM Tuned Hyperparameters**')\n",
    "pprint.pprint(study.best_trial.params)\n",
    "\n",
    "# history\n",
    "display(optuna.visualization.plot_optimization_history(study))\n",
    "\n",
    "# Importance\n",
    "display(plot_param_importances(study))"
   ]
  },
  {
   "cell_type": "markdown",
   "id": "4384139a",
   "metadata": {
    "id": "vFp0zgMjZ2au",
    "papermill": {
     "duration": 0.221499,
     "end_time": "2022-09-22T01:58:48.362486",
     "exception": false,
     "start_time": "2022-09-22T01:58:48.140987",
     "status": "completed"
    },
    "tags": []
   },
   "source": [
    "<a id='5.5'></a>\n",
    "## 5.5 Stacking Ensemble\n",
    "\n",
    "---\n",
    "![image.png](http://rasbt.github.io/mlxtend/user_guide/classifier/StackingClassifier_files/stackingclassification_overview.png)"
   ]
  },
  {
   "cell_type": "code",
   "execution_count": 25,
   "id": "792d354b",
   "metadata": {
    "execution": {
     "iopub.execute_input": "2022-09-22T01:58:48.882695Z",
     "iopub.status.busy": "2022-09-22T01:58:48.881670Z",
     "iopub.status.idle": "2022-09-22T01:58:48.883648Z",
     "shell.execute_reply": "2022-09-22T01:58:48.884288Z",
     "shell.execute_reply.started": "2022-04-25T19:36:07.339295Z"
    },
    "id": "81JCHNWSSW-U",
    "papermill": {
     "duration": 0.239417,
     "end_time": "2022-09-22T01:58:48.884450",
     "exception": false,
     "start_time": "2022-09-22T01:58:48.645033",
     "status": "completed"
    },
    "tags": []
   },
   "outputs": [],
   "source": [
    "def stacking_data_loader(model, model_name, train, y, test, fold):\n",
    "    '''\n",
    "    input train, test datasets and fold value!\n",
    "    returns train, test datasets for stacking ensemble\n",
    "    '''\n",
    "\n",
    "    stk = StratifiedKFold(n_splits = fold, random_state = SEED, shuffle = True)\n",
    "    \n",
    "    # Declaration Pred Datasets\n",
    "    train_fold_pred = np.zeros((train.shape[0], 1))\n",
    "    test_pred = np.zeros((test.shape[0], fold))\n",
    "    \n",
    "    for counter, (train_index, valid_index) in enumerate(stk.split(train, y)):\n",
    "        X_train, y_train = train.iloc[train_index], y[train_index]\n",
    "        X_valid, y_valid = train.iloc[valid_index], y[valid_index]\n",
    "\n",
    "        print('------------ Fold', counter+1, 'Start! ------------')\n",
    "        if model_name == 'cat':\n",
    "            model.fit(X_train, y_train, eval_set=[(X_valid, y_valid)], verbose=False)\n",
    "        elif model_name == 'xgb':\n",
    "            model.fit(X_train, y_train, eval_set=[(X_valid, y_valid)], eval_metric = 'auc', verbose = False, early_stopping_rounds = 200)\n",
    "        else:\n",
    "            model.fit(X_train, y_train, eval_set=[(X_valid, y_valid)], eval_metric = 'auc', verbose = False, early_stopping_rounds = 200)\n",
    "            \n",
    "        print('------------ Fold', counter+1, 'Done! ------------')\n",
    "        \n",
    "        train_fold_pred[valid_index, :] = model.predict_proba(X_valid)[:, 1].reshape(-1, 1)\n",
    "        test_pred[:, counter] = model.predict_proba(test)[:, 1]\n",
    "        del X_train, y_train, X_valid, y_valid\n",
    "        gc.collect()\n",
    "        \n",
    "    test_pred_mean = np.mean(test_pred, axis = 1).reshape(-1, 1)\n",
    "    \n",
    "    del test_pred\n",
    "    gc.collect()\n",
    "    \n",
    "    print('Done!')\n",
    "    \n",
    "    return train_fold_pred, test_pred_mean\n",
    "\n",
    "# Thanks to : https://www.kaggle.com/junhyeok99/stacking-ensemble-tutorial"
   ]
  },
  {
   "cell_type": "markdown",
   "id": "f0e21fc7",
   "metadata": {
    "id": "pKXwWOZotD_V",
    "papermill": {
     "duration": 0.224578,
     "end_time": "2022-09-22T01:58:49.335024",
     "exception": false,
     "start_time": "2022-09-22T01:58:49.110446",
     "status": "completed"
    },
    "tags": []
   },
   "source": [
    "<a id='5.5.1'></a>\n",
    "### 5.5.1 Level 0 : Base Models"
   ]
  },
  {
   "cell_type": "code",
   "execution_count": 26,
   "id": "2dfff071",
   "metadata": {
    "execution": {
     "iopub.execute_input": "2022-09-22T01:58:49.807391Z",
     "iopub.status.busy": "2022-09-22T01:58:49.806450Z",
     "iopub.status.idle": "2022-09-22T01:59:56.423809Z",
     "shell.execute_reply": "2022-09-22T01:59:56.424228Z",
     "shell.execute_reply.started": "2022-04-25T19:36:07.356695Z"
    },
    "id": "uvebn0AyXpN1",
    "outputId": "c6b89810-8e74-4788-c403-c2a16bd1952a",
    "papermill": {
     "duration": 66.852479,
     "end_time": "2022-09-22T01:59:56.424382",
     "exception": false,
     "start_time": "2022-09-22T01:58:49.571903",
     "status": "completed"
    },
    "tags": []
   },
   "outputs": [
    {
     "name": "stdout",
     "output_type": "stream",
     "text": [
      "------------ Fold 1 Start! ------------\n",
      "------------ Fold 1 Done! ------------\n",
      "------------ Fold 2 Start! ------------\n",
      "------------ Fold 2 Done! ------------\n",
      "------------ Fold 3 Start! ------------\n",
      "------------ Fold 3 Done! ------------\n",
      "------------ Fold 4 Start! ------------\n",
      "------------ Fold 4 Done! ------------\n",
      "------------ Fold 5 Start! ------------\n",
      "------------ Fold 5 Done! ------------\n",
      "Done!\n",
      "------------ Fold 1 Start! ------------\n",
      "------------ Fold 1 Done! ------------\n",
      "------------ Fold 2 Start! ------------\n",
      "------------ Fold 2 Done! ------------\n",
      "------------ Fold 3 Start! ------------\n",
      "------------ Fold 3 Done! ------------\n",
      "------------ Fold 4 Start! ------------\n",
      "------------ Fold 4 Done! ------------\n",
      "------------ Fold 5 Start! ------------\n",
      "------------ Fold 5 Done! ------------\n",
      "Done!\n",
      "------------ Fold 1 Start! ------------\n",
      "------------ Fold 1 Done! ------------\n",
      "------------ Fold 2 Start! ------------\n",
      "------------ Fold 2 Done! ------------\n",
      "------------ Fold 3 Start! ------------\n",
      "------------ Fold 3 Done! ------------\n",
      "------------ Fold 4 Start! ------------\n",
      "------------ Fold 4 Done! ------------\n",
      "------------ Fold 5 Start! ------------\n",
      "------------ Fold 5 Done! ------------\n",
      "Done!\n",
      "CPU times: user 1min 26s, sys: 11.7 s, total: 1min 38s\n",
      "Wall time: 1min 6s\n"
     ]
    },
    {
     "data": {
      "text/plain": [
       "0"
      ]
     },
     "execution_count": 26,
     "metadata": {},
     "output_type": "execute_result"
    }
   ],
   "source": [
    "%%time\n",
    "lgbm_params = {'n_estimators': 12749, \n",
    "               'learning_rate': 0.1985328656822506, \n",
    "               'reg_alpha': 9.77289653841389, \n",
    "               'reg_lambda': 4.979048257991328, \n",
    "               'num_leaves': 921, \n",
    "               'min_child_samples': 85, \n",
    "               'max_depth': 56, \n",
    "               'colsample_bytree': 0.43848926369957975, \n",
    "               'cat_smooth': 92, \n",
    "               'cat_l2': 17, \n",
    "               'device': 'gpu',\n",
    "               'gpu_platform_id': 0,\n",
    "               'gpu_device_id': 0,\n",
    "               'min_data_per_group': 59,\n",
    "               'random_state': SEED,\n",
    "              #  'is_unbalance':True,  # does not improve score\n",
    "              # 'categorical_feature': cat_cols, # does not improve score\n",
    "               }\n",
    "\n",
    "\n",
    "lgbm = lgb.LGBMClassifier(**lgbm_params)\n",
    "\n",
    "\n",
    "xgb_params = {'colsample_bytree': 0.2645340949128848,\n",
    "            'eval_metric': 'auc',\n",
    "            'tree_method': 'gpu_hist',\n",
    "            'gpu_id': 0,\n",
    "            'predictor': 'gpu_predictor',\n",
    "            'gamma': 0,\n",
    "            'learning_rate': 0.001851851953410451,\n",
    "            'max_depth': 3,\n",
    "            'n_estimators': 6000,\n",
    "            'random_state': SEED,\n",
    "            'reg_lambda': 0.1,\n",
    "            'subsample': 0.6905005604726816,\n",
    "            'use_label_encoder': False }\n",
    "\n",
    "xgb = XGBClassifier(**xgb_params)\n",
    "\n",
    "\n",
    "cat_params  = {'eval_metric':\"AUC\",\n",
    "              #  'task_type':\"GPU\",\n",
    "              'loss_function': 'logloss',\n",
    "              'boosting_type': 'Plain',\n",
    "              'bootstrap_type': 'Bayesian', # 0.846998114133664\n",
    "              'colsample_bylevel': 0.013457968759952536,\n",
    "              'depth': 6,\n",
    "              'iterations': 6888,\n",
    "              'learning_rate': 0.05683590866750785,\n",
    "              'objective': 'Logloss',\n",
    "              'random_strength': 18, \n",
    "              'l2_leaf_reg': 50,\n",
    "              'random_state': SEED,\n",
    "              # 'cat_features':cat_cols\n",
    "              }\n",
    "\n",
    "\n",
    "cat = CatBoostClassifier(**cat_params)\n",
    "\n",
    "fold_num = 5\n",
    "\n",
    "cat_train, cat_test = stacking_data_loader(cat, 'cat', X, y, X_test, fold_num)\n",
    "del cat\n",
    "gc.collect()\n",
    "\n",
    "lgbm_train, lgbm_test = stacking_data_loader(lgbm, 'lgbm', X, y, X_test, fold_num)\n",
    "del lgbm\n",
    "gc.collect()\n",
    "\n",
    "xgb_train, xgb_test = stacking_data_loader(xgb, 'xgb', X, y, X_test, fold_num)\n",
    "del xgb\n",
    "gc.collect()"
   ]
  },
  {
   "cell_type": "markdown",
   "id": "fc6a2e2c",
   "metadata": {
    "id": "QE1wG3ySyMaW",
    "papermill": {
     "duration": 0.26759,
     "end_time": "2022-09-22T01:59:56.927178",
     "exception": false,
     "start_time": "2022-09-22T01:59:56.659588",
     "status": "completed"
    },
    "tags": []
   },
   "source": [
    "<a id='5.5.2'></a>\n",
    "### 5.5.2 Stacking Datasets"
   ]
  },
  {
   "cell_type": "code",
   "execution_count": 27,
   "id": "cc1a2fdd",
   "metadata": {
    "execution": {
     "iopub.execute_input": "2022-09-22T01:59:57.419935Z",
     "iopub.status.busy": "2022-09-22T01:59:57.419086Z",
     "iopub.status.idle": "2022-09-22T01:59:57.580900Z",
     "shell.execute_reply": "2022-09-22T01:59:57.580408Z",
     "shell.execute_reply.started": "2022-04-25T19:37:09.099479Z"
    },
    "id": "30rZIN-1cWue",
    "outputId": "b1ef3606-a162-4279-c4c5-7e476edc3c8d",
    "papermill": {
     "duration": 0.419424,
     "end_time": "2022-09-22T01:59:57.581042",
     "exception": false,
     "start_time": "2022-09-22T01:59:57.161618",
     "status": "completed"
    },
    "tags": []
   },
   "outputs": [
    {
     "data": {
      "text/plain": [
       "((5634, 3), (1409, 3))"
      ]
     },
     "execution_count": 27,
     "metadata": {},
     "output_type": "execute_result"
    }
   ],
   "source": [
    "stack_X_train = np.concatenate((cat_train, lgbm_train, xgb_train), axis = 1)\n",
    "stack_X_test = np.concatenate((cat_test, lgbm_test, xgb_test), axis = 1)\n",
    "\n",
    "del cat_train, lgbm_train, xgb_train, cat_test, lgbm_test, xgb_test\n",
    "gc.collect()\n",
    "\n",
    "stack_X_train.shape, stack_X_test.shape"
   ]
  },
  {
   "cell_type": "markdown",
   "id": "c23e97b1",
   "metadata": {
    "id": "Cpsjz0jEtHPt",
    "papermill": {
     "duration": 0.308073,
     "end_time": "2022-09-22T01:59:58.116967",
     "exception": false,
     "start_time": "2022-09-22T01:59:57.808894",
     "status": "completed"
    },
    "tags": []
   },
   "source": [
    "<a id='5.5.3'></a>\n",
    "### 5.5.3 Level 1 : Meta Model"
   ]
  },
  {
   "cell_type": "code",
   "execution_count": 28,
   "id": "a2d961e8",
   "metadata": {
    "execution": {
     "iopub.execute_input": "2022-09-22T01:59:58.696875Z",
     "iopub.status.busy": "2022-09-22T01:59:58.695966Z",
     "iopub.status.idle": "2022-09-22T02:00:01.207479Z",
     "shell.execute_reply": "2022-09-22T02:00:01.206978Z",
     "shell.execute_reply.started": "2022-04-25T19:37:09.333544Z"
    },
    "id": "rFfU27GidBOq",
    "outputId": "3237e9dc-f5d7-4a67-942e-9fd0a34f525e",
    "papermill": {
     "duration": 2.752888,
     "end_time": "2022-09-22T02:00:01.207622",
     "exception": false,
     "start_time": "2022-09-22T01:59:58.454734",
     "status": "completed"
    },
    "tags": []
   },
   "outputs": [
    {
     "name": "stdout",
     "output_type": "stream",
     "text": [
      "Fold 1 AUC : 0.8631226471491122\n",
      "Fold 2 AUC : 0.8561953694278835\n",
      "Fold 3 AUC : 0.8503263697025513\n",
      "Fold 4 AUC : 0.8422196371156674\n",
      "Fold 5 AUC : 0.8249222519239868\n",
      "AUC score : mean ---> 0.8473572550638402, std ---> 0.013154466761664605\n"
     ]
    },
    {
     "data": {
      "image/png": "[encoded data removed]",
      "text/plain": [
       "<Figure size 432x288 with 1 Axes>"
      ]
     },
     "metadata": {
      "needs_background": "light"
     },
     "output_type": "display_data"
    }
   ],
   "source": [
    "# meta model : LogisticRegression\n",
    "fold = 5\n",
    "stk = StratifiedKFold(n_splits = fold, random_state = SEED, shuffle = False)\n",
    "test_pred_log_reg = np.zeros((stack_X_test.shape[0], fold))\n",
    "auc_scores = []\n",
    "\n",
    "for counter, (train_index, valid_index)in enumerate(stk.split(stack_X_train, y)):\n",
    "    X_train, y_train = stack_X_train[train_index], y[train_index]\n",
    "    X_valid, y_valid = stack_X_train[valid_index], y[valid_index]\n",
    "\n",
    "    #### to SMOTE sampling, not advised, low performance\n",
    "    # sm = SMOTE(sampling_strategy='all', random_state=SEED)\n",
    "    # X_train, y_train = sm.fit_resample(X_train, y_train)\n",
    "    # X_valid, y_valid = sm.fit_resample(X_valid, y_valid)\n",
    "    \n",
    "    lr = LogisticRegression(n_jobs = -1, random_state = SEED, C = 0.3, max_iter = 10000)\n",
    "    lr.fit(X_train, y_train)\n",
    "    \n",
    "    valid_pred_log_reg = lr.predict_proba(X_valid)[:, 1]\n",
    "    test_pred_log_reg[:, counter] = lr.predict_proba(stack_X_test)[:, 1]\n",
    "\n",
    "    auc = roc_auc_score(y_valid, valid_pred_log_reg)\n",
    "    auc_scores.append(auc)\n",
    "\n",
    "    print('Fold', counter+1 , 'AUC :', auc)\n",
    "    fold += 1\n",
    "\n",
    "test_pred_log_reg_mean = np.mean(test_pred_log_reg, axis = 1).reshape(-1, 1)\n",
    "\n",
    "print(f'AUC score : mean ---> {np.mean(auc_scores)}, std ---> {np.std(auc_scores)}')\n",
    "\n",
    "plt.boxplot(auc_scores, showmeans=True)\n",
    "\n",
    "plt.show()\n",
    "\n",
    "# AUC score : mean ---> 0.8495059939911511, std ---> 0.014576136833225574"
   ]
  },
  {
   "cell_type": "markdown",
   "id": "35fc718c",
   "metadata": {
    "id": "yvp_aOVSwkaQ",
    "papermill": {
     "duration": 0.232493,
     "end_time": "2022-09-22T02:00:01.672861",
     "exception": false,
     "start_time": "2022-09-22T02:00:01.440368",
     "status": "completed"
    },
    "tags": []
   },
   "source": [
    "<a id='5.5.4'></a>\n",
    "### 5.5.4 Stacking Model Evaluation"
   ]
  },
  {
   "cell_type": "code",
   "execution_count": 29,
   "id": "a71214b4",
   "metadata": {
    "execution": {
     "iopub.execute_input": "2022-09-22T02:00:02.132452Z",
     "iopub.status.busy": "2022-09-22T02:00:02.131497Z",
     "iopub.status.idle": "2022-09-22T02:00:02.138575Z",
     "shell.execute_reply": "2022-09-22T02:00:02.138097Z",
     "shell.execute_reply.started": "2022-04-25T19:37:12.614995Z"
    },
    "id": "XOFiV4P4dKCO",
    "outputId": "2031e1ef-21e0-40de-c1ae-e29b6b4fc929",
    "papermill": {
     "duration": 0.238814,
     "end_time": "2022-09-22T02:00:02.138735",
     "exception": false,
     "start_time": "2022-09-22T02:00:01.899921",
     "status": "completed"
    },
    "tags": []
   },
   "outputs": [
    {
     "data": {
      "text/markdown": [
       "AUC on the test dataset : **0.8484770983492211**"
      ],
      "text/plain": [
       "<IPython.core.display.Markdown object>"
      ]
     },
     "metadata": {},
     "output_type": "display_data"
    }
   ],
   "source": [
    "roc_auc_score_log_reg = roc_auc_score(y_test, test_pred_log_reg_mean)\n",
    "\n",
    "printmd(f\"AUC on the test dataset : **{roc_auc_score_log_reg}**\")"
   ]
  },
  {
   "cell_type": "markdown",
   "id": "d1a22eca",
   "metadata": {
    "id": "72mY22dnpEHJ",
    "papermill": {
     "duration": 0.228341,
     "end_time": "2022-09-22T02:00:02.597288",
     "exception": false,
     "start_time": "2022-09-22T02:00:02.368947",
     "status": "completed"
    },
    "tags": []
   },
   "source": [
    "#### ROC Curve"
   ]
  },
  {
   "cell_type": "code",
   "execution_count": 30,
   "id": "a1846801",
   "metadata": {
    "execution": {
     "iopub.execute_input": "2022-09-22T02:00:03.111866Z",
     "iopub.status.busy": "2022-09-22T02:00:03.110122Z",
     "iopub.status.idle": "2022-09-22T02:00:03.356972Z",
     "shell.execute_reply": "2022-09-22T02:00:03.357464Z",
     "shell.execute_reply.started": "2022-04-25T19:37:12.628755Z"
    },
    "id": "1_3zqVXOBFbj",
    "outputId": "d55174bb-30e4-46f2-c9ae-43f47d62b859",
    "papermill": {
     "duration": 0.512614,
     "end_time": "2022-09-22T02:00:03.357644",
     "exception": false,
     "start_time": "2022-09-22T02:00:02.845030",
     "status": "completed"
    },
    "tags": []
   },
   "outputs": [
    {
     "data": {
      "image/png": "[encoded data removed]",
      "text/plain": [
       "<Figure size 720x576 with 1 Axes>"
      ]
     },
     "metadata": {
      "needs_background": "light"
     },
     "output_type": "display_data"
    }
   ],
   "source": [
    "plt.figure(figsize=(10,8))\n",
    "\n",
    "# plot no skill roc curve\n",
    "plt.plot([0, 1], [0, 1], linestyle='--', label='No Skill')\n",
    "\n",
    "# calculate roc curve for model\n",
    "fpr, tpr, _ = roc_curve(y_test, test_pred_log_reg_mean)\n",
    "\n",
    "# plot model roc curve\n",
    "font_size = 15\n",
    "plt.plot(fpr, tpr, marker='.', label=f'Logistic (area = {roc_auc_score_log_reg:0.2f})')\n",
    "\n",
    "# axis labels\n",
    "plt.xlabel('False Positive Rate', fontsize=font_size)\n",
    "plt.ylabel('True Positive Rate', fontsize=font_size)\n",
    "plt.xticks(fontsize=font_size)\n",
    "plt.yticks(fontsize=font_size)\n",
    "# curve title\n",
    "plt.suptitle('ROC Curve', fontsize=20)\n",
    "# show the legend\n",
    "plt.legend()\n",
    "\n",
    "# show the plot\n",
    "plt.show()"
   ]
  },
  {
   "cell_type": "markdown",
   "id": "7b058194",
   "metadata": {
    "id": "EgTGl-gfpIil",
    "papermill": {
     "duration": 0.230567,
     "end_time": "2022-09-22T02:00:03.817600",
     "exception": false,
     "start_time": "2022-09-22T02:00:03.587033",
     "status": "completed"
    },
    "tags": []
   },
   "source": [
    "#### PR Curve"
   ]
  },
  {
   "cell_type": "code",
   "execution_count": 31,
   "id": "9c6f8833",
   "metadata": {
    "execution": {
     "iopub.execute_input": "2022-09-22T02:00:04.289725Z",
     "iopub.status.busy": "2022-09-22T02:00:04.288889Z",
     "iopub.status.idle": "2022-09-22T02:00:04.549390Z",
     "shell.execute_reply": "2022-09-22T02:00:04.548780Z",
     "shell.execute_reply.started": "2022-04-25T19:37:12.945586Z"
    },
    "id": "kG3mueSoBuXO",
    "outputId": "9176573a-f438-40ff-a41a-c450056c41f9",
    "papermill": {
     "duration": 0.502137,
     "end_time": "2022-09-22T02:00:04.549530",
     "exception": false,
     "start_time": "2022-09-22T02:00:04.047393",
     "status": "completed"
    },
    "tags": []
   },
   "outputs": [
    {
     "data": {
      "image/png": "[encoded data removed]",
      "text/plain": [
       "<Figure size 720x576 with 1 Axes>"
      ]
     },
     "metadata": {
      "needs_background": "light"
     },
     "output_type": "display_data"
    }
   ],
   "source": [
    "plt.figure(figsize=(10,8))\n",
    "\n",
    "# calculate the no skill line as the proportion of the positive class\n",
    "no_skill = len(y[y==1]) / len(y)\n",
    "\n",
    "# plot the no skill precision-recall curve\n",
    "plt.plot([0, 1], [no_skill, no_skill], linestyle='--', label='No Skill')\n",
    "\n",
    "# calculate model precision-recall curve\n",
    "precision, recall, _ = precision_recall_curve(y_test, test_pred_log_reg_mean)\n",
    "\n",
    "# plot the model precision-recall curve\n",
    "font_size = 15\n",
    "plt.plot(recall, precision, marker='.', label='Logistic')\n",
    "\n",
    "# title PR curve\n",
    "plt.suptitle('PR Curve', fontsize=20)\n",
    "\n",
    "# axis labels\n",
    "plt.xlabel('Recall', fontsize=font_size)\n",
    "plt.ylabel('Precision', fontsize=font_size)\n",
    "plt.xticks(fontsize=font_size)\n",
    "plt.yticks(fontsize=font_size)\n",
    "# show the legend\n",
    "plt.legend()\n",
    "\n",
    "# show the plot\n",
    "plt.show()"
   ]
  },
  {
   "cell_type": "markdown",
   "id": "e2b0088b",
   "metadata": {
    "id": "16K5_RATA5zd",
    "papermill": {
     "duration": 0.230372,
     "end_time": "2022-09-22T02:00:05.017073",
     "exception": false,
     "start_time": "2022-09-22T02:00:04.786701",
     "status": "completed"
    },
    "tags": []
   },
   "source": [
    "<a id='5.5.5'></a>\n",
    "### 5.5.5 Stacking Ensemble Classic ML Models"
   ]
  },
  {
   "cell_type": "code",
   "execution_count": 32,
   "id": "7e0c48ed",
   "metadata": {
    "execution": {
     "iopub.execute_input": "2022-09-22T02:00:05.495073Z",
     "iopub.status.busy": "2022-09-22T02:00:05.490375Z",
     "iopub.status.idle": "2022-09-22T02:05:25.006554Z",
     "shell.execute_reply": "2022-09-22T02:05:25.005010Z",
     "shell.execute_reply.started": "2022-04-25T19:37:13.348207Z"
    },
    "id": "jUzN8GR8vqeR",
    "outputId": "c7eda140-09cb-4624-d6e3-7c99f5489699",
    "papermill": {
     "duration": 319.755655,
     "end_time": "2022-09-22T02:05:25.006822",
     "exception": false,
     "start_time": "2022-09-22T02:00:05.251167",
     "status": "completed"
    },
    "tags": []
   },
   "outputs": [
    {
     "data": {
      "text/markdown": [
       "**Model Evaluation :**"
      ],
      "text/plain": [
       "<IPython.core.display.Markdown object>"
      ]
     },
     "metadata": {},
     "output_type": "display_data"
    },
    {
     "name": "stdout",
     "output_type": "stream",
     "text": [
      ">logreg, cross-validation score - mean  : 0.805 std: (0.019)\n",
      ">knn, cross-validation score - mean  : 0.762 std: (0.015)\n",
      ">rforest, cross-validation score - mean  : 0.794 std: (0.018)\n",
      ">etree, cross-validation score - mean  : 0.782 std: (0.015)\n",
      ">svm, cross-validation score - mean  : 0.797 std: (0.018)\n",
      ">stacking, cross-validation score - mean  : 0.806 std: (0.020)\n"
     ]
    },
    {
     "data": {
      "text/markdown": [
       "<br>"
      ],
      "text/plain": [
       "<IPython.core.display.Markdown object>"
      ]
     },
     "metadata": {},
     "output_type": "display_data"
    },
    {
     "data": {
      "image/png": "[encoded data removed]",
      "text/plain": [
       "<Figure size 720x576 with 1 Axes>"
      ]
     },
     "metadata": {
      "needs_background": "light"
     },
     "output_type": "display_data"
    }
   ],
   "source": [
    "# 5 fold stacking ensembling with 3 Repeated Stratified 10-Fold cross validation\n",
    "\n",
    "# get a stacking ensemble of models\n",
    "def get_stacking():\n",
    "    # define the base models\n",
    "    level0 = list()\n",
    "    level0.append(('logreg', LogisticRegression()))\n",
    "    level0.append(('knn', KNeighborsClassifier()))\n",
    "    level0.append(('rforest', RandomForestClassifier()))\n",
    "    level0.append(('etree', ExtraTreesClassifier()))\n",
    "    level0.append(('svm', SVC()))\n",
    "\n",
    "    # define meta learner model\n",
    "    level1 = LogisticRegression()\n",
    "\n",
    "    # define the stacking ensemble\n",
    "    model = StackingClassifier(estimators=level0, final_estimator=level1, cv=5)\n",
    "    return model\n",
    " \n",
    "# get a list of models to evaluate\n",
    "def get_models():\n",
    "    models = dict()\n",
    "    models['logreg'] = LogisticRegression()\n",
    "    models['knn'] = KNeighborsClassifier()\n",
    "    models['rforest'] = RandomForestClassifier()\n",
    "    models['etree'] = ExtraTreesClassifier()\n",
    "    models['svm'] = SVC()\n",
    "    models['stacking'] = get_stacking()\n",
    "    return models\n",
    "\n",
    "# evaluate a give model using cross-validation\n",
    "def evaluate_model(model, X, y):\n",
    "    cv = RepeatedStratifiedKFold(n_splits=10, n_repeats=3, random_state=1)\n",
    "    scores = cross_val_score(model, X, y, scoring='accuracy', cv=cv, n_jobs=-1, error_score='raise')\n",
    "    return scores\n",
    "\n",
    "# get the models to evaluate\n",
    "models = get_models()\n",
    "\n",
    "# evaluate the models and store results\n",
    "results, names = list(), list()\n",
    "\n",
    "printmd(\"**Model Evaluation :**\")\n",
    "\n",
    "for name, model in models.items():\n",
    "    scores = evaluate_model(model, X, y)\n",
    "    results.append(scores)\n",
    "    names.append(name)\n",
    "    print('>%s, cross-validation score - mean  : %.3f std: (%.3f)' % (name, np.mean(scores), np.std(scores)))\n",
    " \n",
    "printmd(\"<br>\")\n",
    "\n",
    "# plot model performance for comparison\n",
    "font_size = 15\n",
    "plt.figure(figsize=(10,8))\n",
    "plt.boxplot(results, labels=names, showmeans=True)\n",
    "\n",
    "plt.title(\"Model Performance\",  fontsize=font_size)\n",
    "plt.xlabel(\"ML Models\", fontsize=font_size)\n",
    "plt.ylabel(\"Cross-val Score\",  fontsize=font_size)\n",
    "plt.xticks(fontsize=font_size)\n",
    "plt.yticks(fontsize=font_size)\n",
    "\n",
    "plt.show()\n",
    "\n",
    "\n",
    "# credit : https://machinelearningmastery.com/stacking-ensemble-machine-learning-with-python"
   ]
  },
  {
   "cell_type": "markdown",
   "id": "1c501988",
   "metadata": {
    "id": "CgVkN3XYqL0u",
    "papermill": {
     "duration": 0.248461,
     "end_time": "2022-09-22T02:05:25.545515",
     "exception": false,
     "start_time": "2022-09-22T02:05:25.297054",
     "status": "completed"
    },
    "tags": []
   },
   "source": [
    "**Classic ML models perform poorly in comparison with Gradient Boosting models**"
   ]
  },
  {
   "cell_type": "markdown",
   "id": "4d36730f",
   "metadata": {
    "papermill": {
     "duration": 0.233832,
     "end_time": "2022-09-22T02:05:26.015166",
     "exception": false,
     "start_time": "2022-09-22T02:05:25.781334",
     "status": "completed"
    },
    "tags": []
   },
   "source": [
    "<a id='6'></a>\n",
    "# 6 Load Model"
   ]
  },
  {
   "cell_type": "markdown",
   "id": "aaa3a739",
   "metadata": {
    "papermill": {
     "duration": 0.235022,
     "end_time": "2022-09-22T02:05:26.488225",
     "exception": false,
     "start_time": "2022-09-22T02:05:26.253203",
     "status": "completed"
    },
    "tags": []
   },
   "source": [
    "## Model Files"
   ]
  },
  {
   "cell_type": "code",
   "execution_count": 33,
   "id": "bdecc264",
   "metadata": {
    "execution": {
     "iopub.execute_input": "2022-09-22T02:05:27.000302Z",
     "iopub.status.busy": "2022-09-22T02:05:26.999439Z",
     "iopub.status.idle": "2022-09-22T02:05:27.004090Z",
     "shell.execute_reply": "2022-09-22T02:05:27.004580Z",
     "shell.execute_reply.started": "2022-04-25T19:42:18.065617Z"
    },
    "papermill": {
     "duration": 0.278657,
     "end_time": "2022-09-22T02:05:27.004775",
     "exception": false,
     "start_time": "2022-09-22T02:05:26.726118",
     "status": "completed"
    },
    "tags": []
   },
   "outputs": [
    {
     "data": {
      "text/plain": [
       "['catboost_info',\n",
       " 'LGBM_Hyperparameter.pickle',\n",
       " 'model_xgb.json',\n",
       " 'model_catboost',\n",
       " '__notebook__.ipynb',\n",
       " 'CatBoost_Hyperparameter.pickle',\n",
       " 'model_lgbm.txt',\n",
       " 'XGB_Hyperparameter.pickle',\n",
       " 'model_lgbm.pkl']"
      ]
     },
     "execution_count": 33,
     "metadata": {},
     "output_type": "execute_result"
    }
   ],
   "source": [
    "import os\n",
    "os.listdir('./')"
   ]
  },
  {
   "cell_type": "code",
   "execution_count": 34,
   "id": "25b03b27",
   "metadata": {
    "execution": {
     "iopub.execute_input": "2022-09-22T02:05:27.517353Z",
     "iopub.status.busy": "2022-09-22T02:05:27.516222Z",
     "iopub.status.idle": "2022-09-22T02:05:27.721939Z",
     "shell.execute_reply": "2022-09-22T02:05:27.722652Z",
     "shell.execute_reply.started": "2022-04-25T19:42:18.074653Z"
    },
    "papermill": {
     "duration": 0.479881,
     "end_time": "2022-09-22T02:05:27.722832",
     "exception": false,
     "start_time": "2022-09-22T02:05:27.242951",
     "status": "completed"
    },
    "tags": []
   },
   "outputs": [
    {
     "data": {
      "text/markdown": [
       "**Classifiers | Churn Predictions, Probability (Churn=True)**"
      ],
      "text/plain": [
       "<IPython.core.display.Markdown object>"
      ]
     },
     "metadata": {},
     "output_type": "display_data"
    },
    {
     "name": "stdout",
     "output_type": "stream",
     "text": [
      "XGBoost      | [0.0558563  0.65838486 0.09983627]\n",
      "Catboost     | [0.04617582 0.74236106 0.05992906]\n",
      "LGBM         | [0.05259295 0.70254133 0.07639546]\n"
     ]
    }
   ],
   "source": [
    "def get_classifier(clf_name):\n",
    "    if clf_name == 'XGBoost':\n",
    "        clf = XGBClassifier()  # init model\n",
    "        clf.load_model(\"./model_xgb.json\")\n",
    "    if clf_name == 'Catboost':\n",
    "        clf = CatBoostClassifier()  # parameters not required.\n",
    "        clf.load_model('./model_catboost')\n",
    "    if clf_name == 'LGBM':\n",
    "        clf = lgb.Booster(model_file='./model_lgbm.txt')\n",
    "    return clf\n",
    "\n",
    "\n",
    "models = ['XGBoost', 'Catboost', 'LGBM']\n",
    "printmd(\"**Classifiers | Churn Predictions, Probability (Churn=True)**\")\n",
    "for model in models:\n",
    "    \n",
    "    clf = get_classifier(model)\n",
    "    \n",
    "    try:\n",
    "        # xgboost,\n",
    "        test_pred = clf.predict_proba(X_test[:3])[:, 1]  # probability of getting 1\n",
    "        # check for first three instances of test dataset\n",
    "    except AttributeError as ae:\n",
    "        \n",
    "        # lgbm load model\n",
    "        # https://github.com/Microsoft/LightGBM/issues/1217\n",
    "        \n",
    "        test_pred = clf.predict(X_test[:3])\n",
    "    print(model.ljust(12),'|' , test_pred)"
   ]
  },
  {
   "cell_type": "markdown",
   "id": "708b7804",
   "metadata": {
    "id": "S3rlcBBs6Avj",
    "papermill": {
     "duration": 0.660834,
     "end_time": "2022-09-22T02:05:28.669483",
     "exception": false,
     "start_time": "2022-09-22T02:05:28.008649",
     "status": "completed"
    },
    "tags": []
   },
   "source": [
    "<a id='7'></a>\n",
    "# 7 Conclusion\n",
    "\n",
    "* Number of months the customer has stayed with the company (**tenure**) and the contract term of the customer (**contract**) are the most important features that have strong correlation with churn of the customer \n",
    "* Results from statiscial hypotheses testing reflects **similarity** with model feature importance\n",
    "* With 80/20 train/test split triple boosting stacking ensemble model achieved an AUC of **~0.85**\n",
    "\n",
    "## What's Next ?\n",
    "\n",
    "---\n",
    "Project deployment\n",
    "---\n",
    "\n",
    "#### I deployed the project using [**streamlit**](https://streamlit.io)\n",
    "\n",
    "#### Streamlit App Preview\n",
    "\n",
    "![Telco Customer Churn Prediction Streamlit](https://user-images.githubusercontent.com/40615350/142819900-60053284-5266-4a66-87a3-cddcb2f0d929.gif \"Telco Customer Churn Prediction Streamlit\")\n",
    "\n",
    "---\n",
    "\n",
    "#### Please click the button below if you want to check the live app\n",
    "\n",
    "[![Live in Streamlit](https://static.streamlit.io/badges/streamlit_badge_black_white.svg)](https://share.streamlit.io//ahmedshahriar/Telco-Customer-Churn-Prediction-Streamlit-App/main/app.py)\n",
    "\n",
    "---\n",
    "\n",
    "### If you like this project please feel free to fork the kernel,use the code, share the notebook and give an upvote. If you have any questions or suggestions to improve the analysis please comment below"
   ]
  },
  {
   "cell_type": "markdown",
   "id": "7d7a1579",
   "metadata": {
    "id": "_VgcsV0m6C3f",
    "papermill": {
     "duration": 0.348341,
     "end_time": "2022-09-22T02:05:29.401882",
     "exception": false,
     "start_time": "2022-09-22T02:05:29.053541",
     "status": "completed"
    },
    "tags": []
   },
   "source": [
    "<a id='8'></a>\n",
    "# 8 Reference\n",
    "\n",
    "****\n",
    "\n",
    "1. [Notes on XGBoost Parameter Tuning](https://xgboost.readthedocs.io/en/latest/tutorials/param_tuning.html)\n",
    "2. [Understanding LightGBM Parameters (and How to Tune Them)](https://neptune.ai/blog/lightgbm-parameters-guide)\n",
    "3. [Approaching (Almost) Any Machine Learning Problem - LinkedIn Article](https://www.linkedin.com/pulse/approaching-almost-any-machine-learning-problem-abhishek-thakur/)\n",
    "4. [Parameter tuning - catboost.ai](https://catboost.ai/en/docs/concepts/parameter-tuning)"
   ]
  }
 ],
 "metadata": {
  "kernelspec": {
   "display_name": "Python 3",
   "language": "python",
   "name": "python3"
  },
  "language_info": {
   "codemirror_mode": {
    "name": "ipython",
    "version": 3
   },
   "file_extension": ".py",
   "mimetype": "text/x-python",
   "name": "python",
   "nbconvert_exporter": "python",
   "pygments_lexer": "ipython3",
   "version": "3.7.10"
  },
  "papermill": {
   "default_parameters": {},
   "duration": 6421.786705,
   "end_time": "2022-09-22T02:05:32.250361",
   "environment_variables": {},
   "exception": null,
   "input_path": "__notebook__.ipynb",
   "output_path": "__notebook__.ipynb",
   "parameters": {},
   "start_time": "2022-09-22T00:18:30.463656",
   "version": "2.3.3"
  }
 },
 "nbformat": 4,
 "nbformat_minor": 5
}
